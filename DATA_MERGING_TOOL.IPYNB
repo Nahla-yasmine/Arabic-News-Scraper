{
 "cells": [
  {
   "cell_type": "markdown",
   "metadata": {},
   "source": [
    "ADDING TOPICS FOR FATABAYYANO"
   ]
  },
  {
   "cell_type": "code",
   "execution_count": 177,
   "metadata": {},
   "outputs": [
    {
     "name": "stdout",
     "output_type": "stream",
     "text": [
      "WARNING:tensorflow:From C:\\Users\\Latif\\AppData\\Local\\Packages\\PythonSoftwareFoundation.Python.3.11_qbz5n2kfra8p0\\LocalCache\\local-packages\\Python311\\site-packages\\keras\\src\\losses.py:2976: The name tf.losses.sparse_softmax_cross_entropy is deprecated. Please use tf.compat.v1.losses.sparse_softmax_cross_entropy instead.\n",
      "\n",
      "Shape of the DataFrame : (447, 6)\n",
      "Shape of the DataFrame after dropping NANS: (447, 6)\n",
      "Predicting topics... (Estimated time: 2.00 seconds)\n"
     ]
    },
    {
     "name": "stderr",
     "output_type": "stream",
     "text": [
      "Prediction Progress: 1000it [00:00, 25710.00it/s]         \n"
     ]
    },
    {
     "name": "stdout",
     "output_type": "stream",
     "text": [
      "Predicting topics... (Estimated time: 2.00 seconds)\n"
     ]
    },
    {
     "name": "stderr",
     "output_type": "stream",
     "text": [
      "Prediction Progress: 1000it [00:00, 16710.64it/s]         \n"
     ]
    },
    {
     "name": "stdout",
     "output_type": "stream",
     "text": [
      "Predicting topics... (Estimated time: 2.00 seconds)\n"
     ]
    },
    {
     "name": "stderr",
     "output_type": "stream",
     "text": [
      "Prediction Progress: 1000it [00:00, 14965.28it/s]         \n"
     ]
    },
    {
     "name": "stdout",
     "output_type": "stream",
     "text": [
      "Predicting topics... (Estimated time: 2.00 seconds)\n"
     ]
    },
    {
     "name": "stderr",
     "output_type": "stream",
     "text": [
      "Prediction Progress: 1000it [00:00, 20052.71it/s]         \n"
     ]
    },
    {
     "name": "stdout",
     "output_type": "stream",
     "text": [
      "Predicting topics... (Estimated time: 2.00 seconds)\n"
     ]
    },
    {
     "name": "stderr",
     "output_type": "stream",
     "text": [
      "Prediction Progress: 1000it [00:00, 18918.49it/s]         \n"
     ]
    },
    {
     "name": "stdout",
     "output_type": "stream",
     "text": [
      "Predicting topics... (Estimated time: 2.00 seconds)\n"
     ]
    },
    {
     "name": "stderr",
     "output_type": "stream",
     "text": [
      "Prediction Progress: 1000it [00:00, 21333.33it/s]         \n"
     ]
    },
    {
     "name": "stdout",
     "output_type": "stream",
     "text": [
      "Predicting topics... (Estimated time: 2.00 seconds)\n"
     ]
    },
    {
     "name": "stderr",
     "output_type": "stream",
     "text": [
      "Prediction Progress: 1000it [00:00, 16437.36it/s]         \n"
     ]
    },
    {
     "name": "stdout",
     "output_type": "stream",
     "text": [
      "Predicting topics... (Estimated time: 2.00 seconds)\n"
     ]
    },
    {
     "name": "stderr",
     "output_type": "stream",
     "text": [
      "Prediction Progress: 1000it [00:00, 18230.40it/s]         \n"
     ]
    },
    {
     "name": "stdout",
     "output_type": "stream",
     "text": [
      "Predicting topics... (Estimated time: 2.00 seconds)\n"
     ]
    },
    {
     "name": "stderr",
     "output_type": "stream",
     "text": [
      "Prediction Progress: 1000it [00:00, 5697.06it/s]          \n"
     ]
    },
    {
     "name": "stdout",
     "output_type": "stream",
     "text": [
      "Predicting topics... (Estimated time: 2.00 seconds)\n"
     ]
    },
    {
     "name": "stderr",
     "output_type": "stream",
     "text": [
      "Prediction Progress: 1000it [00:00, 3686.31it/s]          \n"
     ]
    },
    {
     "name": "stdout",
     "output_type": "stream",
     "text": [
      "Predicting topics... (Estimated time: 2.00 seconds)\n"
     ]
    },
    {
     "name": "stderr",
     "output_type": "stream",
     "text": [
      "Prediction Progress: 1000it [00:00, 10554.26it/s]         \n"
     ]
    },
    {
     "name": "stdout",
     "output_type": "stream",
     "text": [
      "Predicting topics... (Estimated time: 2.00 seconds)\n"
     ]
    },
    {
     "name": "stderr",
     "output_type": "stream",
     "text": [
      "Prediction Progress: 1000it [00:00, 7957.74it/s]          \n"
     ]
    },
    {
     "name": "stdout",
     "output_type": "stream",
     "text": [
      "Predicting topics... (Estimated time: 2.00 seconds)\n"
     ]
    },
    {
     "name": "stderr",
     "output_type": "stream",
     "text": [
      "Prediction Progress: 1000it [00:00, 8286.71it/s]          \n"
     ]
    },
    {
     "name": "stdout",
     "output_type": "stream",
     "text": [
      "Predicting topics... (Estimated time: 2.00 seconds)\n"
     ]
    },
    {
     "name": "stderr",
     "output_type": "stream",
     "text": [
      "Prediction Progress: 1000it [00:00, 13021.66it/s]         \n"
     ]
    },
    {
     "name": "stdout",
     "output_type": "stream",
     "text": [
      "Predicting topics... (Estimated time: 2.00 seconds)\n"
     ]
    },
    {
     "name": "stderr",
     "output_type": "stream",
     "text": [
      "Prediction Progress: 1000it [00:00, 14965.44it/s]         \n"
     ]
    },
    {
     "name": "stdout",
     "output_type": "stream",
     "text": [
      "Predicting topics... (Estimated time: 2.00 seconds)\n"
     ]
    },
    {
     "name": "stderr",
     "output_type": "stream",
     "text": [
      "Prediction Progress: 1000it [00:00, 5222.24it/s]          \n"
     ]
    },
    {
     "name": "stdout",
     "output_type": "stream",
     "text": [
      "Predicting topics... (Estimated time: 2.00 seconds)\n"
     ]
    },
    {
     "name": "stderr",
     "output_type": "stream",
     "text": [
      "Prediction Progress: 1000it [00:00, 12854.57it/s]         \n"
     ]
    },
    {
     "name": "stdout",
     "output_type": "stream",
     "text": [
      "Predicting topics... (Estimated time: 2.00 seconds)\n"
     ]
    },
    {
     "name": "stderr",
     "output_type": "stream",
     "text": [
      "Prediction Progress: 1000it [00:00, 15915.37it/s]         \n"
     ]
    },
    {
     "name": "stdout",
     "output_type": "stream",
     "text": [
      "Predicting topics... (Estimated time: 2.00 seconds)\n"
     ]
    },
    {
     "name": "stderr",
     "output_type": "stream",
     "text": [
      "Prediction Progress: 1000it [00:00, 17590.75it/s]         \n"
     ]
    },
    {
     "name": "stdout",
     "output_type": "stream",
     "text": [
      "Predicting topics... (Estimated time: 2.00 seconds)\n"
     ]
    },
    {
     "name": "stderr",
     "output_type": "stream",
     "text": [
      "Prediction Progress: 1000it [00:00, 4599.47it/s]          \n"
     ]
    },
    {
     "name": "stdout",
     "output_type": "stream",
     "text": [
      "Predicting topics... (Estimated time: 2.00 seconds)\n"
     ]
    },
    {
     "name": "stderr",
     "output_type": "stream",
     "text": [
      "Prediction Progress: 1000it [00:00, 17433.12it/s]         \n"
     ]
    },
    {
     "name": "stdout",
     "output_type": "stream",
     "text": [
      "Predicting topics... (Estimated time: 2.00 seconds)\n"
     ]
    },
    {
     "name": "stderr",
     "output_type": "stream",
     "text": [
      "Prediction Progress: 1000it [00:00, 8145.40it/s]          \n"
     ]
    },
    {
     "name": "stdout",
     "output_type": "stream",
     "text": [
      "Predicting topics... (Estimated time: 2.00 seconds)\n"
     ]
    },
    {
     "name": "stderr",
     "output_type": "stream",
     "text": [
      "Prediction Progress: 1000it [00:00, 10026.69it/s]         \n"
     ]
    },
    {
     "name": "stdout",
     "output_type": "stream",
     "text": [
      "Predicting topics... (Estimated time: 2.00 seconds)\n"
     ]
    },
    {
     "name": "stderr",
     "output_type": "stream",
     "text": [
      "Prediction Progress: 1000it [00:00, 13021.74it/s]         \n"
     ]
    },
    {
     "name": "stdout",
     "output_type": "stream",
     "text": [
      "Predicting topics... (Estimated time: 2.00 seconds)\n"
     ]
    },
    {
     "name": "stderr",
     "output_type": "stream",
     "text": [
      "Prediction Progress: 1000it [00:00, 17590.90it/s]         \n"
     ]
    },
    {
     "name": "stdout",
     "output_type": "stream",
     "text": [
      "Predicting topics... (Estimated time: 2.00 seconds)\n"
     ]
    },
    {
     "name": "stderr",
     "output_type": "stream",
     "text": [
      "Prediction Progress: 1000it [00:00, 13368.81it/s]         \n"
     ]
    },
    {
     "name": "stdout",
     "output_type": "stream",
     "text": [
      "Predicting topics... (Estimated time: 2.00 seconds)\n"
     ]
    },
    {
     "name": "stderr",
     "output_type": "stream",
     "text": [
      "Prediction Progress: 1000it [00:00, 16437.29it/s]         \n"
     ]
    },
    {
     "name": "stdout",
     "output_type": "stream",
     "text": [
      "Predicting topics... (Estimated time: 2.00 seconds)\n"
     ]
    },
    {
     "name": "stderr",
     "output_type": "stream",
     "text": [
      "Prediction Progress: 1000it [00:00, 16711.17it/s]         \n"
     ]
    },
    {
     "name": "stdout",
     "output_type": "stream",
     "text": [
      "Predicting topics... (Estimated time: 2.00 seconds)\n"
     ]
    },
    {
     "name": "stderr",
     "output_type": "stream",
     "text": [
      "Prediction Progress: 1000it [00:00, 13192.95it/s]         \n"
     ]
    },
    {
     "name": "stdout",
     "output_type": "stream",
     "text": [
      "Predicting topics... (Estimated time: 2.00 seconds)\n"
     ]
    },
    {
     "name": "stderr",
     "output_type": "stream",
     "text": [
      "Prediction Progress: 1000it [00:00, 10231.36it/s]         \n"
     ]
    },
    {
     "name": "stdout",
     "output_type": "stream",
     "text": [
      "Predicting topics... (Estimated time: 2.00 seconds)\n"
     ]
    },
    {
     "name": "stderr",
     "output_type": "stream",
     "text": [
      "Prediction Progress: 1000it [00:00, 7427.25it/s]          \n"
     ]
    },
    {
     "name": "stdout",
     "output_type": "stream",
     "text": [
      "Predicting topics... (Estimated time: 2.00 seconds)\n"
     ]
    },
    {
     "name": "stderr",
     "output_type": "stream",
     "text": [
      "Prediction Progress: 1000it [00:00, 13548.15it/s]         \n"
     ]
    },
    {
     "name": "stdout",
     "output_type": "stream",
     "text": [
      "Predicting topics... (Estimated time: 2.00 seconds)\n"
     ]
    },
    {
     "name": "stderr",
     "output_type": "stream",
     "text": [
      "Prediction Progress: 1000it [00:00, 14531.72it/s]         \n"
     ]
    },
    {
     "name": "stdout",
     "output_type": "stream",
     "text": [
      "Predicting topics... (Estimated time: 2.00 seconds)\n"
     ]
    },
    {
     "name": "stderr",
     "output_type": "stream",
     "text": [
      "Prediction Progress: 1000it [00:00, 20889.11it/s]         \n"
     ]
    },
    {
     "name": "stdout",
     "output_type": "stream",
     "text": [
      "Predicting topics... (Estimated time: 2.00 seconds)\n"
     ]
    },
    {
     "name": "stderr",
     "output_type": "stream",
     "text": [
      "Prediction Progress: 1000it [00:00, 18230.48it/s]         \n"
     ]
    },
    {
     "name": "stdout",
     "output_type": "stream",
     "text": [
      "Predicting topics... (Estimated time: 2.00 seconds)\n"
     ]
    },
    {
     "name": "stderr",
     "output_type": "stream",
     "text": [
      "Prediction Progress: 1000it [00:00, 19660.19it/s]         \n"
     ]
    },
    {
     "name": "stdout",
     "output_type": "stream",
     "text": [
      "Predicting topics... (Estimated time: 2.00 seconds)\n"
     ]
    },
    {
     "name": "stderr",
     "output_type": "stream",
     "text": [
      "Prediction Progress: 1000it [00:00, 14745.10it/s]         \n"
     ]
    },
    {
     "name": "stdout",
     "output_type": "stream",
     "text": [
      "Predicting topics... (Estimated time: 2.00 seconds)\n"
     ]
    },
    {
     "name": "stderr",
     "output_type": "stream",
     "text": [
      "Prediction Progress: 1000it [00:00, 10444.61it/s]         \n"
     ]
    },
    {
     "name": "stdout",
     "output_type": "stream",
     "text": [
      "Predicting topics... (Estimated time: 2.00 seconds)\n"
     ]
    },
    {
     "name": "stderr",
     "output_type": "stream",
     "text": [
      "Prediction Progress: 1000it [00:00, 21333.55it/s]         \n"
     ]
    },
    {
     "name": "stdout",
     "output_type": "stream",
     "text": [
      "Predicting topics... (Estimated time: 2.00 seconds)\n"
     ]
    },
    {
     "name": "stderr",
     "output_type": "stream",
     "text": [
      "Prediction Progress: 1000it [00:00, 17287.19it/s]         \n"
     ]
    },
    {
     "name": "stdout",
     "output_type": "stream",
     "text": [
      "Predicting topics... (Estimated time: 2.00 seconds)\n"
     ]
    },
    {
     "name": "stderr",
     "output_type": "stream",
     "text": [
      "Prediction Progress: 1000it [00:00, 6867.60it/s]          \n"
     ]
    },
    {
     "name": "stdout",
     "output_type": "stream",
     "text": [
      "Predicting topics... (Estimated time: 2.00 seconds)\n"
     ]
    },
    {
     "name": "stderr",
     "output_type": "stream",
     "text": [
      "Prediction Progress: 1000it [00:00, 13735.33it/s]         \n"
     ]
    },
    {
     "name": "stdout",
     "output_type": "stream",
     "text": [
      "Predicting topics... (Estimated time: 2.00 seconds)\n"
     ]
    },
    {
     "name": "stderr",
     "output_type": "stream",
     "text": [
      "Prediction Progress: 1000it [00:00, 5277.23it/s]          \n"
     ]
    },
    {
     "name": "stdout",
     "output_type": "stream",
     "text": [
      "Predicting topics... (Estimated time: 2.00 seconds)\n"
     ]
    },
    {
     "name": "stderr",
     "output_type": "stream",
     "text": [
      "Prediction Progress: 1000it [00:00, 14965.44it/s]         \n"
     ]
    },
    {
     "name": "stdout",
     "output_type": "stream",
     "text": [
      "Predicting topics... (Estimated time: 2.00 seconds)\n"
     ]
    },
    {
     "name": "stderr",
     "output_type": "stream",
     "text": [
      "Prediction Progress: 1000it [00:00, 13549.51it/s]         \n"
     ]
    },
    {
     "name": "stdout",
     "output_type": "stream",
     "text": [
      "Predicting topics... (Estimated time: 2.00 seconds)\n"
     ]
    },
    {
     "name": "stderr",
     "output_type": "stream",
     "text": [
      "Prediction Progress: 1000it [00:00, 8218.63it/s]          \n"
     ]
    },
    {
     "name": "stdout",
     "output_type": "stream",
     "text": [
      "Predicting topics... (Estimated time: 2.00 seconds)\n"
     ]
    },
    {
     "name": "stderr",
     "output_type": "stream",
     "text": [
      "Prediction Progress: 1000it [00:00, 8085.76it/s]          \n"
     ]
    },
    {
     "name": "stdout",
     "output_type": "stream",
     "text": [
      "Predicting topics... (Estimated time: 2.00 seconds)\n"
     ]
    },
    {
     "name": "stderr",
     "output_type": "stream",
     "text": [
      "Prediction Progress: 1000it [00:00, 12080.40it/s]         \n"
     ]
    },
    {
     "name": "stdout",
     "output_type": "stream",
     "text": [
      "Predicting topics... (Estimated time: 2.00 seconds)\n"
     ]
    },
    {
     "name": "stderr",
     "output_type": "stream",
     "text": [
      "Prediction Progress: 1000it [00:00, 9829.66it/s]          \n"
     ]
    },
    {
     "name": "stdout",
     "output_type": "stream",
     "text": [
      "Predicting topics... (Estimated time: 2.00 seconds)\n"
     ]
    },
    {
     "name": "stderr",
     "output_type": "stream",
     "text": [
      "Prediction Progress: 1000it [00:00, 9549.31it/s]          \n"
     ]
    },
    {
     "name": "stdout",
     "output_type": "stream",
     "text": [
      "Predicting topics... (Estimated time: 2.00 seconds)\n"
     ]
    },
    {
     "name": "stderr",
     "output_type": "stream",
     "text": [
      "Prediction Progress: 1000it [00:00, 6963.01it/s]          \n"
     ]
    },
    {
     "name": "stdout",
     "output_type": "stream",
     "text": [
      "Predicting topics... (Estimated time: 2.00 seconds)\n"
     ]
    },
    {
     "name": "stderr",
     "output_type": "stream",
     "text": [
      "Prediction Progress: 1000it [00:00, 8643.52it/s]          \n"
     ]
    },
    {
     "name": "stdout",
     "output_type": "stream",
     "text": [
      "Predicting topics... (Estimated time: 2.00 seconds)\n"
     ]
    },
    {
     "name": "stderr",
     "output_type": "stream",
     "text": [
      "Prediction Progress: 1000it [00:00, 9419.81it/s]          \n"
     ]
    },
    {
     "name": "stdout",
     "output_type": "stream",
     "text": [
      "Predicting topics... (Estimated time: 2.00 seconds)\n"
     ]
    },
    {
     "name": "stderr",
     "output_type": "stream",
     "text": [
      "Prediction Progress: 1000it [00:00, 7833.41it/s]          \n"
     ]
    },
    {
     "name": "stdout",
     "output_type": "stream",
     "text": [
      "Predicting topics... (Estimated time: 2.00 seconds)\n"
     ]
    },
    {
     "name": "stderr",
     "output_type": "stream",
     "text": [
      "Prediction Progress: 1000it [00:00, 13549.77it/s]         \n"
     ]
    },
    {
     "name": "stdout",
     "output_type": "stream",
     "text": [
      "Predicting topics... (Estimated time: 2.00 seconds)\n"
     ]
    },
    {
     "name": "stderr",
     "output_type": "stream",
     "text": [
      "Prediction Progress: 1000it [00:00, 11393.85it/s]         \n"
     ]
    },
    {
     "name": "stdout",
     "output_type": "stream",
     "text": [
      "Predicting topics... (Estimated time: 2.00 seconds)\n"
     ]
    },
    {
     "name": "stderr",
     "output_type": "stream",
     "text": [
      "Prediction Progress: 1000it [00:00, 4891.12it/s]          \n"
     ]
    },
    {
     "name": "stdout",
     "output_type": "stream",
     "text": [
      "Predicting topics... (Estimated time: 2.00 seconds)\n"
     ]
    },
    {
     "name": "stderr",
     "output_type": "stream",
     "text": [
      "Prediction Progress: 1000it [00:00, 10444.48it/s]         \n"
     ]
    },
    {
     "name": "stdout",
     "output_type": "stream",
     "text": [
      "Predicting topics... (Estimated time: 2.00 seconds)\n"
     ]
    },
    {
     "name": "stderr",
     "output_type": "stream",
     "text": [
      "Prediction Progress: 1000it [00:00, 13735.42it/s]         \n"
     ]
    },
    {
     "name": "stdout",
     "output_type": "stream",
     "text": [
      "Predicting topics... (Estimated time: 2.00 seconds)\n"
     ]
    },
    {
     "name": "stderr",
     "output_type": "stream",
     "text": [
      "Prediction Progress: 1000it [00:00, 14744.85it/s]         \n"
     ]
    },
    {
     "name": "stdout",
     "output_type": "stream",
     "text": [
      "Predicting topics... (Estimated time: 2.00 seconds)\n"
     ]
    },
    {
     "name": "stderr",
     "output_type": "stream",
     "text": [
      "Prediction Progress: 1000it [00:00, 15191.74it/s]         \n"
     ]
    },
    {
     "name": "stdout",
     "output_type": "stream",
     "text": [
      "Predicting topics... (Estimated time: 2.00 seconds)\n"
     ]
    },
    {
     "name": "stderr",
     "output_type": "stream",
     "text": [
      "Prediction Progress: 1000it [00:00, 6004.01it/s]          \n"
     ]
    },
    {
     "name": "stdout",
     "output_type": "stream",
     "text": [
      "Predicting topics... (Estimated time: 2.00 seconds)\n"
     ]
    },
    {
     "name": "stderr",
     "output_type": "stream",
     "text": [
      "Prediction Progress: 1000it [00:00, 5729.56it/s]          \n"
     ]
    },
    {
     "name": "stdout",
     "output_type": "stream",
     "text": [
      "Predicting topics... (Estimated time: 2.00 seconds)\n"
     ]
    },
    {
     "name": "stderr",
     "output_type": "stream",
     "text": [
      "Prediction Progress: 1000it [00:00, 17904.79it/s]         \n"
     ]
    },
    {
     "name": "stdout",
     "output_type": "stream",
     "text": [
      "Predicting topics... (Estimated time: 2.00 seconds)\n"
     ]
    },
    {
     "name": "stderr",
     "output_type": "stream",
     "text": [
      "Prediction Progress: 1000it [00:00, 13369.02it/s]         \n"
     ]
    },
    {
     "name": "stdout",
     "output_type": "stream",
     "text": [
      "Predicting topics... (Estimated time: 2.00 seconds)\n"
     ]
    },
    {
     "name": "stderr",
     "output_type": "stream",
     "text": [
      "Prediction Progress: 1000it [00:00, 15192.30it/s]         \n"
     ]
    },
    {
     "name": "stdout",
     "output_type": "stream",
     "text": [
      "Predicting topics... (Estimated time: 2.00 seconds)\n"
     ]
    },
    {
     "name": "stderr",
     "output_type": "stream",
     "text": [
      "Prediction Progress: 1000it [00:00, 9640.95it/s]          \n"
     ]
    },
    {
     "name": "stdout",
     "output_type": "stream",
     "text": [
      "Predicting topics... (Estimated time: 2.00 seconds)\n"
     ]
    },
    {
     "name": "stderr",
     "output_type": "stream",
     "text": [
      "Prediction Progress: 1000it [00:00, 18568.40it/s]         \n"
     ]
    },
    {
     "name": "stdout",
     "output_type": "stream",
     "text": [
      "Predicting topics... (Estimated time: 2.00 seconds)\n"
     ]
    },
    {
     "name": "stderr",
     "output_type": "stream",
     "text": [
      "Prediction Progress: 1000it [00:00, 20888.49it/s]         \n"
     ]
    },
    {
     "name": "stdout",
     "output_type": "stream",
     "text": [
      "Predicting topics... (Estimated time: 2.00 seconds)\n"
     ]
    },
    {
     "name": "stderr",
     "output_type": "stream",
     "text": [
      "Prediction Progress: 1000it [00:00, 8643.63it/s]          \n"
     ]
    },
    {
     "name": "stdout",
     "output_type": "stream",
     "text": [
      "Predicting topics... (Estimated time: 2.00 seconds)\n"
     ]
    },
    {
     "name": "stderr",
     "output_type": "stream",
     "text": [
      "Prediction Progress: 1000it [00:00, 9549.31it/s]          \n"
     ]
    },
    {
     "name": "stdout",
     "output_type": "stream",
     "text": [
      "Predicting topics... (Estimated time: 2.00 seconds)\n"
     ]
    },
    {
     "name": "stderr",
     "output_type": "stream",
     "text": [
      "Prediction Progress: 1000it [00:00, 7772.57it/s]          \n"
     ]
    },
    {
     "name": "stdout",
     "output_type": "stream",
     "text": [
      "Predicting topics... (Estimated time: 2.00 seconds)\n"
     ]
    },
    {
     "name": "stderr",
     "output_type": "stream",
     "text": [
      "Prediction Progress: 1000it [00:00, 7538.91it/s]          \n"
     ]
    },
    {
     "name": "stdout",
     "output_type": "stream",
     "text": [
      "Predicting topics... (Estimated time: 2.00 seconds)\n"
     ]
    },
    {
     "name": "stderr",
     "output_type": "stream",
     "text": [
      "Prediction Progress: 1000it [00:00, 4729.58it/s]          \n"
     ]
    },
    {
     "name": "stdout",
     "output_type": "stream",
     "text": [
      "Predicting topics... (Estimated time: 2.00 seconds)\n"
     ]
    },
    {
     "name": "stderr",
     "output_type": "stream",
     "text": [
      "Prediction Progress: 1000it [00:00, 1160.50it/s]          \n"
     ]
    },
    {
     "name": "stdout",
     "output_type": "stream",
     "text": [
      "Predicting topics... (Estimated time: 2.00 seconds)\n"
     ]
    },
    {
     "name": "stderr",
     "output_type": "stream",
     "text": [
      "Prediction Progress: 1000it [00:00, 2488.02it/s]          \n"
     ]
    },
    {
     "name": "stdout",
     "output_type": "stream",
     "text": [
      "Predicting topics... (Estimated time: 2.00 seconds)\n"
     ]
    },
    {
     "name": "stderr",
     "output_type": "stream",
     "text": [
      "Prediction Progress: 1000it [00:00, 7772.63it/s]          \n"
     ]
    },
    {
     "name": "stdout",
     "output_type": "stream",
     "text": [
      "Predicting topics... (Estimated time: 2.00 seconds)\n"
     ]
    },
    {
     "name": "stderr",
     "output_type": "stream",
     "text": [
      "Prediction Progress: 1000it [00:00, 12227.65it/s]         \n"
     ]
    },
    {
     "name": "stdout",
     "output_type": "stream",
     "text": [
      "Predicting topics... (Estimated time: 2.00 seconds)\n"
     ]
    },
    {
     "name": "stderr",
     "output_type": "stream",
     "text": [
      "Prediction Progress: 1000it [00:00, 10554.52it/s]         \n"
     ]
    },
    {
     "name": "stdout",
     "output_type": "stream",
     "text": [
      "Predicting topics... (Estimated time: 2.00 seconds)\n"
     ]
    },
    {
     "name": "stderr",
     "output_type": "stream",
     "text": [
      "Prediction Progress: 1000it [00:00, 8355.64it/s]          \n"
     ]
    },
    {
     "name": "stdout",
     "output_type": "stream",
     "text": [
      "Predicting topics... (Estimated time: 2.00 seconds)\n"
     ]
    },
    {
     "name": "stderr",
     "output_type": "stream",
     "text": [
      "Prediction Progress: 1000it [00:00, 13369.07it/s]         \n"
     ]
    },
    {
     "name": "stdout",
     "output_type": "stream",
     "text": [
      "Predicting topics... (Estimated time: 2.00 seconds)\n"
     ]
    },
    {
     "name": "stderr",
     "output_type": "stream",
     "text": [
      "Prediction Progress: 1000it [00:00, 3619.52it/s]          \n"
     ]
    },
    {
     "name": "stdout",
     "output_type": "stream",
     "text": [
      "Predicting topics... (Estimated time: 2.00 seconds)\n"
     ]
    },
    {
     "name": "stderr",
     "output_type": "stream",
     "text": [
      "Prediction Progress: 1000it [00:00, 8643.59it/s]          \n"
     ]
    },
    {
     "name": "stdout",
     "output_type": "stream",
     "text": [
      "Predicting topics... (Estimated time: 2.00 seconds)\n"
     ]
    },
    {
     "name": "stderr",
     "output_type": "stream",
     "text": [
      "Prediction Progress: 1000it [00:00, 8873.21it/s]          \n"
     ]
    },
    {
     "name": "stdout",
     "output_type": "stream",
     "text": [
      "Predicting topics... (Estimated time: 2.00 seconds)\n"
     ]
    },
    {
     "name": "stderr",
     "output_type": "stream",
     "text": [
      "Prediction Progress: 1000it [00:00, 3812.46it/s]          \n"
     ]
    },
    {
     "name": "stdout",
     "output_type": "stream",
     "text": [
      "Predicting topics... (Estimated time: 2.00 seconds)\n"
     ]
    },
    {
     "name": "stderr",
     "output_type": "stream",
     "text": [
      "Prediction Progress: 1000it [00:00, 11457.69it/s]         \n"
     ]
    },
    {
     "name": "stdout",
     "output_type": "stream",
     "text": [
      "Predicting topics... (Estimated time: 2.00 seconds)\n"
     ]
    },
    {
     "name": "stderr",
     "output_type": "stream",
     "text": [
      "Prediction Progress: 1000it [00:00, 6113.82it/s]          \n"
     ]
    },
    {
     "name": "stdout",
     "output_type": "stream",
     "text": [
      "Predicting topics... (Estimated time: 2.00 seconds)\n"
     ]
    },
    {
     "name": "stderr",
     "output_type": "stream",
     "text": [
      "Prediction Progress: 1000it [00:00, 12227.65it/s]         \n"
     ]
    },
    {
     "name": "stdout",
     "output_type": "stream",
     "text": [
      "Predicting topics... (Estimated time: 2.00 seconds)\n"
     ]
    },
    {
     "name": "stderr",
     "output_type": "stream",
     "text": [
      "Prediction Progress: 1000it [00:00, 4284.42it/s]          \n"
     ]
    },
    {
     "name": "stdout",
     "output_type": "stream",
     "text": [
      "Predicting topics... (Estimated time: 2.00 seconds)\n"
     ]
    },
    {
     "name": "stderr",
     "output_type": "stream",
     "text": [
      "Prediction Progress: 1000it [00:00, 14122.19it/s]         \n"
     ]
    },
    {
     "name": "stdout",
     "output_type": "stream",
     "text": [
      "Predicting topics... (Estimated time: 2.00 seconds)\n"
     ]
    },
    {
     "name": "stderr",
     "output_type": "stream",
     "text": [
      "Prediction Progress: 1000it [00:00, 14122.28it/s]         \n"
     ]
    },
    {
     "name": "stdout",
     "output_type": "stream",
     "text": [
      "Predicting topics... (Estimated time: 2.00 seconds)\n"
     ]
    },
    {
     "name": "stderr",
     "output_type": "stream",
     "text": [
      "Prediction Progress: 1000it [00:00, 9603.40it/s]          \n"
     ]
    },
    {
     "name": "stdout",
     "output_type": "stream",
     "text": [
      "Predicting topics... (Estimated time: 2.00 seconds)\n"
     ]
    },
    {
     "name": "stderr",
     "output_type": "stream",
     "text": [
      "Prediction Progress: 1000it [00:00, 7957.76it/s]          \n"
     ]
    },
    {
     "name": "stdout",
     "output_type": "stream",
     "text": [
      "Predicting topics... (Estimated time: 2.00 seconds)\n"
     ]
    },
    {
     "name": "stderr",
     "output_type": "stream",
     "text": [
      "Prediction Progress: 1000it [00:00, 9783.98it/s]          \n"
     ]
    },
    {
     "name": "stdout",
     "output_type": "stream",
     "text": [
      "Predicting topics... (Estimated time: 2.00 seconds)\n"
     ]
    },
    {
     "name": "stderr",
     "output_type": "stream",
     "text": [
      "Prediction Progress: 1000it [00:00, 14965.49it/s]         \n"
     ]
    },
    {
     "name": "stdout",
     "output_type": "stream",
     "text": [
      "Predicting topics... (Estimated time: 2.00 seconds)\n"
     ]
    },
    {
     "name": "stderr",
     "output_type": "stream",
     "text": [
      "Prediction Progress: 1000it [00:00, 14965.33it/s]         \n"
     ]
    },
    {
     "name": "stdout",
     "output_type": "stream",
     "text": [
      "Predicting topics... (Estimated time: 2.00 seconds)\n"
     ]
    },
    {
     "name": "stderr",
     "output_type": "stream",
     "text": [
      "Prediction Progress: 1000it [00:00, 11796.13it/s]         \n"
     ]
    },
    {
     "name": "stdout",
     "output_type": "stream",
     "text": [
      "Predicting topics... (Estimated time: 2.00 seconds)\n"
     ]
    },
    {
     "name": "stderr",
     "output_type": "stream",
     "text": [
      "Prediction Progress: 1000it [00:00, 12533.52it/s]         \n"
     ]
    },
    {
     "name": "stdout",
     "output_type": "stream",
     "text": [
      "Predicting topics... (Estimated time: 2.00 seconds)\n"
     ]
    },
    {
     "name": "stderr",
     "output_type": "stream",
     "text": [
      "Prediction Progress: 1000it [00:00, 12691.90it/s]         \n"
     ]
    },
    {
     "name": "stdout",
     "output_type": "stream",
     "text": [
      "Predicting topics... (Estimated time: 2.00 seconds)\n"
     ]
    },
    {
     "name": "stderr",
     "output_type": "stream",
     "text": [
      "Prediction Progress: 1000it [00:00, 10127.96it/s]         \n"
     ]
    },
    {
     "name": "stdout",
     "output_type": "stream",
     "text": [
      "Predicting topics... (Estimated time: 2.00 seconds)\n"
     ]
    },
    {
     "name": "stderr",
     "output_type": "stream",
     "text": [
      "Prediction Progress: 1000it [00:00, 7482.68it/s]          \n"
     ]
    },
    {
     "name": "stdout",
     "output_type": "stream",
     "text": [
      "Predicting topics... (Estimated time: 2.00 seconds)\n"
     ]
    },
    {
     "name": "stderr",
     "output_type": "stream",
     "text": [
      "Prediction Progress: 1000it [00:00, 17590.68it/s]         \n"
     ]
    },
    {
     "name": "stdout",
     "output_type": "stream",
     "text": [
      "Predicting topics... (Estimated time: 2.00 seconds)\n"
     ]
    },
    {
     "name": "stderr",
     "output_type": "stream",
     "text": [
      "Prediction Progress: 1000it [00:00, 16172.00it/s]         \n"
     ]
    },
    {
     "name": "stdout",
     "output_type": "stream",
     "text": [
      "Predicting topics... (Estimated time: 2.00 seconds)\n"
     ]
    },
    {
     "name": "stderr",
     "output_type": "stream",
     "text": [
      "Prediction Progress: 1000it [00:00, 18568.07it/s]         \n"
     ]
    },
    {
     "name": "stdout",
     "output_type": "stream",
     "text": [
      "Predicting topics... (Estimated time: 2.00 seconds)\n"
     ]
    },
    {
     "name": "stderr",
     "output_type": "stream",
     "text": [
      "Prediction Progress: 1000it [00:00, 12533.44it/s]         \n"
     ]
    },
    {
     "name": "stdout",
     "output_type": "stream",
     "text": [
      "Predicting topics... (Estimated time: 2.00 seconds)\n"
     ]
    },
    {
     "name": "stderr",
     "output_type": "stream",
     "text": [
      "Prediction Progress: 1000it [00:00, 7454.54it/s]          \n"
     ]
    },
    {
     "name": "stdout",
     "output_type": "stream",
     "text": [
      "Predicting topics... (Estimated time: 2.00 seconds)\n"
     ]
    },
    {
     "name": "stderr",
     "output_type": "stream",
     "text": [
      "Prediction Progress: 1000it [00:00, 13368.94it/s]         \n"
     ]
    },
    {
     "name": "stdout",
     "output_type": "stream",
     "text": [
      "Predicting topics... (Estimated time: 2.00 seconds)\n"
     ]
    },
    {
     "name": "stderr",
     "output_type": "stream",
     "text": [
      "Prediction Progress: 1000it [00:00, 18230.56it/s]         \n"
     ]
    },
    {
     "name": "stdout",
     "output_type": "stream",
     "text": [
      "Predicting topics... (Estimated time: 2.00 seconds)\n"
     ]
    },
    {
     "name": "stderr",
     "output_type": "stream",
     "text": [
      "Prediction Progress: 1000it [00:00, 13926.01it/s]         \n"
     ]
    },
    {
     "name": "stdout",
     "output_type": "stream",
     "text": [
      "Predicting topics... (Estimated time: 2.00 seconds)\n"
     ]
    },
    {
     "name": "stderr",
     "output_type": "stream",
     "text": [
      "Prediction Progress: 1000it [00:00, 11659.17it/s]         \n"
     ]
    },
    {
     "name": "stdout",
     "output_type": "stream",
     "text": [
      "Predicting topics... (Estimated time: 2.00 seconds)\n"
     ]
    },
    {
     "name": "stderr",
     "output_type": "stream",
     "text": [
      "Prediction Progress: 1000it [00:00, 14056.03it/s]         \n"
     ]
    },
    {
     "name": "stdout",
     "output_type": "stream",
     "text": [
      "Predicting topics... (Estimated time: 2.00 seconds)\n"
     ]
    },
    {
     "name": "stderr",
     "output_type": "stream",
     "text": [
      "Prediction Progress: 1000it [00:00, 15425.74it/s]         \n"
     ]
    },
    {
     "name": "stdout",
     "output_type": "stream",
     "text": [
      "Predicting topics... (Estimated time: 2.00 seconds)\n"
     ]
    },
    {
     "name": "stderr",
     "output_type": "stream",
     "text": [
      "Prediction Progress: 1000it [00:00, 4843.84it/s]          \n"
     ]
    },
    {
     "name": "stdout",
     "output_type": "stream",
     "text": [
      "Predicting topics... (Estimated time: 2.00 seconds)\n"
     ]
    },
    {
     "name": "stderr",
     "output_type": "stream",
     "text": [
      "Prediction Progress: 1000it [00:00, 19659.72it/s]         \n"
     ]
    },
    {
     "name": "stdout",
     "output_type": "stream",
     "text": [
      "Predicting topics... (Estimated time: 2.00 seconds)\n"
     ]
    },
    {
     "name": "stderr",
     "output_type": "stream",
     "text": [
      "Prediction Progress: 1000it [00:00, 16711.17it/s]         \n"
     ]
    },
    {
     "name": "stdout",
     "output_type": "stream",
     "text": [
      "Predicting topics... (Estimated time: 2.00 seconds)\n"
     ]
    },
    {
     "name": "stderr",
     "output_type": "stream",
     "text": [
      "Prediction Progress: 1000it [00:00, 18230.64it/s]         \n"
     ]
    },
    {
     "name": "stdout",
     "output_type": "stream",
     "text": [
      "Predicting topics... (Estimated time: 2.00 seconds)\n"
     ]
    },
    {
     "name": "stderr",
     "output_type": "stream",
     "text": [
      "Prediction Progress: 1000it [00:00, 18230.16it/s]         \n"
     ]
    },
    {
     "name": "stdout",
     "output_type": "stream",
     "text": [
      "Predicting topics... (Estimated time: 2.00 seconds)\n"
     ]
    },
    {
     "name": "stderr",
     "output_type": "stream",
     "text": [
      "Prediction Progress: 1000it [00:00, 13369.11it/s]         \n"
     ]
    },
    {
     "name": "stdout",
     "output_type": "stream",
     "text": [
      "Predicting topics... (Estimated time: 2.00 seconds)\n"
     ]
    },
    {
     "name": "stderr",
     "output_type": "stream",
     "text": [
      "Prediction Progress: 1000it [00:00, 17904.56it/s]         \n"
     ]
    },
    {
     "name": "stdout",
     "output_type": "stream",
     "text": [
      "Predicting topics... (Estimated time: 2.00 seconds)\n"
     ]
    },
    {
     "name": "stderr",
     "output_type": "stream",
     "text": [
      "Prediction Progress: 1000it [00:00, 17904.86it/s]         \n"
     ]
    },
    {
     "name": "stdout",
     "output_type": "stream",
     "text": [
      "Predicting topics... (Estimated time: 2.00 seconds)\n"
     ]
    },
    {
     "name": "stderr",
     "output_type": "stream",
     "text": [
      "Prediction Progress: 1000it [00:00, 10026.69it/s]         \n"
     ]
    },
    {
     "name": "stdout",
     "output_type": "stream",
     "text": [
      "Predicting topics... (Estimated time: 2.00 seconds)\n"
     ]
    },
    {
     "name": "stderr",
     "output_type": "stream",
     "text": [
      "Prediction Progress: 1000it [00:00, 16172.24it/s]         \n"
     ]
    },
    {
     "name": "stdout",
     "output_type": "stream",
     "text": [
      "Predicting topics... (Estimated time: 2.00 seconds)\n"
     ]
    },
    {
     "name": "stderr",
     "output_type": "stream",
     "text": [
      "Prediction Progress: 1000it [00:00, 16437.29it/s]         \n"
     ]
    },
    {
     "name": "stdout",
     "output_type": "stream",
     "text": [
      "Predicting topics... (Estimated time: 2.00 seconds)\n"
     ]
    },
    {
     "name": "stderr",
     "output_type": "stream",
     "text": [
      "Prediction Progress: 1000it [00:00, 19282.12it/s]         \n"
     ]
    },
    {
     "name": "stdout",
     "output_type": "stream",
     "text": [
      "Predicting topics... (Estimated time: 2.00 seconds)\n"
     ]
    },
    {
     "name": "stderr",
     "output_type": "stream",
     "text": [
      "Prediction Progress: 1000it [00:00, 14531.47it/s]         \n"
     ]
    },
    {
     "name": "stdout",
     "output_type": "stream",
     "text": [
      "Predicting topics... (Estimated time: 2.00 seconds)\n"
     ]
    },
    {
     "name": "stderr",
     "output_type": "stream",
     "text": [
      "Prediction Progress: 1000it [00:00, 14965.23it/s]         \n"
     ]
    },
    {
     "name": "stdout",
     "output_type": "stream",
     "text": [
      "Predicting topics... (Estimated time: 2.00 seconds)\n"
     ]
    },
    {
     "name": "stderr",
     "output_type": "stream",
     "text": [
      "Prediction Progress: 1000it [00:00, 16711.57it/s]         \n"
     ]
    },
    {
     "name": "stdout",
     "output_type": "stream",
     "text": [
      "Predicting topics... (Estimated time: 2.00 seconds)\n"
     ]
    },
    {
     "name": "stderr",
     "output_type": "stream",
     "text": [
      "Prediction Progress: 1000it [00:00, 22787.95it/s]         \n"
     ]
    },
    {
     "name": "stdout",
     "output_type": "stream",
     "text": [
      "Predicting topics... (Estimated time: 2.00 seconds)\n"
     ]
    },
    {
     "name": "stderr",
     "output_type": "stream",
     "text": [
      "Prediction Progress: 1000it [00:00, 11525.00it/s]         \n"
     ]
    },
    {
     "name": "stdout",
     "output_type": "stream",
     "text": [
      "Predicting topics... (Estimated time: 2.00 seconds)\n"
     ]
    },
    {
     "name": "stderr",
     "output_type": "stream",
     "text": [
      "Prediction Progress: 1000it [00:00, 17590.75it/s]         \n"
     ]
    },
    {
     "name": "stdout",
     "output_type": "stream",
     "text": [
      "Predicting topics... (Estimated time: 2.00 seconds)\n"
     ]
    },
    {
     "name": "stderr",
     "output_type": "stream",
     "text": [
      "Prediction Progress: 1000it [00:00, 20888.90it/s]         \n"
     ]
    },
    {
     "name": "stdout",
     "output_type": "stream",
     "text": [
      "Predicting topics... (Estimated time: 2.00 seconds)\n"
     ]
    },
    {
     "name": "stderr",
     "output_type": "stream",
     "text": [
      "Prediction Progress: 1000it [00:00, 18567.82it/s]         \n"
     ]
    },
    {
     "name": "stdout",
     "output_type": "stream",
     "text": [
      "Predicting topics... (Estimated time: 2.00 seconds)\n"
     ]
    },
    {
     "name": "stderr",
     "output_type": "stream",
     "text": [
      "Prediction Progress: 1000it [00:00, 14965.39it/s]         \n"
     ]
    },
    {
     "name": "stdout",
     "output_type": "stream",
     "text": [
      "Predicting topics... (Estimated time: 2.00 seconds)\n"
     ]
    },
    {
     "name": "stderr",
     "output_type": "stream",
     "text": [
      "Prediction Progress: 1000it [00:00, 22281.56it/s]         \n"
     ]
    },
    {
     "name": "stdout",
     "output_type": "stream",
     "text": [
      "Predicting topics... (Estimated time: 2.00 seconds)\n"
     ]
    },
    {
     "name": "stderr",
     "output_type": "stream",
     "text": [
      "Prediction Progress: 1000it [00:00, 15666.46it/s]         \n"
     ]
    },
    {
     "name": "stdout",
     "output_type": "stream",
     "text": [
      "Predicting topics... (Estimated time: 2.00 seconds)\n"
     ]
    },
    {
     "name": "stderr",
     "output_type": "stream",
     "text": [
      "Prediction Progress: 1000it [00:00, 8795.40it/s]          \n"
     ]
    },
    {
     "name": "stdout",
     "output_type": "stream",
     "text": [
      "Predicting topics... (Estimated time: 2.00 seconds)\n"
     ]
    },
    {
     "name": "stderr",
     "output_type": "stream",
     "text": [
      "Prediction Progress: 1000it [00:00, 20053.28it/s]         \n"
     ]
    },
    {
     "name": "stdout",
     "output_type": "stream",
     "text": [
      "Predicting topics... (Estimated time: 2.00 seconds)\n"
     ]
    },
    {
     "name": "stderr",
     "output_type": "stream",
     "text": [
      "Prediction Progress: 1000it [00:00, 20462.71it/s]         \n"
     ]
    },
    {
     "name": "stdout",
     "output_type": "stream",
     "text": [
      "Predicting topics... (Estimated time: 2.00 seconds)\n"
     ]
    },
    {
     "name": "stderr",
     "output_type": "stream",
     "text": [
      "Prediction Progress: 1000it [00:00, 14531.41it/s]         \n"
     ]
    },
    {
     "name": "stdout",
     "output_type": "stream",
     "text": [
      "Predicting topics... (Estimated time: 2.00 seconds)\n"
     ]
    },
    {
     "name": "stderr",
     "output_type": "stream",
     "text": [
      "Prediction Progress: 1000it [00:00, 15915.37it/s]         \n"
     ]
    },
    {
     "name": "stdout",
     "output_type": "stream",
     "text": [
      "Predicting topics... (Estimated time: 2.00 seconds)\n"
     ]
    },
    {
     "name": "stderr",
     "output_type": "stream",
     "text": [
      "Prediction Progress: 1000it [00:00, 20053.57it/s]         \n"
     ]
    },
    {
     "name": "stdout",
     "output_type": "stream",
     "text": [
      "Predicting topics... (Estimated time: 2.00 seconds)\n"
     ]
    },
    {
     "name": "stderr",
     "output_type": "stream",
     "text": [
      "Prediction Progress: 1000it [00:00, 17287.33it/s]         \n"
     ]
    },
    {
     "name": "stdout",
     "output_type": "stream",
     "text": [
      "Predicting topics... (Estimated time: 2.00 seconds)\n"
     ]
    },
    {
     "name": "stderr",
     "output_type": "stream",
     "text": [
      "Prediction Progress: 1000it [00:00, 15915.25it/s]         \n"
     ]
    },
    {
     "name": "stdout",
     "output_type": "stream",
     "text": [
      "Predicting topics... (Estimated time: 2.00 seconds)\n"
     ]
    },
    {
     "name": "stderr",
     "output_type": "stream",
     "text": [
      "Prediction Progress: 1000it [00:00, 16172.00it/s]         \n"
     ]
    },
    {
     "name": "stdout",
     "output_type": "stream",
     "text": [
      "Predicting topics... (Estimated time: 2.00 seconds)\n"
     ]
    },
    {
     "name": "stderr",
     "output_type": "stream",
     "text": [
      "Prediction Progress: 1000it [00:00, 14744.90it/s]         \n"
     ]
    },
    {
     "name": "stdout",
     "output_type": "stream",
     "text": [
      "Predicting topics... (Estimated time: 2.00 seconds)\n"
     ]
    },
    {
     "name": "stderr",
     "output_type": "stream",
     "text": [
      "Prediction Progress: 1000it [00:00, 19282.12it/s]         \n"
     ]
    },
    {
     "name": "stdout",
     "output_type": "stream",
     "text": [
      "Predicting topics... (Estimated time: 2.00 seconds)\n"
     ]
    },
    {
     "name": "stderr",
     "output_type": "stream",
     "text": [
      "Prediction Progress: 1000it [00:00, 25067.56it/s]         \n"
     ]
    },
    {
     "name": "stdout",
     "output_type": "stream",
     "text": [
      "Predicting topics... (Estimated time: 2.00 seconds)\n"
     ]
    },
    {
     "name": "stderr",
     "output_type": "stream",
     "text": [
      "Prediction Progress: 1000it [00:00, 20462.22it/s]         \n"
     ]
    },
    {
     "name": "stdout",
     "output_type": "stream",
     "text": [
      "Predicting topics... (Estimated time: 2.00 seconds)\n"
     ]
    },
    {
     "name": "stderr",
     "output_type": "stream",
     "text": [
      "Prediction Progress: 1000it [00:00, 19282.12it/s]         \n"
     ]
    },
    {
     "name": "stdout",
     "output_type": "stream",
     "text": [
      "Predicting topics... (Estimated time: 2.00 seconds)\n"
     ]
    },
    {
     "name": "stderr",
     "output_type": "stream",
     "text": [
      "Prediction Progress: 1000it [00:00, 23318.01it/s]         \n"
     ]
    },
    {
     "name": "stdout",
     "output_type": "stream",
     "text": [
      "Predicting topics... (Estimated time: 2.00 seconds)\n"
     ]
    },
    {
     "name": "stderr",
     "output_type": "stream",
     "text": [
      "Prediction Progress: 1000it [00:00, 19660.19it/s]         \n"
     ]
    },
    {
     "name": "stdout",
     "output_type": "stream",
     "text": [
      "Predicting topics... (Estimated time: 2.00 seconds)\n"
     ]
    },
    {
     "name": "stderr",
     "output_type": "stream",
     "text": [
      "Prediction Progress: 1000it [00:00, 6684.48it/s]          \n"
     ]
    },
    {
     "name": "stdout",
     "output_type": "stream",
     "text": [
      "Predicting topics... (Estimated time: 2.00 seconds)\n"
     ]
    },
    {
     "name": "stderr",
     "output_type": "stream",
     "text": [
      "Prediction Progress: 1000it [00:00, 15425.96it/s]         \n"
     ]
    },
    {
     "name": "stdout",
     "output_type": "stream",
     "text": [
      "Predicting topics... (Estimated time: 2.00 seconds)\n"
     ]
    },
    {
     "name": "stderr",
     "output_type": "stream",
     "text": [
      "Prediction Progress: 1000it [00:00, 23872.91it/s]         \n"
     ]
    },
    {
     "name": "stdout",
     "output_type": "stream",
     "text": [
      "Predicting topics... (Estimated time: 2.00 seconds)\n"
     ]
    },
    {
     "name": "stderr",
     "output_type": "stream",
     "text": [
      "Prediction Progress: 1000it [00:00, 22281.33it/s]         \n"
     ]
    },
    {
     "name": "stdout",
     "output_type": "stream",
     "text": [
      "Predicting topics... (Estimated time: 2.00 seconds)\n"
     ]
    },
    {
     "name": "stderr",
     "output_type": "stream",
     "text": [
      "Prediction Progress: 1000it [00:00, 16994.61it/s]         \n"
     ]
    },
    {
     "name": "stdout",
     "output_type": "stream",
     "text": [
      "Predicting topics... (Estimated time: 2.00 seconds)\n"
     ]
    },
    {
     "name": "stderr",
     "output_type": "stream",
     "text": [
      "Prediction Progress: 1000it [00:00, 15425.68it/s]         \n"
     ]
    },
    {
     "name": "stdout",
     "output_type": "stream",
     "text": [
      "Predicting topics... (Estimated time: 2.00 seconds)\n"
     ]
    },
    {
     "name": "stderr",
     "output_type": "stream",
     "text": [
      "Prediction Progress: 1000it [00:00, 20463.21it/s]         \n"
     ]
    },
    {
     "name": "stdout",
     "output_type": "stream",
     "text": [
      "Predicting topics... (Estimated time: 2.00 seconds)\n"
     ]
    },
    {
     "name": "stderr",
     "output_type": "stream",
     "text": [
      "Prediction Progress: 1000it [00:00, 20463.71it/s]         \n"
     ]
    },
    {
     "name": "stdout",
     "output_type": "stream",
     "text": [
      "Predicting topics... (Estimated time: 2.00 seconds)\n"
     ]
    },
    {
     "name": "stderr",
     "output_type": "stream",
     "text": [
      "Prediction Progress: 1000it [00:00, 21796.97it/s]         \n"
     ]
    },
    {
     "name": "stdout",
     "output_type": "stream",
     "text": [
      "Predicting topics... (Estimated time: 2.00 seconds)\n"
     ]
    },
    {
     "name": "stderr",
     "output_type": "stream",
     "text": [
      "Prediction Progress: 1000it [00:00, 16994.13it/s]         \n"
     ]
    },
    {
     "name": "stdout",
     "output_type": "stream",
     "text": [
      "Predicting topics... (Estimated time: 2.00 seconds)\n"
     ]
    },
    {
     "name": "stderr",
     "output_type": "stream",
     "text": [
      "Prediction Progress: 1000it [00:00, 20053.18it/s]         \n"
     ]
    },
    {
     "name": "stdout",
     "output_type": "stream",
     "text": [
      "Predicting topics... (Estimated time: 2.00 seconds)\n"
     ]
    },
    {
     "name": "stderr",
     "output_type": "stream",
     "text": [
      "Prediction Progress: 1000it [00:00, 25066.51it/s]         \n"
     ]
    },
    {
     "name": "stdout",
     "output_type": "stream",
     "text": [
      "Predicting topics... (Estimated time: 2.00 seconds)\n"
     ]
    },
    {
     "name": "stderr",
     "output_type": "stream",
     "text": [
      "Prediction Progress: 1000it [00:00, 23318.01it/s]         \n"
     ]
    },
    {
     "name": "stdout",
     "output_type": "stream",
     "text": [
      "Predicting topics... (Estimated time: 2.00 seconds)\n"
     ]
    },
    {
     "name": "stderr",
     "output_type": "stream",
     "text": [
      "Prediction Progress: 1000it [00:00, 21333.44it/s]         \n"
     ]
    },
    {
     "name": "stdout",
     "output_type": "stream",
     "text": [
      "Predicting topics... (Estimated time: 2.00 seconds)\n"
     ]
    },
    {
     "name": "stderr",
     "output_type": "stream",
     "text": [
      "Prediction Progress: 1000it [00:00, 21333.88it/s]         \n"
     ]
    },
    {
     "name": "stdout",
     "output_type": "stream",
     "text": [
      "Predicting topics... (Estimated time: 2.00 seconds)\n"
     ]
    },
    {
     "name": "stderr",
     "output_type": "stream",
     "text": [
      "Prediction Progress: 1000it [00:00, 6510.67it/s]          \n"
     ]
    },
    {
     "name": "stdout",
     "output_type": "stream",
     "text": [
      "Predicting topics... (Estimated time: 2.00 seconds)\n"
     ]
    },
    {
     "name": "stderr",
     "output_type": "stream",
     "text": [
      "Prediction Progress: 1000it [00:00, 19282.47it/s]         \n"
     ]
    },
    {
     "name": "stdout",
     "output_type": "stream",
     "text": [
      "Predicting topics... (Estimated time: 2.00 seconds)\n"
     ]
    },
    {
     "name": "stderr",
     "output_type": "stream",
     "text": [
      "Prediction Progress: 1000it [00:00, 23873.73it/s]         \n"
     ]
    },
    {
     "name": "stdout",
     "output_type": "stream",
     "text": [
      "Predicting topics... (Estimated time: 2.00 seconds)\n"
     ]
    },
    {
     "name": "stderr",
     "output_type": "stream",
     "text": [
      "Prediction Progress: 1000it [00:00, 21333.22it/s]         \n"
     ]
    },
    {
     "name": "stdout",
     "output_type": "stream",
     "text": [
      "Predicting topics... (Estimated time: 2.00 seconds)\n"
     ]
    },
    {
     "name": "stderr",
     "output_type": "stream",
     "text": [
      "Prediction Progress: 1000it [00:00, 19282.03it/s]         \n"
     ]
    },
    {
     "name": "stdout",
     "output_type": "stream",
     "text": [
      "Predicting topics... (Estimated time: 2.00 seconds)\n"
     ]
    },
    {
     "name": "stderr",
     "output_type": "stream",
     "text": [
      "Prediction Progress: 1000it [00:00, 19660.37it/s]         \n"
     ]
    },
    {
     "name": "stdout",
     "output_type": "stream",
     "text": [
      "Predicting topics... (Estimated time: 2.00 seconds)\n"
     ]
    },
    {
     "name": "stderr",
     "output_type": "stream",
     "text": [
      "Prediction Progress: 1000it [00:00, 18230.16it/s]         \n"
     ]
    },
    {
     "name": "stdout",
     "output_type": "stream",
     "text": [
      "Predicting topics... (Estimated time: 2.00 seconds)\n"
     ]
    },
    {
     "name": "stderr",
     "output_type": "stream",
     "text": [
      "Prediction Progress: 1000it [00:00, 26384.25it/s]         \n"
     ]
    },
    {
     "name": "stdout",
     "output_type": "stream",
     "text": [
      "Predicting topics... (Estimated time: 2.00 seconds)\n"
     ]
    },
    {
     "name": "stderr",
     "output_type": "stream",
     "text": [
      "Prediction Progress: 1000it [00:00, 20053.86it/s]         \n"
     ]
    },
    {
     "name": "stdout",
     "output_type": "stream",
     "text": [
      "Predicting topics... (Estimated time: 2.00 seconds)\n"
     ]
    },
    {
     "name": "stderr",
     "output_type": "stream",
     "text": [
      "Prediction Progress: 1000it [00:00, 22786.96it/s]         \n"
     ]
    },
    {
     "name": "stdout",
     "output_type": "stream",
     "text": [
      "Predicting topics... (Estimated time: 2.00 seconds)\n"
     ]
    },
    {
     "name": "stderr",
     "output_type": "stream",
     "text": [
      "Prediction Progress: 1000it [00:00, 23873.59it/s]         \n"
     ]
    },
    {
     "name": "stdout",
     "output_type": "stream",
     "text": [
      "Predicting topics... (Estimated time: 2.00 seconds)\n"
     ]
    },
    {
     "name": "stderr",
     "output_type": "stream",
     "text": [
      "Prediction Progress: 1000it [00:00, 17590.02it/s]         \n"
     ]
    },
    {
     "name": "stdout",
     "output_type": "stream",
     "text": [
      "Predicting topics... (Estimated time: 2.00 seconds)\n"
     ]
    },
    {
     "name": "stderr",
     "output_type": "stream",
     "text": [
      "Prediction Progress: 1000it [00:00, 17904.64it/s]         \n"
     ]
    },
    {
     "name": "stdout",
     "output_type": "stream",
     "text": [
      "Predicting topics... (Estimated time: 2.00 seconds)\n"
     ]
    },
    {
     "name": "stderr",
     "output_type": "stream",
     "text": [
      "Prediction Progress: 1000it [00:00, 22787.70it/s]         \n"
     ]
    },
    {
     "name": "stdout",
     "output_type": "stream",
     "text": [
      "Predicting topics... (Estimated time: 2.00 seconds)\n"
     ]
    },
    {
     "name": "stderr",
     "output_type": "stream",
     "text": [
      "Prediction Progress: 1000it [00:00, 23318.01it/s]         \n"
     ]
    },
    {
     "name": "stdout",
     "output_type": "stream",
     "text": [
      "Predicting topics... (Estimated time: 2.00 seconds)\n"
     ]
    },
    {
     "name": "stderr",
     "output_type": "stream",
     "text": [
      "Prediction Progress: 1000it [00:00, 17582.64it/s]         \n"
     ]
    },
    {
     "name": "stdout",
     "output_type": "stream",
     "text": [
      "Predicting topics... (Estimated time: 2.00 seconds)\n"
     ]
    },
    {
     "name": "stderr",
     "output_type": "stream",
     "text": [
      "Prediction Progress: 1000it [00:00, 22788.07it/s]         \n"
     ]
    },
    {
     "name": "stdout",
     "output_type": "stream",
     "text": [
      "Predicting topics... (Estimated time: 2.00 seconds)\n"
     ]
    },
    {
     "name": "stderr",
     "output_type": "stream",
     "text": [
      "Prediction Progress: 1000it [00:00, 20462.51it/s]         \n"
     ]
    },
    {
     "name": "stdout",
     "output_type": "stream",
     "text": [
      "Predicting topics... (Estimated time: 2.00 seconds)\n"
     ]
    },
    {
     "name": "stderr",
     "output_type": "stream",
     "text": [
      "Prediction Progress: 1000it [00:00, 23317.10it/s]         \n"
     ]
    },
    {
     "name": "stdout",
     "output_type": "stream",
     "text": [
      "Predicting topics... (Estimated time: 2.00 seconds)\n"
     ]
    },
    {
     "name": "stderr",
     "output_type": "stream",
     "text": [
      "Prediction Progress: 1000it [00:00, 18567.82it/s]         \n"
     ]
    },
    {
     "name": "stdout",
     "output_type": "stream",
     "text": [
      "Predicting topics... (Estimated time: 2.00 seconds)\n"
     ]
    },
    {
     "name": "stderr",
     "output_type": "stream",
     "text": [
      "Prediction Progress: 1000it [00:00, 16437.16it/s]         \n"
     ]
    },
    {
     "name": "stdout",
     "output_type": "stream",
     "text": [
      "Predicting topics... (Estimated time: 2.00 seconds)\n"
     ]
    },
    {
     "name": "stderr",
     "output_type": "stream",
     "text": [
      "Prediction Progress: 1000it [00:00, 17590.68it/s]         \n"
     ]
    },
    {
     "name": "stdout",
     "output_type": "stream",
     "text": [
      "Predicting topics... (Estimated time: 2.00 seconds)\n"
     ]
    },
    {
     "name": "stderr",
     "output_type": "stream",
     "text": [
      "Prediction Progress: 1000it [00:00, 18567.16it/s]         \n"
     ]
    },
    {
     "name": "stdout",
     "output_type": "stream",
     "text": [
      "Predicting topics... (Estimated time: 2.00 seconds)\n"
     ]
    },
    {
     "name": "stderr",
     "output_type": "stream",
     "text": [
      "Prediction Progress: 1000it [00:00, 22788.07it/s]         \n"
     ]
    },
    {
     "name": "stdout",
     "output_type": "stream",
     "text": [
      "Predicting topics... (Estimated time: 2.00 seconds)\n"
     ]
    },
    {
     "name": "stderr",
     "output_type": "stream",
     "text": [
      "Prediction Progress: 1000it [00:00, 13925.96it/s]         \n"
     ]
    },
    {
     "name": "stdout",
     "output_type": "stream",
     "text": [
      "Predicting topics... (Estimated time: 2.00 seconds)\n"
     ]
    },
    {
     "name": "stderr",
     "output_type": "stream",
     "text": [
      "Prediction Progress: 1000it [00:00, 19660.55it/s]         \n"
     ]
    },
    {
     "name": "stdout",
     "output_type": "stream",
     "text": [
      "Predicting topics... (Estimated time: 2.00 seconds)\n"
     ]
    },
    {
     "name": "stderr",
     "output_type": "stream",
     "text": [
      "Prediction Progress: 1000it [00:00, 18567.99it/s]         \n"
     ]
    },
    {
     "name": "stdout",
     "output_type": "stream",
     "text": [
      "Predicting topics... (Estimated time: 2.00 seconds)\n"
     ]
    },
    {
     "name": "stderr",
     "output_type": "stream",
     "text": [
      "Prediction Progress: 1000it [00:00, 21333.55it/s]         \n"
     ]
    },
    {
     "name": "stdout",
     "output_type": "stream",
     "text": [
      "Predicting topics... (Estimated time: 2.00 seconds)\n"
     ]
    },
    {
     "name": "stderr",
     "output_type": "stream",
     "text": [
      "Prediction Progress: 1000it [00:00, 9734.73it/s]          \n"
     ]
    },
    {
     "name": "stdout",
     "output_type": "stream",
     "text": [
      "Predicting topics... (Estimated time: 2.00 seconds)\n"
     ]
    },
    {
     "name": "stderr",
     "output_type": "stream",
     "text": [
      "Prediction Progress: 1000it [00:00, 21333.44it/s]         \n"
     ]
    },
    {
     "name": "stdout",
     "output_type": "stream",
     "text": [
      "Predicting topics... (Estimated time: 2.00 seconds)\n"
     ]
    },
    {
     "name": "stderr",
     "output_type": "stream",
     "text": [
      "Prediction Progress: 1000it [00:00, 20463.91it/s]         \n"
     ]
    },
    {
     "name": "stdout",
     "output_type": "stream",
     "text": [
      "Predicting topics... (Estimated time: 2.00 seconds)\n"
     ]
    },
    {
     "name": "stderr",
     "output_type": "stream",
     "text": [
      "Prediction Progress: 1000it [00:00, 5168.41it/s]          \n"
     ]
    },
    {
     "name": "stdout",
     "output_type": "stream",
     "text": [
      "Predicting topics... (Estimated time: 2.00 seconds)\n"
     ]
    },
    {
     "name": "stderr",
     "output_type": "stream",
     "text": [
      "Prediction Progress: 1000it [00:00, 20052.51it/s]         \n"
     ]
    },
    {
     "name": "stdout",
     "output_type": "stream",
     "text": [
      "Predicting topics... (Estimated time: 2.00 seconds)\n"
     ]
    },
    {
     "name": "stderr",
     "output_type": "stream",
     "text": [
      "Prediction Progress: 1000it [00:00, 21796.18it/s]         \n"
     ]
    },
    {
     "name": "stdout",
     "output_type": "stream",
     "text": [
      "Predicting topics... (Estimated time: 2.00 seconds)\n"
     ]
    },
    {
     "name": "stderr",
     "output_type": "stream",
     "text": [
      "Prediction Progress: 1000it [00:00, 21797.08it/s]         \n"
     ]
    },
    {
     "name": "stdout",
     "output_type": "stream",
     "text": [
      "Predicting topics... (Estimated time: 2.00 seconds)\n"
     ]
    },
    {
     "name": "stderr",
     "output_type": "stream",
     "text": [
      "Prediction Progress: 1000it [00:00, 21333.22it/s]         \n"
     ]
    },
    {
     "name": "stdout",
     "output_type": "stream",
     "text": [
      "Predicting topics... (Estimated time: 2.00 seconds)\n"
     ]
    },
    {
     "name": "stderr",
     "output_type": "stream",
     "text": [
      "Prediction Progress: 1000it [00:00, 20887.66it/s]         \n"
     ]
    },
    {
     "name": "stdout",
     "output_type": "stream",
     "text": [
      "Predicting topics... (Estimated time: 2.00 seconds)\n"
     ]
    },
    {
     "name": "stderr",
     "output_type": "stream",
     "text": [
      "Prediction Progress: 1000it [00:00, 20463.31it/s]         \n"
     ]
    },
    {
     "name": "stdout",
     "output_type": "stream",
     "text": [
      "Predicting topics... (Estimated time: 2.00 seconds)\n"
     ]
    },
    {
     "name": "stderr",
     "output_type": "stream",
     "text": [
      "Prediction Progress: 1000it [00:00, 22282.63it/s]         \n"
     ]
    },
    {
     "name": "stdout",
     "output_type": "stream",
     "text": [
      "Predicting topics... (Estimated time: 2.00 seconds)\n"
     ]
    },
    {
     "name": "stderr",
     "output_type": "stream",
     "text": [
      "Prediction Progress: 1000it [00:00, 23873.32it/s]         \n"
     ]
    },
    {
     "name": "stdout",
     "output_type": "stream",
     "text": [
      "Predicting topics... (Estimated time: 2.00 seconds)\n"
     ]
    },
    {
     "name": "stderr",
     "output_type": "stream",
     "text": [
      "Prediction Progress: 1000it [00:00, 18230.71it/s]         \n"
     ]
    },
    {
     "name": "stdout",
     "output_type": "stream",
     "text": [
      "Predicting topics... (Estimated time: 2.00 seconds)\n"
     ]
    },
    {
     "name": "stderr",
     "output_type": "stream",
     "text": [
      "Prediction Progress: 1000it [00:00, 20462.42it/s]         \n"
     ]
    },
    {
     "name": "stdout",
     "output_type": "stream",
     "text": [
      "Predicting topics... (Estimated time: 2.00 seconds)\n"
     ]
    },
    {
     "name": "stderr",
     "output_type": "stream",
     "text": [
      "Prediction Progress: 1000it [00:00, 17287.33it/s]         \n"
     ]
    },
    {
     "name": "stdout",
     "output_type": "stream",
     "text": [
      "Predicting topics... (Estimated time: 2.00 seconds)\n"
     ]
    },
    {
     "name": "stderr",
     "output_type": "stream",
     "text": [
      "Prediction Progress: 1000it [00:00, 22787.82it/s]         \n"
     ]
    },
    {
     "name": "stdout",
     "output_type": "stream",
     "text": [
      "Predicting topics... (Estimated time: 2.00 seconds)\n"
     ]
    },
    {
     "name": "stderr",
     "output_type": "stream",
     "text": [
      "Prediction Progress: 1000it [00:00, 15192.13it/s]         \n"
     ]
    },
    {
     "name": "stdout",
     "output_type": "stream",
     "text": [
      "Predicting topics... (Estimated time: 2.00 seconds)\n"
     ]
    },
    {
     "name": "stderr",
     "output_type": "stream",
     "text": [
      "Prediction Progress: 1000it [00:00, 9549.26it/s]          \n"
     ]
    },
    {
     "name": "stdout",
     "output_type": "stream",
     "text": [
      "Predicting topics... (Estimated time: 2.00 seconds)\n"
     ]
    },
    {
     "name": "stderr",
     "output_type": "stream",
     "text": [
      "Prediction Progress: 1000it [00:00, 23319.70it/s]         \n"
     ]
    },
    {
     "name": "stdout",
     "output_type": "stream",
     "text": [
      "Predicting topics... (Estimated time: 2.00 seconds)\n"
     ]
    },
    {
     "name": "stderr",
     "output_type": "stream",
     "text": [
      "Prediction Progress: 1000it [00:00, 22787.95it/s]         \n"
     ]
    },
    {
     "name": "stdout",
     "output_type": "stream",
     "text": [
      "Predicting topics... (Estimated time: 2.00 seconds)\n"
     ]
    },
    {
     "name": "stderr",
     "output_type": "stream",
     "text": [
      "Prediction Progress: 1000it [00:00, 23872.91it/s]         \n"
     ]
    },
    {
     "name": "stdout",
     "output_type": "stream",
     "text": [
      "Predicting topics... (Estimated time: 2.00 seconds)\n"
     ]
    },
    {
     "name": "stderr",
     "output_type": "stream",
     "text": [
      "Prediction Progress: 1000it [00:00, 21796.97it/s]         \n"
     ]
    },
    {
     "name": "stdout",
     "output_type": "stream",
     "text": [
      "Predicting topics... (Estimated time: 2.00 seconds)\n"
     ]
    },
    {
     "name": "stderr",
     "output_type": "stream",
     "text": [
      "Prediction Progress: 1000it [00:00, 24455.73it/s]         \n"
     ]
    },
    {
     "name": "stdout",
     "output_type": "stream",
     "text": [
      "Predicting topics... (Estimated time: 2.00 seconds)\n"
     ]
    },
    {
     "name": "stderr",
     "output_type": "stream",
     "text": [
      "Prediction Progress: 1000it [00:00, 13021.70it/s]         \n"
     ]
    },
    {
     "name": "stdout",
     "output_type": "stream",
     "text": [
      "Predicting topics... (Estimated time: 2.00 seconds)\n"
     ]
    },
    {
     "name": "stderr",
     "output_type": "stream",
     "text": [
      "Prediction Progress: 1000it [00:00, 14317.18it/s]         \n"
     ]
    },
    {
     "name": "stdout",
     "output_type": "stream",
     "text": [
      "Predicting topics... (Estimated time: 2.00 seconds)\n"
     ]
    },
    {
     "name": "stderr",
     "output_type": "stream",
     "text": [
      "Prediction Progress: 1000it [00:00, 22281.33it/s]         \n"
     ]
    },
    {
     "name": "stdout",
     "output_type": "stream",
     "text": [
      "Predicting topics... (Estimated time: 2.00 seconds)\n"
     ]
    },
    {
     "name": "stderr",
     "output_type": "stream",
     "text": [
      "Prediction Progress: 1000it [00:00, 11140.87it/s]         \n"
     ]
    },
    {
     "name": "stdout",
     "output_type": "stream",
     "text": [
      "Predicting topics... (Estimated time: 2.00 seconds)\n"
     ]
    },
    {
     "name": "stderr",
     "output_type": "stream",
     "text": [
      "Prediction Progress: 1000it [00:00, 21796.63it/s]         \n"
     ]
    },
    {
     "name": "stdout",
     "output_type": "stream",
     "text": [
      "Predicting topics... (Estimated time: 2.00 seconds)\n"
     ]
    },
    {
     "name": "stderr",
     "output_type": "stream",
     "text": [
      "Prediction Progress: 1000it [00:00, 17590.46it/s]         \n"
     ]
    },
    {
     "name": "stdout",
     "output_type": "stream",
     "text": [
      "Predicting topics... (Estimated time: 2.00 seconds)\n"
     ]
    },
    {
     "name": "stderr",
     "output_type": "stream",
     "text": [
      "Prediction Progress: 1000it [00:00, 20052.51it/s]         \n"
     ]
    },
    {
     "name": "stdout",
     "output_type": "stream",
     "text": [
      "Predicting topics... (Estimated time: 2.00 seconds)\n"
     ]
    },
    {
     "name": "stderr",
     "output_type": "stream",
     "text": [
      "Prediction Progress: 1000it [00:00, 9370.72it/s]          \n"
     ]
    },
    {
     "name": "stdout",
     "output_type": "stream",
     "text": [
      "Predicting topics... (Estimated time: 2.00 seconds)\n"
     ]
    },
    {
     "name": "stderr",
     "output_type": "stream",
     "text": [
      "Prediction Progress: 1000it [00:00, 22786.96it/s]         \n"
     ]
    },
    {
     "name": "stdout",
     "output_type": "stream",
     "text": [
      "Predicting topics... (Estimated time: 2.00 seconds)\n"
     ]
    },
    {
     "name": "stderr",
     "output_type": "stream",
     "text": [
      "Prediction Progress: 1000it [00:00, 20053.18it/s]         \n"
     ]
    },
    {
     "name": "stdout",
     "output_type": "stream",
     "text": [
      "Predicting topics... (Estimated time: 2.00 seconds)\n"
     ]
    },
    {
     "name": "stderr",
     "output_type": "stream",
     "text": [
      "Prediction Progress: 1000it [00:00, 20053.38it/s]         \n"
     ]
    },
    {
     "name": "stdout",
     "output_type": "stream",
     "text": [
      "Predicting topics... (Estimated time: 2.00 seconds)\n"
     ]
    },
    {
     "name": "stderr",
     "output_type": "stream",
     "text": [
      "Prediction Progress: 1000it [00:00, 8643.65it/s]          \n"
     ]
    },
    {
     "name": "stdout",
     "output_type": "stream",
     "text": [
      "Predicting topics... (Estimated time: 2.00 seconds)\n"
     ]
    },
    {
     "name": "stderr",
     "output_type": "stream",
     "text": [
      "Prediction Progress: 1000it [00:00, 16436.26it/s]         \n"
     ]
    },
    {
     "name": "stdout",
     "output_type": "stream",
     "text": [
      "Predicting topics... (Estimated time: 2.00 seconds)\n"
     ]
    },
    {
     "name": "stderr",
     "output_type": "stream",
     "text": [
      "Prediction Progress: 1000it [00:00, 20889.22it/s]         \n"
     ]
    },
    {
     "name": "stdout",
     "output_type": "stream",
     "text": [
      "Predicting topics... (Estimated time: 2.00 seconds)\n"
     ]
    },
    {
     "name": "stderr",
     "output_type": "stream",
     "text": [
      "Prediction Progress: 1000it [00:00, 19281.76it/s]         \n"
     ]
    },
    {
     "name": "stdout",
     "output_type": "stream",
     "text": [
      "Predicting topics... (Estimated time: 2.00 seconds)\n"
     ]
    },
    {
     "name": "stderr",
     "output_type": "stream",
     "text": [
      "Prediction Progress: 1000it [00:00, 7538.90it/s]          \n"
     ]
    },
    {
     "name": "stdout",
     "output_type": "stream",
     "text": [
      "Predicting topics... (Estimated time: 2.00 seconds)\n"
     ]
    },
    {
     "name": "stderr",
     "output_type": "stream",
     "text": [
      "Prediction Progress: 1000it [00:00, 17905.09it/s]         \n"
     ]
    },
    {
     "name": "stdout",
     "output_type": "stream",
     "text": [
      "Predicting topics... (Estimated time: 2.00 seconds)\n"
     ]
    },
    {
     "name": "stderr",
     "output_type": "stream",
     "text": [
      "Prediction Progress: 1000it [00:00, 15425.96it/s]         \n"
     ]
    },
    {
     "name": "stdout",
     "output_type": "stream",
     "text": [
      "Predicting topics... (Estimated time: 2.00 seconds)\n"
     ]
    },
    {
     "name": "stderr",
     "output_type": "stream",
     "text": [
      "Prediction Progress: 1000it [00:00, 12227.08it/s]         \n"
     ]
    },
    {
     "name": "stdout",
     "output_type": "stream",
     "text": [
      "Predicting topics... (Estimated time: 2.00 seconds)\n"
     ]
    },
    {
     "name": "stderr",
     "output_type": "stream",
     "text": [
      "Prediction Progress: 1000it [00:00, 12080.37it/s]         \n"
     ]
    },
    {
     "name": "stdout",
     "output_type": "stream",
     "text": [
      "Predicting topics... (Estimated time: 2.00 seconds)\n"
     ]
    },
    {
     "name": "stderr",
     "output_type": "stream",
     "text": [
      "Prediction Progress: 1000it [00:00, 16428.54it/s]         \n"
     ]
    },
    {
     "name": "stdout",
     "output_type": "stream",
     "text": [
      "Predicting topics... (Estimated time: 2.00 seconds)\n"
     ]
    },
    {
     "name": "stderr",
     "output_type": "stream",
     "text": [
      "Prediction Progress: 1000it [00:00, 26385.41it/s]         \n"
     ]
    },
    {
     "name": "stdout",
     "output_type": "stream",
     "text": [
      "Predicting topics... (Estimated time: 2.00 seconds)\n"
     ]
    },
    {
     "name": "stderr",
     "output_type": "stream",
     "text": [
      "Prediction Progress: 1000it [00:00, 20888.90it/s]         \n"
     ]
    },
    {
     "name": "stdout",
     "output_type": "stream",
     "text": [
      "Predicting topics... (Estimated time: 2.00 seconds)\n"
     ]
    },
    {
     "name": "stderr",
     "output_type": "stream",
     "text": [
      "Prediction Progress: 1000it [00:00, 21797.08it/s]         \n"
     ]
    },
    {
     "name": "stdout",
     "output_type": "stream",
     "text": [
      "Predicting topics... (Estimated time: 2.00 seconds)\n"
     ]
    },
    {
     "name": "stderr",
     "output_type": "stream",
     "text": [
      "Prediction Progress: 1000it [00:00, 22281.45it/s]         \n"
     ]
    },
    {
     "name": "stdout",
     "output_type": "stream",
     "text": [
      "Predicting topics... (Estimated time: 2.00 seconds)\n"
     ]
    },
    {
     "name": "stderr",
     "output_type": "stream",
     "text": [
      "Prediction Progress: 1000it [00:00, 18918.66it/s]         \n"
     ]
    },
    {
     "name": "stdout",
     "output_type": "stream",
     "text": [
      "Predicting topics... (Estimated time: 2.00 seconds)\n"
     ]
    },
    {
     "name": "stderr",
     "output_type": "stream",
     "text": [
      "Prediction Progress: 1000it [00:00, 21797.08it/s]         \n"
     ]
    },
    {
     "name": "stdout",
     "output_type": "stream",
     "text": [
      "Predicting topics... (Estimated time: 2.00 seconds)\n"
     ]
    },
    {
     "name": "stderr",
     "output_type": "stream",
     "text": [
      "Prediction Progress: 1000it [00:00, 15906.92it/s]         \n"
     ]
    },
    {
     "name": "stdout",
     "output_type": "stream",
     "text": [
      "Predicting topics... (Estimated time: 2.00 seconds)\n"
     ]
    },
    {
     "name": "stderr",
     "output_type": "stream",
     "text": [
      "Prediction Progress: 1000it [00:00, 22786.96it/s]         \n"
     ]
    },
    {
     "name": "stdout",
     "output_type": "stream",
     "text": [
      "Predicting topics... (Estimated time: 2.00 seconds)\n"
     ]
    },
    {
     "name": "stderr",
     "output_type": "stream",
     "text": [
      "Prediction Progress: 1000it [00:00, 18568.73it/s]         \n"
     ]
    },
    {
     "name": "stdout",
     "output_type": "stream",
     "text": [
      "Predicting topics... (Estimated time: 2.00 seconds)\n"
     ]
    },
    {
     "name": "stderr",
     "output_type": "stream",
     "text": [
      "Prediction Progress: 1000it [00:00, 20888.18it/s]         \n"
     ]
    },
    {
     "name": "stdout",
     "output_type": "stream",
     "text": [
      "Predicting topics... (Estimated time: 2.00 seconds)\n"
     ]
    },
    {
     "name": "stderr",
     "output_type": "stream",
     "text": [
      "Prediction Progress: 1000it [00:00, 17904.94it/s]         \n"
     ]
    },
    {
     "name": "stdout",
     "output_type": "stream",
     "text": [
      "Predicting topics... (Estimated time: 2.00 seconds)\n"
     ]
    },
    {
     "name": "stderr",
     "output_type": "stream",
     "text": [
      "Prediction Progress: 1000it [00:00, 16437.29it/s]         \n"
     ]
    },
    {
     "name": "stdout",
     "output_type": "stream",
     "text": [
      "Predicting topics... (Estimated time: 2.00 seconds)\n"
     ]
    },
    {
     "name": "stderr",
     "output_type": "stream",
     "text": [
      "Prediction Progress: 1000it [00:00, 14524.42it/s]         \n"
     ]
    },
    {
     "name": "stdout",
     "output_type": "stream",
     "text": [
      "Predicting topics... (Estimated time: 2.00 seconds)\n"
     ]
    },
    {
     "name": "stderr",
     "output_type": "stream",
     "text": [
      "Prediction Progress: 1000it [00:00, 23874.14it/s]         \n"
     ]
    },
    {
     "name": "stdout",
     "output_type": "stream",
     "text": [
      "Predicting topics... (Estimated time: 2.00 seconds)\n"
     ]
    },
    {
     "name": "stderr",
     "output_type": "stream",
     "text": [
      "Prediction Progress: 1000it [00:00, 24456.30it/s]         \n"
     ]
    },
    {
     "name": "stdout",
     "output_type": "stream",
     "text": [
      "Predicting topics... (Estimated time: 2.00 seconds)\n"
     ]
    },
    {
     "name": "stderr",
     "output_type": "stream",
     "text": [
      "Prediction Progress: 1000it [00:00, 19269.01it/s]         \n"
     ]
    },
    {
     "name": "stdout",
     "output_type": "stream",
     "text": [
      "Predicting topics... (Estimated time: 2.00 seconds)\n"
     ]
    },
    {
     "name": "stderr",
     "output_type": "stream",
     "text": [
      "Prediction Progress: 1000it [00:00, 23317.88it/s]         \n"
     ]
    },
    {
     "name": "stdout",
     "output_type": "stream",
     "text": [
      "Predicting topics... (Estimated time: 2.00 seconds)\n"
     ]
    },
    {
     "name": "stderr",
     "output_type": "stream",
     "text": [
      "Prediction Progress: 1000it [00:00, 17590.75it/s]         \n"
     ]
    },
    {
     "name": "stdout",
     "output_type": "stream",
     "text": [
      "Predicting topics... (Estimated time: 2.00 seconds)\n"
     ]
    },
    {
     "name": "stderr",
     "output_type": "stream",
     "text": [
      "Prediction Progress: 1000it [00:00, 6914.94it/s]          \n"
     ]
    },
    {
     "name": "stdout",
     "output_type": "stream",
     "text": [
      "Predicting topics... (Estimated time: 2.00 seconds)\n"
     ]
    },
    {
     "name": "stderr",
     "output_type": "stream",
     "text": [
      "Prediction Progress: 1000it [00:00, 21797.42it/s]         \n"
     ]
    },
    {
     "name": "stdout",
     "output_type": "stream",
     "text": [
      "Predicting topics... (Estimated time: 2.00 seconds)\n"
     ]
    },
    {
     "name": "stderr",
     "output_type": "stream",
     "text": [
      "Prediction Progress: 1000it [00:00, 15667.05it/s]         \n"
     ]
    },
    {
     "name": "stdout",
     "output_type": "stream",
     "text": [
      "Predicting topics... (Estimated time: 2.00 seconds)\n"
     ]
    },
    {
     "name": "stderr",
     "output_type": "stream",
     "text": [
      "Prediction Progress: 1000it [00:00, 16171.93it/s]         \n"
     ]
    },
    {
     "name": "stdout",
     "output_type": "stream",
     "text": [
      "Predicting topics... (Estimated time: 2.00 seconds)\n"
     ]
    },
    {
     "name": "stderr",
     "output_type": "stream",
     "text": [
      "Prediction Progress: 1000it [00:00, 6915.02it/s]          \n"
     ]
    },
    {
     "name": "stdout",
     "output_type": "stream",
     "text": [
      "Predicting topics... (Estimated time: 2.00 seconds)\n"
     ]
    },
    {
     "name": "stderr",
     "output_type": "stream",
     "text": [
      "Prediction Progress: 1000it [00:00, 20889.63it/s]         \n"
     ]
    },
    {
     "name": "stdout",
     "output_type": "stream",
     "text": [
      "Predicting topics... (Estimated time: 2.00 seconds)\n"
     ]
    },
    {
     "name": "stderr",
     "output_type": "stream",
     "text": [
      "Prediction Progress: 1000it [00:00, 20456.83it/s]         \n"
     ]
    },
    {
     "name": "stdout",
     "output_type": "stream",
     "text": [
      "Predicting topics... (Estimated time: 2.00 seconds)\n"
     ]
    },
    {
     "name": "stderr",
     "output_type": "stream",
     "text": [
      "Prediction Progress: 1000it [00:00, 18918.74it/s]         \n"
     ]
    },
    {
     "name": "stdout",
     "output_type": "stream",
     "text": [
      "Predicting topics... (Estimated time: 2.00 seconds)\n"
     ]
    },
    {
     "name": "stderr",
     "output_type": "stream",
     "text": [
      "Prediction Progress: 1000it [00:00, 21334.64it/s]         \n"
     ]
    },
    {
     "name": "stdout",
     "output_type": "stream",
     "text": [
      "Predicting topics... (Estimated time: 2.00 seconds)\n"
     ]
    },
    {
     "name": "stderr",
     "output_type": "stream",
     "text": [
      "Prediction Progress: 1000it [00:00, 23871.69it/s]         \n"
     ]
    },
    {
     "name": "stdout",
     "output_type": "stream",
     "text": [
      "Predicting topics... (Estimated time: 2.00 seconds)\n"
     ]
    },
    {
     "name": "stderr",
     "output_type": "stream",
     "text": [
      "Prediction Progress: 1000it [00:00, 21795.84it/s]         \n"
     ]
    },
    {
     "name": "stdout",
     "output_type": "stream",
     "text": [
      "Predicting topics... (Estimated time: 2.00 seconds)\n"
     ]
    },
    {
     "name": "stderr",
     "output_type": "stream",
     "text": [
      "Prediction Progress: 1000it [00:00, 21798.78it/s]         \n"
     ]
    },
    {
     "name": "stdout",
     "output_type": "stream",
     "text": [
      "Predicting topics... (Estimated time: 2.00 seconds)\n"
     ]
    },
    {
     "name": "stderr",
     "output_type": "stream",
     "text": [
      "Prediction Progress: 1000it [00:00, 21332.47it/s]         \n"
     ]
    },
    {
     "name": "stdout",
     "output_type": "stream",
     "text": [
      "Predicting topics... (Estimated time: 2.00 seconds)\n"
     ]
    },
    {
     "name": "stderr",
     "output_type": "stream",
     "text": [
      "Prediction Progress: 1000it [00:00, 20889.84it/s]         \n"
     ]
    },
    {
     "name": "stdout",
     "output_type": "stream",
     "text": [
      "Predicting topics... (Estimated time: 2.00 seconds)\n"
     ]
    },
    {
     "name": "stderr",
     "output_type": "stream",
     "text": [
      "Prediction Progress: 1000it [00:00, 22790.30it/s]         \n"
     ]
    },
    {
     "name": "stdout",
     "output_type": "stream",
     "text": [
      "Predicting topics... (Estimated time: 2.00 seconds)\n"
     ]
    },
    {
     "name": "stderr",
     "output_type": "stream",
     "text": [
      "Prediction Progress: 1000it [00:00, 10554.66it/s]         \n"
     ]
    },
    {
     "name": "stdout",
     "output_type": "stream",
     "text": [
      "Predicting topics... (Estimated time: 2.00 seconds)\n"
     ]
    },
    {
     "name": "stderr",
     "output_type": "stream",
     "text": [
      "Prediction Progress: 1000it [00:00, 6227.79it/s]          \n"
     ]
    },
    {
     "name": "stdout",
     "output_type": "stream",
     "text": [
      "Predicting topics... (Estimated time: 2.00 seconds)\n"
     ]
    },
    {
     "name": "stderr",
     "output_type": "stream",
     "text": [
      "Prediction Progress: 1000it [00:00, 21797.42it/s]         \n"
     ]
    },
    {
     "name": "stdout",
     "output_type": "stream",
     "text": [
      "Predicting topics... (Estimated time: 2.00 seconds)\n"
     ]
    },
    {
     "name": "stderr",
     "output_type": "stream",
     "text": [
      "Prediction Progress: 1000it [00:00, 20888.90it/s]         \n"
     ]
    },
    {
     "name": "stdout",
     "output_type": "stream",
     "text": [
      "Predicting topics... (Estimated time: 2.00 seconds)\n"
     ]
    },
    {
     "name": "stderr",
     "output_type": "stream",
     "text": [
      "Prediction Progress: 1000it [00:00, 7060.99it/s]          \n"
     ]
    },
    {
     "name": "stdout",
     "output_type": "stream",
     "text": [
      "Predicting topics... (Estimated time: 2.00 seconds)\n"
     ]
    },
    {
     "name": "stderr",
     "output_type": "stream",
     "text": [
      "Prediction Progress: 1000it [00:00, 19282.47it/s]         \n"
     ]
    },
    {
     "name": "stdout",
     "output_type": "stream",
     "text": [
      "Predicting topics... (Estimated time: 2.00 seconds)\n"
     ]
    },
    {
     "name": "stderr",
     "output_type": "stream",
     "text": [
      "Prediction Progress: 1000it [00:00, 18917.38it/s]         \n"
     ]
    },
    {
     "name": "stdout",
     "output_type": "stream",
     "text": [
      "Predicting topics... (Estimated time: 2.00 seconds)\n"
     ]
    },
    {
     "name": "stderr",
     "output_type": "stream",
     "text": [
      "Prediction Progress: 1000it [00:00, 16437.10it/s]         \n"
     ]
    },
    {
     "name": "stdout",
     "output_type": "stream",
     "text": [
      "Predicting topics... (Estimated time: 2.00 seconds)\n"
     ]
    },
    {
     "name": "stderr",
     "output_type": "stream",
     "text": [
      "Prediction Progress: 1000it [00:00, 19659.91it/s]         \n"
     ]
    },
    {
     "name": "stdout",
     "output_type": "stream",
     "text": [
      "Predicting topics... (Estimated time: 2.00 seconds)\n"
     ]
    },
    {
     "name": "stderr",
     "output_type": "stream",
     "text": [
      "Prediction Progress: 1000it [00:00, 11524.74it/s]         \n"
     ]
    },
    {
     "name": "stdout",
     "output_type": "stream",
     "text": [
      "Predicting topics... (Estimated time: 2.00 seconds)\n"
     ]
    },
    {
     "name": "stderr",
     "output_type": "stream",
     "text": [
      "Prediction Progress: 1000it [00:00, 22281.45it/s]         \n"
     ]
    },
    {
     "name": "stdout",
     "output_type": "stream",
     "text": [
      "Predicting topics... (Estimated time: 2.00 seconds)\n"
     ]
    },
    {
     "name": "stderr",
     "output_type": "stream",
     "text": [
      "Prediction Progress: 1000it [00:00, 16711.31it/s]         \n"
     ]
    },
    {
     "name": "stdout",
     "output_type": "stream",
     "text": [
      "Predicting topics... (Estimated time: 2.00 seconds)\n"
     ]
    },
    {
     "name": "stderr",
     "output_type": "stream",
     "text": [
      "Prediction Progress: 1000it [00:00, 6915.03it/s]          \n"
     ]
    },
    {
     "name": "stdout",
     "output_type": "stream",
     "text": [
      "Predicting topics... (Estimated time: 2.00 seconds)\n"
     ]
    },
    {
     "name": "stderr",
     "output_type": "stream",
     "text": [
      "Prediction Progress: 1000it [00:00, 23314.77it/s]         \n"
     ]
    },
    {
     "name": "stdout",
     "output_type": "stream",
     "text": [
      "Predicting topics... (Estimated time: 2.00 seconds)\n"
     ]
    },
    {
     "name": "stderr",
     "output_type": "stream",
     "text": [
      "Prediction Progress: 1000it [00:00, 11017.98it/s]         \n"
     ]
    },
    {
     "name": "stdout",
     "output_type": "stream",
     "text": [
      "Predicting topics... (Estimated time: 2.00 seconds)\n"
     ]
    },
    {
     "name": "stderr",
     "output_type": "stream",
     "text": [
      "Prediction Progress: 1000it [00:00, 20889.11it/s]         \n"
     ]
    },
    {
     "name": "stdout",
     "output_type": "stream",
     "text": [
      "Predicting topics... (Estimated time: 2.00 seconds)\n"
     ]
    },
    {
     "name": "stderr",
     "output_type": "stream",
     "text": [
      "Prediction Progress: 1000it [00:00, 21797.08it/s]         \n"
     ]
    },
    {
     "name": "stdout",
     "output_type": "stream",
     "text": [
      "Predicting topics... (Estimated time: 2.00 seconds)\n"
     ]
    },
    {
     "name": "stderr",
     "output_type": "stream",
     "text": [
      "Prediction Progress: 1000it [00:00, 24454.87it/s]         \n"
     ]
    },
    {
     "name": "stdout",
     "output_type": "stream",
     "text": [
      "Predicting topics... (Estimated time: 2.00 seconds)\n"
     ]
    },
    {
     "name": "stderr",
     "output_type": "stream",
     "text": [
      "Prediction Progress: 1000it [00:00, 16172.24it/s]         \n"
     ]
    },
    {
     "name": "stdout",
     "output_type": "stream",
     "text": [
      "Predicting topics... (Estimated time: 2.00 seconds)\n"
     ]
    },
    {
     "name": "stderr",
     "output_type": "stream",
     "text": [
      "Prediction Progress: 1000it [00:00, 19660.46it/s]         \n"
     ]
    },
    {
     "name": "stdout",
     "output_type": "stream",
     "text": [
      "Predicting topics... (Estimated time: 2.00 seconds)\n"
     ]
    },
    {
     "name": "stderr",
     "output_type": "stream",
     "text": [
      "Prediction Progress: 1000it [00:00, 20462.71it/s]         \n"
     ]
    },
    {
     "name": "stdout",
     "output_type": "stream",
     "text": [
      "Predicting topics... (Estimated time: 2.00 seconds)\n"
     ]
    },
    {
     "name": "stderr",
     "output_type": "stream",
     "text": [
      "Prediction Progress: 1000it [00:00, 16172.18it/s]         \n"
     ]
    },
    {
     "name": "stdout",
     "output_type": "stream",
     "text": [
      "Predicting topics... (Estimated time: 2.00 seconds)\n"
     ]
    },
    {
     "name": "stderr",
     "output_type": "stream",
     "text": [
      "Prediction Progress: 1000it [00:00, 10231.31it/s]         \n"
     ]
    },
    {
     "name": "stdout",
     "output_type": "stream",
     "text": [
      "Predicting topics... (Estimated time: 2.00 seconds)\n"
     ]
    },
    {
     "name": "stderr",
     "output_type": "stream",
     "text": [
      "Prediction Progress: 1000it [00:00, 19282.21it/s]         \n"
     ]
    },
    {
     "name": "stdout",
     "output_type": "stream",
     "text": [
      "Predicting topics... (Estimated time: 2.00 seconds)\n"
     ]
    },
    {
     "name": "stderr",
     "output_type": "stream",
     "text": [
      "Prediction Progress: 1000it [00:00, 20461.72it/s]         \n"
     ]
    },
    {
     "name": "stdout",
     "output_type": "stream",
     "text": [
      "Predicting topics... (Estimated time: 2.00 seconds)\n"
     ]
    },
    {
     "name": "stderr",
     "output_type": "stream",
     "text": [
      "Prediction Progress: 1000it [00:00, 11266.02it/s]         \n"
     ]
    },
    {
     "name": "stdout",
     "output_type": "stream",
     "text": [
      "Predicting topics... (Estimated time: 2.00 seconds)\n"
     ]
    },
    {
     "name": "stderr",
     "output_type": "stream",
     "text": [
      "Prediction Progress: 1000it [00:00, 13021.66it/s]         \n"
     ]
    },
    {
     "name": "stdout",
     "output_type": "stream",
     "text": [
      "Predicting topics... (Estimated time: 2.00 seconds)\n"
     ]
    },
    {
     "name": "stderr",
     "output_type": "stream",
     "text": [
      "Prediction Progress: 1000it [00:00, 21797.31it/s]         \n"
     ]
    },
    {
     "name": "stdout",
     "output_type": "stream",
     "text": [
      "Predicting topics... (Estimated time: 2.00 seconds)\n"
     ]
    },
    {
     "name": "stderr",
     "output_type": "stream",
     "text": [
      "Prediction Progress: 1000it [00:00, 23317.49it/s]         \n"
     ]
    },
    {
     "name": "stdout",
     "output_type": "stream",
     "text": [
      "Predicting topics... (Estimated time: 2.00 seconds)\n"
     ]
    },
    {
     "name": "stderr",
     "output_type": "stream",
     "text": [
      "Prediction Progress: 1000it [00:00, 14531.26it/s]         \n"
     ]
    },
    {
     "name": "stdout",
     "output_type": "stream",
     "text": [
      "Predicting topics... (Estimated time: 2.00 seconds)\n"
     ]
    },
    {
     "name": "stderr",
     "output_type": "stream",
     "text": [
      "Prediction Progress: 1000it [00:00, 22281.68it/s]         \n"
     ]
    },
    {
     "name": "stdout",
     "output_type": "stream",
     "text": [
      "Predicting topics... (Estimated time: 2.00 seconds)\n"
     ]
    },
    {
     "name": "stderr",
     "output_type": "stream",
     "text": [
      "Prediction Progress: 1000it [00:00, 13193.12it/s]         \n"
     ]
    },
    {
     "name": "stdout",
     "output_type": "stream",
     "text": [
      "Predicting topics... (Estimated time: 2.00 seconds)\n"
     ]
    },
    {
     "name": "stderr",
     "output_type": "stream",
     "text": [
      "Prediction Progress: 1000it [00:00, 14531.67it/s]         \n"
     ]
    },
    {
     "name": "stdout",
     "output_type": "stream",
     "text": [
      "Predicting topics... (Estimated time: 2.00 seconds)\n"
     ]
    },
    {
     "name": "stderr",
     "output_type": "stream",
     "text": [
      "Prediction Progress: 1000it [00:00, 23317.49it/s]         \n"
     ]
    },
    {
     "name": "stdout",
     "output_type": "stream",
     "text": [
      "Predicting topics... (Estimated time: 2.00 seconds)\n"
     ]
    },
    {
     "name": "stderr",
     "output_type": "stream",
     "text": [
      "Prediction Progress: 1000it [00:00, 20889.01it/s]         \n"
     ]
    },
    {
     "name": "stdout",
     "output_type": "stream",
     "text": [
      "Predicting topics... (Estimated time: 2.00 seconds)\n"
     ]
    },
    {
     "name": "stderr",
     "output_type": "stream",
     "text": [
      "Prediction Progress: 1000it [00:00, 23872.91it/s]         \n"
     ]
    },
    {
     "name": "stdout",
     "output_type": "stream",
     "text": [
      "Predicting topics... (Estimated time: 2.00 seconds)\n"
     ]
    },
    {
     "name": "stderr",
     "output_type": "stream",
     "text": [
      "Prediction Progress: 1000it [00:00, 22281.09it/s]         \n"
     ]
    },
    {
     "name": "stdout",
     "output_type": "stream",
     "text": [
      "Predicting topics... (Estimated time: 2.00 seconds)\n"
     ]
    },
    {
     "name": "stderr",
     "output_type": "stream",
     "text": [
      "Prediction Progress: 1000it [00:00, 18230.00it/s]         \n"
     ]
    },
    {
     "name": "stdout",
     "output_type": "stream",
     "text": [
      "Predicting topics... (Estimated time: 2.00 seconds)\n"
     ]
    },
    {
     "name": "stderr",
     "output_type": "stream",
     "text": [
      "Prediction Progress: 1000it [00:00, 18568.40it/s]         \n"
     ]
    },
    {
     "name": "stdout",
     "output_type": "stream",
     "text": [
      "Predicting topics... (Estimated time: 2.00 seconds)\n"
     ]
    },
    {
     "name": "stderr",
     "output_type": "stream",
     "text": [
      "Prediction Progress: 1000it [00:00, 17905.02it/s]         \n"
     ]
    },
    {
     "name": "stdout",
     "output_type": "stream",
     "text": [
      "Predicting topics... (Estimated time: 2.00 seconds)\n"
     ]
    },
    {
     "name": "stderr",
     "output_type": "stream",
     "text": [
      "Prediction Progress: 1000it [00:00, 20462.61it/s]         \n"
     ]
    },
    {
     "name": "stdout",
     "output_type": "stream",
     "text": [
      "Predicting topics... (Estimated time: 2.00 seconds)\n"
     ]
    },
    {
     "name": "stderr",
     "output_type": "stream",
     "text": [
      "Prediction Progress: 1000it [00:00, 20052.90it/s]         \n"
     ]
    },
    {
     "name": "stdout",
     "output_type": "stream",
     "text": [
      "Predicting topics... (Estimated time: 2.00 seconds)\n"
     ]
    },
    {
     "name": "stderr",
     "output_type": "stream",
     "text": [
      "Prediction Progress: 1000it [00:00, 20462.32it/s]         \n"
     ]
    },
    {
     "name": "stdout",
     "output_type": "stream",
     "text": [
      "Predicting topics... (Estimated time: 2.00 seconds)\n"
     ]
    },
    {
     "name": "stderr",
     "output_type": "stream",
     "text": [
      "Prediction Progress: 1000it [00:00, 8218.55it/s]          \n"
     ]
    },
    {
     "name": "stdout",
     "output_type": "stream",
     "text": [
      "Predicting topics... (Estimated time: 2.00 seconds)\n"
     ]
    },
    {
     "name": "stderr",
     "output_type": "stream",
     "text": [
      "Prediction Progress: 1000it [00:00, 20462.51it/s]         \n"
     ]
    },
    {
     "name": "stdout",
     "output_type": "stream",
     "text": [
      "Predicting topics... (Estimated time: 2.00 seconds)\n"
     ]
    },
    {
     "name": "stderr",
     "output_type": "stream",
     "text": [
      "Prediction Progress: 1000it [00:00, 17590.68it/s]         \n"
     ]
    },
    {
     "name": "stdout",
     "output_type": "stream",
     "text": [
      "Predicting topics... (Estimated time: 2.00 seconds)\n"
     ]
    },
    {
     "name": "stderr",
     "output_type": "stream",
     "text": [
      "Prediction Progress: 1000it [00:00, 11659.14it/s]         \n"
     ]
    },
    {
     "name": "stdout",
     "output_type": "stream",
     "text": [
      "Predicting topics... (Estimated time: 2.00 seconds)\n"
     ]
    },
    {
     "name": "stderr",
     "output_type": "stream",
     "text": [
      "Prediction Progress: 1000it [00:00, 21333.33it/s]         \n"
     ]
    },
    {
     "name": "stdout",
     "output_type": "stream",
     "text": [
      "Predicting topics... (Estimated time: 2.00 seconds)\n"
     ]
    },
    {
     "name": "stderr",
     "output_type": "stream",
     "text": [
      "Prediction Progress: 1000it [00:00, 21333.66it/s]         \n"
     ]
    },
    {
     "name": "stdout",
     "output_type": "stream",
     "text": [
      "Predicting topics... (Estimated time: 2.00 seconds)\n"
     ]
    },
    {
     "name": "stderr",
     "output_type": "stream",
     "text": [
      "Prediction Progress: 1000it [00:00, 18918.40it/s]         \n"
     ]
    },
    {
     "name": "stdout",
     "output_type": "stream",
     "text": [
      "Predicting topics... (Estimated time: 2.00 seconds)\n"
     ]
    },
    {
     "name": "stderr",
     "output_type": "stream",
     "text": [
      "Prediction Progress: 1000it [00:00, 18229.92it/s]         \n"
     ]
    },
    {
     "name": "stdout",
     "output_type": "stream",
     "text": [
      "Predicting topics... (Estimated time: 2.00 seconds)\n"
     ]
    },
    {
     "name": "stderr",
     "output_type": "stream",
     "text": [
      "Prediction Progress: 1000it [00:00, 20462.51it/s]         \n"
     ]
    },
    {
     "name": "stdout",
     "output_type": "stream",
     "text": [
      "Predicting topics... (Estimated time: 2.00 seconds)\n"
     ]
    },
    {
     "name": "stderr",
     "output_type": "stream",
     "text": [
      "Prediction Progress: 1000it [00:00, 17590.83it/s]         \n"
     ]
    },
    {
     "name": "stdout",
     "output_type": "stream",
     "text": [
      "Predicting topics... (Estimated time: 2.00 seconds)\n"
     ]
    },
    {
     "name": "stderr",
     "output_type": "stream",
     "text": [
      "Prediction Progress: 1000it [00:00, 12692.20it/s]         \n"
     ]
    },
    {
     "name": "stdout",
     "output_type": "stream",
     "text": [
      "Predicting topics... (Estimated time: 2.00 seconds)\n"
     ]
    },
    {
     "name": "stderr",
     "output_type": "stream",
     "text": [
      "Prediction Progress: 1000it [00:00, 19659.54it/s]         \n"
     ]
    },
    {
     "name": "stdout",
     "output_type": "stream",
     "text": [
      "Predicting topics... (Estimated time: 2.00 seconds)\n"
     ]
    },
    {
     "name": "stderr",
     "output_type": "stream",
     "text": [
      "Prediction Progress: 1000it [00:00, 17590.68it/s]         \n"
     ]
    },
    {
     "name": "stdout",
     "output_type": "stream",
     "text": [
      "Predicting topics... (Estimated time: 2.00 seconds)\n"
     ]
    },
    {
     "name": "stderr",
     "output_type": "stream",
     "text": [
      "Prediction Progress: 1000it [00:00, 16995.78it/s]         \n"
     ]
    },
    {
     "name": "stdout",
     "output_type": "stream",
     "text": [
      "Predicting topics... (Estimated time: 2.00 seconds)\n"
     ]
    },
    {
     "name": "stderr",
     "output_type": "stream",
     "text": [
      "Prediction Progress: 1000it [00:00, 16711.17it/s]         \n"
     ]
    },
    {
     "name": "stdout",
     "output_type": "stream",
     "text": [
      "Predicting topics... (Estimated time: 2.00 seconds)\n"
     ]
    },
    {
     "name": "stderr",
     "output_type": "stream",
     "text": [
      "Prediction Progress: 1000it [00:00, 17591.34it/s]         \n"
     ]
    },
    {
     "name": "stdout",
     "output_type": "stream",
     "text": [
      "Predicting topics... (Estimated time: 2.00 seconds)\n"
     ]
    },
    {
     "name": "stderr",
     "output_type": "stream",
     "text": [
      "Prediction Progress: 1000it [00:00, 16710.97it/s]         \n"
     ]
    },
    {
     "name": "stdout",
     "output_type": "stream",
     "text": [
      "Predicting topics... (Estimated time: 2.00 seconds)\n"
     ]
    },
    {
     "name": "stderr",
     "output_type": "stream",
     "text": [
      "Prediction Progress: 1000it [00:00, 14745.21it/s]         \n"
     ]
    },
    {
     "name": "stdout",
     "output_type": "stream",
     "text": [
      "Predicting topics... (Estimated time: 2.00 seconds)\n"
     ]
    },
    {
     "name": "stderr",
     "output_type": "stream",
     "text": [
      "Prediction Progress: 1000it [00:00, 18918.06it/s]         \n"
     ]
    },
    {
     "name": "stdout",
     "output_type": "stream",
     "text": [
      "Predicting topics... (Estimated time: 2.00 seconds)\n"
     ]
    },
    {
     "name": "stderr",
     "output_type": "stream",
     "text": [
      "Prediction Progress: 1000it [00:00, 17590.46it/s]         \n"
     ]
    },
    {
     "name": "stdout",
     "output_type": "stream",
     "text": [
      "Predicting topics... (Estimated time: 2.00 seconds)\n"
     ]
    },
    {
     "name": "stderr",
     "output_type": "stream",
     "text": [
      "Prediction Progress: 1000it [00:00, 17590.90it/s]         \n"
     ]
    },
    {
     "name": "stdout",
     "output_type": "stream",
     "text": [
      "Predicting topics... (Estimated time: 2.00 seconds)\n"
     ]
    },
    {
     "name": "stderr",
     "output_type": "stream",
     "text": [
      "Prediction Progress: 1000it [00:00, 21333.55it/s]         \n"
     ]
    },
    {
     "name": "stdout",
     "output_type": "stream",
     "text": [
      "Predicting topics... (Estimated time: 2.00 seconds)\n"
     ]
    },
    {
     "name": "stderr",
     "output_type": "stream",
     "text": [
      "Prediction Progress: 1000it [00:00, 15914.64it/s]         \n"
     ]
    },
    {
     "name": "stdout",
     "output_type": "stream",
     "text": [
      "Predicting topics... (Estimated time: 2.00 seconds)\n"
     ]
    },
    {
     "name": "stderr",
     "output_type": "stream",
     "text": [
      "Prediction Progress: 1000it [00:00, 16172.43it/s]         \n"
     ]
    },
    {
     "name": "stdout",
     "output_type": "stream",
     "text": [
      "Predicting topics... (Estimated time: 2.00 seconds)\n"
     ]
    },
    {
     "name": "stderr",
     "output_type": "stream",
     "text": [
      "Prediction Progress: 1000it [00:00, 17287.69it/s]         \n"
     ]
    },
    {
     "name": "stdout",
     "output_type": "stream",
     "text": [
      "Predicting topics... (Estimated time: 2.00 seconds)\n"
     ]
    },
    {
     "name": "stderr",
     "output_type": "stream",
     "text": [
      "Prediction Progress: 1000it [00:00, 17287.26it/s]         \n"
     ]
    },
    {
     "name": "stdout",
     "output_type": "stream",
     "text": [
      "Predicting topics... (Estimated time: 2.00 seconds)\n"
     ]
    },
    {
     "name": "stderr",
     "output_type": "stream",
     "text": [
      "Prediction Progress: 1000it [00:00, 16172.18it/s]         \n"
     ]
    },
    {
     "name": "stdout",
     "output_type": "stream",
     "text": [
      "Predicting topics... (Estimated time: 2.00 seconds)\n"
     ]
    },
    {
     "name": "stderr",
     "output_type": "stream",
     "text": [
      "Prediction Progress: 1000it [00:00, 18129.93it/s]         \n"
     ]
    },
    {
     "name": "stdout",
     "output_type": "stream",
     "text": [
      "Predicting topics... (Estimated time: 2.00 seconds)\n"
     ]
    },
    {
     "name": "stderr",
     "output_type": "stream",
     "text": [
      "Prediction Progress: 1000it [00:00, 17904.79it/s]         \n"
     ]
    },
    {
     "name": "stdout",
     "output_type": "stream",
     "text": [
      "Predicting topics... (Estimated time: 2.00 seconds)\n"
     ]
    },
    {
     "name": "stderr",
     "output_type": "stream",
     "text": [
      "Prediction Progress: 1000it [00:00, 20889.53it/s]         \n"
     ]
    },
    {
     "name": "stdout",
     "output_type": "stream",
     "text": [
      "Predicting topics... (Estimated time: 2.00 seconds)\n"
     ]
    },
    {
     "name": "stderr",
     "output_type": "stream",
     "text": [
      "Prediction Progress: 1000it [00:00, 7111.15it/s]          \n"
     ]
    },
    {
     "name": "stdout",
     "output_type": "stream",
     "text": [
      "Predicting topics... (Estimated time: 2.00 seconds)\n"
     ]
    },
    {
     "name": "stderr",
     "output_type": "stream",
     "text": [
      "Prediction Progress: 1000it [00:00, 16994.06it/s]         \n"
     ]
    },
    {
     "name": "stdout",
     "output_type": "stream",
     "text": [
      "Predicting topics... (Estimated time: 2.00 seconds)\n"
     ]
    },
    {
     "name": "stderr",
     "output_type": "stream",
     "text": [
      "Prediction Progress: 1000it [00:00, 11140.81it/s]         \n"
     ]
    },
    {
     "name": "stdout",
     "output_type": "stream",
     "text": [
      "Predicting topics... (Estimated time: 2.00 seconds)\n"
     ]
    },
    {
     "name": "stderr",
     "output_type": "stream",
     "text": [
      "Prediction Progress: 1000it [00:00, 17904.56it/s]         \n"
     ]
    },
    {
     "name": "stdout",
     "output_type": "stream",
     "text": [
      "Predicting topics... (Estimated time: 2.00 seconds)\n"
     ]
    },
    {
     "name": "stderr",
     "output_type": "stream",
     "text": [
      "Prediction Progress: 1000it [00:00, 16711.64it/s]         \n"
     ]
    },
    {
     "name": "stdout",
     "output_type": "stream",
     "text": [
      "Predicting topics... (Estimated time: 2.00 seconds)\n"
     ]
    },
    {
     "name": "stderr",
     "output_type": "stream",
     "text": [
      "Prediction Progress: 1000it [00:00, 14323.88it/s]         \n"
     ]
    },
    {
     "name": "stdout",
     "output_type": "stream",
     "text": [
      "Predicting topics... (Estimated time: 2.00 seconds)\n"
     ]
    },
    {
     "name": "stderr",
     "output_type": "stream",
     "text": [
      "Prediction Progress: 1000it [00:00, 16711.11it/s]         \n"
     ]
    },
    {
     "name": "stdout",
     "output_type": "stream",
     "text": [
      "Predicting topics... (Estimated time: 2.00 seconds)\n"
     ]
    },
    {
     "name": "stderr",
     "output_type": "stream",
     "text": [
      "Prediction Progress: 1000it [00:00, 19280.08it/s]         \n"
     ]
    },
    {
     "name": "stdout",
     "output_type": "stream",
     "text": [
      "Predicting topics... (Estimated time: 2.00 seconds)\n"
     ]
    },
    {
     "name": "stderr",
     "output_type": "stream",
     "text": [
      "Prediction Progress: 1000it [00:00, 7772.74it/s]          \n"
     ]
    },
    {
     "name": "stdout",
     "output_type": "stream",
     "text": [
      "Predicting topics... (Estimated time: 2.00 seconds)\n"
     ]
    },
    {
     "name": "stderr",
     "output_type": "stream",
     "text": [
      "Prediction Progress: 1000it [00:00, 15667.05it/s]         \n"
     ]
    },
    {
     "name": "stdout",
     "output_type": "stream",
     "text": [
      "Predicting topics... (Estimated time: 2.00 seconds)\n"
     ]
    },
    {
     "name": "stderr",
     "output_type": "stream",
     "text": [
      "Prediction Progress: 1000it [00:00, 18567.90it/s]         \n"
     ]
    },
    {
     "name": "stdout",
     "output_type": "stream",
     "text": [
      "Predicting topics... (Estimated time: 2.00 seconds)\n"
     ]
    },
    {
     "name": "stderr",
     "output_type": "stream",
     "text": [
      "Prediction Progress: 1000it [00:00, 18230.71it/s]         \n"
     ]
    },
    {
     "name": "stdout",
     "output_type": "stream",
     "text": [
      "Predicting topics... (Estimated time: 2.00 seconds)\n"
     ]
    },
    {
     "name": "stderr",
     "output_type": "stream",
     "text": [
      "Prediction Progress: 1000it [00:00, 18918.23it/s]         \n"
     ]
    },
    {
     "name": "stdout",
     "output_type": "stream",
     "text": [
      "Predicting topics... (Estimated time: 2.00 seconds)\n"
     ]
    },
    {
     "name": "stderr",
     "output_type": "stream",
     "text": [
      "Prediction Progress: 1000it [00:00, 8569.81it/s]          \n"
     ]
    },
    {
     "name": "stdout",
     "output_type": "stream",
     "text": [
      "Predicting topics... (Estimated time: 2.00 seconds)\n"
     ]
    },
    {
     "name": "stderr",
     "output_type": "stream",
     "text": [
      "Prediction Progress: 1000it [00:00, 16172.24it/s]         \n"
     ]
    },
    {
     "name": "stdout",
     "output_type": "stream",
     "text": [
      "Predicting topics... (Estimated time: 2.00 seconds)\n"
     ]
    },
    {
     "name": "stderr",
     "output_type": "stream",
     "text": [
      "Prediction Progress: 1000it [00:00, 18230.08it/s]         \n"
     ]
    },
    {
     "name": "stdout",
     "output_type": "stream",
     "text": [
      "Predicting topics... (Estimated time: 2.00 seconds)\n"
     ]
    },
    {
     "name": "stderr",
     "output_type": "stream",
     "text": [
      "Prediction Progress: 1000it [00:00, 8873.21it/s]          \n"
     ]
    },
    {
     "name": "stdout",
     "output_type": "stream",
     "text": [
      "Predicting topics... (Estimated time: 2.00 seconds)\n"
     ]
    },
    {
     "name": "stderr",
     "output_type": "stream",
     "text": [
      "Prediction Progress: 1000it [00:00, 9033.18it/s]          \n"
     ]
    },
    {
     "name": "stdout",
     "output_type": "stream",
     "text": [
      "Predicting topics... (Estimated time: 2.00 seconds)\n"
     ]
    },
    {
     "name": "stderr",
     "output_type": "stream",
     "text": [
      "Prediction Progress: 1000it [00:00, 18568.15it/s]         \n"
     ]
    },
    {
     "name": "stdout",
     "output_type": "stream",
     "text": [
      "Predicting topics... (Estimated time: 2.00 seconds)\n"
     ]
    },
    {
     "name": "stderr",
     "output_type": "stream",
     "text": [
      "Prediction Progress: 1000it [00:00, 20053.57it/s]         \n"
     ]
    },
    {
     "name": "stdout",
     "output_type": "stream",
     "text": [
      "Predicting topics... (Estimated time: 2.00 seconds)\n"
     ]
    },
    {
     "name": "stderr",
     "output_type": "stream",
     "text": [
      "Prediction Progress: 1000it [00:00, 18569.71it/s]         \n"
     ]
    },
    {
     "name": "stdout",
     "output_type": "stream",
     "text": [
      "Predicting topics... (Estimated time: 2.00 seconds)\n"
     ]
    },
    {
     "name": "stderr",
     "output_type": "stream",
     "text": [
      "Prediction Progress: 1000it [00:00, 20053.66it/s]         \n"
     ]
    },
    {
     "name": "stdout",
     "output_type": "stream",
     "text": [
      "Predicting topics... (Estimated time: 2.00 seconds)\n"
     ]
    },
    {
     "name": "stderr",
     "output_type": "stream",
     "text": [
      "Prediction Progress: 1000it [00:00, 13926.05it/s]         \n"
     ]
    },
    {
     "name": "stdout",
     "output_type": "stream",
     "text": [
      "Predicting topics... (Estimated time: 2.00 seconds)\n"
     ]
    },
    {
     "name": "stderr",
     "output_type": "stream",
     "text": [
      "Prediction Progress: 1000it [00:00, 20053.57it/s]         \n"
     ]
    },
    {
     "name": "stdout",
     "output_type": "stream",
     "text": [
      "Predicting topics... (Estimated time: 2.00 seconds)\n"
     ]
    },
    {
     "name": "stderr",
     "output_type": "stream",
     "text": [
      "Prediction Progress: 1000it [00:00, 22282.16it/s]         \n"
     ]
    },
    {
     "name": "stdout",
     "output_type": "stream",
     "text": [
      "Predicting topics... (Estimated time: 2.00 seconds)\n"
     ]
    },
    {
     "name": "stderr",
     "output_type": "stream",
     "text": [
      "Prediction Progress: 1000it [00:00, 16436.97it/s]         \n"
     ]
    },
    {
     "name": "stdout",
     "output_type": "stream",
     "text": [
      "Predicting topics... (Estimated time: 2.00 seconds)\n"
     ]
    },
    {
     "name": "stderr",
     "output_type": "stream",
     "text": [
      "Prediction Progress: 1000it [00:00, 18568.56it/s]         \n"
     ]
    },
    {
     "name": "stdout",
     "output_type": "stream",
     "text": [
      "Predicting topics... (Estimated time: 2.00 seconds)\n"
     ]
    },
    {
     "name": "stderr",
     "output_type": "stream",
     "text": [
      "Prediction Progress: 1000it [00:00, 20462.51it/s]         \n"
     ]
    },
    {
     "name": "stdout",
     "output_type": "stream",
     "text": [
      "Predicting topics... (Estimated time: 2.00 seconds)\n"
     ]
    },
    {
     "name": "stderr",
     "output_type": "stream",
     "text": [
      "Prediction Progress: 1000it [00:00, 18568.23it/s]         \n"
     ]
    },
    {
     "name": "stdout",
     "output_type": "stream",
     "text": [
      "Predicting topics... (Estimated time: 2.00 seconds)\n"
     ]
    },
    {
     "name": "stderr",
     "output_type": "stream",
     "text": [
      "Prediction Progress: 1000it [00:00, 17904.79it/s]         \n"
     ]
    },
    {
     "name": "stdout",
     "output_type": "stream",
     "text": [
      "Predicting topics... (Estimated time: 2.00 seconds)\n"
     ]
    },
    {
     "name": "stderr",
     "output_type": "stream",
     "text": [
      "Prediction Progress: 1000it [00:00, 18568.15it/s]         \n"
     ]
    },
    {
     "name": "stdout",
     "output_type": "stream",
     "text": [
      "Predicting topics... (Estimated time: 2.00 seconds)\n"
     ]
    },
    {
     "name": "stderr",
     "output_type": "stream",
     "text": [
      "Prediction Progress: 1000it [00:00, 18063.01it/s]         \n"
     ]
    },
    {
     "name": "stdout",
     "output_type": "stream",
     "text": [
      "Predicting topics... (Estimated time: 2.00 seconds)\n"
     ]
    },
    {
     "name": "stderr",
     "output_type": "stream",
     "text": [
      "Prediction Progress: 1000it [00:00, 16994.27it/s]         \n"
     ]
    },
    {
     "name": "stdout",
     "output_type": "stream",
     "text": [
      "Predicting topics... (Estimated time: 2.00 seconds)\n"
     ]
    },
    {
     "name": "stderr",
     "output_type": "stream",
     "text": [
      "Prediction Progress: 1000it [00:00, 13926.05it/s]         \n"
     ]
    },
    {
     "name": "stdout",
     "output_type": "stream",
     "text": [
      "Predicting topics... (Estimated time: 2.00 seconds)\n"
     ]
    },
    {
     "name": "stderr",
     "output_type": "stream",
     "text": [
      "Prediction Progress: 1000it [00:00, 14323.88it/s]         \n"
     ]
    },
    {
     "name": "stdout",
     "output_type": "stream",
     "text": [
      "Predicting topics... (Estimated time: 2.00 seconds)\n"
     ]
    },
    {
     "name": "stderr",
     "output_type": "stream",
     "text": [
      "Prediction Progress: 1000it [00:00, 18567.74it/s]         \n"
     ]
    },
    {
     "name": "stdout",
     "output_type": "stream",
     "text": [
      "Predicting topics... (Estimated time: 2.00 seconds)\n"
     ]
    },
    {
     "name": "stderr",
     "output_type": "stream",
     "text": [
      "Prediction Progress: 1000it [00:00, 16711.17it/s]         \n"
     ]
    },
    {
     "name": "stdout",
     "output_type": "stream",
     "text": [
      "Predicting topics... (Estimated time: 2.00 seconds)\n"
     ]
    },
    {
     "name": "stderr",
     "output_type": "stream",
     "text": [
      "Prediction Progress: 1000it [00:00, 16436.78it/s]         \n"
     ]
    },
    {
     "name": "stdout",
     "output_type": "stream",
     "text": [
      "Predicting topics... (Estimated time: 2.00 seconds)\n"
     ]
    },
    {
     "name": "stderr",
     "output_type": "stream",
     "text": [
      "Prediction Progress: 1000it [00:00, 7772.66it/s]          \n"
     ]
    },
    {
     "name": "stdout",
     "output_type": "stream",
     "text": [
      "Predicting topics... (Estimated time: 2.00 seconds)\n"
     ]
    },
    {
     "name": "stderr",
     "output_type": "stream",
     "text": [
      "Prediction Progress: 1000it [00:00, 20462.32it/s]         \n"
     ]
    },
    {
     "name": "stdout",
     "output_type": "stream",
     "text": [
      "Predicting topics... (Estimated time: 2.00 seconds)\n"
     ]
    },
    {
     "name": "stderr",
     "output_type": "stream",
     "text": [
      "Prediction Progress: 1000it [00:00, 14531.36it/s]         \n"
     ]
    },
    {
     "name": "stdout",
     "output_type": "stream",
     "text": [
      "Predicting topics... (Estimated time: 2.00 seconds)\n"
     ]
    },
    {
     "name": "stderr",
     "output_type": "stream",
     "text": [
      "Prediction Progress: 1000it [00:00, 15425.74it/s]         \n"
     ]
    },
    {
     "name": "stdout",
     "output_type": "stream",
     "text": [
      "Predicting topics... (Estimated time: 2.00 seconds)\n"
     ]
    },
    {
     "name": "stderr",
     "output_type": "stream",
     "text": [
      "Prediction Progress: 1000it [00:00, 9734.61it/s]          \n"
     ]
    },
    {
     "name": "stdout",
     "output_type": "stream",
     "text": [
      "Predicting topics... (Estimated time: 2.00 seconds)\n"
     ]
    },
    {
     "name": "stderr",
     "output_type": "stream",
     "text": [
      "Prediction Progress: 1000it [00:00, 15191.69it/s]         \n"
     ]
    },
    {
     "name": "stdout",
     "output_type": "stream",
     "text": [
      "Predicting topics... (Estimated time: 2.00 seconds)\n"
     ]
    },
    {
     "name": "stderr",
     "output_type": "stream",
     "text": [
      "Prediction Progress: 1000it [00:00, 21333.12it/s]         \n"
     ]
    },
    {
     "name": "stdout",
     "output_type": "stream",
     "text": [
      "Predicting topics... (Estimated time: 2.00 seconds)\n"
     ]
    },
    {
     "name": "stderr",
     "output_type": "stream",
     "text": [
      "Prediction Progress: 1000it [00:00, 16706.91it/s]         \n"
     ]
    },
    {
     "name": "stdout",
     "output_type": "stream",
     "text": [
      "Predicting topics... (Estimated time: 2.00 seconds)\n"
     ]
    },
    {
     "name": "stderr",
     "output_type": "stream",
     "text": [
      "Prediction Progress: 1000it [00:00, 16437.16it/s]         \n"
     ]
    },
    {
     "name": "stdout",
     "output_type": "stream",
     "text": [
      "Predicting topics... (Estimated time: 2.00 seconds)\n"
     ]
    },
    {
     "name": "stderr",
     "output_type": "stream",
     "text": [
      "Prediction Progress: 1000it [00:00, 20889.01it/s]         \n"
     ]
    },
    {
     "name": "stdout",
     "output_type": "stream",
     "text": [
      "Predicting topics... (Estimated time: 2.00 seconds)\n"
     ]
    },
    {
     "name": "stderr",
     "output_type": "stream",
     "text": [
      "Prediction Progress: 1000it [00:00, 20463.01it/s]         \n"
     ]
    },
    {
     "name": "stdout",
     "output_type": "stream",
     "text": [
      "Predicting topics... (Estimated time: 2.00 seconds)\n"
     ]
    },
    {
     "name": "stderr",
     "output_type": "stream",
     "text": [
      "Prediction Progress: 1000it [00:00, 21797.20it/s]         \n"
     ]
    },
    {
     "name": "stdout",
     "output_type": "stream",
     "text": [
      "Predicting topics... (Estimated time: 2.00 seconds)\n"
     ]
    },
    {
     "name": "stderr",
     "output_type": "stream",
     "text": [
      "Prediction Progress: 1000it [00:00, 22787.20it/s]         \n"
     ]
    },
    {
     "name": "stdout",
     "output_type": "stream",
     "text": [
      "Predicting topics... (Estimated time: 2.00 seconds)\n"
     ]
    },
    {
     "name": "stderr",
     "output_type": "stream",
     "text": [
      "Prediction Progress: 1000it [00:00, 18568.15it/s]         \n"
     ]
    },
    {
     "name": "stdout",
     "output_type": "stream",
     "text": [
      "Predicting topics... (Estimated time: 2.00 seconds)\n"
     ]
    },
    {
     "name": "stderr",
     "output_type": "stream",
     "text": [
      "Prediction Progress: 1000it [00:00, 21796.97it/s]         \n"
     ]
    },
    {
     "name": "stdout",
     "output_type": "stream",
     "text": [
      "Predicting topics... (Estimated time: 2.00 seconds)\n"
     ]
    },
    {
     "name": "stderr",
     "output_type": "stream",
     "text": [
      "Prediction Progress: 1000it [00:00, 21797.08it/s]         \n"
     ]
    },
    {
     "name": "stdout",
     "output_type": "stream",
     "text": [
      "Predicting topics... (Estimated time: 2.00 seconds)\n"
     ]
    },
    {
     "name": "stderr",
     "output_type": "stream",
     "text": [
      "Prediction Progress: 1000it [00:00, 21795.84it/s]         \n"
     ]
    },
    {
     "name": "stdout",
     "output_type": "stream",
     "text": [
      "Predicting topics... (Estimated time: 2.00 seconds)\n"
     ]
    },
    {
     "name": "stderr",
     "output_type": "stream",
     "text": [
      "Prediction Progress: 1000it [00:00, 14965.23it/s]         \n"
     ]
    },
    {
     "name": "stdout",
     "output_type": "stream",
     "text": [
      "Predicting topics... (Estimated time: 2.00 seconds)\n"
     ]
    },
    {
     "name": "stderr",
     "output_type": "stream",
     "text": [
      "Prediction Progress: 1000it [00:00, 9641.37it/s]          \n"
     ]
    },
    {
     "name": "stdout",
     "output_type": "stream",
     "text": [
      "Predicting topics... (Estimated time: 2.00 seconds)\n"
     ]
    },
    {
     "name": "stderr",
     "output_type": "stream",
     "text": [
      "Prediction Progress: 1000it [00:00, 19659.36it/s]         \n"
     ]
    },
    {
     "name": "stdout",
     "output_type": "stream",
     "text": [
      "Predicting topics... (Estimated time: 2.00 seconds)\n"
     ]
    },
    {
     "name": "stderr",
     "output_type": "stream",
     "text": [
      "Prediction Progress: 1000it [00:00, 24455.58it/s]         \n"
     ]
    },
    {
     "name": "stdout",
     "output_type": "stream",
     "text": [
      "Predicting topics... (Estimated time: 2.00 seconds)\n"
     ]
    },
    {
     "name": "stderr",
     "output_type": "stream",
     "text": [
      "Prediction Progress: 1000it [00:00, 11936.80it/s]         \n"
     ]
    },
    {
     "name": "stdout",
     "output_type": "stream",
     "text": [
      "Predicting topics... (Estimated time: 2.00 seconds)\n"
     ]
    },
    {
     "name": "stderr",
     "output_type": "stream",
     "text": [
      "Prediction Progress: 1000it [00:00, 18567.82it/s]         \n"
     ]
    },
    {
     "name": "stdout",
     "output_type": "stream",
     "text": [
      "Predicting topics... (Estimated time: 2.00 seconds)\n"
     ]
    },
    {
     "name": "stderr",
     "output_type": "stream",
     "text": [
      "Prediction Progress: 1000it [00:00, 12855.24it/s]         \n"
     ]
    },
    {
     "name": "stdout",
     "output_type": "stream",
     "text": [
      "Predicting topics... (Estimated time: 2.00 seconds)\n"
     ]
    },
    {
     "name": "stderr",
     "output_type": "stream",
     "text": [
      "Prediction Progress: 1000it [00:00, 21333.33it/s]         \n"
     ]
    },
    {
     "name": "stdout",
     "output_type": "stream",
     "text": [
      "Predicting topics... (Estimated time: 2.00 seconds)\n"
     ]
    },
    {
     "name": "stderr",
     "output_type": "stream",
     "text": [
      "Prediction Progress: 1000it [00:00, 21333.55it/s]         \n"
     ]
    },
    {
     "name": "stdout",
     "output_type": "stream",
     "text": [
      "Predicting topics... (Estimated time: 2.00 seconds)\n"
     ]
    },
    {
     "name": "stderr",
     "output_type": "stream",
     "text": [
      "Prediction Progress: 1000it [00:00, 21332.25it/s]         \n"
     ]
    },
    {
     "name": "stdout",
     "output_type": "stream",
     "text": [
      "Predicting topics... (Estimated time: 2.00 seconds)\n"
     ]
    },
    {
     "name": "stderr",
     "output_type": "stream",
     "text": [
      "Prediction Progress: 1000it [00:00, 15666.11it/s]         \n"
     ]
    },
    {
     "name": "stdout",
     "output_type": "stream",
     "text": [
      "Predicting topics... (Estimated time: 2.00 seconds)\n"
     ]
    },
    {
     "name": "stderr",
     "output_type": "stream",
     "text": [
      "Prediction Progress: 1000it [00:00, 23873.59it/s]         \n"
     ]
    },
    {
     "name": "stdout",
     "output_type": "stream",
     "text": [
      "Predicting topics... (Estimated time: 2.00 seconds)\n"
     ]
    },
    {
     "name": "stderr",
     "output_type": "stream",
     "text": [
      "Prediction Progress: 1000it [00:00, 20462.32it/s]         \n"
     ]
    },
    {
     "name": "stdout",
     "output_type": "stream",
     "text": [
      "Predicting topics... (Estimated time: 2.00 seconds)\n"
     ]
    },
    {
     "name": "stderr",
     "output_type": "stream",
     "text": [
      "Prediction Progress: 1000it [00:00, 12691.82it/s]         \n"
     ]
    },
    {
     "name": "stdout",
     "output_type": "stream",
     "text": [
      "Predicting topics... (Estimated time: 2.00 seconds)\n"
     ]
    },
    {
     "name": "stderr",
     "output_type": "stream",
     "text": [
      "Prediction Progress: 1000it [00:00, 23318.01it/s]         \n"
     ]
    },
    {
     "name": "stdout",
     "output_type": "stream",
     "text": [
      "Predicting topics... (Estimated time: 2.00 seconds)\n"
     ]
    },
    {
     "name": "stderr",
     "output_type": "stream",
     "text": [
      "Prediction Progress: 1000it [00:00, 21796.74it/s]         \n"
     ]
    },
    {
     "name": "stdout",
     "output_type": "stream",
     "text": [
      "Predicting topics... (Estimated time: 2.00 seconds)\n"
     ]
    },
    {
     "name": "stderr",
     "output_type": "stream",
     "text": [
      "Prediction Progress: 1000it [00:00, 23317.10it/s]         \n"
     ]
    },
    {
     "name": "stdout",
     "output_type": "stream",
     "text": [
      "Predicting topics... (Estimated time: 2.00 seconds)\n"
     ]
    },
    {
     "name": "stderr",
     "output_type": "stream",
     "text": [
      "Prediction Progress: 1000it [00:00, 23849.84it/s]         \n"
     ]
    },
    {
     "name": "stdout",
     "output_type": "stream",
     "text": [
      "Predicting topics... (Estimated time: 2.00 seconds)\n"
     ]
    },
    {
     "name": "stderr",
     "output_type": "stream",
     "text": [
      "Prediction Progress: 1000it [00:00, 17286.83it/s]         \n"
     ]
    },
    {
     "name": "stdout",
     "output_type": "stream",
     "text": [
      "Predicting topics... (Estimated time: 2.00 seconds)\n"
     ]
    },
    {
     "name": "stderr",
     "output_type": "stream",
     "text": [
      "Prediction Progress: 1000it [00:00, 15184.16it/s]         \n"
     ]
    },
    {
     "name": "stdout",
     "output_type": "stream",
     "text": [
      "Predicting topics... (Estimated time: 2.00 seconds)\n"
     ]
    },
    {
     "name": "stderr",
     "output_type": "stream",
     "text": [
      "Prediction Progress: 1000it [00:00, 22787.95it/s]         \n"
     ]
    },
    {
     "name": "stdout",
     "output_type": "stream",
     "text": [
      "Predicting topics... (Estimated time: 2.00 seconds)\n"
     ]
    },
    {
     "name": "stderr",
     "output_type": "stream",
     "text": [
      "Prediction Progress: 1000it [00:00, 15915.61it/s]         \n"
     ]
    },
    {
     "name": "stdout",
     "output_type": "stream",
     "text": [
      "Predicting topics... (Estimated time: 2.00 seconds)\n"
     ]
    },
    {
     "name": "stderr",
     "output_type": "stream",
     "text": [
      "Prediction Progress: 1000it [00:00, 16711.11it/s]         \n"
     ]
    },
    {
     "name": "stdout",
     "output_type": "stream",
     "text": [
      "Predicting topics... (Estimated time: 2.00 seconds)\n"
     ]
    },
    {
     "name": "stderr",
     "output_type": "stream",
     "text": [
      "Prediction Progress: 1000it [00:00, 14121.95it/s]         \n"
     ]
    },
    {
     "name": "stdout",
     "output_type": "stream",
     "text": [
      "Predicting topics... (Estimated time: 2.00 seconds)\n"
     ]
    },
    {
     "name": "stderr",
     "output_type": "stream",
     "text": [
      "Prediction Progress: 1000it [00:00, 8286.52it/s]          \n"
     ]
    },
    {
     "name": "stdout",
     "output_type": "stream",
     "text": [
      "Predicting topics... (Estimated time: 2.00 seconds)\n"
     ]
    },
    {
     "name": "stderr",
     "output_type": "stream",
     "text": [
      "Prediction Progress: 1000it [00:00, 17904.71it/s]         \n"
     ]
    },
    {
     "name": "stdout",
     "output_type": "stream",
     "text": [
      "Predicting topics... (Estimated time: 2.00 seconds)\n"
     ]
    },
    {
     "name": "stderr",
     "output_type": "stream",
     "text": [
      "Prediction Progress: 1000it [00:00, 17286.83it/s]         \n"
     ]
    },
    {
     "name": "stdout",
     "output_type": "stream",
     "text": [
      "Predicting topics... (Estimated time: 2.00 seconds)\n"
     ]
    },
    {
     "name": "stderr",
     "output_type": "stream",
     "text": [
      "Prediction Progress: 1000it [00:00, 21333.55it/s]         \n"
     ]
    },
    {
     "name": "stdout",
     "output_type": "stream",
     "text": [
      "Predicting topics... (Estimated time: 2.00 seconds)\n"
     ]
    },
    {
     "name": "stderr",
     "output_type": "stream",
     "text": [
      "Prediction Progress: 1000it [00:00, 11018.36it/s]         \n"
     ]
    },
    {
     "name": "stdout",
     "output_type": "stream",
     "text": [
      "Predicting topics... (Estimated time: 2.00 seconds)\n"
     ]
    },
    {
     "name": "stderr",
     "output_type": "stream",
     "text": [
      "Prediction Progress: 1000it [00:00, 14745.26it/s]         \n"
     ]
    },
    {
     "name": "stdout",
     "output_type": "stream",
     "text": [
      "Predicting topics... (Estimated time: 2.00 seconds)\n"
     ]
    },
    {
     "name": "stderr",
     "output_type": "stream",
     "text": [
      "Prediction Progress: 1000it [00:00, 20053.28it/s]         \n"
     ]
    },
    {
     "name": "stdout",
     "output_type": "stream",
     "text": [
      "Predicting topics... (Estimated time: 2.00 seconds)\n"
     ]
    },
    {
     "name": "stderr",
     "output_type": "stream",
     "text": [
      "Prediction Progress: 1000it [00:00, 20052.99it/s]         \n"
     ]
    },
    {
     "name": "stdout",
     "output_type": "stream",
     "text": [
      "Predicting topics... (Estimated time: 2.00 seconds)\n"
     ]
    },
    {
     "name": "stderr",
     "output_type": "stream",
     "text": [
      "Prediction Progress: 1000it [00:00, 6684.50it/s]          \n"
     ]
    },
    {
     "name": "stdout",
     "output_type": "stream",
     "text": [
      "Predicting topics... (Estimated time: 2.00 seconds)\n"
     ]
    },
    {
     "name": "stderr",
     "output_type": "stream",
     "text": [
      "Prediction Progress: 1000it [00:00, 11658.91it/s]         \n"
     ]
    },
    {
     "name": "stdout",
     "output_type": "stream",
     "text": [
      "Predicting topics... (Estimated time: 2.00 seconds)\n"
     ]
    },
    {
     "name": "stderr",
     "output_type": "stream",
     "text": [
      "Prediction Progress: 1000it [00:00, 13735.20it/s]         \n"
     ]
    },
    {
     "name": "stdout",
     "output_type": "stream",
     "text": [
      "Predicting topics... (Estimated time: 2.00 seconds)\n"
     ]
    },
    {
     "name": "stderr",
     "output_type": "stream",
     "text": [
      "Prediction Progress: 1000it [00:00, 17287.62it/s]         \n"
     ]
    },
    {
     "name": "stdout",
     "output_type": "stream",
     "text": [
      "Predicting topics... (Estimated time: 2.00 seconds)\n"
     ]
    },
    {
     "name": "stderr",
     "output_type": "stream",
     "text": [
      "Prediction Progress: 1000it [00:00, 21333.33it/s]         \n"
     ]
    },
    {
     "name": "stdout",
     "output_type": "stream",
     "text": [
      "Predicting topics... (Estimated time: 2.00 seconds)\n"
     ]
    },
    {
     "name": "stderr",
     "output_type": "stream",
     "text": [
      "Prediction Progress: 1000it [00:00, 20461.92it/s]         \n"
     ]
    },
    {
     "name": "stdout",
     "output_type": "stream",
     "text": [
      "Predicting topics... (Estimated time: 2.00 seconds)\n"
     ]
    },
    {
     "name": "stderr",
     "output_type": "stream",
     "text": [
      "Prediction Progress: 1000it [00:00, 12854.69it/s]         \n"
     ]
    },
    {
     "name": "stdout",
     "output_type": "stream",
     "text": [
      "Predicting topics... (Estimated time: 2.00 seconds)\n"
     ]
    },
    {
     "name": "stderr",
     "output_type": "stream",
     "text": [
      "Prediction Progress: 1000it [00:00, 21333.88it/s]         \n"
     ]
    },
    {
     "name": "stdout",
     "output_type": "stream",
     "text": [
      "Predicting topics... (Estimated time: 2.00 seconds)\n"
     ]
    },
    {
     "name": "stderr",
     "output_type": "stream",
     "text": [
      "Prediction Progress: 1000it [00:00, 11524.90it/s]         \n"
     ]
    },
    {
     "name": "stdout",
     "output_type": "stream",
     "text": [
      "Predicting topics... (Estimated time: 2.00 seconds)\n"
     ]
    },
    {
     "name": "stderr",
     "output_type": "stream",
     "text": [
      "Prediction Progress: 1000it [00:00, 16711.44it/s]         \n"
     ]
    },
    {
     "name": "stdout",
     "output_type": "stream",
     "text": [
      "Predicting topics... (Estimated time: 2.00 seconds)\n"
     ]
    },
    {
     "name": "stderr",
     "output_type": "stream",
     "text": [
      "Prediction Progress: 1000it [00:00, 16994.40it/s]         \n"
     ]
    },
    {
     "name": "stdout",
     "output_type": "stream",
     "text": [
      "Predicting topics... (Estimated time: 2.00 seconds)\n"
     ]
    },
    {
     "name": "stderr",
     "output_type": "stream",
     "text": [
      "Prediction Progress: 1000it [00:00, 8425.78it/s]          "
     ]
    },
    {
     "name": "stdout",
     "output_type": "stream",
     "text": [
      "Predicting topics... (Estimated time: 2.00 seconds)\n"
     ]
    },
    {
     "name": "stderr",
     "output_type": "stream",
     "text": [
      "\n",
      "Prediction Progress: 1000it [00:00, 14531.72it/s]         \n"
     ]
    },
    {
     "name": "stdout",
     "output_type": "stream",
     "text": [
      "Predicting topics... (Estimated time: 2.00 seconds)\n"
     ]
    },
    {
     "name": "stderr",
     "output_type": "stream",
     "text": [
      "Prediction Progress: 1000it [00:00, 11936.66it/s]         \n"
     ]
    },
    {
     "name": "stdout",
     "output_type": "stream",
     "text": [
      "Predicting topics... (Estimated time: 2.00 seconds)\n"
     ]
    },
    {
     "name": "stderr",
     "output_type": "stream",
     "text": [
      "Prediction Progress: 1000it [00:00, 9734.75it/s]          \n"
     ]
    },
    {
     "name": "stdout",
     "output_type": "stream",
     "text": [
      "Predicting topics... (Estimated time: 2.00 seconds)\n"
     ]
    },
    {
     "name": "stderr",
     "output_type": "stream",
     "text": [
      "Prediction Progress: 1000it [00:00, 23299.36it/s]         \n"
     ]
    }
   ],
   "source": [
    "from transformers import pipeline\n",
    "from tqdm import tqdm\n",
    "import pandas as pd\n",
    "\n",
    "# Load the CSV file into a DataFrame with specified column names\n",
    "df = pd.read_csv('fatabyyano_news.csv', names=['Title','Link','Label','Date','Fake News','Fact News'] )\n",
    "df.head()\n",
    "print(\"Shape of the DataFrame :\", df.shape)\n",
    "# Remove rows with empty article_content\n",
    "df = df[df['Fake News'].notna() & (df['Fake News'] != '')]\n",
    "#df = df.dropna(subset=['Fake News'])\n",
    "print(\"Shape of the DataFrame after dropping NANS:\", df.shape)\n",
    "# Initialize the topic classification pipeline\n",
    "topic_pipe = pipeline(\"text-classification\", model=\"Ammar-alhaj-ali/arabic-MARBERT-news-article-classification\")\n",
    "\n",
    "# Function to classify the text into one of the predefined topics\n",
    "def classify_topic(text):\n",
    "    # Split the text into smaller chunks\n",
    "    max_chunk_length = 512  # Maximum sequence length supported by the model\n",
    "    chunks = [text[:max_chunk_length]]\n",
    "\n",
    "    # Calculate the estimated time\n",
    "    num_chunks = len(chunks)\n",
    "    estimated_time_per_chunk = 2  # Estimated time per chunk in seconds\n",
    "    total_estimated_time = num_chunks * estimated_time_per_chunk\n",
    "\n",
    "    # Show message indicating topic prediction is in progress\n",
    "    print(\"Predicting topics... (Estimated time: {:.2f} seconds)\".format(total_estimated_time))\n",
    "\n",
    "    # Initialize a progress bar\n",
    "    with tqdm(total=num_chunks, desc=\"Prediction Progress\") as pbar:\n",
    "        # Classify the first chunk\n",
    "        prediction = topic_pipe(chunks[0])\n",
    "\n",
    "        # Update the progress bar\n",
    "        pbar.update(1000)\n",
    "\n",
    "    # Get the predicted topic\n",
    "    predicted_topic = prediction[0]['label']\n",
    "    return predicted_topic\n",
    "\n",
    "# Add a new column \"TOPIC\" to the DataFrame and populate it with topics predicted from the article content\n",
    "df['TOPIC'] = df['Fake News'].apply(classify_topic)\n",
    "\n",
    "# Save the DataFrame with the new column back to a CSV file with the same column names\n",
    "df.to_csv('fatabyyano_news_topics.csv', index=False, header=['Title','Link','Label','Date','Fake News','Fact News','TOPIC'])\n"
   ]
  },
  {
   "cell_type": "markdown",
   "metadata": {},
   "source": [
    "MARKING REAL/FAKE FOR MISBAR-EDITORIAL"
   ]
  },
  {
   "cell_type": "code",
   "execution_count": 178,
   "metadata": {},
   "outputs": [
    {
     "name": "stdout",
     "output_type": "stream",
     "text": [
      "Shape of the DataFrame : (364, 5)\n",
      "Shape of the DataFrame after dropping NANS: (364, 5)\n"
     ]
    },
    {
     "name": "stderr",
     "output_type": "stream",
     "text": [
      "Some weights of BertForSequenceClassification were not initialized from the model checkpoint at asafaya/bert-base-arabic and are newly initialized: ['classifier.bias', 'classifier.weight']\n",
      "You should probably TRAIN this model on a down-stream task to be able to use it for predictions and inference.\n",
      "Prediction Progress: 100%|██████████| 43/43 [00:08<00:00,  4.99it/s]\n",
      "Prediction Progress: 100%|██████████| 27/27 [00:05<00:00,  5.16it/s]\n",
      "Prediction Progress: 100%|██████████| 54/54 [00:10<00:00,  5.12it/s]\n",
      "Prediction Progress: 100%|██████████| 26/26 [00:03<00:00,  6.81it/s]\n",
      "Prediction Progress: 100%|██████████| 23/23 [00:02<00:00,  8.79it/s]\n",
      "Prediction Progress: 100%|██████████| 29/29 [00:03<00:00,  8.20it/s]\n",
      "Prediction Progress: 100%|██████████| 15/15 [00:01<00:00,  8.30it/s]\n",
      "Prediction Progress: 100%|██████████| 14/14 [00:01<00:00,  7.60it/s]\n",
      "Prediction Progress: 100%|██████████| 13/13 [00:01<00:00,  7.34it/s]\n",
      "Prediction Progress: 100%|██████████| 18/18 [00:02<00:00,  7.31it/s]\n",
      "Prediction Progress: 100%|██████████| 21/21 [00:02<00:00,  7.15it/s]\n",
      "Prediction Progress: 100%|██████████| 1/1 [00:00<00:00, 18.57it/s]\n",
      "Prediction Progress: 100%|██████████| 13/13 [00:01<00:00,  6.80it/s]\n",
      "Prediction Progress: 100%|██████████| 12/12 [00:01<00:00,  7.12it/s]\n",
      "Prediction Progress: 100%|██████████| 1/1 [00:00<00:00, 27.10it/s]\n",
      "Prediction Progress: 100%|██████████| 26/26 [00:03<00:00,  6.88it/s]\n",
      "Prediction Progress: 100%|██████████| 54/54 [00:08<00:00,  6.21it/s]\n",
      "Prediction Progress: 100%|██████████| 26/26 [00:04<00:00,  6.05it/s]\n",
      "Prediction Progress: 100%|██████████| 21/21 [00:03<00:00,  5.86it/s]\n",
      "Prediction Progress: 100%|██████████| 28/28 [00:06<00:00,  4.48it/s]\n",
      "Prediction Progress: 100%|██████████| 15/15 [00:03<00:00,  4.27it/s]\n",
      "Prediction Progress: 100%|██████████| 14/14 [00:02<00:00,  5.30it/s]\n",
      "Prediction Progress: 100%|██████████| 13/13 [00:02<00:00,  6.12it/s]\n",
      "Prediction Progress: 100%|██████████| 17/17 [00:02<00:00,  5.98it/s]\n",
      "Prediction Progress: 100%|██████████| 21/21 [00:03<00:00,  5.42it/s]\n",
      "Prediction Progress: 100%|██████████| 1/1 [00:00<00:00, 20.89it/s]\n",
      "Prediction Progress: 100%|██████████| 1/1 [00:00<00:00, 24.46it/s]\n",
      "Prediction Progress: 100%|██████████| 12/12 [00:02<00:00,  5.66it/s]\n",
      "Prediction Progress: 100%|██████████| 12/12 [00:02<00:00,  4.55it/s]\n",
      "Prediction Progress: 100%|██████████| 12/12 [00:02<00:00,  5.51it/s]\n",
      "Prediction Progress: 100%|██████████| 17/17 [00:03<00:00,  5.20it/s]\n",
      "Prediction Progress: 100%|██████████| 18/18 [00:03<00:00,  6.00it/s]\n",
      "Prediction Progress: 100%|██████████| 24/24 [00:05<00:00,  4.39it/s]\n",
      "Prediction Progress: 100%|██████████| 24/24 [00:05<00:00,  4.62it/s]\n",
      "Prediction Progress: 100%|██████████| 26/26 [00:05<00:00,  5.00it/s]\n",
      "Prediction Progress: 100%|██████████| 43/43 [00:10<00:00,  4.17it/s]\n",
      "Prediction Progress: 100%|██████████| 1/1 [00:00<00:00, 20.89it/s]\n",
      "Prediction Progress: 100%|██████████| 54/54 [00:12<00:00,  4.40it/s]\n",
      "Prediction Progress: 100%|██████████| 26/26 [00:05<00:00,  5.07it/s]\n",
      "Prediction Progress: 100%|██████████| 1/1 [00:00<00:00, 23.32it/s]\n",
      "Prediction Progress: 100%|██████████| 1/1 [00:00<00:00, 25.07it/s]\n",
      "Prediction Progress: 100%|██████████| 15/15 [00:03<00:00,  4.33it/s]\n",
      "Prediction Progress: 100%|██████████| 14/14 [00:02<00:00,  4.85it/s]\n",
      "Prediction Progress: 100%|██████████| 13/13 [00:03<00:00,  4.30it/s]\n",
      "Prediction Progress: 100%|██████████| 17/17 [00:02<00:00,  6.08it/s]\n",
      "Prediction Progress: 100%|██████████| 21/21 [00:06<00:00,  3.32it/s]\n",
      "Prediction Progress: 100%|██████████| 1/1 [00:00<00:00, 15.67it/s]\n",
      "Prediction Progress: 100%|██████████| 17/17 [00:03<00:00,  5.00it/s]\n",
      "Prediction Progress: 100%|██████████| 12/12 [00:02<00:00,  4.48it/s]\n",
      "Prediction Progress: 100%|██████████| 12/12 [00:02<00:00,  5.26it/s]\n",
      "Prediction Progress: 100%|██████████| 12/12 [00:02<00:00,  5.72it/s]\n",
      "Prediction Progress: 100%|██████████| 17/17 [00:05<00:00,  2.94it/s]\n",
      "Prediction Progress: 100%|██████████| 1/1 [00:00<00:00,  7.60it/s]\n",
      "Prediction Progress: 100%|██████████| 24/24 [00:05<00:00,  4.41it/s]\n",
      "Prediction Progress: 100%|██████████| 24/24 [00:06<00:00,  3.84it/s]\n",
      "Prediction Progress: 100%|██████████| 26/26 [00:05<00:00,  4.52it/s]\n",
      "Prediction Progress: 100%|██████████| 31/31 [00:06<00:00,  4.52it/s]\n",
      "Prediction Progress: 100%|██████████| 10/10 [00:01<00:00,  5.24it/s]\n",
      "Prediction Progress: 100%|██████████| 37/37 [00:07<00:00,  4.85it/s]\n",
      "Prediction Progress: 100%|██████████| 4/4 [00:00<00:00,  5.25it/s]\n",
      "Prediction Progress: 100%|██████████| 10/10 [00:02<00:00,  4.85it/s]\n",
      "Prediction Progress: 100%|██████████| 16/16 [00:03<00:00,  5.33it/s]\n",
      "Prediction Progress: 100%|██████████| 15/15 [00:03<00:00,  4.14it/s]\n",
      "Prediction Progress: 100%|██████████| 43/43 [00:09<00:00,  4.42it/s]\n",
      "Prediction Progress: 100%|██████████| 26/26 [00:03<00:00,  8.06it/s]\n",
      "Prediction Progress: 100%|██████████| 54/54 [00:07<00:00,  7.09it/s]\n",
      "Prediction Progress: 100%|██████████| 26/26 [00:02<00:00,  8.90it/s]\n",
      "Prediction Progress: 100%|██████████| 23/23 [00:02<00:00,  7.94it/s]\n",
      "Prediction Progress: 100%|██████████| 1/1 [00:00<00:00, 23.32it/s]\n",
      "Prediction Progress: 100%|██████████| 15/15 [00:01<00:00,  7.80it/s]\n",
      "Prediction Progress: 100%|██████████| 14/14 [00:01<00:00,  8.33it/s]\n",
      "Prediction Progress: 100%|██████████| 13/13 [00:01<00:00,  7.53it/s]\n",
      "Prediction Progress: 100%|██████████| 17/17 [00:02<00:00,  6.97it/s]\n",
      "Prediction Progress: 100%|██████████| 21/21 [00:02<00:00,  7.25it/s]\n",
      "Prediction Progress: 100%|██████████| 24/24 [00:03<00:00,  6.14it/s]\n",
      "Prediction Progress: 100%|██████████| 1/1 [00:00<00:00, 16.99it/s]\n",
      "Prediction Progress: 100%|██████████| 12/12 [00:01<00:00,  7.93it/s]\n",
      "Prediction Progress: 100%|██████████| 12/12 [00:01<00:00,  7.28it/s]\n",
      "Prediction Progress: 100%|██████████| 12/12 [00:01<00:00,  7.99it/s]\n",
      "Prediction Progress: 100%|██████████| 17/17 [00:02<00:00,  6.23it/s]\n",
      "Prediction Progress: 100%|██████████| 1/1 [00:00<00:00, 12.08it/s]\n",
      "Prediction Progress: 100%|██████████| 24/24 [00:03<00:00,  6.16it/s]\n",
      "Prediction Progress: 100%|██████████| 24/24 [00:03<00:00,  7.18it/s]\n",
      "Prediction Progress: 100%|██████████| 26/26 [00:03<00:00,  6.55it/s]\n",
      "Prediction Progress: 100%|██████████| 1/1 [00:00<00:00, 20.46it/s]\n",
      "Prediction Progress: 100%|██████████| 10/10 [00:01<00:00,  6.63it/s]\n",
      "Prediction Progress: 100%|██████████| 1/1 [00:00<00:00, 20.05it/s]\n",
      "Prediction Progress: 100%|██████████| 1/1 [00:00<00:00, 17.91it/s]\n",
      "Prediction Progress: 100%|██████████| 10/10 [00:01<00:00,  7.74it/s]\n",
      "Prediction Progress: 100%|██████████| 1/1 [00:00<00:00, 26.39it/s]\n",
      "Prediction Progress: 100%|██████████| 15/15 [00:02<00:00,  6.54it/s]\n",
      "Prediction Progress: 100%|██████████| 28/28 [00:03<00:00,  7.61it/s]\n",
      "Prediction Progress: 100%|██████████| 35/35 [00:04<00:00,  7.56it/s]\n",
      "Prediction Progress: 100%|██████████| 1/1 [00:00<00:00, 26.39it/s]\n",
      "Prediction Progress: 100%|██████████| 18/18 [00:02<00:00,  7.81it/s]\n",
      "Prediction Progress: 100%|██████████| 22/22 [00:02<00:00,  7.57it/s]\n",
      "Prediction Progress: 100%|██████████| 32/32 [00:04<00:00,  7.38it/s]\n",
      "Prediction Progress: 100%|██████████| 32/32 [00:04<00:00,  7.57it/s]\n",
      "Prediction Progress: 100%|██████████| 42/42 [00:05<00:00,  7.39it/s]\n",
      "Prediction Progress: 100%|██████████| 1/1 [00:00<00:00, 27.10it/s]\n",
      "Prediction Progress: 100%|██████████| 54/54 [00:08<00:00,  6.51it/s]\n",
      "Prediction Progress: 100%|██████████| 26/26 [00:03<00:00,  6.75it/s]\n",
      "Prediction Progress: 100%|██████████| 23/23 [00:03<00:00,  7.60it/s]\n",
      "Prediction Progress: 100%|██████████| 1/1 [00:00<00:00, 23.32it/s]\n",
      "Prediction Progress: 100%|██████████| 15/15 [00:02<00:00,  7.07it/s]\n",
      "Prediction Progress: 100%|██████████| 14/14 [00:01<00:00,  7.66it/s]\n",
      "Prediction Progress: 100%|██████████| 13/13 [00:01<00:00,  8.00it/s]\n",
      "Prediction Progress: 100%|██████████| 1/1 [00:00<00:00, 32.34it/s]\n",
      "Prediction Progress: 100%|██████████| 21/21 [00:02<00:00,  8.47it/s]\n",
      "Prediction Progress: 100%|██████████| 21/21 [00:02<00:00,  8.38it/s]\n",
      "Prediction Progress: 100%|██████████| 17/17 [00:02<00:00,  7.18it/s]\n",
      "Prediction Progress: 100%|██████████| 1/1 [00:00<00:00, 29.49it/s]\n",
      "Prediction Progress: 100%|██████████| 12/12 [00:01<00:00,  6.99it/s]\n",
      "Prediction Progress: 100%|██████████| 12/12 [00:01<00:00,  7.29it/s]\n",
      "Prediction Progress: 100%|██████████| 17/17 [00:01<00:00,  8.54it/s]\n",
      "Prediction Progress: 100%|██████████| 1/1 [00:00<00:00, 22.28it/s]\n",
      "Prediction Progress: 100%|██████████| 24/24 [00:04<00:00,  5.81it/s]\n",
      "Prediction Progress: 100%|██████████| 24/24 [00:03<00:00,  6.58it/s]\n",
      "Prediction Progress: 100%|██████████| 28/28 [00:04<00:00,  5.94it/s]\n",
      "Prediction Progress: 100%|██████████| 1/1 [00:00<00:00, 18.23it/s]\n",
      "Prediction Progress: 100%|██████████| 10/10 [00:01<00:00,  6.84it/s]\n",
      "Prediction Progress: 100%|██████████| 35/35 [00:04<00:00,  7.73it/s]\n",
      "Prediction Progress: 100%|██████████| 4/4 [00:00<00:00,  9.83it/s]\n",
      "Prediction Progress: 100%|██████████| 10/10 [00:01<00:00,  9.10it/s]\n",
      "Prediction Progress: 100%|██████████| 1/1 [00:00<00:00, 30.38it/s]\n",
      "Prediction Progress: 100%|██████████| 15/15 [00:01<00:00,  8.39it/s]\n",
      "Prediction Progress: 100%|██████████| 28/28 [00:03<00:00,  7.81it/s]\n",
      "Prediction Progress: 100%|██████████| 35/35 [00:04<00:00,  7.68it/s]\n",
      "Prediction Progress: 100%|██████████| 34/34 [00:05<00:00,  6.39it/s]\n",
      "Prediction Progress: 100%|██████████| 18/18 [00:02<00:00,  6.02it/s]\n",
      "Prediction Progress: 100%|██████████| 22/22 [00:03<00:00,  6.18it/s]\n",
      "Prediction Progress: 100%|██████████| 32/32 [00:04<00:00,  6.60it/s]\n",
      "Prediction Progress: 100%|██████████| 1/1 [00:00<00:00, 25.07it/s]\n",
      "Prediction Progress: 100%|██████████| 1/1 [00:00<00:00, 24.46it/s]\n",
      "Prediction Progress: 100%|██████████| 19/19 [00:02<00:00,  6.63it/s]\n",
      "Prediction Progress: 100%|██████████| 30/30 [00:04<00:00,  6.46it/s]\n",
      "Prediction Progress: 100%|██████████| 48/48 [00:07<00:00,  6.56it/s]\n",
      "Prediction Progress: 100%|██████████| 32/32 [00:05<00:00,  6.34it/s]\n",
      "Prediction Progress: 100%|██████████| 18/18 [00:02<00:00,  8.70it/s]\n",
      "Prediction Progress: 100%|██████████| 24/24 [00:03<00:00,  7.39it/s]\n",
      "Prediction Progress: 100%|██████████| 42/42 [00:05<00:00,  7.93it/s]\n",
      "Prediction Progress: 100%|██████████| 27/27 [00:03<00:00,  8.00it/s]\n",
      "Prediction Progress: 100%|██████████| 54/54 [00:06<00:00,  7.88it/s]\n",
      "Prediction Progress: 100%|██████████| 26/26 [00:03<00:00,  8.13it/s]\n",
      "Prediction Progress: 100%|██████████| 23/23 [00:03<00:00,  7.58it/s]\n",
      "Prediction Progress: 100%|██████████| 28/28 [00:03<00:00,  7.28it/s]\n",
      "Prediction Progress: 100%|██████████| 15/15 [00:02<00:00,  7.45it/s]\n",
      "Prediction Progress: 100%|██████████| 14/14 [00:02<00:00,  6.81it/s]\n",
      "Prediction Progress: 100%|██████████| 13/13 [00:01<00:00,  7.58it/s]\n",
      "Prediction Progress: 100%|██████████| 1/1 [00:00<00:00, 22.28it/s]\n",
      "Prediction Progress: 100%|██████████| 21/21 [00:02<00:00,  7.08it/s]\n",
      "Prediction Progress: 100%|██████████| 24/24 [00:03<00:00,  6.29it/s]\n",
      "Prediction Progress: 100%|██████████| 13/13 [00:01<00:00,  6.90it/s]\n",
      "Prediction Progress: 100%|██████████| 12/12 [00:01<00:00,  6.93it/s]\n",
      "Prediction Progress: 100%|██████████| 12/12 [00:01<00:00,  7.01it/s]\n",
      "Prediction Progress: 100%|██████████| 12/12 [00:01<00:00,  7.79it/s]\n",
      "Prediction Progress: 100%|██████████| 17/17 [00:02<00:00,  7.30it/s]\n",
      "Prediction Progress: 100%|██████████| 20/20 [00:02<00:00,  7.98it/s]\n",
      "Prediction Progress: 100%|██████████| 24/24 [00:03<00:00,  7.51it/s]\n",
      "Prediction Progress: 100%|██████████| 24/24 [00:03<00:00,  7.07it/s]\n",
      "Prediction Progress: 100%|██████████| 26/26 [00:03<00:00,  7.25it/s]\n",
      "Prediction Progress: 100%|██████████| 31/31 [00:04<00:00,  6.99it/s]\n",
      "Prediction Progress: 100%|██████████| 10/10 [00:01<00:00,  7.54it/s]\n",
      "Prediction Progress: 100%|██████████| 37/37 [00:05<00:00,  6.86it/s]\n",
      "Prediction Progress: 100%|██████████| 4/4 [00:00<00:00,  8.19it/s]\n",
      "Prediction Progress: 100%|██████████| 10/10 [00:01<00:00,  7.36it/s]\n",
      "Prediction Progress: 100%|██████████| 16/16 [00:02<00:00,  6.93it/s]\n",
      "Prediction Progress: 100%|██████████| 15/15 [00:02<00:00,  6.18it/s]\n",
      "Prediction Progress: 100%|██████████| 28/28 [00:04<00:00,  6.91it/s]\n",
      "Prediction Progress: 100%|██████████| 35/35 [00:04<00:00,  7.82it/s]\n",
      "Prediction Progress: 100%|██████████| 1/1 [00:00<00:00, 27.85it/s]\n",
      "Prediction Progress: 100%|██████████| 18/18 [00:02<00:00,  6.95it/s]\n",
      "Prediction Progress: 100%|██████████| 22/22 [00:02<00:00,  8.07it/s]\n",
      "Prediction Progress: 100%|██████████| 32/32 [00:04<00:00,  6.72it/s]\n",
      "Prediction Progress: 100%|██████████| 28/28 [00:04<00:00,  6.14it/s]\n",
      "Prediction Progress: 100%|██████████| 1/1 [00:00<00:00, 25.71it/s]\n",
      "Prediction Progress: 100%|██████████| 19/19 [00:02<00:00,  6.71it/s]\n",
      "Prediction Progress: 100%|██████████| 30/30 [00:05<00:00,  5.58it/s]\n",
      "Prediction Progress: 100%|██████████| 1/1 [00:00<00:00, 23.87it/s]\n",
      "Prediction Progress: 100%|██████████| 1/1 [00:00<00:00, 19.66it/s]\n",
      "Prediction Progress: 100%|██████████| 18/18 [00:02<00:00,  6.26it/s]\n",
      "Prediction Progress: 100%|██████████| 24/24 [00:04<00:00,  5.48it/s]\n",
      "Prediction Progress: 100%|██████████| 43/43 [00:08<00:00,  5.12it/s]\n",
      "Prediction Progress: 100%|██████████| 26/26 [00:04<00:00,  5.81it/s]\n",
      "Prediction Progress: 100%|██████████| 54/54 [00:13<00:00,  3.88it/s]\n",
      "Prediction Progress: 100%|██████████| 26/26 [00:05<00:00,  4.59it/s]\n",
      "Prediction Progress: 100%|██████████| 23/23 [00:04<00:00,  5.32it/s]\n",
      "Prediction Progress: 100%|██████████| 1/1 [00:00<00:00, 24.46it/s]\n",
      "Prediction Progress: 100%|██████████| 15/15 [00:03<00:00,  4.36it/s]\n",
      "Prediction Progress: 100%|██████████| 14/14 [00:02<00:00,  4.80it/s]\n",
      "Prediction Progress: 100%|██████████| 13/13 [00:02<00:00,  4.34it/s]\n",
      "Prediction Progress: 100%|██████████| 17/17 [00:03<00:00,  4.28it/s]\n",
      "Prediction Progress: 100%|██████████| 21/21 [00:04<00:00,  4.44it/s]\n",
      "Prediction Progress: 100%|██████████| 1/1 [00:00<00:00, 14.97it/s]\n",
      "Prediction Progress: 100%|██████████| 17/17 [00:05<00:00,  3.36it/s]\n",
      "Prediction Progress: 100%|██████████| 12/12 [00:03<00:00,  3.29it/s]\n",
      "Prediction Progress: 100%|██████████| 12/12 [00:03<00:00,  3.44it/s]\n",
      "Prediction Progress: 100%|██████████| 12/12 [00:02<00:00,  4.92it/s]\n",
      "Prediction Progress: 100%|██████████| 17/17 [00:03<00:00,  4.57it/s]\n",
      "Prediction Progress: 100%|██████████| 1/1 [00:00<00:00, 15.67it/s]\n",
      "Prediction Progress: 100%|██████████| 24/24 [00:04<00:00,  4.91it/s]\n",
      "Prediction Progress: 100%|██████████| 24/24 [00:04<00:00,  4.88it/s]\n",
      "Prediction Progress: 100%|██████████| 1/1 [00:00<00:00, 15.43it/s]\n",
      "Prediction Progress: 100%|██████████| 29/29 [00:06<00:00,  4.26it/s]\n",
      "Prediction Progress: 100%|██████████| 10/10 [00:02<00:00,  4.58it/s]\n",
      "Prediction Progress: 100%|██████████| 35/35 [00:07<00:00,  4.86it/s]\n",
      "Prediction Progress: 100%|██████████| 4/4 [00:00<00:00,  5.12it/s]\n",
      "Prediction Progress: 100%|██████████| 10/10 [00:02<00:00,  4.64it/s]\n",
      "Prediction Progress: 100%|██████████| 19/19 [00:04<00:00,  4.19it/s]\n",
      "Prediction Progress: 100%|██████████| 15/15 [00:03<00:00,  4.06it/s]\n",
      "Prediction Progress: 100%|██████████| 28/28 [00:06<00:00,  4.59it/s]\n",
      "Prediction Progress: 100%|██████████| 35/35 [00:07<00:00,  4.85it/s]\n",
      "Prediction Progress: 100%|██████████| 1/1 [00:00<00:00, 11.52it/s]\n",
      "Prediction Progress: 100%|██████████| 16/16 [00:04<00:00,  3.72it/s]\n",
      "Prediction Progress: 100%|██████████| 22/22 [00:04<00:00,  4.99it/s]\n",
      "Prediction Progress: 100%|██████████| 32/32 [00:08<00:00,  3.88it/s]\n",
      "Prediction Progress: 100%|██████████| 1/1 [00:00<00:00,  9.28it/s]\n",
      "Prediction Progress: 100%|██████████| 17/17 [00:03<00:00,  4.84it/s]\n",
      "Prediction Progress: 100%|██████████| 19/19 [00:03<00:00,  5.38it/s]\n",
      "Prediction Progress: 100%|██████████| 30/30 [00:07<00:00,  4.19it/s]\n",
      "Prediction Progress: 100%|██████████| 1/1 [00:00<00:00, 18.92it/s]\n",
      "Prediction Progress: 100%|██████████| 1/1 [00:00<00:00, 18.23it/s]\n",
      "Prediction Progress: 100%|██████████| 18/18 [00:04<00:00,  4.27it/s]\n",
      "Prediction Progress: 100%|██████████| 24/24 [00:05<00:00,  4.54it/s]\n",
      "Prediction Progress: 100%|██████████| 26/26 [00:05<00:00,  4.40it/s]\n",
      "Prediction Progress: 100%|██████████| 26/26 [00:05<00:00,  5.01it/s]\n",
      "Prediction Progress: 100%|██████████| 22/22 [00:04<00:00,  4.64it/s]\n",
      "Prediction Progress: 100%|██████████| 31/31 [00:06<00:00,  4.85it/s]\n",
      "Prediction Progress: 100%|██████████| 31/31 [00:07<00:00,  4.12it/s]\n",
      "Prediction Progress: 100%|██████████| 14/14 [00:02<00:00,  5.00it/s]\n",
      "Prediction Progress: 100%|██████████| 25/25 [00:05<00:00,  4.61it/s]\n",
      "Prediction Progress: 100%|██████████| 30/30 [00:06<00:00,  4.40it/s]\n",
      "Prediction Progress: 100%|██████████| 21/21 [00:04<00:00,  4.30it/s]\n",
      "Prediction Progress: 100%|██████████| 21/21 [00:04<00:00,  4.81it/s]\n",
      "Prediction Progress: 100%|██████████| 17/17 [00:03<00:00,  4.62it/s]\n",
      "Prediction Progress: 100%|██████████| 1/1 [00:00<00:00, 16.17it/s]\n",
      "Prediction Progress: 100%|██████████| 13/13 [00:03<00:00,  4.23it/s]\n",
      "Prediction Progress: 100%|██████████| 1/1 [00:00<00:00, 16.99it/s]\n",
      "Prediction Progress: 100%|██████████| 1/1 [00:00<00:00, 18.92it/s]\n",
      "Prediction Progress: 100%|██████████| 26/26 [00:05<00:00,  4.67it/s]\n",
      "Prediction Progress: 100%|██████████| 54/54 [00:13<00:00,  3.98it/s]\n",
      "Prediction Progress: 100%|██████████| 26/26 [00:05<00:00,  4.51it/s]\n",
      "Prediction Progress: 100%|██████████| 1/1 [00:00<00:00, 17.59it/s]\n",
      "Prediction Progress: 100%|██████████| 1/1 [00:00<00:00,  9.37it/s]\n",
      "Prediction Progress: 100%|██████████| 15/15 [00:02<00:00,  6.92it/s]\n",
      "Prediction Progress: 100%|██████████| 14/14 [00:02<00:00,  6.28it/s]\n",
      "Prediction Progress: 100%|██████████| 13/13 [00:02<00:00,  6.35it/s]\n",
      "Prediction Progress: 100%|██████████| 1/1 [00:00<00:00, 23.32it/s]\n",
      "Prediction Progress: 100%|██████████| 21/21 [00:03<00:00,  6.52it/s]\n",
      "Prediction Progress: 100%|██████████| 21/21 [00:03<00:00,  6.47it/s]\n",
      "Prediction Progress: 100%|██████████| 13/13 [00:01<00:00,  7.83it/s]\n",
      "Prediction Progress: 100%|██████████| 12/12 [00:01<00:00,  7.45it/s]\n",
      "Prediction Progress: 100%|██████████| 12/12 [00:01<00:00,  7.56it/s]\n",
      "Prediction Progress: 100%|██████████| 12/12 [00:01<00:00,  7.21it/s]\n",
      "Prediction Progress: 100%|██████████| 17/17 [00:02<00:00,  6.90it/s]\n",
      "Prediction Progress: 100%|██████████| 1/1 [00:00<00:00, 13.19it/s]\n",
      "Prediction Progress: 100%|██████████| 24/24 [00:03<00:00,  6.56it/s]\n",
      "Prediction Progress: 100%|██████████| 24/24 [00:03<00:00,  7.76it/s]\n",
      "Prediction Progress: 100%|██████████| 28/28 [00:04<00:00,  6.63it/s]\n",
      "Prediction Progress: 100%|██████████| 29/29 [00:03<00:00,  7.45it/s]\n",
      "Prediction Progress: 100%|██████████| 10/10 [00:01<00:00,  7.12it/s]\n",
      "Prediction Progress: 100%|██████████| 1/1 [00:00<00:00, 20.46it/s]\n",
      "Prediction Progress: 100%|██████████| 4/4 [00:00<00:00,  5.82it/s]\n",
      "Prediction Progress: 100%|██████████| 10/10 [00:01<00:00,  7.66it/s]\n",
      "Prediction Progress: 100%|██████████| 19/19 [00:02<00:00,  6.78it/s]\n",
      "Prediction Progress: 100%|██████████| 15/15 [00:01<00:00,  7.70it/s]\n",
      "Prediction Progress: 100%|██████████| 28/28 [00:03<00:00,  7.24it/s]\n",
      "Prediction Progress: 100%|██████████| 35/35 [00:04<00:00,  7.02it/s]\n",
      "Prediction Progress: 100%|██████████| 1/1 [00:00<00:00, 15.19it/s]\n",
      "Prediction Progress: 100%|██████████| 16/16 [00:02<00:00,  7.03it/s]\n",
      "Prediction Progress: 100%|██████████| 22/22 [00:03<00:00,  7.13it/s]\n",
      "Prediction Progress: 100%|██████████| 32/32 [00:04<00:00,  7.33it/s]\n",
      "Prediction Progress: 100%|██████████| 28/28 [00:04<00:00,  6.59it/s]\n",
      "Prediction Progress: 100%|██████████| 1/1 [00:00<00:00, 20.46it/s]\n",
      "Prediction Progress: 100%|██████████| 19/19 [00:02<00:00,  7.80it/s]\n",
      "Prediction Progress: 100%|██████████| 30/30 [00:03<00:00,  7.97it/s]\n",
      "Prediction Progress: 100%|██████████| 48/48 [00:05<00:00,  8.39it/s]\n",
      "Prediction Progress: 100%|██████████| 1/1 [00:00<00:00,  9.55it/s]\n",
      "Prediction Progress: 100%|██████████| 20/20 [00:02<00:00,  8.49it/s]\n",
      "Prediction Progress: 100%|██████████| 24/24 [00:03<00:00,  7.31it/s]\n",
      "Prediction Progress: 100%|██████████| 26/26 [00:03<00:00,  7.69it/s]\n",
      "Prediction Progress: 100%|██████████| 26/26 [00:03<00:00,  7.54it/s]\n",
      "Prediction Progress: 100%|██████████| 22/22 [00:02<00:00,  8.99it/s]\n",
      "Prediction Progress: 100%|██████████| 31/31 [00:03<00:00,  8.89it/s]\n",
      "Prediction Progress: 100%|██████████| 31/31 [00:04<00:00,  7.74it/s]\n",
      "Prediction Progress: 100%|██████████| 14/14 [00:01<00:00,  7.94it/s]\n",
      "Prediction Progress: 100%|██████████| 1/1 [00:00<00:00, 33.42it/s]\n",
      "Prediction Progress: 100%|██████████| 30/30 [00:03<00:00,  8.89it/s]\n",
      "Prediction Progress: 100%|██████████| 21/21 [00:02<00:00,  8.19it/s]\n",
      "Prediction Progress: 100%|██████████| 21/21 [00:02<00:00,  8.73it/s]\n",
      "Prediction Progress: 100%|██████████| 1/1 [00:00<00:00, 22.81it/s]\n",
      "Prediction Progress: 100%|██████████| 17/17 [00:02<00:00,  7.98it/s]\n",
      "Prediction Progress: 100%|██████████| 13/13 [00:01<00:00,  8.78it/s]\n",
      "Prediction Progress: 100%|██████████| 13/13 [00:01<00:00,  6.99it/s]\n",
      "Prediction Progress: 100%|██████████| 18/18 [00:02<00:00,  7.57it/s]\n",
      "Prediction Progress: 100%|██████████| 31/31 [00:03<00:00,  8.34it/s]\n",
      "Prediction Progress: 100%|██████████| 27/27 [00:03<00:00,  7.45it/s]\n",
      "Prediction Progress: 100%|██████████| 23/23 [00:03<00:00,  6.67it/s]\n",
      "Prediction Progress: 100%|██████████| 20/20 [00:03<00:00,  5.28it/s]\n",
      "Prediction Progress: 100%|██████████| 10/10 [00:01<00:00,  6.04it/s]\n",
      "Prediction Progress: 100%|██████████| 14/14 [00:01<00:00,  8.05it/s]\n",
      "Prediction Progress: 100%|██████████| 1/1 [00:00<00:00, 25.07it/s]\n",
      "Prediction Progress: 100%|██████████| 26/26 [00:02<00:00,  8.93it/s]\n",
      "Prediction Progress: 100%|██████████| 54/54 [00:07<00:00,  7.44it/s]\n",
      "Prediction Progress: 100%|██████████| 26/26 [00:04<00:00,  6.34it/s]\n",
      "Prediction Progress: 100%|██████████| 23/23 [00:03<00:00,  7.09it/s]\n",
      "Prediction Progress: 100%|██████████| 1/1 [00:00<00:00, 27.10it/s]\n",
      "Prediction Progress: 100%|██████████| 15/15 [00:03<00:00,  4.87it/s]\n",
      "Prediction Progress: 100%|██████████| 14/14 [00:01<00:00,  8.68it/s]\n",
      "Prediction Progress: 100%|██████████| 13/13 [00:01<00:00,  7.96it/s]\n",
      "Prediction Progress: 100%|██████████| 1/1 [00:00<00:00, 31.33it/s]\n",
      "Prediction Progress: 100%|██████████| 21/21 [00:03<00:00,  6.92it/s]\n",
      "Prediction Progress: 100%|██████████| 1/1 [00:00<00:00, 23.32it/s]\n",
      "Prediction Progress: 100%|██████████| 13/13 [00:01<00:00,  7.09it/s]\n",
      "Prediction Progress: 100%|██████████| 12/12 [00:01<00:00,  6.23it/s]\n",
      "Prediction Progress: 100%|██████████| 12/12 [00:01<00:00,  7.22it/s]\n",
      "Prediction Progress: 100%|██████████| 12/12 [00:01<00:00,  7.80it/s]\n",
      "Prediction Progress: 100%|██████████| 17/17 [00:03<00:00,  5.56it/s]\n",
      "Prediction Progress: 100%|██████████| 17/17 [00:02<00:00,  7.30it/s]\n",
      "Prediction Progress: 100%|██████████| 24/24 [00:03<00:00,  6.81it/s]\n",
      "Prediction Progress: 100%|██████████| 24/24 [00:03<00:00,  7.37it/s]\n",
      "Prediction Progress: 100%|██████████| 28/28 [00:04<00:00,  6.69it/s]\n",
      "Prediction Progress: 100%|██████████| 1/1 [00:00<00:00, 25.71it/s]\n",
      "Prediction Progress: 100%|██████████| 10/10 [00:01<00:00,  7.78it/s]\n",
      "Prediction Progress: 100%|██████████| 1/1 [00:00<00:00, 24.45it/s]\n",
      "Prediction Progress: 100%|██████████| 1/1 [00:00<00:00, 26.39it/s]\n",
      "Prediction Progress: 100%|██████████| 10/10 [00:01<00:00,  7.90it/s]\n",
      "Prediction Progress: 100%|██████████| 1/1 [00:00<00:00, 29.49it/s]\n",
      "Prediction Progress: 100%|██████████| 15/15 [00:01<00:00,  8.36it/s]\n",
      "Prediction Progress: 100%|██████████| 28/28 [00:03<00:00,  7.81it/s]\n",
      "Prediction Progress: 100%|██████████| 35/35 [00:04<00:00,  7.82it/s]\n",
      "Prediction Progress: 100%|██████████| 1/1 [00:00<00:00, 22.79it/s]\n",
      "Prediction Progress: 100%|██████████| 1/1 [00:00<00:00, 20.89it/s]\n",
      "Prediction Progress: 100%|██████████| 22/22 [00:02<00:00,  7.48it/s]\n",
      "Prediction Progress: 100%|██████████| 32/32 [00:03<00:00,  8.12it/s]\n",
      "Prediction Progress: 100%|██████████| 1/1 [00:00<00:00, 26.36it/s]\n",
      "Prediction Progress: 100%|██████████| 1/1 [00:00<00:00, 24.46it/s]\n",
      "Prediction Progress: 100%|██████████| 19/19 [00:02<00:00,  8.27it/s]\n",
      "Prediction Progress: 100%|██████████| 30/30 [00:03<00:00,  7.84it/s]\n",
      "Prediction Progress: 100%|██████████| 1/1 [00:00<00:00, 26.38it/s]\n",
      "Prediction Progress: 100%|██████████| 29/29 [00:03<00:00,  7.46it/s]\n",
      "Prediction Progress: 100%|██████████| 20/20 [00:02<00:00,  8.26it/s]\n",
      "Prediction Progress: 100%|██████████| 24/24 [00:03<00:00,  7.48it/s]\n",
      "Prediction Progress: 100%|██████████| 26/26 [00:03<00:00,  7.29it/s]\n",
      "Prediction Progress: 100%|██████████| 26/26 [00:03<00:00,  7.97it/s]\n",
      "Prediction Progress: 100%|██████████| 22/22 [00:03<00:00,  7.18it/s]\n",
      "Prediction Progress: 100%|██████████| 31/31 [00:04<00:00,  7.70it/s]\n",
      "Prediction Progress: 100%|██████████| 31/31 [00:04<00:00,  7.23it/s]\n",
      "Prediction Progress: 100%|██████████| 14/14 [00:01<00:00,  7.54it/s]\n",
      "Prediction Progress: 100%|██████████| 25/25 [00:03<00:00,  7.95it/s]\n",
      "Prediction Progress: 100%|██████████| 30/30 [00:03<00:00,  7.87it/s]\n",
      "Prediction Progress: 100%|██████████| 21/21 [00:02<00:00,  7.71it/s]\n",
      "Prediction Progress: 100%|██████████| 21/21 [00:02<00:00,  7.70it/s]\n",
      "Prediction Progress: 100%|██████████| 17/17 [00:02<00:00,  6.79it/s]\n",
      "Prediction Progress: 100%|██████████| 1/1 [00:00<00:00, 27.85it/s]\n",
      "Prediction Progress: 100%|██████████| 13/13 [00:01<00:00,  8.67it/s]\n",
      "Prediction Progress: 100%|██████████| 12/12 [00:01<00:00,  7.53it/s]\n",
      "Prediction Progress: 100%|██████████| 18/18 [00:02<00:00,  6.48it/s]\n",
      "Prediction Progress: 100%|██████████| 31/31 [00:03<00:00,  8.37it/s]\n",
      "Prediction Progress: 100%|██████████| 27/27 [00:03<00:00,  8.41it/s]\n",
      "Prediction Progress: 100%|██████████| 23/23 [00:02<00:00,  8.88it/s]\n",
      "Prediction Progress: 100%|██████████| 20/20 [00:02<00:00,  8.09it/s]\n",
      "Prediction Progress: 100%|██████████| 10/10 [00:01<00:00,  8.15it/s]\n",
      "Prediction Progress: 100%|██████████| 14/14 [00:01<00:00,  8.71it/s]\n"
     ]
    }
   ],
   "source": [
    "from transformers import pipeline\n",
    "from tqdm import tqdm\n",
    "import pandas as pd\n",
    "\n",
    "# Load the CSV file into a DataFrame with specified column names\n",
    "df = pd.read_csv('MISBAR_EDITORIAL_13-04-2pm.csv', names=[\"Category\", \"Title\", \"Date\", \"URL\", \"Content\"] )\n",
    "print(\"Shape of the DataFrame :\", df.shape)\n",
    "\n",
    "# Remove rows with empty article_content\n",
    "df = df[df['Content'].notna() & (df['Content'] != '')]\n",
    "print(\"Shape of the DataFrame after dropping NANS:\", df.shape)\n",
    "\n",
    "# Initialize the real/fake classification pipeline for Arabic\n",
    "fake_pipe = pipeline(\"text-classification\", model=\"asafaya/bert-base-arabic\")\n",
    "\n",
    "# Function to classify the text into real or fake\n",
    "def classify_fakeness(text):\n",
    "    # Split the text into smaller chunks\n",
    "    max_chunk_length = 512  # Maximum sequence length supported by the model\n",
    "    chunks = [text[i:i+max_chunk_length] for i in range(0, len(text), max_chunk_length)]\n",
    "\n",
    "    # Predictions\n",
    "    fake_statuses = []\n",
    "\n",
    "    # Iterate over chunks\n",
    "    for chunk in tqdm(chunks, desc=\"Prediction Progress\"):\n",
    "        # Classify as real/fake\n",
    "        fake_pred = fake_pipe(chunk)\n",
    "        fake_statuses.append(fake_pred[0]['label'])\n",
    "\n",
    "    # If any chunk is classified as fake, mark the entire article as fake\n",
    "    if \"fake\" in fake_statuses:\n",
    "        overall_fake_status = \"fake\"\n",
    "    else:\n",
    "        overall_fake_status = \"real\"\n",
    "\n",
    "    return overall_fake_status\n",
    "\n",
    "# Add a new column for fake status to the DataFrame\n",
    "df['Label'] = df['Content'].apply(classify_fakeness)\n",
    "\n",
    "# Save the DataFrame with the new column back to a CSV file\n",
    "df.to_csv('MISBAR_EDITORIAL_Labeled.csv', index=False, header=[\"Category\", \"Title\", \"Date\", \"URL\", \"Label\", \"Content\"] )"
   ]
  },
  {
   "cell_type": "markdown",
   "metadata": {},
   "source": [
    "#TREATING THE DATASETS FOR MERGING PROCESS"
   ]
  },
  {
   "cell_type": "markdown",
   "metadata": {},
   "source": [
    "DEFINING ORIGINAL COLUMNS"
   ]
  },
  {
   "cell_type": "code",
   "execution_count": 454,
   "metadata": {},
   "outputs": [],
   "source": [
    "import pandas as pd\n",
    "\n",
    "# Define column names for each CSV file\n",
    "columns_file1 = ['Category', 'Title', 'Link','Text'] #category means topic here\n",
    "columns_file2 = ['Category', 'Title', 'Link','Date','Text'] #category means topic here\n",
    "columns_file3 = ['title','label','article_date','category_name','article_url','article_content'] #label=real | category_name=topic\n",
    "columns_file4 = ['Title','Link','Label','Date','Fake News','Fact News','TOPIC'] \n",
    "columns_file5 = ['Title','Time','Category','Link','Fake News','Fact News'] #category means topic here\n",
    "columns_file6 = [\"Category\", \"Title\", \"Date\", \"URL\", \"Content\",'Label'] #category means topic here\n",
    "columns_file7 = [\"Category\", \"Title\",'Label', \"Date\", \"URL\", \"Content\"]\n",
    "columns_file8 = ['title','label','category_name','article_content','article_date','TOPIC'] #label=real or fake | category_name=fakeness class | TOPIC=topic\n"
   ]
  },
  {
   "cell_type": "markdown",
   "metadata": {},
   "source": [
    "READING FILES"
   ]
  },
  {
   "cell_type": "code",
   "execution_count": 455,
   "metadata": {},
   "outputs": [],
   "source": [
    "\n",
    "# Read CSV files into DataFrames\n",
    "df1 = pd.read_csv('aljazeera_articles .csv', names=columns_file1)\n",
    "df2 = pd.read_csv('bbc_arabic_news.csv', names=columns_file2)\n",
    "df3 = pd.read_csv('CNN-ARABIA-CLEANED.csv', names=columns_file3)\n",
    "df4 = pd.read_csv('fatabyyano_news_topics.csv', names=columns_file4)\n",
    "df5 = pd.read_csv('Matsd24_news.csv', names=columns_file5)\n",
    "df6 = pd.read_csv('MISBAR_EDITORIAL_Labeled.csv', names=columns_file6)\n",
    "df7 = pd.read_csv('MISBAR_FACTCHECK_COLLECTED.csv', names=columns_file7)\n",
    "df8 = pd.read_csv('verify-sy-bs-data-with-topics.csv', names=columns_file8)\n"
   ]
  },
  {
   "cell_type": "markdown",
   "metadata": {},
   "source": [
    "RENAMING COLUMNS AND ATTRIBUTING THE 'ORIGINE' OF FILES"
   ]
  },
  {
   "cell_type": "code",
   "execution_count": 456,
   "metadata": {},
   "outputs": [],
   "source": [
    "\n",
    "# Add 'Origine' column to each DataFrame\n",
    "df1['Origine'] = 'Aljazeera'\n",
    "df2['Origine'] = 'BBC'\n",
    "df3['Origine'] = 'CNN'\n",
    "df4['Origine'] = 'Fatabyyano'\n",
    "df5['Origine'] = 'Matsd24'\n",
    "df6['Origine'] = 'MISBAR'\n",
    "df7['Origine'] = 'MISBAR'\n",
    "df8['Origine'] = 'VerifySy'\n",
    "\n",
    "# Rename columns as per the required attributes\n",
    "df1.rename(columns={'Category': 'Topic', 'Text': 'Article_content','Link':'Article_url'}, inplace=True)\n",
    "df2.rename(columns={'Category': 'Topic', 'Text': 'Article_content','Link':'Article_url','Date':'Article_date'}, inplace=True)\n",
    "df3.rename(columns={'title': 'Article_date', 'label': 'Topic', 'article_date': 'Article_url', 'category_name': 'Article_content','article_url':'Label','article_content':'Article_correction'}, inplace=True)\n",
    "df4.rename(columns={'Date': 'Article_date', 'Fake News': 'Article_content','TOPIC':'Topic','Link':'Article_url','Fact News':'Article_correction'}, inplace=True)\n",
    "df5.rename(columns={'Title': 'Title', 'Time': 'Article_date', 'Category': 'Topic','Link':'Article_url', 'Fake News': 'Article_content','Fact News':'Article_correction'}, inplace=True)\n",
    "df6.rename(columns={'Date': 'Article_date','Title':'Title', 'Content': 'Article_content','URL':'Article_url','Label':'Label','Category':'Topic'}, inplace=True)\n",
    "\n",
    "df7.rename(columns={'Category': 'Topic','Title': 'Title','Label':'Label','Date': 'Article_date','URL':'Article_url', 'Content': 'Article_content'}, inplace=True)\n",
    "df8.rename(columns={'TOPIC': 'Topic', 'article_date': 'Article_date', 'article_content': 'Article_content','title': 'Title','label':'Label','category_name':'Article_correction'}, inplace=True)\n"
   ]
  },
  {
   "cell_type": "markdown",
   "metadata": {},
   "source": [
    "DF1 - Aljazeera"
   ]
  },
  {
   "cell_type": "code",
   "execution_count": 457,
   "metadata": {},
   "outputs": [
    {
     "data": {
      "text/html": [
       "<div>\n",
       "<style scoped>\n",
       "    .dataframe tbody tr th:only-of-type {\n",
       "        vertical-align: middle;\n",
       "    }\n",
       "\n",
       "    .dataframe tbody tr th {\n",
       "        vertical-align: top;\n",
       "    }\n",
       "\n",
       "    .dataframe thead th {\n",
       "        text-align: right;\n",
       "    }\n",
       "</style>\n",
       "<table border=\"1\" class=\"dataframe\">\n",
       "  <thead>\n",
       "    <tr style=\"text-align: right;\">\n",
       "      <th></th>\n",
       "      <th>Topic</th>\n",
       "      <th>Title</th>\n",
       "      <th>Article_url</th>\n",
       "      <th>Article_content</th>\n",
       "      <th>Origine</th>\n",
       "      <th>Label</th>\n",
       "      <th>Article_correction</th>\n",
       "      <th>Article_date</th>\n",
       "    </tr>\n",
       "  </thead>\n",
       "  <tbody>\n",
       "    <tr>\n",
       "      <th>0</th>\n",
       "      <td>Category</td>\n",
       "      <td>Title</td>\n",
       "      <td>Link</td>\n",
       "      <td>Text</td>\n",
       "      <td>Aljazeera</td>\n",
       "      <td>real</td>\n",
       "      <td></td>\n",
       "      <td></td>\n",
       "    </tr>\n",
       "    <tr>\n",
       "      <th>1</th>\n",
       "      <td>politics</td>\n",
       "      <td>54 عاما في القضاء.. نهاية حزينة لمعركة مقدسي ح...</td>\n",
       "      <td>/politics/2024/4/13/%d8%a7%d9%84%d8%b8%d9%87%d...</td>\n",
       "      <td>القدس المحتلة- لن يتمكن المقدسي سامي درويش في ...</td>\n",
       "      <td>Aljazeera</td>\n",
       "      <td>real</td>\n",
       "      <td></td>\n",
       "      <td></td>\n",
       "    </tr>\n",
       "    <tr>\n",
       "      <th>2</th>\n",
       "      <td>politics</td>\n",
       "      <td>خبراء إيرانيون يشرحون لماذا لا تستعجل طهران با...</td>\n",
       "      <td>/politics/2024/4/13/%d8%ae%d8%a8%d8%b1%d8%a7%d...</td>\n",
       "      <td>طهران- منذ الهجوم الإسرائيلي على القنصلية الإي...</td>\n",
       "      <td>Aljazeera</td>\n",
       "      <td>real</td>\n",
       "      <td></td>\n",
       "      <td></td>\n",
       "    </tr>\n",
       "    <tr>\n",
       "      <th>3</th>\n",
       "      <td>politics</td>\n",
       "      <td>فلسطيني يقود فريق خبراء بإيطاليا لبناء قضية إب...</td>\n",
       "      <td>/politics/2024/4/13/%d9%81%d8%b1%d9%8a%d9%82-%...</td>\n",
       "      <td>غادر المحامي الفلسطيني راجي صوراني قطاع غزة رف...</td>\n",
       "      <td>Aljazeera</td>\n",
       "      <td>real</td>\n",
       "      <td></td>\n",
       "      <td></td>\n",
       "    </tr>\n",
       "    <tr>\n",
       "      <th>4</th>\n",
       "      <td>politics</td>\n",
       "      <td>مستوطنون يهاجمون قرى نابلس بحماية من جنود الاح...</td>\n",
       "      <td>/politics/2024/4/13/%D8%A8%D8%A3%D8%B3%D9%84%D...</td>\n",
       "      <td>نابلس- لليوم الثاني على التوالي، تتعرض قرية دو...</td>\n",
       "      <td>Aljazeera</td>\n",
       "      <td>real</td>\n",
       "      <td></td>\n",
       "      <td></td>\n",
       "    </tr>\n",
       "  </tbody>\n",
       "</table>\n",
       "</div>"
      ],
      "text/plain": [
       "      Topic                                              Title  \\\n",
       "0  Category                                              Title   \n",
       "1  politics  54 عاما في القضاء.. نهاية حزينة لمعركة مقدسي ح...   \n",
       "2  politics  خبراء إيرانيون يشرحون لماذا لا تستعجل طهران با...   \n",
       "3  politics  فلسطيني يقود فريق خبراء بإيطاليا لبناء قضية إب...   \n",
       "4  politics  مستوطنون يهاجمون قرى نابلس بحماية من جنود الاح...   \n",
       "\n",
       "                                         Article_url  \\\n",
       "0                                               Link   \n",
       "1  /politics/2024/4/13/%d8%a7%d9%84%d8%b8%d9%87%d...   \n",
       "2  /politics/2024/4/13/%d8%ae%d8%a8%d8%b1%d8%a7%d...   \n",
       "3  /politics/2024/4/13/%d9%81%d8%b1%d9%8a%d9%82-%...   \n",
       "4  /politics/2024/4/13/%D8%A8%D8%A3%D8%B3%D9%84%D...   \n",
       "\n",
       "                                     Article_content    Origine Label  \\\n",
       "0                                               Text  Aljazeera  real   \n",
       "1  القدس المحتلة- لن يتمكن المقدسي سامي درويش في ...  Aljazeera  real   \n",
       "2  طهران- منذ الهجوم الإسرائيلي على القنصلية الإي...  Aljazeera  real   \n",
       "3  غادر المحامي الفلسطيني راجي صوراني قطاع غزة رف...  Aljazeera  real   \n",
       "4  نابلس- لليوم الثاني على التوالي، تتعرض قرية دو...  Aljazeera  real   \n",
       "\n",
       "  Article_correction Article_date  \n",
       "0                                  \n",
       "1                                  \n",
       "2                                  \n",
       "3                                  \n",
       "4                                  "
      ]
     },
     "execution_count": 457,
     "metadata": {},
     "output_type": "execute_result"
    }
   ],
   "source": [
    "df1['Label'] = 'real' \n",
    "df1['Article_correction'] = ''\n",
    "df1['Article_date'] = ''\n",
    "# DataFrame 1 (df1)\n",
    "df1.head()\n"
   ]
  },
  {
   "cell_type": "code",
   "execution_count": 458,
   "metadata": {},
   "outputs": [
    {
     "data": {
      "text/html": [
       "<div>\n",
       "<style scoped>\n",
       "    .dataframe tbody tr th:only-of-type {\n",
       "        vertical-align: middle;\n",
       "    }\n",
       "\n",
       "    .dataframe tbody tr th {\n",
       "        vertical-align: top;\n",
       "    }\n",
       "\n",
       "    .dataframe thead th {\n",
       "        text-align: right;\n",
       "    }\n",
       "</style>\n",
       "<table border=\"1\" class=\"dataframe\">\n",
       "  <thead>\n",
       "    <tr style=\"text-align: right;\">\n",
       "      <th></th>\n",
       "      <th>Topic</th>\n",
       "      <th>Title</th>\n",
       "      <th>Article_url</th>\n",
       "      <th>Article_content</th>\n",
       "      <th>Origine</th>\n",
       "      <th>Label</th>\n",
       "      <th>Article_correction</th>\n",
       "      <th>Article_date</th>\n",
       "    </tr>\n",
       "  </thead>\n",
       "  <tbody>\n",
       "    <tr>\n",
       "      <th>count</th>\n",
       "      <td>168</td>\n",
       "      <td>168</td>\n",
       "      <td>168</td>\n",
       "      <td>168</td>\n",
       "      <td>168</td>\n",
       "      <td>168</td>\n",
       "      <td>168</td>\n",
       "      <td>168</td>\n",
       "    </tr>\n",
       "    <tr>\n",
       "      <th>unique</th>\n",
       "      <td>12</td>\n",
       "      <td>167</td>\n",
       "      <td>167</td>\n",
       "      <td>167</td>\n",
       "      <td>1</td>\n",
       "      <td>1</td>\n",
       "      <td>1</td>\n",
       "      <td>1</td>\n",
       "    </tr>\n",
       "    <tr>\n",
       "      <th>top</th>\n",
       "      <td>politics</td>\n",
       "      <td>الخرائط الإلكترونية صديق لا يخلو من العيوب!</td>\n",
       "      <td>/opinions/2024/4/12/1293</td>\n",
       "      <td>في الحقبة الإلكترونية السابقة، منذ بداية الألف...</td>\n",
       "      <td>Aljazeera</td>\n",
       "      <td>real</td>\n",
       "      <td></td>\n",
       "      <td></td>\n",
       "    </tr>\n",
       "    <tr>\n",
       "      <th>freq</th>\n",
       "      <td>14</td>\n",
       "      <td>2</td>\n",
       "      <td>2</td>\n",
       "      <td>2</td>\n",
       "      <td>168</td>\n",
       "      <td>168</td>\n",
       "      <td>168</td>\n",
       "      <td>168</td>\n",
       "    </tr>\n",
       "  </tbody>\n",
       "</table>\n",
       "</div>"
      ],
      "text/plain": [
       "           Topic                                        Title  \\\n",
       "count        168                                          168   \n",
       "unique        12                                          167   \n",
       "top     politics  الخرائط الإلكترونية صديق لا يخلو من العيوب!   \n",
       "freq          14                                            2   \n",
       "\n",
       "                     Article_url  \\\n",
       "count                        168   \n",
       "unique                       167   \n",
       "top     /opinions/2024/4/12/1293   \n",
       "freq                           2   \n",
       "\n",
       "                                          Article_content    Origine Label  \\\n",
       "count                                                 168        168   168   \n",
       "unique                                                167          1     1   \n",
       "top     في الحقبة الإلكترونية السابقة، منذ بداية الألف...  Aljazeera  real   \n",
       "freq                                                    2        168   168   \n",
       "\n",
       "       Article_correction Article_date  \n",
       "count                 168          168  \n",
       "unique                  1            1  \n",
       "top                                     \n",
       "freq                  168          168  "
      ]
     },
     "execution_count": 458,
     "metadata": {},
     "output_type": "execute_result"
    }
   ],
   "source": [
    "df1.drop(index=0, inplace=True)\n",
    "df1.describe()"
   ]
  },
  {
   "cell_type": "code",
   "execution_count": 459,
   "metadata": {},
   "outputs": [
    {
     "name": "stdout",
     "output_type": "stream",
     "text": [
      "Topic\n",
      "arts         14\n",
      "business     14\n",
      "culture      14\n",
      "family       14\n",
      "lifestyle    14\n",
      "midan        14\n",
      "opinion      14\n",
      "politics     14\n",
      "science      14\n",
      "sport        14\n",
      "tech         14\n",
      "turath       14\n",
      "dtype: int64\n"
     ]
    }
   ],
   "source": [
    "\n",
    "label_counts_counts = df1.groupby('Topic').size()\n",
    "print(label_counts_counts)"
   ]
  },
  {
   "cell_type": "markdown",
   "metadata": {},
   "source": [
    "DF2 - BBC"
   ]
  },
  {
   "cell_type": "code",
   "execution_count": 460,
   "metadata": {},
   "outputs": [
    {
     "data": {
      "text/html": [
       "<div>\n",
       "<style scoped>\n",
       "    .dataframe tbody tr th:only-of-type {\n",
       "        vertical-align: middle;\n",
       "    }\n",
       "\n",
       "    .dataframe tbody tr th {\n",
       "        vertical-align: top;\n",
       "    }\n",
       "\n",
       "    .dataframe thead th {\n",
       "        text-align: right;\n",
       "    }\n",
       "</style>\n",
       "<table border=\"1\" class=\"dataframe\">\n",
       "  <thead>\n",
       "    <tr style=\"text-align: right;\">\n",
       "      <th></th>\n",
       "      <th>Topic</th>\n",
       "      <th>Title</th>\n",
       "      <th>Article_url</th>\n",
       "      <th>Article_date</th>\n",
       "      <th>Article_content</th>\n",
       "      <th>Origine</th>\n",
       "      <th>Label</th>\n",
       "      <th>Article_correction</th>\n",
       "    </tr>\n",
       "  </thead>\n",
       "  <tbody>\n",
       "    <tr>\n",
       "      <th>0</th>\n",
       "      <td>Category</td>\n",
       "      <td>Title</td>\n",
       "      <td>Link</td>\n",
       "      <td>Date</td>\n",
       "      <td>Text</td>\n",
       "      <td>BBC</td>\n",
       "      <td>real</td>\n",
       "      <td></td>\n",
       "    </tr>\n",
       "    <tr>\n",
       "      <th>1</th>\n",
       "      <td>Science and Technology</td>\n",
       "      <td>ما أسباب ارتفاع معدل الانتحار بين الشباب الأمر...</td>\n",
       "      <td>https://www.bbc.com/arabic/articles/cv2rlg7vzm2o</td>\n",
       "      <td>قبل 9 ساعة</td>\n",
       "      <td>** تحذير: يحتوي المقال على قصص وحقائق قد يجدها...</td>\n",
       "      <td>BBC</td>\n",
       "      <td>real</td>\n",
       "      <td></td>\n",
       "    </tr>\n",
       "    <tr>\n",
       "      <th>2</th>\n",
       "      <td>Science and Technology</td>\n",
       "      <td>كيف تصل هذه \"الكيماويات الضارة\" إلى مياه الشرب؟</td>\n",
       "      <td>https://www.bbc.com/arabic/articles/c296pn0gl34o</td>\n",
       "      <td>11 أبريل/ نيسان 2024</td>\n",
       "      <td>إنها توجد في المياه التي نشربها، وفي أغلفة الأ...</td>\n",
       "      <td>BBC</td>\n",
       "      <td>real</td>\n",
       "      <td></td>\n",
       "    </tr>\n",
       "    <tr>\n",
       "      <th>3</th>\n",
       "      <td>Science and Technology</td>\n",
       "      <td>لماذا قد يكون من الصعب العثور على الحب في زمن ...</td>\n",
       "      <td>https://www.bbc.com/arabic/articles/ce7rdg8er0zo</td>\n",
       "      <td>11 أبريل/ نيسان 2024</td>\n",
       "      <td>يقول بول سي برونسون، الباحث الرئيسي في تطبيق T...</td>\n",
       "      <td>BBC</td>\n",
       "      <td>real</td>\n",
       "      <td></td>\n",
       "    </tr>\n",
       "    <tr>\n",
       "      <th>4</th>\n",
       "      <td>Science and Technology</td>\n",
       "      <td>\"هل يمكن اتهام حلفاء إسرائيل بارتكاب جرائم حرب...</td>\n",
       "      <td>https://www.bbc.com/arabic/articles/c80zrggz84eo</td>\n",
       "      <td>10 أبريل/ نيسان 2024</td>\n",
       "      <td>نبدأ جولتنا في عرض الصحف من مجلة التايم الأمري...</td>\n",
       "      <td>BBC</td>\n",
       "      <td>real</td>\n",
       "      <td></td>\n",
       "    </tr>\n",
       "  </tbody>\n",
       "</table>\n",
       "</div>"
      ],
      "text/plain": [
       "                    Topic                                              Title  \\\n",
       "0                Category                                              Title   \n",
       "1  Science and Technology  ما أسباب ارتفاع معدل الانتحار بين الشباب الأمر...   \n",
       "2  Science and Technology    كيف تصل هذه \"الكيماويات الضارة\" إلى مياه الشرب؟   \n",
       "3  Science and Technology  لماذا قد يكون من الصعب العثور على الحب في زمن ...   \n",
       "4  Science and Technology  \"هل يمكن اتهام حلفاء إسرائيل بارتكاب جرائم حرب...   \n",
       "\n",
       "                                        Article_url          Article_date  \\\n",
       "0                                              Link                  Date   \n",
       "1  https://www.bbc.com/arabic/articles/cv2rlg7vzm2o            قبل 9 ساعة   \n",
       "2  https://www.bbc.com/arabic/articles/c296pn0gl34o  11 أبريل/ نيسان 2024   \n",
       "3  https://www.bbc.com/arabic/articles/ce7rdg8er0zo  11 أبريل/ نيسان 2024   \n",
       "4  https://www.bbc.com/arabic/articles/c80zrggz84eo  10 أبريل/ نيسان 2024   \n",
       "\n",
       "                                     Article_content Origine Label  \\\n",
       "0                                               Text     BBC  real   \n",
       "1  ** تحذير: يحتوي المقال على قصص وحقائق قد يجدها...     BBC  real   \n",
       "2  إنها توجد في المياه التي نشربها، وفي أغلفة الأ...     BBC  real   \n",
       "3  يقول بول سي برونسون، الباحث الرئيسي في تطبيق T...     BBC  real   \n",
       "4  نبدأ جولتنا في عرض الصحف من مجلة التايم الأمري...     BBC  real   \n",
       "\n",
       "  Article_correction  \n",
       "0                     \n",
       "1                     \n",
       "2                     \n",
       "3                     \n",
       "4                     "
      ]
     },
     "execution_count": 460,
     "metadata": {},
     "output_type": "execute_result"
    }
   ],
   "source": [
    "df2['Label'] = 'real'\n",
    "df2['Article_correction'] = ''\n",
    "# DataFrame 2 (df2)\n",
    "df2.head()\n"
   ]
  },
  {
   "cell_type": "code",
   "execution_count": 461,
   "metadata": {},
   "outputs": [
    {
     "data": {
      "text/html": [
       "<div>\n",
       "<style scoped>\n",
       "    .dataframe tbody tr th:only-of-type {\n",
       "        vertical-align: middle;\n",
       "    }\n",
       "\n",
       "    .dataframe tbody tr th {\n",
       "        vertical-align: top;\n",
       "    }\n",
       "\n",
       "    .dataframe thead th {\n",
       "        text-align: right;\n",
       "    }\n",
       "</style>\n",
       "<table border=\"1\" class=\"dataframe\">\n",
       "  <thead>\n",
       "    <tr style=\"text-align: right;\">\n",
       "      <th></th>\n",
       "      <th>Topic</th>\n",
       "      <th>Title</th>\n",
       "      <th>Article_url</th>\n",
       "      <th>Article_date</th>\n",
       "      <th>Article_content</th>\n",
       "      <th>Origine</th>\n",
       "      <th>Label</th>\n",
       "      <th>Article_correction</th>\n",
       "    </tr>\n",
       "  </thead>\n",
       "  <tbody>\n",
       "    <tr>\n",
       "      <th>count</th>\n",
       "      <td>2389</td>\n",
       "      <td>2389</td>\n",
       "      <td>2389</td>\n",
       "      <td>2389</td>\n",
       "      <td>2389</td>\n",
       "      <td>2389</td>\n",
       "      <td>2389</td>\n",
       "      <td>2389</td>\n",
       "    </tr>\n",
       "    <tr>\n",
       "      <th>unique</th>\n",
       "      <td>3</td>\n",
       "      <td>2389</td>\n",
       "      <td>2389</td>\n",
       "      <td>883</td>\n",
       "      <td>2388</td>\n",
       "      <td>1</td>\n",
       "      <td>1</td>\n",
       "      <td>1</td>\n",
       "    </tr>\n",
       "    <tr>\n",
       "      <th>top</th>\n",
       "      <td>Sport</td>\n",
       "      <td>ما أسباب ارتفاع معدل الانتحار بين الشباب الأمر...</td>\n",
       "      <td>https://www.bbc.com/arabic/articles/cv2rlg7vzm2o</td>\n",
       "      <td>19 يناير/ كانون الثاني 2023</td>\n",
       "      <td>يزور أنيس القديحي معهد علمي في مانشستر للتعرف ...</td>\n",
       "      <td>BBC</td>\n",
       "      <td>real</td>\n",
       "      <td></td>\n",
       "    </tr>\n",
       "    <tr>\n",
       "      <th>freq</th>\n",
       "      <td>809</td>\n",
       "      <td>1</td>\n",
       "      <td>1</td>\n",
       "      <td>15</td>\n",
       "      <td>2</td>\n",
       "      <td>2389</td>\n",
       "      <td>2389</td>\n",
       "      <td>2389</td>\n",
       "    </tr>\n",
       "  </tbody>\n",
       "</table>\n",
       "</div>"
      ],
      "text/plain": [
       "        Topic                                              Title  \\\n",
       "count    2389                                               2389   \n",
       "unique      3                                               2389   \n",
       "top     Sport  ما أسباب ارتفاع معدل الانتحار بين الشباب الأمر...   \n",
       "freq      809                                                  1   \n",
       "\n",
       "                                             Article_url  \\\n",
       "count                                               2389   \n",
       "unique                                              2389   \n",
       "top     https://www.bbc.com/arabic/articles/cv2rlg7vzm2o   \n",
       "freq                                                   1   \n",
       "\n",
       "                       Article_date  \\\n",
       "count                          2389   \n",
       "unique                          883   \n",
       "top     19 يناير/ كانون الثاني 2023   \n",
       "freq                             15   \n",
       "\n",
       "                                          Article_content Origine Label  \\\n",
       "count                                                2389    2389  2389   \n",
       "unique                                               2388       1     1   \n",
       "top     يزور أنيس القديحي معهد علمي في مانشستر للتعرف ...     BBC  real   \n",
       "freq                                                    2    2389  2389   \n",
       "\n",
       "       Article_correction  \n",
       "count                2389  \n",
       "unique                  1  \n",
       "top                        \n",
       "freq                 2389  "
      ]
     },
     "execution_count": 461,
     "metadata": {},
     "output_type": "execute_result"
    }
   ],
   "source": [
    "df2.reset_index(drop=True, inplace=True)\n",
    "df2.drop(index=0, inplace=True)\n",
    "df2.describe()"
   ]
  },
  {
   "cell_type": "code",
   "execution_count": 462,
   "metadata": {},
   "outputs": [
    {
     "name": "stdout",
     "output_type": "stream",
     "text": [
      "Topic\n",
      "Economic                  780\n",
      "Science and Technology    800\n",
      "Sport                     809\n",
      "dtype: int64\n"
     ]
    }
   ],
   "source": [
    "label_counts_counts = df2.groupby('Topic').size()\n",
    "print(label_counts_counts)\n"
   ]
  },
  {
   "cell_type": "markdown",
   "metadata": {},
   "source": [
    "DF3 - CNN"
   ]
  },
  {
   "cell_type": "code",
   "execution_count": 463,
   "metadata": {},
   "outputs": [
    {
     "data": {
      "text/html": [
       "<div>\n",
       "<style scoped>\n",
       "    .dataframe tbody tr th:only-of-type {\n",
       "        vertical-align: middle;\n",
       "    }\n",
       "\n",
       "    .dataframe tbody tr th {\n",
       "        vertical-align: top;\n",
       "    }\n",
       "\n",
       "    .dataframe thead th {\n",
       "        text-align: right;\n",
       "    }\n",
       "</style>\n",
       "<table border=\"1\" class=\"dataframe\">\n",
       "  <thead>\n",
       "    <tr style=\"text-align: right;\">\n",
       "      <th></th>\n",
       "      <th>Article_date</th>\n",
       "      <th>Topic</th>\n",
       "      <th>Article_url</th>\n",
       "      <th>Article_content</th>\n",
       "      <th>Label</th>\n",
       "      <th>Article_correction</th>\n",
       "      <th>Origine</th>\n",
       "      <th>Title</th>\n",
       "    </tr>\n",
       "  </thead>\n",
       "  <tbody>\n",
       "    <tr>\n",
       "      <th>0</th>\n",
       "      <td>title</td>\n",
       "      <td>label</td>\n",
       "      <td>article_date</td>\n",
       "      <td>category_name</td>\n",
       "      <td>real</td>\n",
       "      <td></td>\n",
       "      <td>CNN</td>\n",
       "      <td></td>\n",
       "    </tr>\n",
       "    <tr>\n",
       "      <th>1</th>\n",
       "      <td>2024-04-13 21:14:10</td>\n",
       "      <td>middle-east</td>\n",
       "      <td>https://arabic.cnn.com/middle-east/article/202...</td>\n",
       "      <td>دبي، الإمارات العربية المتحدة (CNN)-- أعلنت هي...</td>\n",
       "      <td>real</td>\n",
       "      <td></td>\n",
       "      <td>CNN</td>\n",
       "      <td></td>\n",
       "    </tr>\n",
       "    <tr>\n",
       "      <th>2</th>\n",
       "      <td>2024-04-13 21:19:15</td>\n",
       "      <td>middle-east</td>\n",
       "      <td>https://arabic.cnn.com/middle-east/article/202...</td>\n",
       "      <td>(CNN)-- دعا البيت الأبيض إيران إلى الإفراج عن ...</td>\n",
       "      <td>real</td>\n",
       "      <td></td>\n",
       "      <td>CNN</td>\n",
       "      <td></td>\n",
       "    </tr>\n",
       "    <tr>\n",
       "      <th>3</th>\n",
       "      <td>2024-04-13 21:19:17</td>\n",
       "      <td>middle-east</td>\n",
       "      <td>https://arabic.cnn.com/middle-east/article/202...</td>\n",
       "      <td>القدس (CNN)-- قال شهود عيان لشبكة CNN، السبت، ...</td>\n",
       "      <td>real</td>\n",
       "      <td></td>\n",
       "      <td>CNN</td>\n",
       "      <td></td>\n",
       "    </tr>\n",
       "    <tr>\n",
       "      <th>4</th>\n",
       "      <td>2024-04-13 21:19:20</td>\n",
       "      <td>middle-east</td>\n",
       "      <td>https://arabic.cnn.com/middle-east/article/202...</td>\n",
       "      <td>(CNN)-- شهد فريق CNN دخول عشرات المستوطنين إلى...</td>\n",
       "      <td>real</td>\n",
       "      <td></td>\n",
       "      <td>CNN</td>\n",
       "      <td></td>\n",
       "    </tr>\n",
       "  </tbody>\n",
       "</table>\n",
       "</div>"
      ],
      "text/plain": [
       "          Article_date        Topic  \\\n",
       "0                title        label   \n",
       "1  2024-04-13 21:14:10  middle-east   \n",
       "2  2024-04-13 21:19:15  middle-east   \n",
       "3  2024-04-13 21:19:17  middle-east   \n",
       "4  2024-04-13 21:19:20  middle-east   \n",
       "\n",
       "                                         Article_url  \\\n",
       "0                                       article_date   \n",
       "1  https://arabic.cnn.com/middle-east/article/202...   \n",
       "2  https://arabic.cnn.com/middle-east/article/202...   \n",
       "3  https://arabic.cnn.com/middle-east/article/202...   \n",
       "4  https://arabic.cnn.com/middle-east/article/202...   \n",
       "\n",
       "                                     Article_content Label Article_correction  \\\n",
       "0                                      category_name  real                      \n",
       "1  دبي، الإمارات العربية المتحدة (CNN)-- أعلنت هي...  real                      \n",
       "2  (CNN)-- دعا البيت الأبيض إيران إلى الإفراج عن ...  real                      \n",
       "3  القدس (CNN)-- قال شهود عيان لشبكة CNN، السبت، ...  real                      \n",
       "4  (CNN)-- شهد فريق CNN دخول عشرات المستوطنين إلى...  real                      \n",
       "\n",
       "  Origine Title  \n",
       "0     CNN        \n",
       "1     CNN        \n",
       "2     CNN        \n",
       "3     CNN        \n",
       "4     CNN        "
      ]
     },
     "execution_count": 463,
     "metadata": {},
     "output_type": "execute_result"
    }
   ],
   "source": [
    "df3['Label'] = 'real'\n",
    "df3['Article_correction'] = ''\n",
    "df3['Title'] = ''\n",
    "# DataFrame 3 (df3)\n",
    "df3.head()\n"
   ]
  },
  {
   "cell_type": "code",
   "execution_count": 464,
   "metadata": {},
   "outputs": [
    {
     "data": {
      "text/html": [
       "<div>\n",
       "<style scoped>\n",
       "    .dataframe tbody tr th:only-of-type {\n",
       "        vertical-align: middle;\n",
       "    }\n",
       "\n",
       "    .dataframe tbody tr th {\n",
       "        vertical-align: top;\n",
       "    }\n",
       "\n",
       "    .dataframe thead th {\n",
       "        text-align: right;\n",
       "    }\n",
       "</style>\n",
       "<table border=\"1\" class=\"dataframe\">\n",
       "  <thead>\n",
       "    <tr style=\"text-align: right;\">\n",
       "      <th></th>\n",
       "      <th>Article_date</th>\n",
       "      <th>Topic</th>\n",
       "      <th>Article_url</th>\n",
       "      <th>Article_content</th>\n",
       "      <th>Label</th>\n",
       "      <th>Article_correction</th>\n",
       "      <th>Origine</th>\n",
       "      <th>Title</th>\n",
       "    </tr>\n",
       "  </thead>\n",
       "  <tbody>\n",
       "    <tr>\n",
       "      <th>count</th>\n",
       "      <td>135</td>\n",
       "      <td>741</td>\n",
       "      <td>741</td>\n",
       "      <td>135</td>\n",
       "      <td>741</td>\n",
       "      <td>741</td>\n",
       "      <td>741</td>\n",
       "      <td>741</td>\n",
       "    </tr>\n",
       "    <tr>\n",
       "      <th>unique</th>\n",
       "      <td>135</td>\n",
       "      <td>7</td>\n",
       "      <td>732</td>\n",
       "      <td>135</td>\n",
       "      <td>1</td>\n",
       "      <td>1</td>\n",
       "      <td>1</td>\n",
       "      <td>1</td>\n",
       "    </tr>\n",
       "    <tr>\n",
       "      <th>top</th>\n",
       "      <td>2024-04-13 21:14:10</td>\n",
       "      <td>sport</td>\n",
       "      <td>https://arabic.cnn.com/middle-east/article/202...</td>\n",
       "      <td>دبي، الإمارات العربية المتحدة (CNN)-- أعلنت هي...</td>\n",
       "      <td>real</td>\n",
       "      <td></td>\n",
       "      <td>CNN</td>\n",
       "      <td></td>\n",
       "    </tr>\n",
       "    <tr>\n",
       "      <th>freq</th>\n",
       "      <td>1</td>\n",
       "      <td>148</td>\n",
       "      <td>2</td>\n",
       "      <td>1</td>\n",
       "      <td>741</td>\n",
       "      <td>741</td>\n",
       "      <td>741</td>\n",
       "      <td>741</td>\n",
       "    </tr>\n",
       "  </tbody>\n",
       "</table>\n",
       "</div>"
      ],
      "text/plain": [
       "               Article_date  Topic  \\\n",
       "count                   135    741   \n",
       "unique                  135      7   \n",
       "top     2024-04-13 21:14:10  sport   \n",
       "freq                      1    148   \n",
       "\n",
       "                                              Article_url  \\\n",
       "count                                                 741   \n",
       "unique                                                732   \n",
       "top     https://arabic.cnn.com/middle-east/article/202...   \n",
       "freq                                                    2   \n",
       "\n",
       "                                          Article_content Label  \\\n",
       "count                                                 135   741   \n",
       "unique                                                135     1   \n",
       "top     دبي، الإمارات العربية المتحدة (CNN)-- أعلنت هي...  real   \n",
       "freq                                                    1   741   \n",
       "\n",
       "       Article_correction Origine Title  \n",
       "count                 741     741   741  \n",
       "unique                  1       1     1  \n",
       "top                           CNN        \n",
       "freq                  741     741   741  "
      ]
     },
     "execution_count": 464,
     "metadata": {},
     "output_type": "execute_result"
    }
   ],
   "source": [
    "df3.reset_index(drop=True, inplace=True)\n",
    "df3.drop(index=0, inplace=True)\n",
    "df3.describe()"
   ]
  },
  {
   "cell_type": "code",
   "execution_count": 465,
   "metadata": {},
   "outputs": [
    {
     "name": "stdout",
     "output_type": "stream",
     "text": [
      "Topic\n",
      "entertainment          66\n",
      "middle-east           147\n",
      "science-and-health     99\n",
      "sport                 148\n",
      "style                 115\n",
      "travel                 77\n",
      "world                  89\n",
      "dtype: int64\n",
      "Label\n",
      "real    741\n",
      "dtype: int64\n"
     ]
    }
   ],
   "source": [
    "label_counts_counts = df3.groupby('Topic').size()\n",
    "print(label_counts_counts)\n",
    "label_counts_counts = df3.groupby('Label').size()\n",
    "print(label_counts_counts)"
   ]
  },
  {
   "cell_type": "markdown",
   "metadata": {},
   "source": [
    "DF4 - Fatabyyano"
   ]
  },
  {
   "cell_type": "code",
   "execution_count": 466,
   "metadata": {},
   "outputs": [
    {
     "data": {
      "text/html": [
       "<div>\n",
       "<style scoped>\n",
       "    .dataframe tbody tr th:only-of-type {\n",
       "        vertical-align: middle;\n",
       "    }\n",
       "\n",
       "    .dataframe tbody tr th {\n",
       "        vertical-align: top;\n",
       "    }\n",
       "\n",
       "    .dataframe thead th {\n",
       "        text-align: right;\n",
       "    }\n",
       "</style>\n",
       "<table border=\"1\" class=\"dataframe\">\n",
       "  <thead>\n",
       "    <tr style=\"text-align: right;\">\n",
       "      <th></th>\n",
       "      <th>Title</th>\n",
       "      <th>Article_url</th>\n",
       "      <th>Label</th>\n",
       "      <th>Article_date</th>\n",
       "      <th>Article_content</th>\n",
       "      <th>Article_correction</th>\n",
       "      <th>Topic</th>\n",
       "      <th>Origine</th>\n",
       "    </tr>\n",
       "  </thead>\n",
       "  <tbody>\n",
       "    <tr>\n",
       "      <th>0</th>\n",
       "      <td>Title</td>\n",
       "      <td>Link</td>\n",
       "      <td>fake</td>\n",
       "      <td>Date</td>\n",
       "      <td>Fake News</td>\n",
       "      <td>Fact News</td>\n",
       "      <td>TOPIC</td>\n",
       "      <td>Fatabyyano</td>\n",
       "    </tr>\n",
       "    <tr>\n",
       "      <th>1</th>\n",
       "      <td>Title</td>\n",
       "      <td>Link</td>\n",
       "      <td>fake</td>\n",
       "      <td>Date</td>\n",
       "      <td>Fake News</td>\n",
       "      <td>Fact News</td>\n",
       "      <td>Sports</td>\n",
       "      <td>Fatabyyano</td>\n",
       "    </tr>\n",
       "    <tr>\n",
       "      <th>2</th>\n",
       "      <td>لا، لم تحظر اليابان لقاحات كوفيد 19، ولا صحة ل...</td>\n",
       "      <td>https://fatabyyano.net/371617829383-2/</td>\n",
       "      <td>fake</td>\n",
       "      <td>2024-04-12T01:59:53+03:00</td>\n",
       "      <td>#عاجل_الان: اليابان تحظر لقاحات كورونا بعد زيا...</td>\n",
       "      <td>\\nبالبحث المباشر في موقع “وزارة الصحة والعمل و...</td>\n",
       "      <td>Politics</td>\n",
       "      <td>Fatabyyano</td>\n",
       "    </tr>\n",
       "    <tr>\n",
       "      <th>3</th>\n",
       "      <td>هذه الصورة لا تظهر تنبؤ مسلسل سيمبسون بحادثة ا...</td>\n",
       "      <td>https://fatabyyano.net/هذه-الصورة-لا-تظهر-تنبؤ...</td>\n",
       "      <td>fake</td>\n",
       "      <td>2024-04-12T01:38:05+03:00</td>\n",
       "      <td>‏هل تنبأ مسلسل عائلة سيمبسون بحادث انهيار جسر ...</td>\n",
       "      <td>انهار جسر “فرانسيس سكوت كي” بمدينة بالتيمور في...</td>\n",
       "      <td>Sports</td>\n",
       "      <td>Fatabyyano</td>\n",
       "    </tr>\n",
       "    <tr>\n",
       "      <th>4</th>\n",
       "      <td>قبطان السفينة التي تسببت بانهيار جسر “فرانسيس ...</td>\n",
       "      <td>https://fatabyyano.net/ربان-السفينة-دالي-التي-...</td>\n",
       "      <td>fake</td>\n",
       "      <td>2024-04-10T04:43:20+03:00</td>\n",
       "      <td>عاجل –\\nتبين أن قبطان السفينة التي اصطدمت بالج...</td>\n",
       "      <td>بحسب وكالة فرانس 24: «انهار جسر “فرانسيس سكوت ...</td>\n",
       "      <td>Politics</td>\n",
       "      <td>Fatabyyano</td>\n",
       "    </tr>\n",
       "  </tbody>\n",
       "</table>\n",
       "</div>"
      ],
      "text/plain": [
       "                                               Title  \\\n",
       "0                                              Title   \n",
       "1                                              Title   \n",
       "2  لا، لم تحظر اليابان لقاحات كوفيد 19، ولا صحة ل...   \n",
       "3  هذه الصورة لا تظهر تنبؤ مسلسل سيمبسون بحادثة ا...   \n",
       "4  قبطان السفينة التي تسببت بانهيار جسر “فرانسيس ...   \n",
       "\n",
       "                                         Article_url Label  \\\n",
       "0                                               Link  fake   \n",
       "1                                               Link  fake   \n",
       "2             https://fatabyyano.net/371617829383-2/  fake   \n",
       "3  https://fatabyyano.net/هذه-الصورة-لا-تظهر-تنبؤ...  fake   \n",
       "4  https://fatabyyano.net/ربان-السفينة-دالي-التي-...  fake   \n",
       "\n",
       "                Article_date  \\\n",
       "0                       Date   \n",
       "1                       Date   \n",
       "2  2024-04-12T01:59:53+03:00   \n",
       "3  2024-04-12T01:38:05+03:00   \n",
       "4  2024-04-10T04:43:20+03:00   \n",
       "\n",
       "                                     Article_content  \\\n",
       "0                                          Fake News   \n",
       "1                                          Fake News   \n",
       "2  #عاجل_الان: اليابان تحظر لقاحات كورونا بعد زيا...   \n",
       "3  ‏هل تنبأ مسلسل عائلة سيمبسون بحادث انهيار جسر ...   \n",
       "4  عاجل –\\nتبين أن قبطان السفينة التي اصطدمت بالج...   \n",
       "\n",
       "                                  Article_correction     Topic     Origine  \n",
       "0                                          Fact News     TOPIC  Fatabyyano  \n",
       "1                                          Fact News    Sports  Fatabyyano  \n",
       "2  \\nبالبحث المباشر في موقع “وزارة الصحة والعمل و...  Politics  Fatabyyano  \n",
       "3  انهار جسر “فرانسيس سكوت كي” بمدينة بالتيمور في...    Sports  Fatabyyano  \n",
       "4  بحسب وكالة فرانس 24: «انهار جسر “فرانسيس سكوت ...  Politics  Fatabyyano  "
      ]
     },
     "execution_count": 466,
     "metadata": {},
     "output_type": "execute_result"
    }
   ],
   "source": [
    "df4['Label'] = 'fake'\n",
    "# DataFrame 4 (df4)\n",
    "df4.head()\n"
   ]
  },
  {
   "cell_type": "code",
   "execution_count": 467,
   "metadata": {},
   "outputs": [
    {
     "data": {
      "text/html": [
       "<div>\n",
       "<style scoped>\n",
       "    .dataframe tbody tr th:only-of-type {\n",
       "        vertical-align: middle;\n",
       "    }\n",
       "\n",
       "    .dataframe tbody tr th {\n",
       "        vertical-align: top;\n",
       "    }\n",
       "\n",
       "    .dataframe thead th {\n",
       "        text-align: right;\n",
       "    }\n",
       "</style>\n",
       "<table border=\"1\" class=\"dataframe\">\n",
       "  <thead>\n",
       "    <tr style=\"text-align: right;\">\n",
       "      <th></th>\n",
       "      <th>Title</th>\n",
       "      <th>Article_url</th>\n",
       "      <th>Label</th>\n",
       "      <th>Article_date</th>\n",
       "      <th>Article_content</th>\n",
       "      <th>Article_correction</th>\n",
       "      <th>Topic</th>\n",
       "      <th>Origine</th>\n",
       "    </tr>\n",
       "  </thead>\n",
       "  <tbody>\n",
       "    <tr>\n",
       "      <th>count</th>\n",
       "      <td>446</td>\n",
       "      <td>446</td>\n",
       "      <td>446</td>\n",
       "      <td>446</td>\n",
       "      <td>446</td>\n",
       "      <td>446</td>\n",
       "      <td>446</td>\n",
       "      <td>446</td>\n",
       "    </tr>\n",
       "    <tr>\n",
       "      <th>unique</th>\n",
       "      <td>446</td>\n",
       "      <td>446</td>\n",
       "      <td>1</td>\n",
       "      <td>446</td>\n",
       "      <td>446</td>\n",
       "      <td>446</td>\n",
       "      <td>7</td>\n",
       "      <td>1</td>\n",
       "    </tr>\n",
       "    <tr>\n",
       "      <th>top</th>\n",
       "      <td>لا، لم تحظر اليابان لقاحات كوفيد 19، ولا صحة ل...</td>\n",
       "      <td>https://fatabyyano.net/371617829383-2/</td>\n",
       "      <td>fake</td>\n",
       "      <td>2024-04-12T01:59:53+03:00</td>\n",
       "      <td>#عاجل_الان: اليابان تحظر لقاحات كورونا بعد زيا...</td>\n",
       "      <td>\\nبالبحث المباشر في موقع “وزارة الصحة والعمل و...</td>\n",
       "      <td>Politics</td>\n",
       "      <td>Fatabyyano</td>\n",
       "    </tr>\n",
       "    <tr>\n",
       "      <th>freq</th>\n",
       "      <td>1</td>\n",
       "      <td>1</td>\n",
       "      <td>446</td>\n",
       "      <td>1</td>\n",
       "      <td>1</td>\n",
       "      <td>1</td>\n",
       "      <td>269</td>\n",
       "      <td>446</td>\n",
       "    </tr>\n",
       "  </tbody>\n",
       "</table>\n",
       "</div>"
      ],
      "text/plain": [
       "                                                    Title  \\\n",
       "count                                                 446   \n",
       "unique                                                446   \n",
       "top     لا، لم تحظر اليابان لقاحات كوفيد 19، ولا صحة ل...   \n",
       "freq                                                    1   \n",
       "\n",
       "                                   Article_url Label  \\\n",
       "count                                      446   446   \n",
       "unique                                     446     1   \n",
       "top     https://fatabyyano.net/371617829383-2/  fake   \n",
       "freq                                         1   446   \n",
       "\n",
       "                     Article_date  \\\n",
       "count                         446   \n",
       "unique                        446   \n",
       "top     2024-04-12T01:59:53+03:00   \n",
       "freq                            1   \n",
       "\n",
       "                                          Article_content  \\\n",
       "count                                                 446   \n",
       "unique                                                446   \n",
       "top     #عاجل_الان: اليابان تحظر لقاحات كورونا بعد زيا...   \n",
       "freq                                                    1   \n",
       "\n",
       "                                       Article_correction     Topic  \\\n",
       "count                                                 446       446   \n",
       "unique                                                446         7   \n",
       "top     \\nبالبحث المباشر في موقع “وزارة الصحة والعمل و...  Politics   \n",
       "freq                                                    1       269   \n",
       "\n",
       "           Origine  \n",
       "count          446  \n",
       "unique           1  \n",
       "top     Fatabyyano  \n",
       "freq           446  "
      ]
     },
     "execution_count": 467,
     "metadata": {},
     "output_type": "execute_result"
    }
   ],
   "source": [
    "df4.reset_index(drop=True, inplace=True)\n",
    "df4.drop(index=[0, 1], inplace=True)\n",
    "df4.describe()"
   ]
  },
  {
   "cell_type": "code",
   "execution_count": 468,
   "metadata": {},
   "outputs": [
    {
     "name": "stdout",
     "output_type": "stream",
     "text": [
      "Topic\n",
      "Culture      10\n",
      "Finance      22\n",
      "Medical       5\n",
      "Politics    269\n",
      "Religion     36\n",
      "Sports       92\n",
      "Tech         12\n",
      "dtype: int64\n",
      "Label\n",
      "fake    446\n",
      "dtype: int64\n"
     ]
    }
   ],
   "source": [
    "topc = df4.groupby('Topic').size()\n",
    "print(topc)\n",
    "label_counts_counts = df4.groupby('Label').size()\n",
    "print(label_counts_counts)"
   ]
  },
  {
   "cell_type": "markdown",
   "metadata": {},
   "source": [
    "DF5 - Matsd24"
   ]
  },
  {
   "cell_type": "code",
   "execution_count": 469,
   "metadata": {},
   "outputs": [
    {
     "data": {
      "text/html": [
       "<div>\n",
       "<style scoped>\n",
       "    .dataframe tbody tr th:only-of-type {\n",
       "        vertical-align: middle;\n",
       "    }\n",
       "\n",
       "    .dataframe tbody tr th {\n",
       "        vertical-align: top;\n",
       "    }\n",
       "\n",
       "    .dataframe thead th {\n",
       "        text-align: right;\n",
       "    }\n",
       "</style>\n",
       "<table border=\"1\" class=\"dataframe\">\n",
       "  <thead>\n",
       "    <tr style=\"text-align: right;\">\n",
       "      <th></th>\n",
       "      <th>Title</th>\n",
       "      <th>Article_date</th>\n",
       "      <th>Topic</th>\n",
       "      <th>Article_url</th>\n",
       "      <th>Article_content</th>\n",
       "      <th>Article_correction</th>\n",
       "      <th>Origine</th>\n",
       "      <th>Label</th>\n",
       "    </tr>\n",
       "  </thead>\n",
       "  <tbody>\n",
       "    <tr>\n",
       "      <th>0</th>\n",
       "      <td>Title</td>\n",
       "      <td>Time</td>\n",
       "      <td>Category</td>\n",
       "      <td>Link</td>\n",
       "      <td>Fake News</td>\n",
       "      <td>Fact News</td>\n",
       "      <td>Matsd24</td>\n",
       "      <td>fake</td>\n",
       "    </tr>\n",
       "    <tr>\n",
       "      <th>1</th>\n",
       "      <td>\"مو سيلفا\" من هو المتهم بترويج أخبار كاذبة عن ...</td>\n",
       "      <td>Mar. 11, 2024</td>\n",
       "      <td>Social</td>\n",
       "      <td>https://matsda2sh.com/details/13210/-%D9%85%D9...</td>\n",
       "      <td>[]</td>\n",
       "      <td>['📌\\xa0 بعد أيام من إعلان النيابة العامة التحق...</td>\n",
       "      <td>Matsd24</td>\n",
       "      <td>fake</td>\n",
       "    </tr>\n",
       "    <tr>\n",
       "      <th>2</th>\n",
       "      <td>بعضها زاد بنسب تتجاوز 600%.. كيف ارتفعت رسوم ا...</td>\n",
       "      <td>Mar. 05, 2024</td>\n",
       "      <td>Social</td>\n",
       "      <td>https://matsda2sh.com/details/13202/%D8%A8%D8%...</td>\n",
       "      <td>[]</td>\n",
       "      <td>['📌 وافق مجلس النواب يوم الأحد 25 فبراير 2024،...</td>\n",
       "      <td>Matsd24</td>\n",
       "      <td>fake</td>\n",
       "    </tr>\n",
       "    <tr>\n",
       "      <th>3</th>\n",
       "      <td>عن السكر والدعم وتصنيف مصر في \"الأمن الغذائي\"....</td>\n",
       "      <td>Feb. 21, 2024</td>\n",
       "      <td>Social</td>\n",
       "      <td>https://matsda2sh.com/details/13184/%D8%B9%D9%...</td>\n",
       "      <td>['الإدعاء\\nخلال لقائه مع برنامج \"بالورقة والقل...</td>\n",
       "      <td>['⭕️ الخطأ الأول: \"تصنيف مصر في مؤشر الأمن الغ...</td>\n",
       "      <td>Matsd24</td>\n",
       "      <td>fake</td>\n",
       "    </tr>\n",
       "    <tr>\n",
       "      <th>4</th>\n",
       "      <td>حقيقة تصريحات حمدي رزق حول عدد اللاجئين في مصر</td>\n",
       "      <td>Feb. 21, 2024</td>\n",
       "      <td>Social</td>\n",
       "      <td>https://matsda2sh.com/details/13183/%D8%AD%D9%...</td>\n",
       "      <td>['الإدعاء\\n\"لن نتحدث عن احتضان ما يربو على 9 م...</td>\n",
       "      <td>['التصحيح: ⬇️⬇️\\n\\n◾ كلام حمدي رزق غير دقيق، ح...</td>\n",
       "      <td>Matsd24</td>\n",
       "      <td>fake</td>\n",
       "    </tr>\n",
       "  </tbody>\n",
       "</table>\n",
       "</div>"
      ],
      "text/plain": [
       "                                               Title   Article_date     Topic  \\\n",
       "0                                              Title           Time  Category   \n",
       "1  \"مو سيلفا\" من هو المتهم بترويج أخبار كاذبة عن ...  Mar. 11, 2024    Social   \n",
       "2  بعضها زاد بنسب تتجاوز 600%.. كيف ارتفعت رسوم ا...  Mar. 05, 2024    Social   \n",
       "3  عن السكر والدعم وتصنيف مصر في \"الأمن الغذائي\"....  Feb. 21, 2024    Social   \n",
       "4     حقيقة تصريحات حمدي رزق حول عدد اللاجئين في مصر  Feb. 21, 2024    Social   \n",
       "\n",
       "                                         Article_url  \\\n",
       "0                                               Link   \n",
       "1  https://matsda2sh.com/details/13210/-%D9%85%D9...   \n",
       "2  https://matsda2sh.com/details/13202/%D8%A8%D8%...   \n",
       "3  https://matsda2sh.com/details/13184/%D8%B9%D9%...   \n",
       "4  https://matsda2sh.com/details/13183/%D8%AD%D9%...   \n",
       "\n",
       "                                     Article_content  \\\n",
       "0                                          Fake News   \n",
       "1                                                 []   \n",
       "2                                                 []   \n",
       "3  ['الإدعاء\\nخلال لقائه مع برنامج \"بالورقة والقل...   \n",
       "4  ['الإدعاء\\n\"لن نتحدث عن احتضان ما يربو على 9 م...   \n",
       "\n",
       "                                  Article_correction  Origine Label  \n",
       "0                                          Fact News  Matsd24  fake  \n",
       "1  ['📌\\xa0 بعد أيام من إعلان النيابة العامة التحق...  Matsd24  fake  \n",
       "2  ['📌 وافق مجلس النواب يوم الأحد 25 فبراير 2024،...  Matsd24  fake  \n",
       "3  ['⭕️ الخطأ الأول: \"تصنيف مصر في مؤشر الأمن الغ...  Matsd24  fake  \n",
       "4  ['التصحيح: ⬇️⬇️\\n\\n◾ كلام حمدي رزق غير دقيق، ح...  Matsd24  fake  "
      ]
     },
     "execution_count": 469,
     "metadata": {},
     "output_type": "execute_result"
    }
   ],
   "source": [
    "df5['Label'] = df5['Article_content'].fillna('').apply(lambda x: 'fake' if (x.strip() != '' or pd.isnull(x)) else 'real')\n",
    "# DataFrame 5 (df5)\n",
    "df5.head()\n"
   ]
  },
  {
   "cell_type": "code",
   "execution_count": 470,
   "metadata": {},
   "outputs": [
    {
     "data": {
      "text/html": [
       "<div>\n",
       "<style scoped>\n",
       "    .dataframe tbody tr th:only-of-type {\n",
       "        vertical-align: middle;\n",
       "    }\n",
       "\n",
       "    .dataframe tbody tr th {\n",
       "        vertical-align: top;\n",
       "    }\n",
       "\n",
       "    .dataframe thead th {\n",
       "        text-align: right;\n",
       "    }\n",
       "</style>\n",
       "<table border=\"1\" class=\"dataframe\">\n",
       "  <thead>\n",
       "    <tr style=\"text-align: right;\">\n",
       "      <th></th>\n",
       "      <th>Title</th>\n",
       "      <th>Article_date</th>\n",
       "      <th>Topic</th>\n",
       "      <th>Article_url</th>\n",
       "      <th>Article_content</th>\n",
       "      <th>Article_correction</th>\n",
       "      <th>Origine</th>\n",
       "      <th>Label</th>\n",
       "    </tr>\n",
       "  </thead>\n",
       "  <tbody>\n",
       "    <tr>\n",
       "      <th>count</th>\n",
       "      <td>1968</td>\n",
       "      <td>1968</td>\n",
       "      <td>1968</td>\n",
       "      <td>1968</td>\n",
       "      <td>1968</td>\n",
       "      <td>1968</td>\n",
       "      <td>1968</td>\n",
       "      <td>1968</td>\n",
       "    </tr>\n",
       "    <tr>\n",
       "      <th>unique</th>\n",
       "      <td>1968</td>\n",
       "      <td>1027</td>\n",
       "      <td>6</td>\n",
       "      <td>1968</td>\n",
       "      <td>1806</td>\n",
       "      <td>1922</td>\n",
       "      <td>1</td>\n",
       "      <td>1</td>\n",
       "    </tr>\n",
       "    <tr>\n",
       "      <th>top</th>\n",
       "      <td>\"مو سيلفا\" من هو المتهم بترويج أخبار كاذبة عن ...</td>\n",
       "      <td>May. 19, 2021</td>\n",
       "      <td>Politics</td>\n",
       "      <td>https://matsda2sh.com/details/13210/-%D9%85%D9...</td>\n",
       "      <td>[]</td>\n",
       "      <td>['']</td>\n",
       "      <td>Matsd24</td>\n",
       "      <td>fake</td>\n",
       "    </tr>\n",
       "    <tr>\n",
       "      <th>freq</th>\n",
       "      <td>1</td>\n",
       "      <td>22</td>\n",
       "      <td>700</td>\n",
       "      <td>1</td>\n",
       "      <td>150</td>\n",
       "      <td>38</td>\n",
       "      <td>1968</td>\n",
       "      <td>1968</td>\n",
       "    </tr>\n",
       "  </tbody>\n",
       "</table>\n",
       "</div>"
      ],
      "text/plain": [
       "                                                    Title   Article_date  \\\n",
       "count                                                1968           1968   \n",
       "unique                                               1968           1027   \n",
       "top     \"مو سيلفا\" من هو المتهم بترويج أخبار كاذبة عن ...  May. 19, 2021   \n",
       "freq                                                    1             22   \n",
       "\n",
       "           Topic                                        Article_url  \\\n",
       "count       1968                                               1968   \n",
       "unique         6                                               1968   \n",
       "top     Politics  https://matsda2sh.com/details/13210/-%D9%85%D9...   \n",
       "freq         700                                                  1   \n",
       "\n",
       "       Article_content Article_correction  Origine Label  \n",
       "count             1968               1968     1968  1968  \n",
       "unique            1806               1922        1     1  \n",
       "top                 []               ['']  Matsd24  fake  \n",
       "freq               150                 38     1968  1968  "
      ]
     },
     "execution_count": 470,
     "metadata": {},
     "output_type": "execute_result"
    }
   ],
   "source": [
    "df5.reset_index(drop=True, inplace=True)\n",
    "df5.drop(index=0 , inplace=True)\n",
    "df5.describe()"
   ]
  },
  {
   "cell_type": "code",
   "execution_count": 471,
   "metadata": {},
   "outputs": [
    {
     "name": "stdout",
     "output_type": "stream",
     "text": [
      "Topic\n",
      "Economy       321\n",
      "Politics      700\n",
      "Science        99\n",
      "Social        405\n",
      "Sport         404\n",
      "Technology     39\n",
      "dtype: int64\n",
      "Label\n",
      "fake    1968\n",
      "dtype: int64\n"
     ]
    }
   ],
   "source": [
    "topc = df5.groupby('Topic').size()\n",
    "print(topc)\n",
    "label_counts_counts = df5.groupby('Label').size()\n",
    "print(label_counts_counts)"
   ]
  },
  {
   "cell_type": "markdown",
   "metadata": {},
   "source": [
    "DF6 - MISBAR EDITORIAL"
   ]
  },
  {
   "cell_type": "code",
   "execution_count": 472,
   "metadata": {},
   "outputs": [
    {
     "data": {
      "text/html": [
       "<div>\n",
       "<style scoped>\n",
       "    .dataframe tbody tr th:only-of-type {\n",
       "        vertical-align: middle;\n",
       "    }\n",
       "\n",
       "    .dataframe tbody tr th {\n",
       "        vertical-align: top;\n",
       "    }\n",
       "\n",
       "    .dataframe thead th {\n",
       "        text-align: right;\n",
       "    }\n",
       "</style>\n",
       "<table border=\"1\" class=\"dataframe\">\n",
       "  <thead>\n",
       "    <tr style=\"text-align: right;\">\n",
       "      <th></th>\n",
       "      <th>Topic</th>\n",
       "      <th>Title</th>\n",
       "      <th>Article_date</th>\n",
       "      <th>Article_url</th>\n",
       "      <th>Article_content</th>\n",
       "      <th>Label</th>\n",
       "      <th>Origine</th>\n",
       "      <th>Article_correction</th>\n",
       "    </tr>\n",
       "  </thead>\n",
       "  <tbody>\n",
       "    <tr>\n",
       "      <th>0</th>\n",
       "      <td>Category</td>\n",
       "      <td>Title</td>\n",
       "      <td>Date</td>\n",
       "      <td>URL</td>\n",
       "      <td>Label</td>\n",
       "      <td>Content</td>\n",
       "      <td>MISBAR</td>\n",
       "      <td></td>\n",
       "    </tr>\n",
       "    <tr>\n",
       "      <th>1</th>\n",
       "      <td>أخبار</td>\n",
       "      <td>اليوم العالمي لتدقيق المعلومات: محاربة التضليل...</td>\n",
       "      <td>3 أبريل 2024</td>\n",
       "      <td>https://misbar.com/editorial/2024/04/03/%D8%A7...</td>\n",
       "      <td>هذا التقرير مترجم عن مقال نشر في مسبار النسخة ...</td>\n",
       "      <td>real</td>\n",
       "      <td>MISBAR</td>\n",
       "      <td></td>\n",
       "    </tr>\n",
       "    <tr>\n",
       "      <th>2</th>\n",
       "      <td>أخبار</td>\n",
       "      <td>أبرز الادعاءات المضللة التي طاولت المظاهرات ال...</td>\n",
       "      <td>3 أبريل 2024</td>\n",
       "      <td>https://misbar.com/editorial/2024/04/02/%D8%A3...</td>\n",
       "      <td>منذ بدء العدوان الإسرائيلي على قطاع غزة في الس...</td>\n",
       "      <td>real</td>\n",
       "      <td>MISBAR</td>\n",
       "      <td></td>\n",
       "    </tr>\n",
       "    <tr>\n",
       "      <th>3</th>\n",
       "      <td>أخبار</td>\n",
       "      <td>مستشفى الشفاء: أبرز ما طاولته المزاعم الإسرائي...</td>\n",
       "      <td>2 أبريل 2024</td>\n",
       "      <td>https://misbar.com/editorial/2024/04/02/%D9%85...</td>\n",
       "      <td>منذ الشهر الأول للعدوان الإسرائيلي على قطاع غز...</td>\n",
       "      <td>real</td>\n",
       "      <td>MISBAR</td>\n",
       "      <td></td>\n",
       "    </tr>\n",
       "    <tr>\n",
       "      <th>4</th>\n",
       "      <td>تكنولوجيا</td>\n",
       "      <td>التضليل في ترويج السلع باستخدام الصور المولدة ...</td>\n",
       "      <td>2 أبريل 2024</td>\n",
       "      <td>https://misbar.com/editorial/2024/04/02/%D8%A7...</td>\n",
       "      <td>مع سهولة وصول عامّة الناس إلى أدوات الذكاء الا...</td>\n",
       "      <td>real</td>\n",
       "      <td>MISBAR</td>\n",
       "      <td></td>\n",
       "    </tr>\n",
       "  </tbody>\n",
       "</table>\n",
       "</div>"
      ],
      "text/plain": [
       "       Topic                                              Title  Article_date  \\\n",
       "0   Category                                              Title          Date   \n",
       "1      أخبار  اليوم العالمي لتدقيق المعلومات: محاربة التضليل...  3 أبريل 2024   \n",
       "2      أخبار  أبرز الادعاءات المضللة التي طاولت المظاهرات ال...  3 أبريل 2024   \n",
       "3      أخبار  مستشفى الشفاء: أبرز ما طاولته المزاعم الإسرائي...  2 أبريل 2024   \n",
       "4  تكنولوجيا  التضليل في ترويج السلع باستخدام الصور المولدة ...  2 أبريل 2024   \n",
       "\n",
       "                                         Article_url  \\\n",
       "0                                                URL   \n",
       "1  https://misbar.com/editorial/2024/04/03/%D8%A7...   \n",
       "2  https://misbar.com/editorial/2024/04/02/%D8%A3...   \n",
       "3  https://misbar.com/editorial/2024/04/02/%D9%85...   \n",
       "4  https://misbar.com/editorial/2024/04/02/%D8%A7...   \n",
       "\n",
       "                                     Article_content    Label Origine  \\\n",
       "0                                              Label  Content  MISBAR   \n",
       "1  هذا التقرير مترجم عن مقال نشر في مسبار النسخة ...     real  MISBAR   \n",
       "2  منذ بدء العدوان الإسرائيلي على قطاع غزة في الس...     real  MISBAR   \n",
       "3  منذ الشهر الأول للعدوان الإسرائيلي على قطاع غز...     real  MISBAR   \n",
       "4  مع سهولة وصول عامّة الناس إلى أدوات الذكاء الا...     real  MISBAR   \n",
       "\n",
       "  Article_correction  \n",
       "0                     \n",
       "1                     \n",
       "2                     \n",
       "3                     \n",
       "4                     "
      ]
     },
     "execution_count": 472,
     "metadata": {},
     "output_type": "execute_result"
    }
   ],
   "source": [
    "df6['Article_correction'] = ''\n",
    "# DataFrame 6 (df6)\n",
    "df6.head()\n"
   ]
  },
  {
   "cell_type": "code",
   "execution_count": 473,
   "metadata": {},
   "outputs": [],
   "source": [
    "translation_dict = {\n",
    "    'أخبار': 'news',\n",
    "    'أعمال': 'business',\n",
    "    'تكنولوجيا': 'Tech',\n",
    "    'ثقافة وفن': 'Culture',\n",
    "    'سياسة': 'Politics'\n",
    "}\n",
    "\n",
    "# Replace Arabic topic names with translations\n",
    "df6['Topic'] = df6['Topic'].map(translation_dict)\n"
   ]
  },
  {
   "cell_type": "code",
   "execution_count": 474,
   "metadata": {},
   "outputs": [
    {
     "data": {
      "text/html": [
       "<div>\n",
       "<style scoped>\n",
       "    .dataframe tbody tr th:only-of-type {\n",
       "        vertical-align: middle;\n",
       "    }\n",
       "\n",
       "    .dataframe tbody tr th {\n",
       "        vertical-align: top;\n",
       "    }\n",
       "\n",
       "    .dataframe thead th {\n",
       "        text-align: right;\n",
       "    }\n",
       "</style>\n",
       "<table border=\"1\" class=\"dataframe\">\n",
       "  <thead>\n",
       "    <tr style=\"text-align: right;\">\n",
       "      <th></th>\n",
       "      <th>Topic</th>\n",
       "      <th>Title</th>\n",
       "      <th>Article_date</th>\n",
       "      <th>Article_url</th>\n",
       "      <th>Article_content</th>\n",
       "      <th>Label</th>\n",
       "      <th>Origine</th>\n",
       "      <th>Article_correction</th>\n",
       "    </tr>\n",
       "  </thead>\n",
       "  <tbody>\n",
       "    <tr>\n",
       "      <th>count</th>\n",
       "      <td>364</td>\n",
       "      <td>364</td>\n",
       "      <td>364</td>\n",
       "      <td>364</td>\n",
       "      <td>364</td>\n",
       "      <td>364</td>\n",
       "      <td>364</td>\n",
       "      <td>364</td>\n",
       "    </tr>\n",
       "    <tr>\n",
       "      <th>unique</th>\n",
       "      <td>5</td>\n",
       "      <td>63</td>\n",
       "      <td>37</td>\n",
       "      <td>63</td>\n",
       "      <td>86</td>\n",
       "      <td>1</td>\n",
       "      <td>1</td>\n",
       "      <td>1</td>\n",
       "    </tr>\n",
       "    <tr>\n",
       "      <th>top</th>\n",
       "      <td>news</td>\n",
       "      <td>اليوم العالمي لتدقيق المعلومات: محاربة التضليل...</td>\n",
       "      <td>5 مارس 2024</td>\n",
       "      <td>https://misbar.com/editorial/2024/04/03/%D8%A7...</td>\n",
       "      <td>Content not available</td>\n",
       "      <td>real</td>\n",
       "      <td>MISBAR</td>\n",
       "      <td></td>\n",
       "    </tr>\n",
       "    <tr>\n",
       "      <th>freq</th>\n",
       "      <td>240</td>\n",
       "      <td>9</td>\n",
       "      <td>21</td>\n",
       "      <td>9</td>\n",
       "      <td>66</td>\n",
       "      <td>364</td>\n",
       "      <td>364</td>\n",
       "      <td>364</td>\n",
       "    </tr>\n",
       "  </tbody>\n",
       "</table>\n",
       "</div>"
      ],
      "text/plain": [
       "       Topic                                              Title Article_date  \\\n",
       "count    364                                                364          364   \n",
       "unique     5                                                 63           37   \n",
       "top     news  اليوم العالمي لتدقيق المعلومات: محاربة التضليل...  5 مارس 2024   \n",
       "freq     240                                                  9           21   \n",
       "\n",
       "                                              Article_url  \\\n",
       "count                                                 364   \n",
       "unique                                                 63   \n",
       "top     https://misbar.com/editorial/2024/04/03/%D8%A7...   \n",
       "freq                                                    9   \n",
       "\n",
       "              Article_content Label Origine Article_correction  \n",
       "count                     364   364     364                364  \n",
       "unique                     86     1       1                  1  \n",
       "top     Content not available  real  MISBAR                     \n",
       "freq                       66   364     364                364  "
      ]
     },
     "execution_count": 474,
     "metadata": {},
     "output_type": "execute_result"
    }
   ],
   "source": [
    "df6.reset_index(drop=True, inplace=True)\n",
    "df6.drop(index=0, inplace=True)\n",
    "df6.describe()"
   ]
  },
  {
   "cell_type": "code",
   "execution_count": 475,
   "metadata": {},
   "outputs": [
    {
     "name": "stdout",
     "output_type": "stream",
     "text": [
      "Topic\n",
      "Culture       2\n",
      "Politics     68\n",
      "Tech         36\n",
      "business     18\n",
      "news        240\n",
      "dtype: int64\n",
      "Label\n",
      "real    364\n",
      "dtype: int64\n"
     ]
    }
   ],
   "source": [
    "topc = df6.groupby('Topic').size()\n",
    "print(topc)\n",
    "label_counts_counts = df6.groupby('Label').size()\n",
    "print(label_counts_counts)"
   ]
  },
  {
   "cell_type": "markdown",
   "metadata": {},
   "source": [
    "DF7 - MISBAR FACTCHECK"
   ]
  },
  {
   "cell_type": "code",
   "execution_count": 476,
   "metadata": {},
   "outputs": [
    {
     "data": {
      "text/html": [
       "<div>\n",
       "<style scoped>\n",
       "    .dataframe tbody tr th:only-of-type {\n",
       "        vertical-align: middle;\n",
       "    }\n",
       "\n",
       "    .dataframe tbody tr th {\n",
       "        vertical-align: top;\n",
       "    }\n",
       "\n",
       "    .dataframe thead th {\n",
       "        text-align: right;\n",
       "    }\n",
       "</style>\n",
       "<table border=\"1\" class=\"dataframe\">\n",
       "  <thead>\n",
       "    <tr style=\"text-align: right;\">\n",
       "      <th></th>\n",
       "      <th>Topic</th>\n",
       "      <th>Title</th>\n",
       "      <th>Label</th>\n",
       "      <th>Article_date</th>\n",
       "      <th>Article_url</th>\n",
       "      <th>Article_content</th>\n",
       "      <th>Origine</th>\n",
       "      <th>Article_correction</th>\n",
       "    </tr>\n",
       "  </thead>\n",
       "  <tbody>\n",
       "    <tr>\n",
       "      <th>0</th>\n",
       "      <td>Category</td>\n",
       "      <td>Title</td>\n",
       "      <td>Label</td>\n",
       "      <td>Date</td>\n",
       "      <td>URL</td>\n",
       "      <td>Content</td>\n",
       "      <td>MISBAR</td>\n",
       "      <td></td>\n",
       "    </tr>\n",
       "    <tr>\n",
       "      <th>1</th>\n",
       "      <td>culture</td>\n",
       "      <td>الفيديو قديم ولم يطلب محمد رمضان من المصريين ع...</td>\n",
       "      <td>fake</td>\n",
       "      <td>19 فبراير 2024</td>\n",
       "      <td>https://misbar.com/factcheck/2024/02/19/%D8%A7...</td>\n",
       "      <td>تتداول حسابات وصفحات على مواقع التواصل الاجتما...</td>\n",
       "      <td>MISBAR</td>\n",
       "      <td></td>\n",
       "    </tr>\n",
       "    <tr>\n",
       "      <th>2</th>\n",
       "      <td>culture</td>\n",
       "      <td>الفيديو من عام 2020 وليس لظهور الفنان المصري إ...</td>\n",
       "      <td>fake</td>\n",
       "      <td>19 فبراير 2024</td>\n",
       "      <td>https://misbar.com/factcheck/2024/02/19/%D8%A7...</td>\n",
       "      <td>تتداول حسابات وصفحات على موقع التواصل الاجتماع...</td>\n",
       "      <td>MISBAR</td>\n",
       "      <td></td>\n",
       "    </tr>\n",
       "    <tr>\n",
       "      <th>3</th>\n",
       "      <td>culture</td>\n",
       "      <td>الفيديو قديم وليس لوجود محمد سلام في ملهى ليلي...</td>\n",
       "      <td>fake</td>\n",
       "      <td>2 نوفمبر 2023</td>\n",
       "      <td>https://misbar.com/factcheck/2023/11/02/%D8%A7...</td>\n",
       "      <td>تتداول حسابات وصفحات على موقع التواصل الاجتماع...</td>\n",
       "      <td>MISBAR</td>\n",
       "      <td></td>\n",
       "    </tr>\n",
       "    <tr>\n",
       "      <th>4</th>\n",
       "      <td>culture</td>\n",
       "      <td>ديانا حداد لم تعتزل الغناء بعد اعتناقها الإسلام</td>\n",
       "      <td>fake</td>\n",
       "      <td>4 أكتوبر 2023</td>\n",
       "      <td>https://misbar.com/factcheck/2023/10/04/%D8%AF...</td>\n",
       "      <td>تتداول حسابات وصفحات على مواقع التواصل الاجتما...</td>\n",
       "      <td>MISBAR</td>\n",
       "      <td></td>\n",
       "    </tr>\n",
       "  </tbody>\n",
       "</table>\n",
       "</div>"
      ],
      "text/plain": [
       "      Topic                                              Title  Label  \\\n",
       "0  Category                                              Title  Label   \n",
       "1   culture  الفيديو قديم ولم يطلب محمد رمضان من المصريين ع...   fake   \n",
       "2   culture  الفيديو من عام 2020 وليس لظهور الفنان المصري إ...   fake   \n",
       "3   culture  الفيديو قديم وليس لوجود محمد سلام في ملهى ليلي...   fake   \n",
       "4   culture    ديانا حداد لم تعتزل الغناء بعد اعتناقها الإسلام   fake   \n",
       "\n",
       "     Article_date                                        Article_url  \\\n",
       "0            Date                                                URL   \n",
       "1  19 فبراير 2024  https://misbar.com/factcheck/2024/02/19/%D8%A7...   \n",
       "2  19 فبراير 2024  https://misbar.com/factcheck/2024/02/19/%D8%A7...   \n",
       "3   2 نوفمبر 2023  https://misbar.com/factcheck/2023/11/02/%D8%A7...   \n",
       "4   4 أكتوبر 2023  https://misbar.com/factcheck/2023/10/04/%D8%AF...   \n",
       "\n",
       "                                     Article_content Origine  \\\n",
       "0                                            Content  MISBAR   \n",
       "1  تتداول حسابات وصفحات على مواقع التواصل الاجتما...  MISBAR   \n",
       "2  تتداول حسابات وصفحات على موقع التواصل الاجتماع...  MISBAR   \n",
       "3  تتداول حسابات وصفحات على موقع التواصل الاجتماع...  MISBAR   \n",
       "4  تتداول حسابات وصفحات على مواقع التواصل الاجتما...  MISBAR   \n",
       "\n",
       "  Article_correction  \n",
       "0                     \n",
       "1                     \n",
       "2                     \n",
       "3                     \n",
       "4                     "
      ]
     },
     "execution_count": 476,
     "metadata": {},
     "output_type": "execute_result"
    }
   ],
   "source": [
    "df7['Article_correction'] = ''\n",
    "# DataFrame 7 (df7)\n",
    "df7.head()\n"
   ]
  },
  {
   "cell_type": "code",
   "execution_count": 477,
   "metadata": {},
   "outputs": [],
   "source": [
    "df7.reset_index(drop=True, inplace=True)\n",
    "df7.drop(index=0, inplace=True)\n"
   ]
  },
  {
   "cell_type": "code",
   "execution_count": 478,
   "metadata": {},
   "outputs": [
    {
     "data": {
      "text/html": [
       "<div>\n",
       "<style scoped>\n",
       "    .dataframe tbody tr th:only-of-type {\n",
       "        vertical-align: middle;\n",
       "    }\n",
       "\n",
       "    .dataframe tbody tr th {\n",
       "        vertical-align: top;\n",
       "    }\n",
       "\n",
       "    .dataframe thead th {\n",
       "        text-align: right;\n",
       "    }\n",
       "</style>\n",
       "<table border=\"1\" class=\"dataframe\">\n",
       "  <thead>\n",
       "    <tr style=\"text-align: right;\">\n",
       "      <th></th>\n",
       "      <th>Topic</th>\n",
       "      <th>Title</th>\n",
       "      <th>Label</th>\n",
       "      <th>Article_date</th>\n",
       "      <th>Article_url</th>\n",
       "      <th>Article_content</th>\n",
       "      <th>Origine</th>\n",
       "      <th>Article_correction</th>\n",
       "    </tr>\n",
       "  </thead>\n",
       "  <tbody>\n",
       "    <tr>\n",
       "      <th>1</th>\n",
       "      <td>culture</td>\n",
       "      <td>الفيديو قديم ولم يطلب محمد رمضان من المصريين ع...</td>\n",
       "      <td>fake</td>\n",
       "      <td>19 فبراير 2024</td>\n",
       "      <td>https://misbar.com/factcheck/2024/02/19/%D8%A7...</td>\n",
       "      <td>تتداول حسابات وصفحات على مواقع التواصل الاجتما...</td>\n",
       "      <td>MISBAR</td>\n",
       "      <td></td>\n",
       "    </tr>\n",
       "    <tr>\n",
       "      <th>2</th>\n",
       "      <td>culture</td>\n",
       "      <td>الفيديو من عام 2020 وليس لظهور الفنان المصري إ...</td>\n",
       "      <td>fake</td>\n",
       "      <td>19 فبراير 2024</td>\n",
       "      <td>https://misbar.com/factcheck/2024/02/19/%D8%A7...</td>\n",
       "      <td>تتداول حسابات وصفحات على موقع التواصل الاجتماع...</td>\n",
       "      <td>MISBAR</td>\n",
       "      <td></td>\n",
       "    </tr>\n",
       "    <tr>\n",
       "      <th>3</th>\n",
       "      <td>culture</td>\n",
       "      <td>الفيديو قديم وليس لوجود محمد سلام في ملهى ليلي...</td>\n",
       "      <td>fake</td>\n",
       "      <td>2 نوفمبر 2023</td>\n",
       "      <td>https://misbar.com/factcheck/2023/11/02/%D8%A7...</td>\n",
       "      <td>تتداول حسابات وصفحات على موقع التواصل الاجتماع...</td>\n",
       "      <td>MISBAR</td>\n",
       "      <td></td>\n",
       "    </tr>\n",
       "    <tr>\n",
       "      <th>4</th>\n",
       "      <td>culture</td>\n",
       "      <td>ديانا حداد لم تعتزل الغناء بعد اعتناقها الإسلام</td>\n",
       "      <td>fake</td>\n",
       "      <td>4 أكتوبر 2023</td>\n",
       "      <td>https://misbar.com/factcheck/2023/10/04/%D8%AF...</td>\n",
       "      <td>تتداول حسابات وصفحات على مواقع التواصل الاجتما...</td>\n",
       "      <td>MISBAR</td>\n",
       "      <td></td>\n",
       "    </tr>\n",
       "    <tr>\n",
       "      <th>5</th>\n",
       "      <td>culture</td>\n",
       "      <td>الفيديو تصميم فني وليس لأخطبوط تسلّل إلى موقف ...</td>\n",
       "      <td>fake</td>\n",
       "      <td>30 سبتمبر 2023</td>\n",
       "      <td>https://misbar.com/factcheck/2023/09/30/%D8%A7...</td>\n",
       "      <td>تتداول حسابات على مواقع التواصل الاجتماعي، حدي...</td>\n",
       "      <td>MISBAR</td>\n",
       "      <td></td>\n",
       "    </tr>\n",
       "  </tbody>\n",
       "</table>\n",
       "</div>"
      ],
      "text/plain": [
       "     Topic                                              Title Label  \\\n",
       "1  culture  الفيديو قديم ولم يطلب محمد رمضان من المصريين ع...  fake   \n",
       "2  culture  الفيديو من عام 2020 وليس لظهور الفنان المصري إ...  fake   \n",
       "3  culture  الفيديو قديم وليس لوجود محمد سلام في ملهى ليلي...  fake   \n",
       "4  culture    ديانا حداد لم تعتزل الغناء بعد اعتناقها الإسلام  fake   \n",
       "5  culture  الفيديو تصميم فني وليس لأخطبوط تسلّل إلى موقف ...  fake   \n",
       "\n",
       "     Article_date                                        Article_url  \\\n",
       "1  19 فبراير 2024  https://misbar.com/factcheck/2024/02/19/%D8%A7...   \n",
       "2  19 فبراير 2024  https://misbar.com/factcheck/2024/02/19/%D8%A7...   \n",
       "3   2 نوفمبر 2023  https://misbar.com/factcheck/2023/11/02/%D8%A7...   \n",
       "4   4 أكتوبر 2023  https://misbar.com/factcheck/2023/10/04/%D8%AF...   \n",
       "5  30 سبتمبر 2023  https://misbar.com/factcheck/2023/09/30/%D8%A7...   \n",
       "\n",
       "                                     Article_content Origine  \\\n",
       "1  تتداول حسابات وصفحات على مواقع التواصل الاجتما...  MISBAR   \n",
       "2  تتداول حسابات وصفحات على موقع التواصل الاجتماع...  MISBAR   \n",
       "3  تتداول حسابات وصفحات على موقع التواصل الاجتماع...  MISBAR   \n",
       "4  تتداول حسابات وصفحات على مواقع التواصل الاجتما...  MISBAR   \n",
       "5  تتداول حسابات على مواقع التواصل الاجتماعي، حدي...  MISBAR   \n",
       "\n",
       "  Article_correction  \n",
       "1                     \n",
       "2                     \n",
       "3                     \n",
       "4                     \n",
       "5                     "
      ]
     },
     "execution_count": 478,
     "metadata": {},
     "output_type": "execute_result"
    }
   ],
   "source": [
    "# DataFrame 7 (df7)\n",
    "df7.head()"
   ]
  },
  {
   "cell_type": "code",
   "execution_count": 479,
   "metadata": {},
   "outputs": [
    {
     "name": "stdout",
     "output_type": "stream",
     "text": [
      "Topic\n",
      "culture           84\n",
      "entertainment     84\n",
      "health           103\n",
      "news             174\n",
      "politics          54\n",
      "sport            322\n",
      "tech              76\n",
      "dtype: int64\n",
      "Label\n",
      "fake    897\n",
      "dtype: int64\n"
     ]
    }
   ],
   "source": [
    "topc = df7.groupby('Topic').size()\n",
    "print(topc)\n",
    "label_counts_counts = df7.groupby('Label').size()\n",
    "print(label_counts_counts)"
   ]
  },
  {
   "cell_type": "markdown",
   "metadata": {},
   "source": [
    "DF8 - VerifySy"
   ]
  },
  {
   "cell_type": "code",
   "execution_count": 480,
   "metadata": {},
   "outputs": [
    {
     "data": {
      "text/html": [
       "<div>\n",
       "<style scoped>\n",
       "    .dataframe tbody tr th:only-of-type {\n",
       "        vertical-align: middle;\n",
       "    }\n",
       "\n",
       "    .dataframe tbody tr th {\n",
       "        vertical-align: top;\n",
       "    }\n",
       "\n",
       "    .dataframe thead th {\n",
       "        text-align: right;\n",
       "    }\n",
       "</style>\n",
       "<table border=\"1\" class=\"dataframe\">\n",
       "  <thead>\n",
       "    <tr style=\"text-align: right;\">\n",
       "      <th></th>\n",
       "      <th>Title</th>\n",
       "      <th>Label</th>\n",
       "      <th>Article_correction</th>\n",
       "      <th>Article_content</th>\n",
       "      <th>Article_date</th>\n",
       "      <th>Topic</th>\n",
       "      <th>Origine</th>\n",
       "      <th>Article_url</th>\n",
       "    </tr>\n",
       "  </thead>\n",
       "  <tbody>\n",
       "    <tr>\n",
       "      <th>0</th>\n",
       "      <td>title</td>\n",
       "      <td>label</td>\n",
       "      <td></td>\n",
       "      <td>article_content</td>\n",
       "      <td>article_date</td>\n",
       "      <td>TOPIC</td>\n",
       "      <td>VerifySy</td>\n",
       "      <td></td>\n",
       "    </tr>\n",
       "    <tr>\n",
       "      <th>1</th>\n",
       "      <td>title</td>\n",
       "      <td>label</td>\n",
       "      <td></td>\n",
       "      <td>article_content</td>\n",
       "      <td>article_date</td>\n",
       "      <td>Politics</td>\n",
       "      <td>VerifySy</td>\n",
       "      <td></td>\n",
       "    </tr>\n",
       "    <tr>\n",
       "      <th>2</th>\n",
       "      <td>هل توصلت إسرائيل إلى اتفاق لتطبيع العلاقات مع ...</td>\n",
       "      <td>fake</td>\n",
       "      <td></td>\n",
       "      <td>\\n\\nنشرت حسابات بمواقع التواصل الاجتماعي، خبرا...</td>\n",
       "      <td>السبت 13 نيسان 2024</td>\n",
       "      <td>Tech</td>\n",
       "      <td>VerifySy</td>\n",
       "      <td></td>\n",
       "    </tr>\n",
       "    <tr>\n",
       "      <th>3</th>\n",
       "      <td>NaN</td>\n",
       "      <td>fake</td>\n",
       "      <td></td>\n",
       "      <td>\\n\\nادعت مواقع وحسابات على منصات التواصل الاجت...</td>\n",
       "      <td>الثلاثاء 02 نيسان 2024</td>\n",
       "      <td>Tech</td>\n",
       "      <td>VerifySy</td>\n",
       "      <td></td>\n",
       "    </tr>\n",
       "    <tr>\n",
       "      <th>4</th>\n",
       "      <td>NaN</td>\n",
       "      <td>fake</td>\n",
       "      <td></td>\n",
       "      <td>\\n\\nادعت حسابات على منصات التواصل الاجتماعي أن...</td>\n",
       "      <td>الاثنين 01 نيسان 2024</td>\n",
       "      <td>Politics</td>\n",
       "      <td>VerifySy</td>\n",
       "      <td></td>\n",
       "    </tr>\n",
       "  </tbody>\n",
       "</table>\n",
       "</div>"
      ],
      "text/plain": [
       "                                               Title  Label  \\\n",
       "0                                              title  label   \n",
       "1                                              title  label   \n",
       "2  هل توصلت إسرائيل إلى اتفاق لتطبيع العلاقات مع ...   fake   \n",
       "3                                                NaN   fake   \n",
       "4                                                NaN   fake   \n",
       "\n",
       "  Article_correction                                    Article_content  \\\n",
       "0                                                       article_content   \n",
       "1                                                       article_content   \n",
       "2                     \\n\\nنشرت حسابات بمواقع التواصل الاجتماعي، خبرا...   \n",
       "3                     \\n\\nادعت مواقع وحسابات على منصات التواصل الاجت...   \n",
       "4                     \\n\\nادعت حسابات على منصات التواصل الاجتماعي أن...   \n",
       "\n",
       "             Article_date     Topic   Origine Article_url  \n",
       "0            article_date     TOPIC  VerifySy              \n",
       "1            article_date  Politics  VerifySy              \n",
       "2     السبت 13 نيسان 2024      Tech  VerifySy              \n",
       "3  الثلاثاء 02 نيسان 2024      Tech  VerifySy              \n",
       "4   الاثنين 01 نيسان 2024  Politics  VerifySy              "
      ]
     },
     "execution_count": 480,
     "metadata": {},
     "output_type": "execute_result"
    }
   ],
   "source": [
    "df8['Article_url'] = ''\n",
    "df8['Article_correction'] = ''\n",
    "# DataFrame 8 (df8)\n",
    "df8.head()\n"
   ]
  },
  {
   "cell_type": "code",
   "execution_count": 481,
   "metadata": {},
   "outputs": [
    {
     "data": {
      "text/html": [
       "<div>\n",
       "<style scoped>\n",
       "    .dataframe tbody tr th:only-of-type {\n",
       "        vertical-align: middle;\n",
       "    }\n",
       "\n",
       "    .dataframe tbody tr th {\n",
       "        vertical-align: top;\n",
       "    }\n",
       "\n",
       "    .dataframe thead th {\n",
       "        text-align: right;\n",
       "    }\n",
       "</style>\n",
       "<table border=\"1\" class=\"dataframe\">\n",
       "  <thead>\n",
       "    <tr style=\"text-align: right;\">\n",
       "      <th></th>\n",
       "      <th>Title</th>\n",
       "      <th>Label</th>\n",
       "      <th>Article_correction</th>\n",
       "      <th>Article_content</th>\n",
       "      <th>Article_date</th>\n",
       "      <th>Topic</th>\n",
       "      <th>Origine</th>\n",
       "      <th>Article_url</th>\n",
       "    </tr>\n",
       "  </thead>\n",
       "  <tbody>\n",
       "    <tr>\n",
       "      <th>count</th>\n",
       "      <td>111</td>\n",
       "      <td>1946</td>\n",
       "      <td>1946</td>\n",
       "      <td>1946</td>\n",
       "      <td>1946</td>\n",
       "      <td>1946</td>\n",
       "      <td>1946</td>\n",
       "      <td>1946</td>\n",
       "    </tr>\n",
       "    <tr>\n",
       "      <th>unique</th>\n",
       "      <td>111</td>\n",
       "      <td>1</td>\n",
       "      <td>1</td>\n",
       "      <td>1946</td>\n",
       "      <td>1311</td>\n",
       "      <td>5</td>\n",
       "      <td>1</td>\n",
       "      <td>1</td>\n",
       "    </tr>\n",
       "    <tr>\n",
       "      <th>top</th>\n",
       "      <td>هل توصلت إسرائيل إلى اتفاق لتطبيع العلاقات مع ...</td>\n",
       "      <td>fake</td>\n",
       "      <td></td>\n",
       "      <td>\\n\\nنشرت حسابات بمواقع التواصل الاجتماعي، خبرا...</td>\n",
       "      <td>الخميس 24 شباط 2022</td>\n",
       "      <td>Tech</td>\n",
       "      <td>VerifySy</td>\n",
       "      <td></td>\n",
       "    </tr>\n",
       "    <tr>\n",
       "      <th>freq</th>\n",
       "      <td>1</td>\n",
       "      <td>1946</td>\n",
       "      <td>1946</td>\n",
       "      <td>1</td>\n",
       "      <td>9</td>\n",
       "      <td>1089</td>\n",
       "      <td>1946</td>\n",
       "      <td>1946</td>\n",
       "    </tr>\n",
       "  </tbody>\n",
       "</table>\n",
       "</div>"
      ],
      "text/plain": [
       "                                                    Title Label  \\\n",
       "count                                                 111  1946   \n",
       "unique                                                111     1   \n",
       "top     هل توصلت إسرائيل إلى اتفاق لتطبيع العلاقات مع ...  fake   \n",
       "freq                                                    1  1946   \n",
       "\n",
       "       Article_correction                                    Article_content  \\\n",
       "count                1946                                               1946   \n",
       "unique                  1                                               1946   \n",
       "top                        \\n\\nنشرت حسابات بمواقع التواصل الاجتماعي، خبرا...   \n",
       "freq                 1946                                                  1   \n",
       "\n",
       "               Article_date Topic   Origine Article_url  \n",
       "count                  1946  1946      1946        1946  \n",
       "unique                 1311     5         1           1  \n",
       "top     الخميس 24 شباط 2022  Tech  VerifySy              \n",
       "freq                      9  1089      1946        1946  "
      ]
     },
     "execution_count": 481,
     "metadata": {},
     "output_type": "execute_result"
    }
   ],
   "source": [
    "df8.reset_index(drop=True, inplace=True)\n",
    "df8.drop(index=[0, 1], inplace=True)\n",
    "df8.describe()"
   ]
  },
  {
   "cell_type": "code",
   "execution_count": 482,
   "metadata": {},
   "outputs": [
    {
     "name": "stdout",
     "output_type": "stream",
     "text": [
      "Topic\n",
      "Culture        8\n",
      "Medical        2\n",
      "Politics     789\n",
      "Sports        58\n",
      "Tech        1089\n",
      "dtype: int64\n",
      "Label\n",
      "fake    1946\n",
      "dtype: int64\n"
     ]
    }
   ],
   "source": [
    "label_counts_counts = df8.groupby('Topic').size()\n",
    "print(label_counts_counts)\n",
    "label_counts_counts = df8.groupby('Label').size()\n",
    "print(label_counts_counts)"
   ]
  },
  {
   "cell_type": "code",
   "execution_count": 483,
   "metadata": {},
   "outputs": [],
   "source": [
    "\n",
    "# Concatenate DataFrames\n",
    "merged_df = pd.concat([df1[['Title', 'Label', 'Topic', 'Origine', 'Article_date', 'Article_content', 'Article_correction']], \n",
    "                       df2[['Title', 'Label', 'Topic', 'Origine', 'Article_date', 'Article_content', 'Article_correction']], \n",
    "                       df3[['Title', 'Label', 'Topic', 'Origine', 'Article_date', 'Article_content', 'Article_correction']], \n",
    "                       df4[['Title', 'Label', 'Topic', 'Origine', 'Article_date', 'Article_content', 'Article_correction']], \n",
    "                       df5[['Title', 'Label', 'Topic', 'Origine', 'Article_date', 'Article_content', 'Article_correction']], \n",
    "                       df6[['Title', 'Label', 'Topic', 'Origine', 'Article_date', 'Article_content', 'Article_correction']], \n",
    "                       df7[['Title', 'Label', 'Topic', 'Origine', 'Article_date', 'Article_content', 'Article_correction']], \n",
    "                       df8[['Title', 'Label', 'Topic', 'Origine', 'Article_date', 'Article_content', 'Article_correction']]], \n",
    "                      ignore_index=True)\n",
    "\n",
    "# Write merged DataFrame to CSV\n",
    "merged_df.to_csv('ARABIC-NEWS-CLASSIFICATION-MERGED.csv', index=False)"
   ]
  },
  {
   "cell_type": "code",
   "execution_count": 484,
   "metadata": {},
   "outputs": [
    {
     "data": {
      "text/html": [
       "<div>\n",
       "<style scoped>\n",
       "    .dataframe tbody tr th:only-of-type {\n",
       "        vertical-align: middle;\n",
       "    }\n",
       "\n",
       "    .dataframe tbody tr th {\n",
       "        vertical-align: top;\n",
       "    }\n",
       "\n",
       "    .dataframe thead th {\n",
       "        text-align: right;\n",
       "    }\n",
       "</style>\n",
       "<table border=\"1\" class=\"dataframe\">\n",
       "  <thead>\n",
       "    <tr style=\"text-align: right;\">\n",
       "      <th></th>\n",
       "      <th>Title</th>\n",
       "      <th>Label</th>\n",
       "      <th>Topic</th>\n",
       "      <th>Origine</th>\n",
       "      <th>Article_date</th>\n",
       "      <th>Article_content</th>\n",
       "      <th>Article_correction</th>\n",
       "    </tr>\n",
       "  </thead>\n",
       "  <tbody>\n",
       "    <tr>\n",
       "      <th>0</th>\n",
       "      <td>54 عاما في القضاء.. نهاية حزينة لمعركة مقدسي ح...</td>\n",
       "      <td>real</td>\n",
       "      <td>politics</td>\n",
       "      <td>Aljazeera</td>\n",
       "      <td></td>\n",
       "      <td>القدس المحتلة- لن يتمكن المقدسي سامي درويش في ...</td>\n",
       "      <td></td>\n",
       "    </tr>\n",
       "    <tr>\n",
       "      <th>1</th>\n",
       "      <td>خبراء إيرانيون يشرحون لماذا لا تستعجل طهران با...</td>\n",
       "      <td>real</td>\n",
       "      <td>politics</td>\n",
       "      <td>Aljazeera</td>\n",
       "      <td></td>\n",
       "      <td>طهران- منذ الهجوم الإسرائيلي على القنصلية الإي...</td>\n",
       "      <td></td>\n",
       "    </tr>\n",
       "    <tr>\n",
       "      <th>2</th>\n",
       "      <td>فلسطيني يقود فريق خبراء بإيطاليا لبناء قضية إب...</td>\n",
       "      <td>real</td>\n",
       "      <td>politics</td>\n",
       "      <td>Aljazeera</td>\n",
       "      <td></td>\n",
       "      <td>غادر المحامي الفلسطيني راجي صوراني قطاع غزة رف...</td>\n",
       "      <td></td>\n",
       "    </tr>\n",
       "    <tr>\n",
       "      <th>3</th>\n",
       "      <td>مستوطنون يهاجمون قرى نابلس بحماية من جنود الاح...</td>\n",
       "      <td>real</td>\n",
       "      <td>politics</td>\n",
       "      <td>Aljazeera</td>\n",
       "      <td></td>\n",
       "      <td>نابلس- لليوم الثاني على التوالي، تتعرض قرية دو...</td>\n",
       "      <td></td>\n",
       "    </tr>\n",
       "    <tr>\n",
       "      <th>4</th>\n",
       "      <td>جدل قانوني حول ترشح جاكوب زوما لانتخابات جنوب ...</td>\n",
       "      <td>real</td>\n",
       "      <td>politics</td>\n",
       "      <td>Aljazeera</td>\n",
       "      <td></td>\n",
       "      <td>بريتوريا- تقدمت اللجنة المستقلة للانتخابات في ...</td>\n",
       "      <td></td>\n",
       "    </tr>\n",
       "  </tbody>\n",
       "</table>\n",
       "</div>"
      ],
      "text/plain": [
       "                                               Title Label     Topic  \\\n",
       "0  54 عاما في القضاء.. نهاية حزينة لمعركة مقدسي ح...  real  politics   \n",
       "1  خبراء إيرانيون يشرحون لماذا لا تستعجل طهران با...  real  politics   \n",
       "2  فلسطيني يقود فريق خبراء بإيطاليا لبناء قضية إب...  real  politics   \n",
       "3  مستوطنون يهاجمون قرى نابلس بحماية من جنود الاح...  real  politics   \n",
       "4  جدل قانوني حول ترشح جاكوب زوما لانتخابات جنوب ...  real  politics   \n",
       "\n",
       "     Origine Article_date                                    Article_content  \\\n",
       "0  Aljazeera               القدس المحتلة- لن يتمكن المقدسي سامي درويش في ...   \n",
       "1  Aljazeera               طهران- منذ الهجوم الإسرائيلي على القنصلية الإي...   \n",
       "2  Aljazeera               غادر المحامي الفلسطيني راجي صوراني قطاع غزة رف...   \n",
       "3  Aljazeera               نابلس- لليوم الثاني على التوالي، تتعرض قرية دو...   \n",
       "4  Aljazeera               بريتوريا- تقدمت اللجنة المستقلة للانتخابات في ...   \n",
       "\n",
       "  Article_correction  \n",
       "0                     \n",
       "1                     \n",
       "2                     \n",
       "3                     \n",
       "4                     "
      ]
     },
     "execution_count": 484,
     "metadata": {},
     "output_type": "execute_result"
    }
   ],
   "source": [
    "merged_df.head()"
   ]
  },
  {
   "cell_type": "code",
   "execution_count": 485,
   "metadata": {},
   "outputs": [
    {
     "name": "stdout",
     "output_type": "stream",
     "text": [
      "Topic\n",
      "Culture                     20\n",
      "Economic                   780\n",
      "Economy                    321\n",
      "Finance                     22\n",
      "Medical                      7\n",
      "Politics                  1826\n",
      "Religion                    36\n",
      "Science                     99\n",
      "Science and Technology     800\n",
      "Social                     405\n",
      "Sport                     1213\n",
      "Sports                     150\n",
      "Tech                      1137\n",
      "Technology                  39\n",
      "arts                        14\n",
      "business                    32\n",
      "culture                     98\n",
      "entertainment              150\n",
      "family                      14\n",
      "health                     103\n",
      "lifestyle                   14\n",
      "midan                       14\n",
      "middle-east                147\n",
      "news                       414\n",
      "opinion                     14\n",
      "politics                    68\n",
      "science                     14\n",
      "science-and-health          99\n",
      "sport                      484\n",
      "style                      115\n",
      "tech                        90\n",
      "travel                      77\n",
      "turath                      14\n",
      "world                       89\n",
      "dtype: int64\n",
      "#########################\n",
      "Label\n",
      "fake    5257\n",
      "real    3662\n",
      "dtype: int64\n",
      "#########################\n",
      "Origine\n",
      "Aljazeera      168\n",
      "BBC           2389\n",
      "CNN            741\n",
      "Fatabyyano     446\n",
      "MISBAR        1261\n",
      "Matsd24       1968\n",
      "VerifySy      1946\n",
      "dtype: int64\n"
     ]
    }
   ],
   "source": [
    "topc = merged_df.groupby('Topic').size()\n",
    "print(topc)\n",
    "print('#########################')\n",
    "label_counts_counts = merged_df.groupby('Label').size()\n",
    "print(label_counts_counts)\n",
    "print('#########################')\n",
    "label_counts_counts = merged_df.groupby('Origine').size()\n",
    "print(label_counts_counts)"
   ]
  },
  {
   "cell_type": "markdown",
   "metadata": {},
   "source": [
    "VISUALISATION OF THE MERGED DATA "
   ]
  },
  {
   "cell_type": "code",
   "execution_count": 488,
   "metadata": {},
   "outputs": [
    {
     "data": {
      "image/png": "[encoded data removed]",
      "text/plain": [
       "<Figure size 800x800 with 1 Axes>"
      ]
     },
     "metadata": {},
     "output_type": "display_data"
    },
    {
     "data": {
      "image/png": "[encoded data removed]",
      "text/plain": [
       "<Figure size 800x800 with 1 Axes>"
      ]
     },
     "metadata": {},
     "output_type": "display_data"
    },
    {
     "data": {
      "image/png": "[encoded data removed]",
      "text/plain": [
       "<Figure size 800x800 with 1 Axes>"
      ]
     },
     "metadata": {},
     "output_type": "display_data"
    }
   ],
   "source": [
    "import matplotlib.pyplot as plt\n",
    "\n",
    "# Step 1: Read the CSV file into a DataFrame\n",
    "df = pd.read_csv('ARABIC-NEWS-CLASSIFICATION-MERGED.csv')\n",
    "\n",
    "# Step 2: Preprocess the data\n",
    "\n",
    "# Step 3: Generate visualizations\n",
    "\n",
    "# Pie chart by Label\n",
    "label_counts = df['Label'].value_counts()\n",
    "plt.figure(figsize=(8, 8))\n",
    "plt.pie(label_counts, labels=label_counts.index, autopct='%1.1f%%', startangle=140)\n",
    "plt.title('Distribution by Label')\n",
    "plt.show()\n",
    "\n",
    "# Pie chart by Origine\n",
    "origine_counts = df['Origine'].value_counts()\n",
    "plt.figure(figsize=(8, 8))\n",
    "plt.pie(origine_counts, labels=origine_counts.index, autopct='%1.1f%%', startangle=140)\n",
    "plt.title('Distribution by Origine')\n",
    "plt.show()\n",
    "\n",
    "# Pie chart by Topic\n",
    "topic_counts = df['Topic'].value_counts()\n",
    "plt.figure(figsize=(8, 8))\n",
    "plt.pie(topic_counts, labels=topic_counts.index, autopct='%1.1f%%', startangle=140)\n",
    "plt.title('Distribution by Topic')\n",
    "plt.show()\n",
    "\n"
   ]
  }
 ],
 "metadata": {
  "kernelspec": {
   "display_name": "Python 3",
   "language": "python",
   "name": "python3"
  },
  "language_info": {
   "codemirror_mode": {
    "name": "ipython",
    "version": 3
   },
   "file_extension": ".py",
   "mimetype": "text/x-python",
   "name": "python",
   "nbconvert_exporter": "python",
   "pygments_lexer": "ipython3",
   "version": "3.11.9"
  }
 },
 "nbformat": 4,
 "nbformat_minor": 2
}
