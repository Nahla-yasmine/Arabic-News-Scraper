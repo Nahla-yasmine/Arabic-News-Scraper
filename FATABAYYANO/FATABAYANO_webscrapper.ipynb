{
  "nbformat": 4,
  "nbformat_minor": 0,
  "metadata": {
    "colab": {
      "provenance": [],
      "gpuType": "T4",
      "authorship_tag": "ABX9TyMjXmra0GD5xxo4EnvPN0T/",
      "include_colab_link": true
    },
    "kernelspec": {
      "name": "python3",
      "display_name": "Python 3"
    },
    "language_info": {
      "name": "python"
    },
    "accelerator": "GPU"
  },
  "cells": [
    {
      "cell_type": "markdown",
      "metadata": {
        "id": "view-in-github",
        "colab_type": "text"
      },
      "source": [
        "<a href=\"https://colab.research.google.com/github/Nahla-yasmine/Arabic-News-Scraper/blob/main/FATABAYYANO/FATABAYANO_webscrapper.ipynb\" target=\"_parent\"><img src=\"https://colab.research.google.com/assets/colab-badge.svg\" alt=\"Open In Colab\"/></a>"
      ]
    },
    {
      "cell_type": "code",
      "execution_count": 1,
      "metadata": {
        "colab": {
          "base_uri": "https://localhost:8080/"
        },
        "id": "z4y_U14V_p9q",
        "outputId": "79ffe9b3-d0a7-47cb-f8d0-fc803e180574"
      },
      "outputs": [
        {
          "output_type": "stream",
          "name": "stdout",
          "text": [
            "Collecting selenium\n",
            "  Downloading selenium-4.19.0-py3-none-any.whl (10.5 MB)\n",
            "\u001b[2K     \u001b[90m━━━━━━━━━━━━━━━━━━━━━━━━━━━━━━━━━━━━━━━━\u001b[0m \u001b[32m10.5/10.5 MB\u001b[0m \u001b[31m34.8 MB/s\u001b[0m eta \u001b[36m0:00:00\u001b[0m\n",
            "\u001b[?25hRequirement already satisfied: urllib3[socks]<3,>=1.26 in /usr/local/lib/python3.10/dist-packages (from selenium) (2.0.7)\n",
            "Collecting trio~=0.17 (from selenium)\n",
            "  Downloading trio-0.25.0-py3-none-any.whl (467 kB)\n",
            "\u001b[2K     \u001b[90m━━━━━━━━━━━━━━━━━━━━━━━━━━━━━━━━━━━━━━━━\u001b[0m \u001b[32m467.2/467.2 kB\u001b[0m \u001b[31m29.7 MB/s\u001b[0m eta \u001b[36m0:00:00\u001b[0m\n",
            "\u001b[?25hCollecting trio-websocket~=0.9 (from selenium)\n",
            "  Downloading trio_websocket-0.11.1-py3-none-any.whl (17 kB)\n",
            "Requirement already satisfied: certifi>=2021.10.8 in /usr/local/lib/python3.10/dist-packages (from selenium) (2024.2.2)\n",
            "Requirement already satisfied: typing_extensions>=4.9.0 in /usr/local/lib/python3.10/dist-packages (from selenium) (4.11.0)\n",
            "Requirement already satisfied: attrs>=23.2.0 in /usr/local/lib/python3.10/dist-packages (from trio~=0.17->selenium) (23.2.0)\n",
            "Requirement already satisfied: sortedcontainers in /usr/local/lib/python3.10/dist-packages (from trio~=0.17->selenium) (2.4.0)\n",
            "Requirement already satisfied: idna in /usr/local/lib/python3.10/dist-packages (from trio~=0.17->selenium) (3.6)\n",
            "Collecting outcome (from trio~=0.17->selenium)\n",
            "  Downloading outcome-1.3.0.post0-py2.py3-none-any.whl (10 kB)\n",
            "Requirement already satisfied: sniffio>=1.3.0 in /usr/local/lib/python3.10/dist-packages (from trio~=0.17->selenium) (1.3.1)\n",
            "Requirement already satisfied: exceptiongroup in /usr/local/lib/python3.10/dist-packages (from trio~=0.17->selenium) (1.2.0)\n",
            "Collecting wsproto>=0.14 (from trio-websocket~=0.9->selenium)\n",
            "  Downloading wsproto-1.2.0-py3-none-any.whl (24 kB)\n",
            "Requirement already satisfied: pysocks!=1.5.7,<2.0,>=1.5.6 in /usr/local/lib/python3.10/dist-packages (from urllib3[socks]<3,>=1.26->selenium) (1.7.1)\n",
            "Collecting h11<1,>=0.9.0 (from wsproto>=0.14->trio-websocket~=0.9->selenium)\n",
            "  Downloading h11-0.14.0-py3-none-any.whl (58 kB)\n",
            "\u001b[2K     \u001b[90m━━━━━━━━━━━━━━━━━━━━━━━━━━━━━━━━━━━━━━━━\u001b[0m \u001b[32m58.3/58.3 kB\u001b[0m \u001b[31m6.6 MB/s\u001b[0m eta \u001b[36m0:00:00\u001b[0m\n",
            "\u001b[?25hInstalling collected packages: outcome, h11, wsproto, trio, trio-websocket, selenium\n",
            "Successfully installed h11-0.14.0 outcome-1.3.0.post0 selenium-4.19.0 trio-0.25.0 trio-websocket-0.11.1 wsproto-1.2.0\n"
          ]
        }
      ],
      "source": [
        "!pip install selenium\n"
      ]
    },
    {
      "cell_type": "code",
      "source": [
        "\n",
        "from selenium import webdriver\n",
        "from selenium.webdriver.common.by import By\n",
        "from selenium.webdriver.support.ui import WebDriverWait\n",
        "from selenium.webdriver.support import expected_conditions as EC\n",
        "import time\n",
        "import csv\n"
      ],
      "metadata": {
        "id": "BGXnNk2X_toj"
      },
      "execution_count": 2,
      "outputs": []
    },
    {
      "cell_type": "code",
      "source": [
        "\n",
        "# Define column names\n",
        "COLUMN_NAMES = ['Title', 'Label', 'Category', 'Content', 'Date', 'URL']\n",
        "\n",
        "# Function to get article title from URL\n",
        "def get_article_title():\n",
        "    try:\n",
        "        # Find and extract the title element\n",
        "        title_element = WebDriverWait(driver, 10).until(EC.presence_of_element_located((By.CSS_SELECTOR, 'h1.w-post-elm.post_title.us_custom_d6b5cf89.entry-title.color_link_inherit')))\n",
        "        title = title_element.text.strip()\n",
        "        return title\n",
        "    except Exception as e:\n",
        "        print(\"An error occurred while extracting article title:\", e)\n",
        "        return None\n"
      ],
      "metadata": {
        "id": "XS3-HHss_vKu"
      },
      "execution_count": 3,
      "outputs": []
    },
    {
      "cell_type": "code",
      "source": [
        "\n",
        "# Function to get article info (title, content, date) from URL\n",
        "def get_article_info(url):\n",
        "    # Open article URL in a new tab\n",
        "    driver.execute_script(\"window.open('\" + url + \"', 'new_window')\")\n",
        "    # Switch to the newly opened tab\n",
        "    driver.switch_to.window(driver.window_handles[1])\n",
        "    time.sleep(5)  # Wait for the page to load (you can adjust the waiting time as needed)\n",
        "    # Extract article title\n",
        "    article_title = get_article_title()\n",
        "    # Extract article content\n",
        "    article_content = \"\"\n",
        "    article_date = \"\"\n",
        "    try:\n",
        "        # Wait for the article content to load\n",
        "        article_content_element = WebDriverWait(driver, 10).until(EC.presence_of_element_located((By.CSS_SELECTOR, 'div.wpb_text_column.us_custom_94411672.ob-post-text')))\n",
        "        paragraphs = article_content_element.find_elements(By.TAG_NAME, 'p')\n",
        "        article_content = '\\n'.join([p.text.strip() for p in paragraphs])\n",
        "        # Extract article date\n",
        "        date_element = WebDriverWait(driver, 10).until(EC.presence_of_element_located((By.CSS_SELECTOR, 'time.w-post-elm.post_date.us_custom_0fd75781.entry-date.published')))\n",
        "        article_date = date_element.get_attribute('datetime')\n",
        "    except Exception as e:\n",
        "        print(\"An error occurred while extracting article info:\", e)\n",
        "    finally:\n",
        "        # Close the new tab\n",
        "        driver.close()\n",
        "        # Switch back to the main tab\n",
        "        driver.switch_to.window(driver.window_handles[0])\n",
        "    return article_title, article_content, article_date\n"
      ],
      "metadata": {
        "id": "U9dTSZki_wSa"
      },
      "execution_count": 4,
      "outputs": []
    },
    {
      "cell_type": "code",
      "source": [
        "\n",
        "# Function to scrape article title, label, category, content, and URL\n",
        "def scrape_article(article):\n",
        "    try:\n",
        "        # Extract category from article\n",
        "        category_element = WebDriverWait(article, 10).until(EC.visibility_of_element_located((By.CSS_SELECTOR, 'div.w-post-elm.post_taxonomy.usg_post_taxonomy_2.style_badge.color_link_inherit')))\n",
        "        category_label_element = category_element.find_element(By.CSS_SELECTOR, 'span.w-btn-label')\n",
        "        category = category_label_element.text.strip()\n",
        "        # Define label based on category\n",
        "        label = 'رأي' if category == 'رأي' else 'صحيح' if category == 'صحيح' else 'زائف'\n",
        "        # Extract title from article\n",
        "        title_element = article.find_element(By.CSS_SELECTOR, 'h2.w-post-elm.post_title.usg_post_title_1.has_text_color.entry-title.color_link_inherit a')\n",
        "        title = title_element.get_attribute('title')\n",
        "        article_url = title_element.get_attribute('href')\n",
        "\n",
        "        # Get article info (title, content, date) from new tab\n",
        "        article_title, article_content, article_date = get_article_info(article_url)\n",
        "\n",
        "        return article_title, label, category, article_content, article_date, article_url\n",
        "    except Exception as e:\n",
        "        print(\"An error occurred while processing an article:\", e)\n",
        "        return None, None, None, None, None, None\n"
      ],
      "metadata": {
        "id": "5r_ZJtQk_xl_"
      },
      "execution_count": 5,
      "outputs": []
    },
    {
      "cell_type": "code",
      "source": [
        "\n",
        "# Function to save data to CSV file\n",
        "def save_to_csv(data):\n",
        "    with open('FATABAYYANO_articles_RAW_data.csv', mode='a', newline='', encoding='utf-8') as file:\n",
        "        writer = csv.writer(file)\n",
        "        # Write header row only if the file is empty\n",
        "        if file.tell() == 0:\n",
        "            writer.writerow(COLUMN_NAMES)\n",
        "        for item in data:\n",
        "            writer.writerow(item)\n",
        "\n",
        "# Initialize the WebDriver\n",
        "options = webdriver.ChromeOptions()\n",
        "options.add_argument('--headless')\n",
        "options.add_argument('--no-sandbox')\n",
        "options.add_argument('--disable-dev-shm-usage')\n",
        "\n",
        "driver = webdriver.Chrome(options=options)\n"
      ],
      "metadata": {
        "id": "vFvzMyNx_ykz"
      },
      "execution_count": 6,
      "outputs": []
    },
    {
      "cell_type": "code",
      "source": [
        "\n",
        "try:\n",
        "    # URLs to scrape\n",
        "    base_url = 'https://fatabyyano.net/page/'\n",
        "    page_count = 177  # Number of pages to scrape\n",
        "\n",
        "    for page_number in range(1, page_count + 1):\n",
        "        # Initialize list to store data for this page\n",
        "        data = []\n",
        "\n",
        "        url = base_url + str(page_number) + '/'\n",
        "        # Open the webpage\n",
        "        driver.get(url)\n",
        "\n",
        "        # Find and extract the news articles on the current page\n",
        "        news_articles = WebDriverWait(driver, 20).until(EC.presence_of_all_elements_located((By.CSS_SELECTOR, 'article.w-grid-item.size_1x1')))\n",
        "\n",
        "        # Output the articles on the current page\n",
        "        for article in news_articles:\n",
        "            # Scrape article title, label, category, content, date, and URL\n",
        "            title, label, category, article_content, article_date, article_url = scrape_article(article)\n",
        "            if title is not None:\n",
        "                data.append([title, label, category, article_content, article_date, article_url])\n",
        "\n",
        "        # Save the data to CSV file after processing each page\n",
        "        save_to_csv(data)\n",
        "\n",
        "except Exception as e:\n",
        "    print(\"An error occurred:\", e)\n",
        "\n",
        "finally:\n",
        "    # Close the WebDriver\n",
        "    driver.quit()\n"
      ],
      "metadata": {
        "colab": {
          "base_uri": "https://localhost:8080/"
        },
        "id": "8E3cRUsS_0La",
        "outputId": "0d7514cd-8f41-42e0-fac5-8ec71a49a670"
      },
      "execution_count": null,
      "outputs": [
        {
          "output_type": "stream",
          "name": "stdout",
          "text": [
            "\u001b[1;30;43mStreaming output truncated to the last 5000 lines.\u001b[0m\n",
            "#12 0x5bbae8670571 <unknown>\n",
            "#13 0x5bbae8687332 <unknown>\n",
            "#14 0x5bbae865587f <unknown>\n",
            "#15 0x5bbae86ad728 <unknown>\n",
            "#16 0x5bbae86ad8fb <unknown>\n",
            "#17 0x5bbae86bd9b4 <unknown>\n",
            "#18 0x7d2d277ccac3 <unknown>\n",
            "\n",
            "An error occurred while extracting article info: Message: \n",
            "Stacktrace:\n",
            "#0 0x5bbae86be863 <unknown>\n",
            "#1 0x5bbae83b48c6 <unknown>\n",
            "#2 0x5bbae83ff618 <unknown>\n",
            "#3 0x5bbae83ff6d1 <unknown>\n",
            "#4 0x5bbae8442744 <unknown>\n",
            "#5 0x5bbae84215cd <unknown>\n",
            "#6 0x5bbae843fc19 <unknown>\n",
            "#7 0x5bbae8421343 <unknown>\n",
            "#8 0x5bbae83f2593 <unknown>\n",
            "#9 0x5bbae83f2f5e <unknown>\n",
            "#10 0x5bbae868284b <unknown>\n",
            "#11 0x5bbae86867a5 <unknown>\n",
            "#12 0x5bbae8670571 <unknown>\n",
            "#13 0x5bbae8687332 <unknown>\n",
            "#14 0x5bbae865587f <unknown>\n",
            "#15 0x5bbae86ad728 <unknown>\n",
            "#16 0x5bbae86ad8fb <unknown>\n",
            "#17 0x5bbae86bd9b4 <unknown>\n",
            "#18 0x7d2d277ccac3 <unknown>\n",
            "\n",
            "An error occurred while extracting article info: Message: \n",
            "Stacktrace:\n",
            "#0 0x5bbae86be863 <unknown>\n",
            "#1 0x5bbae83b48c6 <unknown>\n",
            "#2 0x5bbae83ff618 <unknown>\n",
            "#3 0x5bbae83ff6d1 <unknown>\n",
            "#4 0x5bbae8442744 <unknown>\n",
            "#5 0x5bbae84215cd <unknown>\n",
            "#6 0x5bbae843fc19 <unknown>\n",
            "#7 0x5bbae8421343 <unknown>\n",
            "#8 0x5bbae83f2593 <unknown>\n",
            "#9 0x5bbae83f2f5e <unknown>\n",
            "#10 0x5bbae868284b <unknown>\n",
            "#11 0x5bbae86867a5 <unknown>\n",
            "#12 0x5bbae8670571 <unknown>\n",
            "#13 0x5bbae8687332 <unknown>\n",
            "#14 0x5bbae865587f <unknown>\n",
            "#15 0x5bbae86ad728 <unknown>\n",
            "#16 0x5bbae86ad8fb <unknown>\n",
            "#17 0x5bbae86bd9b4 <unknown>\n",
            "#18 0x7d2d277ccac3 <unknown>\n",
            "\n",
            "An error occurred while extracting article info: Message: \n",
            "Stacktrace:\n",
            "#0 0x5bbae86be863 <unknown>\n",
            "#1 0x5bbae83b48c6 <unknown>\n",
            "#2 0x5bbae83ff618 <unknown>\n",
            "#3 0x5bbae83ff6d1 <unknown>\n",
            "#4 0x5bbae8442744 <unknown>\n",
            "#5 0x5bbae84215cd <unknown>\n",
            "#6 0x5bbae843fc19 <unknown>\n",
            "#7 0x5bbae8421343 <unknown>\n",
            "#8 0x5bbae83f2593 <unknown>\n",
            "#9 0x5bbae83f2f5e <unknown>\n",
            "#10 0x5bbae868284b <unknown>\n",
            "#11 0x5bbae86867a5 <unknown>\n",
            "#12 0x5bbae8670571 <unknown>\n",
            "#13 0x5bbae8687332 <unknown>\n",
            "#14 0x5bbae865587f <unknown>\n",
            "#15 0x5bbae86ad728 <unknown>\n",
            "#16 0x5bbae86ad8fb <unknown>\n",
            "#17 0x5bbae86bd9b4 <unknown>\n",
            "#18 0x7d2d277ccac3 <unknown>\n",
            "\n",
            "An error occurred while processing an article: Message: \n",
            "Stacktrace:\n",
            "#0 0x5bbae86be863 <unknown>\n",
            "#1 0x5bbae83b48c6 <unknown>\n",
            "#2 0x5bbae83ff618 <unknown>\n",
            "#3 0x5bbae83ff6d1 <unknown>\n",
            "#4 0x5bbae83f3fa6 <unknown>\n",
            "#5 0x5bbae84215cd <unknown>\n",
            "#6 0x5bbae83f3e98 <unknown>\n",
            "#7 0x5bbae842176e <unknown>\n",
            "#8 0x5bbae843fc19 <unknown>\n",
            "#9 0x5bbae8421343 <unknown>\n",
            "#10 0x5bbae83f2593 <unknown>\n",
            "#11 0x5bbae83f2f5e <unknown>\n",
            "#12 0x5bbae868284b <unknown>\n",
            "#13 0x5bbae86867a5 <unknown>\n",
            "#14 0x5bbae8670571 <unknown>\n",
            "#15 0x5bbae8687332 <unknown>\n",
            "#16 0x5bbae865587f <unknown>\n",
            "#17 0x5bbae86ad728 <unknown>\n",
            "#18 0x5bbae86ad8fb <unknown>\n",
            "#19 0x5bbae86bd9b4 <unknown>\n",
            "#20 0x7d2d277ccac3 <unknown>\n",
            "\n",
            "An error occurred while processing an article: Message: \n",
            "Stacktrace:\n",
            "#0 0x5bbae86be863 <unknown>\n",
            "#1 0x5bbae83b48c6 <unknown>\n",
            "#2 0x5bbae83ff618 <unknown>\n",
            "#3 0x5bbae83ff6d1 <unknown>\n",
            "#4 0x5bbae83f3fa6 <unknown>\n",
            "#5 0x5bbae84215cd <unknown>\n",
            "#6 0x5bbae83f3e98 <unknown>\n",
            "#7 0x5bbae842176e <unknown>\n",
            "#8 0x5bbae843fc19 <unknown>\n",
            "#9 0x5bbae8421343 <unknown>\n",
            "#10 0x5bbae83f2593 <unknown>\n",
            "#11 0x5bbae83f2f5e <unknown>\n",
            "#12 0x5bbae868284b <unknown>\n",
            "#13 0x5bbae86867a5 <unknown>\n",
            "#14 0x5bbae8670571 <unknown>\n",
            "#15 0x5bbae8687332 <unknown>\n",
            "#16 0x5bbae865587f <unknown>\n",
            "#17 0x5bbae86ad728 <unknown>\n",
            "#18 0x5bbae86ad8fb <unknown>\n",
            "#19 0x5bbae86bd9b4 <unknown>\n",
            "#20 0x7d2d277ccac3 <unknown>\n",
            "\n",
            "An error occurred while processing an article: Message: \n",
            "Stacktrace:\n",
            "#0 0x5bbae86be863 <unknown>\n",
            "#1 0x5bbae83b48c6 <unknown>\n",
            "#2 0x5bbae83ff618 <unknown>\n",
            "#3 0x5bbae83ff6d1 <unknown>\n",
            "#4 0x5bbae83f3fa6 <unknown>\n",
            "#5 0x5bbae84215cd <unknown>\n",
            "#6 0x5bbae83f3e98 <unknown>\n",
            "#7 0x5bbae842176e <unknown>\n",
            "#8 0x5bbae843fc19 <unknown>\n",
            "#9 0x5bbae8421343 <unknown>\n",
            "#10 0x5bbae83f2593 <unknown>\n",
            "#11 0x5bbae83f2f5e <unknown>\n",
            "#12 0x5bbae868284b <unknown>\n",
            "#13 0x5bbae86867a5 <unknown>\n",
            "#14 0x5bbae8670571 <unknown>\n",
            "#15 0x5bbae8687332 <unknown>\n",
            "#16 0x5bbae865587f <unknown>\n",
            "#17 0x5bbae86ad728 <unknown>\n",
            "#18 0x5bbae86ad8fb <unknown>\n",
            "#19 0x5bbae86bd9b4 <unknown>\n",
            "#20 0x7d2d277ccac3 <unknown>\n",
            "\n",
            "An error occurred while processing an article: Message: \n",
            "Stacktrace:\n",
            "#0 0x5bbae86be863 <unknown>\n",
            "#1 0x5bbae83b48c6 <unknown>\n",
            "#2 0x5bbae83ff618 <unknown>\n",
            "#3 0x5bbae83ff6d1 <unknown>\n",
            "#4 0x5bbae83f3fa6 <unknown>\n",
            "#5 0x5bbae84215cd <unknown>\n",
            "#6 0x5bbae83f3e98 <unknown>\n",
            "#7 0x5bbae842176e <unknown>\n",
            "#8 0x5bbae843fc19 <unknown>\n",
            "#9 0x5bbae8421343 <unknown>\n",
            "#10 0x5bbae83f2593 <unknown>\n",
            "#11 0x5bbae83f2f5e <unknown>\n",
            "#12 0x5bbae868284b <unknown>\n",
            "#13 0x5bbae86867a5 <unknown>\n",
            "#14 0x5bbae8670571 <unknown>\n",
            "#15 0x5bbae8687332 <unknown>\n",
            "#16 0x5bbae865587f <unknown>\n",
            "#17 0x5bbae86ad728 <unknown>\n",
            "#18 0x5bbae86ad8fb <unknown>\n",
            "#19 0x5bbae86bd9b4 <unknown>\n",
            "#20 0x7d2d277ccac3 <unknown>\n",
            "\n",
            "An error occurred while processing an article: Message: \n",
            "Stacktrace:\n",
            "#0 0x5bbae86be863 <unknown>\n",
            "#1 0x5bbae83b48c6 <unknown>\n",
            "#2 0x5bbae83ff618 <unknown>\n",
            "#3 0x5bbae83ff6d1 <unknown>\n",
            "#4 0x5bbae83f3fa6 <unknown>\n",
            "#5 0x5bbae84215cd <unknown>\n",
            "#6 0x5bbae83f3e98 <unknown>\n",
            "#7 0x5bbae842176e <unknown>\n",
            "#8 0x5bbae843fc19 <unknown>\n",
            "#9 0x5bbae8421343 <unknown>\n",
            "#10 0x5bbae83f2593 <unknown>\n",
            "#11 0x5bbae83f2f5e <unknown>\n",
            "#12 0x5bbae868284b <unknown>\n",
            "#13 0x5bbae86867a5 <unknown>\n",
            "#14 0x5bbae8670571 <unknown>\n",
            "#15 0x5bbae8687332 <unknown>\n",
            "#16 0x5bbae865587f <unknown>\n",
            "#17 0x5bbae86ad728 <unknown>\n",
            "#18 0x5bbae86ad8fb <unknown>\n",
            "#19 0x5bbae86bd9b4 <unknown>\n",
            "#20 0x7d2d277ccac3 <unknown>\n",
            "\n",
            "An error occurred while extracting article info: Message: \n",
            "Stacktrace:\n",
            "#0 0x5bbae86be863 <unknown>\n",
            "#1 0x5bbae83b48c6 <unknown>\n",
            "#2 0x5bbae83ff618 <unknown>\n",
            "#3 0x5bbae83ff6d1 <unknown>\n",
            "#4 0x5bbae8442744 <unknown>\n",
            "#5 0x5bbae84215cd <unknown>\n",
            "#6 0x5bbae843fc19 <unknown>\n",
            "#7 0x5bbae8421343 <unknown>\n",
            "#8 0x5bbae83f2593 <unknown>\n",
            "#9 0x5bbae83f2f5e <unknown>\n",
            "#10 0x5bbae868284b <unknown>\n",
            "#11 0x5bbae86867a5 <unknown>\n",
            "#12 0x5bbae8670571 <unknown>\n",
            "#13 0x5bbae8687332 <unknown>\n",
            "#14 0x5bbae865587f <unknown>\n",
            "#15 0x5bbae86ad728 <unknown>\n",
            "#16 0x5bbae86ad8fb <unknown>\n",
            "#17 0x5bbae86bd9b4 <unknown>\n",
            "#18 0x7d2d277ccac3 <unknown>\n",
            "\n",
            "An error occurred while extracting article info: Message: \n",
            "Stacktrace:\n",
            "#0 0x5bbae86be863 <unknown>\n",
            "#1 0x5bbae83b48c6 <unknown>\n",
            "#2 0x5bbae83ff618 <unknown>\n",
            "#3 0x5bbae83ff6d1 <unknown>\n",
            "#4 0x5bbae8442744 <unknown>\n",
            "#5 0x5bbae84215cd <unknown>\n",
            "#6 0x5bbae843fc19 <unknown>\n",
            "#7 0x5bbae8421343 <unknown>\n",
            "#8 0x5bbae83f2593 <unknown>\n",
            "#9 0x5bbae83f2f5e <unknown>\n",
            "#10 0x5bbae868284b <unknown>\n",
            "#11 0x5bbae86867a5 <unknown>\n",
            "#12 0x5bbae8670571 <unknown>\n",
            "#13 0x5bbae8687332 <unknown>\n",
            "#14 0x5bbae865587f <unknown>\n",
            "#15 0x5bbae86ad728 <unknown>\n",
            "#16 0x5bbae86ad8fb <unknown>\n",
            "#17 0x5bbae86bd9b4 <unknown>\n",
            "#18 0x7d2d277ccac3 <unknown>\n",
            "\n",
            "An error occurred while extracting article info: Message: \n",
            "Stacktrace:\n",
            "#0 0x5bbae86be863 <unknown>\n",
            "#1 0x5bbae83b48c6 <unknown>\n",
            "#2 0x5bbae83ff618 <unknown>\n",
            "#3 0x5bbae83ff6d1 <unknown>\n",
            "#4 0x5bbae8442744 <unknown>\n",
            "#5 0x5bbae84215cd <unknown>\n",
            "#6 0x5bbae843fc19 <unknown>\n",
            "#7 0x5bbae8421343 <unknown>\n",
            "#8 0x5bbae83f2593 <unknown>\n",
            "#9 0x5bbae83f2f5e <unknown>\n",
            "#10 0x5bbae868284b <unknown>\n",
            "#11 0x5bbae86867a5 <unknown>\n",
            "#12 0x5bbae8670571 <unknown>\n",
            "#13 0x5bbae8687332 <unknown>\n",
            "#14 0x5bbae865587f <unknown>\n",
            "#15 0x5bbae86ad728 <unknown>\n",
            "#16 0x5bbae86ad8fb <unknown>\n",
            "#17 0x5bbae86bd9b4 <unknown>\n",
            "#18 0x7d2d277ccac3 <unknown>\n",
            "\n",
            "An error occurred while extracting article info: Message: \n",
            "Stacktrace:\n",
            "#0 0x5bbae86be863 <unknown>\n",
            "#1 0x5bbae83b48c6 <unknown>\n",
            "#2 0x5bbae83ff618 <unknown>\n",
            "#3 0x5bbae83ff6d1 <unknown>\n",
            "#4 0x5bbae8442744 <unknown>\n",
            "#5 0x5bbae84215cd <unknown>\n",
            "#6 0x5bbae843fc19 <unknown>\n",
            "#7 0x5bbae8421343 <unknown>\n",
            "#8 0x5bbae83f2593 <unknown>\n",
            "#9 0x5bbae83f2f5e <unknown>\n",
            "#10 0x5bbae868284b <unknown>\n",
            "#11 0x5bbae86867a5 <unknown>\n",
            "#12 0x5bbae8670571 <unknown>\n",
            "#13 0x5bbae8687332 <unknown>\n",
            "#14 0x5bbae865587f <unknown>\n",
            "#15 0x5bbae86ad728 <unknown>\n",
            "#16 0x5bbae86ad8fb <unknown>\n",
            "#17 0x5bbae86bd9b4 <unknown>\n",
            "#18 0x7d2d277ccac3 <unknown>\n",
            "\n",
            "An error occurred while extracting article info: Message: \n",
            "Stacktrace:\n",
            "#0 0x5bbae86be863 <unknown>\n",
            "#1 0x5bbae83b48c6 <unknown>\n",
            "#2 0x5bbae83ff618 <unknown>\n",
            "#3 0x5bbae83ff6d1 <unknown>\n",
            "#4 0x5bbae8442744 <unknown>\n",
            "#5 0x5bbae84215cd <unknown>\n",
            "#6 0x5bbae843fc19 <unknown>\n",
            "#7 0x5bbae8421343 <unknown>\n",
            "#8 0x5bbae83f2593 <unknown>\n",
            "#9 0x5bbae83f2f5e <unknown>\n",
            "#10 0x5bbae868284b <unknown>\n",
            "#11 0x5bbae86867a5 <unknown>\n",
            "#12 0x5bbae8670571 <unknown>\n",
            "#13 0x5bbae8687332 <unknown>\n",
            "#14 0x5bbae865587f <unknown>\n",
            "#15 0x5bbae86ad728 <unknown>\n",
            "#16 0x5bbae86ad8fb <unknown>\n",
            "#17 0x5bbae86bd9b4 <unknown>\n",
            "#18 0x7d2d277ccac3 <unknown>\n",
            "\n",
            "An error occurred while extracting article info: Message: \n",
            "Stacktrace:\n",
            "#0 0x5bbae86be863 <unknown>\n",
            "#1 0x5bbae83b48c6 <unknown>\n",
            "#2 0x5bbae83ff618 <unknown>\n",
            "#3 0x5bbae83ff6d1 <unknown>\n",
            "#4 0x5bbae8442744 <unknown>\n",
            "#5 0x5bbae84215cd <unknown>\n",
            "#6 0x5bbae843fc19 <unknown>\n",
            "#7 0x5bbae8421343 <unknown>\n",
            "#8 0x5bbae83f2593 <unknown>\n",
            "#9 0x5bbae83f2f5e <unknown>\n",
            "#10 0x5bbae868284b <unknown>\n",
            "#11 0x5bbae86867a5 <unknown>\n",
            "#12 0x5bbae8670571 <unknown>\n",
            "#13 0x5bbae8687332 <unknown>\n",
            "#14 0x5bbae865587f <unknown>\n",
            "#15 0x5bbae86ad728 <unknown>\n",
            "#16 0x5bbae86ad8fb <unknown>\n",
            "#17 0x5bbae86bd9b4 <unknown>\n",
            "#18 0x7d2d277ccac3 <unknown>\n",
            "\n",
            "An error occurred while extracting article info: Message: \n",
            "Stacktrace:\n",
            "#0 0x5bbae86be863 <unknown>\n",
            "#1 0x5bbae83b48c6 <unknown>\n",
            "#2 0x5bbae83ff618 <unknown>\n",
            "#3 0x5bbae83ff6d1 <unknown>\n",
            "#4 0x5bbae8442744 <unknown>\n",
            "#5 0x5bbae84215cd <unknown>\n",
            "#6 0x5bbae843fc19 <unknown>\n",
            "#7 0x5bbae8421343 <unknown>\n",
            "#8 0x5bbae83f2593 <unknown>\n",
            "#9 0x5bbae83f2f5e <unknown>\n",
            "#10 0x5bbae868284b <unknown>\n",
            "#11 0x5bbae86867a5 <unknown>\n",
            "#12 0x5bbae8670571 <unknown>\n",
            "#13 0x5bbae8687332 <unknown>\n",
            "#14 0x5bbae865587f <unknown>\n",
            "#15 0x5bbae86ad728 <unknown>\n",
            "#16 0x5bbae86ad8fb <unknown>\n",
            "#17 0x5bbae86bd9b4 <unknown>\n",
            "#18 0x7d2d277ccac3 <unknown>\n",
            "\n",
            "An error occurred while extracting article info: Message: \n",
            "Stacktrace:\n",
            "#0 0x5bbae86be863 <unknown>\n",
            "#1 0x5bbae83b48c6 <unknown>\n",
            "#2 0x5bbae83ff618 <unknown>\n",
            "#3 0x5bbae83ff6d1 <unknown>\n",
            "#4 0x5bbae8442744 <unknown>\n",
            "#5 0x5bbae84215cd <unknown>\n",
            "#6 0x5bbae843fc19 <unknown>\n",
            "#7 0x5bbae8421343 <unknown>\n",
            "#8 0x5bbae83f2593 <unknown>\n",
            "#9 0x5bbae83f2f5e <unknown>\n",
            "#10 0x5bbae868284b <unknown>\n",
            "#11 0x5bbae86867a5 <unknown>\n",
            "#12 0x5bbae8670571 <unknown>\n",
            "#13 0x5bbae8687332 <unknown>\n",
            "#14 0x5bbae865587f <unknown>\n",
            "#15 0x5bbae86ad728 <unknown>\n",
            "#16 0x5bbae86ad8fb <unknown>\n",
            "#17 0x5bbae86bd9b4 <unknown>\n",
            "#18 0x7d2d277ccac3 <unknown>\n",
            "\n",
            "An error occurred while extracting article info: Message: \n",
            "Stacktrace:\n",
            "#0 0x5bbae86be863 <unknown>\n",
            "#1 0x5bbae83b48c6 <unknown>\n",
            "#2 0x5bbae83ff618 <unknown>\n",
            "#3 0x5bbae83ff6d1 <unknown>\n",
            "#4 0x5bbae8442744 <unknown>\n",
            "#5 0x5bbae84215cd <unknown>\n",
            "#6 0x5bbae843fc19 <unknown>\n",
            "#7 0x5bbae8421343 <unknown>\n",
            "#8 0x5bbae83f2593 <unknown>\n",
            "#9 0x5bbae83f2f5e <unknown>\n",
            "#10 0x5bbae868284b <unknown>\n",
            "#11 0x5bbae86867a5 <unknown>\n",
            "#12 0x5bbae8670571 <unknown>\n",
            "#13 0x5bbae8687332 <unknown>\n",
            "#14 0x5bbae865587f <unknown>\n",
            "#15 0x5bbae86ad728 <unknown>\n",
            "#16 0x5bbae86ad8fb <unknown>\n",
            "#17 0x5bbae86bd9b4 <unknown>\n",
            "#18 0x7d2d277ccac3 <unknown>\n",
            "\n",
            "An error occurred while extracting article info: Message: \n",
            "Stacktrace:\n",
            "#0 0x5bbae86be863 <unknown>\n",
            "#1 0x5bbae83b48c6 <unknown>\n",
            "#2 0x5bbae83ff618 <unknown>\n",
            "#3 0x5bbae83ff6d1 <unknown>\n",
            "#4 0x5bbae8442744 <unknown>\n",
            "#5 0x5bbae84215cd <unknown>\n",
            "#6 0x5bbae843fc19 <unknown>\n",
            "#7 0x5bbae8421343 <unknown>\n",
            "#8 0x5bbae83f2593 <unknown>\n",
            "#9 0x5bbae83f2f5e <unknown>\n",
            "#10 0x5bbae868284b <unknown>\n",
            "#11 0x5bbae86867a5 <unknown>\n",
            "#12 0x5bbae8670571 <unknown>\n",
            "#13 0x5bbae8687332 <unknown>\n",
            "#14 0x5bbae865587f <unknown>\n",
            "#15 0x5bbae86ad728 <unknown>\n",
            "#16 0x5bbae86ad8fb <unknown>\n",
            "#17 0x5bbae86bd9b4 <unknown>\n",
            "#18 0x7d2d277ccac3 <unknown>\n",
            "\n",
            "An error occurred while extracting article info: Message: \n",
            "Stacktrace:\n",
            "#0 0x5bbae86be863 <unknown>\n",
            "#1 0x5bbae83b48c6 <unknown>\n",
            "#2 0x5bbae83ff618 <unknown>\n",
            "#3 0x5bbae83ff6d1 <unknown>\n",
            "#4 0x5bbae8442744 <unknown>\n",
            "#5 0x5bbae84215cd <unknown>\n",
            "#6 0x5bbae843fc19 <unknown>\n",
            "#7 0x5bbae8421343 <unknown>\n",
            "#8 0x5bbae83f2593 <unknown>\n",
            "#9 0x5bbae83f2f5e <unknown>\n",
            "#10 0x5bbae868284b <unknown>\n",
            "#11 0x5bbae86867a5 <unknown>\n",
            "#12 0x5bbae8670571 <unknown>\n",
            "#13 0x5bbae8687332 <unknown>\n",
            "#14 0x5bbae865587f <unknown>\n",
            "#15 0x5bbae86ad728 <unknown>\n",
            "#16 0x5bbae86ad8fb <unknown>\n",
            "#17 0x5bbae86bd9b4 <unknown>\n",
            "#18 0x7d2d277ccac3 <unknown>\n",
            "\n",
            "An error occurred while extracting article info: Message: \n",
            "Stacktrace:\n",
            "#0 0x5bbae86be863 <unknown>\n",
            "#1 0x5bbae83b48c6 <unknown>\n",
            "#2 0x5bbae83ff618 <unknown>\n",
            "#3 0x5bbae83ff6d1 <unknown>\n",
            "#4 0x5bbae8442744 <unknown>\n",
            "#5 0x5bbae84215cd <unknown>\n",
            "#6 0x5bbae843fc19 <unknown>\n",
            "#7 0x5bbae8421343 <unknown>\n",
            "#8 0x5bbae83f2593 <unknown>\n",
            "#9 0x5bbae83f2f5e <unknown>\n",
            "#10 0x5bbae868284b <unknown>\n",
            "#11 0x5bbae86867a5 <unknown>\n",
            "#12 0x5bbae8670571 <unknown>\n",
            "#13 0x5bbae8687332 <unknown>\n",
            "#14 0x5bbae865587f <unknown>\n",
            "#15 0x5bbae86ad728 <unknown>\n",
            "#16 0x5bbae86ad8fb <unknown>\n",
            "#17 0x5bbae86bd9b4 <unknown>\n",
            "#18 0x7d2d277ccac3 <unknown>\n",
            "\n",
            "An error occurred while processing an article: Message: \n",
            "Stacktrace:\n",
            "#0 0x5bbae86be863 <unknown>\n",
            "#1 0x5bbae83b48c6 <unknown>\n",
            "#2 0x5bbae83ff618 <unknown>\n",
            "#3 0x5bbae83ff6d1 <unknown>\n",
            "#4 0x5bbae83f3fa6 <unknown>\n",
            "#5 0x5bbae84215cd <unknown>\n",
            "#6 0x5bbae83f3e98 <unknown>\n",
            "#7 0x5bbae842176e <unknown>\n",
            "#8 0x5bbae843fc19 <unknown>\n",
            "#9 0x5bbae8421343 <unknown>\n",
            "#10 0x5bbae83f2593 <unknown>\n",
            "#11 0x5bbae83f2f5e <unknown>\n",
            "#12 0x5bbae868284b <unknown>\n",
            "#13 0x5bbae86867a5 <unknown>\n",
            "#14 0x5bbae8670571 <unknown>\n",
            "#15 0x5bbae8687332 <unknown>\n",
            "#16 0x5bbae865587f <unknown>\n",
            "#17 0x5bbae86ad728 <unknown>\n",
            "#18 0x5bbae86ad8fb <unknown>\n",
            "#19 0x5bbae86bd9b4 <unknown>\n",
            "#20 0x7d2d277ccac3 <unknown>\n",
            "\n",
            "An error occurred while processing an article: Message: \n",
            "Stacktrace:\n",
            "#0 0x5bbae86be863 <unknown>\n",
            "#1 0x5bbae83b48c6 <unknown>\n",
            "#2 0x5bbae83ff618 <unknown>\n",
            "#3 0x5bbae83ff6d1 <unknown>\n",
            "#4 0x5bbae83f3fa6 <unknown>\n",
            "#5 0x5bbae84215cd <unknown>\n",
            "#6 0x5bbae83f3e98 <unknown>\n",
            "#7 0x5bbae842176e <unknown>\n",
            "#8 0x5bbae843fc19 <unknown>\n",
            "#9 0x5bbae8421343 <unknown>\n",
            "#10 0x5bbae83f2593 <unknown>\n",
            "#11 0x5bbae83f2f5e <unknown>\n",
            "#12 0x5bbae868284b <unknown>\n",
            "#13 0x5bbae86867a5 <unknown>\n",
            "#14 0x5bbae8670571 <unknown>\n",
            "#15 0x5bbae8687332 <unknown>\n",
            "#16 0x5bbae865587f <unknown>\n",
            "#17 0x5bbae86ad728 <unknown>\n",
            "#18 0x5bbae86ad8fb <unknown>\n",
            "#19 0x5bbae86bd9b4 <unknown>\n",
            "#20 0x7d2d277ccac3 <unknown>\n",
            "\n",
            "An error occurred while processing an article: Message: \n",
            "Stacktrace:\n",
            "#0 0x5bbae86be863 <unknown>\n",
            "#1 0x5bbae83b48c6 <unknown>\n",
            "#2 0x5bbae83ff618 <unknown>\n",
            "#3 0x5bbae83ff6d1 <unknown>\n",
            "#4 0x5bbae83f3fa6 <unknown>\n",
            "#5 0x5bbae84215cd <unknown>\n",
            "#6 0x5bbae83f3e98 <unknown>\n",
            "#7 0x5bbae842176e <unknown>\n",
            "#8 0x5bbae843fc19 <unknown>\n",
            "#9 0x5bbae8421343 <unknown>\n",
            "#10 0x5bbae83f2593 <unknown>\n",
            "#11 0x5bbae83f2f5e <unknown>\n",
            "#12 0x5bbae868284b <unknown>\n",
            "#13 0x5bbae86867a5 <unknown>\n",
            "#14 0x5bbae8670571 <unknown>\n",
            "#15 0x5bbae8687332 <unknown>\n",
            "#16 0x5bbae865587f <unknown>\n",
            "#17 0x5bbae86ad728 <unknown>\n",
            "#18 0x5bbae86ad8fb <unknown>\n",
            "#19 0x5bbae86bd9b4 <unknown>\n",
            "#20 0x7d2d277ccac3 <unknown>\n",
            "\n",
            "An error occurred while processing an article: Message: \n",
            "Stacktrace:\n",
            "#0 0x5bbae86be863 <unknown>\n",
            "#1 0x5bbae83b48c6 <unknown>\n",
            "#2 0x5bbae83ff618 <unknown>\n",
            "#3 0x5bbae83ff6d1 <unknown>\n",
            "#4 0x5bbae83f3fa6 <unknown>\n",
            "#5 0x5bbae84215cd <unknown>\n",
            "#6 0x5bbae83f3e98 <unknown>\n",
            "#7 0x5bbae842176e <unknown>\n",
            "#8 0x5bbae843fc19 <unknown>\n",
            "#9 0x5bbae8421343 <unknown>\n",
            "#10 0x5bbae83f2593 <unknown>\n",
            "#11 0x5bbae83f2f5e <unknown>\n",
            "#12 0x5bbae868284b <unknown>\n",
            "#13 0x5bbae86867a5 <unknown>\n",
            "#14 0x5bbae8670571 <unknown>\n",
            "#15 0x5bbae8687332 <unknown>\n",
            "#16 0x5bbae865587f <unknown>\n",
            "#17 0x5bbae86ad728 <unknown>\n",
            "#18 0x5bbae86ad8fb <unknown>\n",
            "#19 0x5bbae86bd9b4 <unknown>\n",
            "#20 0x7d2d277ccac3 <unknown>\n",
            "\n",
            "An error occurred while processing an article: Message: \n",
            "Stacktrace:\n",
            "#0 0x5bbae86be863 <unknown>\n",
            "#1 0x5bbae83b48c6 <unknown>\n",
            "#2 0x5bbae83ff618 <unknown>\n",
            "#3 0x5bbae83ff6d1 <unknown>\n",
            "#4 0x5bbae83f3fa6 <unknown>\n",
            "#5 0x5bbae84215cd <unknown>\n",
            "#6 0x5bbae83f3e98 <unknown>\n",
            "#7 0x5bbae842176e <unknown>\n",
            "#8 0x5bbae843fc19 <unknown>\n",
            "#9 0x5bbae8421343 <unknown>\n",
            "#10 0x5bbae83f2593 <unknown>\n",
            "#11 0x5bbae83f2f5e <unknown>\n",
            "#12 0x5bbae868284b <unknown>\n",
            "#13 0x5bbae86867a5 <unknown>\n",
            "#14 0x5bbae8670571 <unknown>\n",
            "#15 0x5bbae8687332 <unknown>\n",
            "#16 0x5bbae865587f <unknown>\n",
            "#17 0x5bbae86ad728 <unknown>\n",
            "#18 0x5bbae86ad8fb <unknown>\n",
            "#19 0x5bbae86bd9b4 <unknown>\n",
            "#20 0x7d2d277ccac3 <unknown>\n",
            "\n",
            "An error occurred while extracting article info: Message: \n",
            "Stacktrace:\n",
            "#0 0x5bbae86be863 <unknown>\n",
            "#1 0x5bbae83b48c6 <unknown>\n",
            "#2 0x5bbae83ff618 <unknown>\n",
            "#3 0x5bbae83ff6d1 <unknown>\n",
            "#4 0x5bbae8442744 <unknown>\n",
            "#5 0x5bbae84215cd <unknown>\n",
            "#6 0x5bbae843fc19 <unknown>\n",
            "#7 0x5bbae8421343 <unknown>\n",
            "#8 0x5bbae83f2593 <unknown>\n",
            "#9 0x5bbae83f2f5e <unknown>\n",
            "#10 0x5bbae868284b <unknown>\n",
            "#11 0x5bbae86867a5 <unknown>\n",
            "#12 0x5bbae8670571 <unknown>\n",
            "#13 0x5bbae8687332 <unknown>\n",
            "#14 0x5bbae865587f <unknown>\n",
            "#15 0x5bbae86ad728 <unknown>\n",
            "#16 0x5bbae86ad8fb <unknown>\n",
            "#17 0x5bbae86bd9b4 <unknown>\n",
            "#18 0x7d2d277ccac3 <unknown>\n",
            "\n",
            "An error occurred while extracting article info: Message: \n",
            "Stacktrace:\n",
            "#0 0x5bbae86be863 <unknown>\n",
            "#1 0x5bbae83b48c6 <unknown>\n",
            "#2 0x5bbae83ff618 <unknown>\n",
            "#3 0x5bbae83ff6d1 <unknown>\n",
            "#4 0x5bbae8442744 <unknown>\n",
            "#5 0x5bbae84215cd <unknown>\n",
            "#6 0x5bbae843fc19 <unknown>\n",
            "#7 0x5bbae8421343 <unknown>\n",
            "#8 0x5bbae83f2593 <unknown>\n",
            "#9 0x5bbae83f2f5e <unknown>\n",
            "#10 0x5bbae868284b <unknown>\n",
            "#11 0x5bbae86867a5 <unknown>\n",
            "#12 0x5bbae8670571 <unknown>\n",
            "#13 0x5bbae8687332 <unknown>\n",
            "#14 0x5bbae865587f <unknown>\n",
            "#15 0x5bbae86ad728 <unknown>\n",
            "#16 0x5bbae86ad8fb <unknown>\n",
            "#17 0x5bbae86bd9b4 <unknown>\n",
            "#18 0x7d2d277ccac3 <unknown>\n",
            "\n",
            "An error occurred while extracting article info: Message: \n",
            "Stacktrace:\n",
            "#0 0x5bbae86be863 <unknown>\n",
            "#1 0x5bbae83b48c6 <unknown>\n",
            "#2 0x5bbae83ff618 <unknown>\n",
            "#3 0x5bbae83ff6d1 <unknown>\n",
            "#4 0x5bbae8442744 <unknown>\n",
            "#5 0x5bbae84215cd <unknown>\n",
            "#6 0x5bbae843fc19 <unknown>\n",
            "#7 0x5bbae8421343 <unknown>\n",
            "#8 0x5bbae83f2593 <unknown>\n",
            "#9 0x5bbae83f2f5e <unknown>\n",
            "#10 0x5bbae868284b <unknown>\n",
            "#11 0x5bbae86867a5 <unknown>\n",
            "#12 0x5bbae8670571 <unknown>\n",
            "#13 0x5bbae8687332 <unknown>\n",
            "#14 0x5bbae865587f <unknown>\n",
            "#15 0x5bbae86ad728 <unknown>\n",
            "#16 0x5bbae86ad8fb <unknown>\n",
            "#17 0x5bbae86bd9b4 <unknown>\n",
            "#18 0x7d2d277ccac3 <unknown>\n",
            "\n",
            "An error occurred while extracting article info: Message: \n",
            "Stacktrace:\n",
            "#0 0x5bbae86be863 <unknown>\n",
            "#1 0x5bbae83b48c6 <unknown>\n",
            "#2 0x5bbae83ff618 <unknown>\n",
            "#3 0x5bbae83ff6d1 <unknown>\n",
            "#4 0x5bbae8442744 <unknown>\n",
            "#5 0x5bbae84215cd <unknown>\n",
            "#6 0x5bbae843fc19 <unknown>\n",
            "#7 0x5bbae8421343 <unknown>\n",
            "#8 0x5bbae83f2593 <unknown>\n",
            "#9 0x5bbae83f2f5e <unknown>\n",
            "#10 0x5bbae868284b <unknown>\n",
            "#11 0x5bbae86867a5 <unknown>\n",
            "#12 0x5bbae8670571 <unknown>\n",
            "#13 0x5bbae8687332 <unknown>\n",
            "#14 0x5bbae865587f <unknown>\n",
            "#15 0x5bbae86ad728 <unknown>\n",
            "#16 0x5bbae86ad8fb <unknown>\n",
            "#17 0x5bbae86bd9b4 <unknown>\n",
            "#18 0x7d2d277ccac3 <unknown>\n",
            "\n",
            "An error occurred while extracting article info: Message: \n",
            "Stacktrace:\n",
            "#0 0x5bbae86be863 <unknown>\n",
            "#1 0x5bbae83b48c6 <unknown>\n",
            "#2 0x5bbae83ff618 <unknown>\n",
            "#3 0x5bbae83ff6d1 <unknown>\n",
            "#4 0x5bbae8442744 <unknown>\n",
            "#5 0x5bbae84215cd <unknown>\n",
            "#6 0x5bbae843fc19 <unknown>\n",
            "#7 0x5bbae8421343 <unknown>\n",
            "#8 0x5bbae83f2593 <unknown>\n",
            "#9 0x5bbae83f2f5e <unknown>\n",
            "#10 0x5bbae868284b <unknown>\n",
            "#11 0x5bbae86867a5 <unknown>\n",
            "#12 0x5bbae8670571 <unknown>\n",
            "#13 0x5bbae8687332 <unknown>\n",
            "#14 0x5bbae865587f <unknown>\n",
            "#15 0x5bbae86ad728 <unknown>\n",
            "#16 0x5bbae86ad8fb <unknown>\n",
            "#17 0x5bbae86bd9b4 <unknown>\n",
            "#18 0x7d2d277ccac3 <unknown>\n",
            "\n",
            "An error occurred while extracting article info: Message: \n",
            "Stacktrace:\n",
            "#0 0x5bbae86be863 <unknown>\n",
            "#1 0x5bbae83b48c6 <unknown>\n",
            "#2 0x5bbae83ff618 <unknown>\n",
            "#3 0x5bbae83ff6d1 <unknown>\n",
            "#4 0x5bbae8442744 <unknown>\n",
            "#5 0x5bbae84215cd <unknown>\n",
            "#6 0x5bbae843fc19 <unknown>\n",
            "#7 0x5bbae8421343 <unknown>\n",
            "#8 0x5bbae83f2593 <unknown>\n",
            "#9 0x5bbae83f2f5e <unknown>\n",
            "#10 0x5bbae868284b <unknown>\n",
            "#11 0x5bbae86867a5 <unknown>\n",
            "#12 0x5bbae8670571 <unknown>\n",
            "#13 0x5bbae8687332 <unknown>\n",
            "#14 0x5bbae865587f <unknown>\n",
            "#15 0x5bbae86ad728 <unknown>\n",
            "#16 0x5bbae86ad8fb <unknown>\n",
            "#17 0x5bbae86bd9b4 <unknown>\n",
            "#18 0x7d2d277ccac3 <unknown>\n",
            "\n",
            "An error occurred while extracting article info: Message: \n",
            "Stacktrace:\n",
            "#0 0x5bbae86be863 <unknown>\n",
            "#1 0x5bbae83b48c6 <unknown>\n",
            "#2 0x5bbae83ff618 <unknown>\n",
            "#3 0x5bbae83ff6d1 <unknown>\n",
            "#4 0x5bbae8442744 <unknown>\n",
            "#5 0x5bbae84215cd <unknown>\n",
            "#6 0x5bbae843fc19 <unknown>\n",
            "#7 0x5bbae8421343 <unknown>\n",
            "#8 0x5bbae83f2593 <unknown>\n",
            "#9 0x5bbae83f2f5e <unknown>\n",
            "#10 0x5bbae868284b <unknown>\n",
            "#11 0x5bbae86867a5 <unknown>\n",
            "#12 0x5bbae8670571 <unknown>\n",
            "#13 0x5bbae8687332 <unknown>\n",
            "#14 0x5bbae865587f <unknown>\n",
            "#15 0x5bbae86ad728 <unknown>\n",
            "#16 0x5bbae86ad8fb <unknown>\n",
            "#17 0x5bbae86bd9b4 <unknown>\n",
            "#18 0x7d2d277ccac3 <unknown>\n",
            "\n",
            "An error occurred while extracting article info: Message: \n",
            "Stacktrace:\n",
            "#0 0x5bbae86be863 <unknown>\n",
            "#1 0x5bbae83b48c6 <unknown>\n",
            "#2 0x5bbae83ff618 <unknown>\n",
            "#3 0x5bbae83ff6d1 <unknown>\n",
            "#4 0x5bbae8442744 <unknown>\n",
            "#5 0x5bbae84215cd <unknown>\n",
            "#6 0x5bbae843fc19 <unknown>\n",
            "#7 0x5bbae8421343 <unknown>\n",
            "#8 0x5bbae83f2593 <unknown>\n",
            "#9 0x5bbae83f2f5e <unknown>\n",
            "#10 0x5bbae868284b <unknown>\n",
            "#11 0x5bbae86867a5 <unknown>\n",
            "#12 0x5bbae8670571 <unknown>\n",
            "#13 0x5bbae8687332 <unknown>\n",
            "#14 0x5bbae865587f <unknown>\n",
            "#15 0x5bbae86ad728 <unknown>\n",
            "#16 0x5bbae86ad8fb <unknown>\n",
            "#17 0x5bbae86bd9b4 <unknown>\n",
            "#18 0x7d2d277ccac3 <unknown>\n",
            "\n",
            "An error occurred while extracting article info: Message: \n",
            "Stacktrace:\n",
            "#0 0x5bbae86be863 <unknown>\n",
            "#1 0x5bbae83b48c6 <unknown>\n",
            "#2 0x5bbae83ff618 <unknown>\n",
            "#3 0x5bbae83ff6d1 <unknown>\n",
            "#4 0x5bbae8442744 <unknown>\n",
            "#5 0x5bbae84215cd <unknown>\n",
            "#6 0x5bbae843fc19 <unknown>\n",
            "#7 0x5bbae8421343 <unknown>\n",
            "#8 0x5bbae83f2593 <unknown>\n",
            "#9 0x5bbae83f2f5e <unknown>\n",
            "#10 0x5bbae868284b <unknown>\n",
            "#11 0x5bbae86867a5 <unknown>\n",
            "#12 0x5bbae8670571 <unknown>\n",
            "#13 0x5bbae8687332 <unknown>\n",
            "#14 0x5bbae865587f <unknown>\n",
            "#15 0x5bbae86ad728 <unknown>\n",
            "#16 0x5bbae86ad8fb <unknown>\n",
            "#17 0x5bbae86bd9b4 <unknown>\n",
            "#18 0x7d2d277ccac3 <unknown>\n",
            "\n",
            "An error occurred while extracting article info: Message: \n",
            "Stacktrace:\n",
            "#0 0x5bbae86be863 <unknown>\n",
            "#1 0x5bbae83b48c6 <unknown>\n",
            "#2 0x5bbae83ff618 <unknown>\n",
            "#3 0x5bbae83ff6d1 <unknown>\n",
            "#4 0x5bbae8442744 <unknown>\n",
            "#5 0x5bbae84215cd <unknown>\n",
            "#6 0x5bbae843fc19 <unknown>\n",
            "#7 0x5bbae8421343 <unknown>\n",
            "#8 0x5bbae83f2593 <unknown>\n",
            "#9 0x5bbae83f2f5e <unknown>\n",
            "#10 0x5bbae868284b <unknown>\n",
            "#11 0x5bbae86867a5 <unknown>\n",
            "#12 0x5bbae8670571 <unknown>\n",
            "#13 0x5bbae8687332 <unknown>\n",
            "#14 0x5bbae865587f <unknown>\n",
            "#15 0x5bbae86ad728 <unknown>\n",
            "#16 0x5bbae86ad8fb <unknown>\n",
            "#17 0x5bbae86bd9b4 <unknown>\n",
            "#18 0x7d2d277ccac3 <unknown>\n",
            "\n",
            "An error occurred while extracting article info: Message: \n",
            "Stacktrace:\n",
            "#0 0x5bbae86be863 <unknown>\n",
            "#1 0x5bbae83b48c6 <unknown>\n",
            "#2 0x5bbae83ff618 <unknown>\n",
            "#3 0x5bbae83ff6d1 <unknown>\n",
            "#4 0x5bbae8442744 <unknown>\n",
            "#5 0x5bbae84215cd <unknown>\n",
            "#6 0x5bbae843fc19 <unknown>\n",
            "#7 0x5bbae8421343 <unknown>\n",
            "#8 0x5bbae83f2593 <unknown>\n",
            "#9 0x5bbae83f2f5e <unknown>\n",
            "#10 0x5bbae868284b <unknown>\n",
            "#11 0x5bbae86867a5 <unknown>\n",
            "#12 0x5bbae8670571 <unknown>\n",
            "#13 0x5bbae8687332 <unknown>\n",
            "#14 0x5bbae865587f <unknown>\n",
            "#15 0x5bbae86ad728 <unknown>\n",
            "#16 0x5bbae86ad8fb <unknown>\n",
            "#17 0x5bbae86bd9b4 <unknown>\n",
            "#18 0x7d2d277ccac3 <unknown>\n",
            "\n",
            "An error occurred while extracting article info: Message: \n",
            "Stacktrace:\n",
            "#0 0x5bbae86be863 <unknown>\n",
            "#1 0x5bbae83b48c6 <unknown>\n",
            "#2 0x5bbae83ff618 <unknown>\n",
            "#3 0x5bbae83ff6d1 <unknown>\n",
            "#4 0x5bbae8442744 <unknown>\n",
            "#5 0x5bbae84215cd <unknown>\n",
            "#6 0x5bbae843fc19 <unknown>\n",
            "#7 0x5bbae8421343 <unknown>\n",
            "#8 0x5bbae83f2593 <unknown>\n",
            "#9 0x5bbae83f2f5e <unknown>\n",
            "#10 0x5bbae868284b <unknown>\n",
            "#11 0x5bbae86867a5 <unknown>\n",
            "#12 0x5bbae8670571 <unknown>\n",
            "#13 0x5bbae8687332 <unknown>\n",
            "#14 0x5bbae865587f <unknown>\n",
            "#15 0x5bbae86ad728 <unknown>\n",
            "#16 0x5bbae86ad8fb <unknown>\n",
            "#17 0x5bbae86bd9b4 <unknown>\n",
            "#18 0x7d2d277ccac3 <unknown>\n",
            "\n",
            "An error occurred while processing an article: Message: \n",
            "Stacktrace:\n",
            "#0 0x5bbae86be863 <unknown>\n",
            "#1 0x5bbae83b48c6 <unknown>\n",
            "#2 0x5bbae83ff618 <unknown>\n",
            "#3 0x5bbae83ff6d1 <unknown>\n",
            "#4 0x5bbae83f3fa6 <unknown>\n",
            "#5 0x5bbae84215cd <unknown>\n",
            "#6 0x5bbae83f3e98 <unknown>\n",
            "#7 0x5bbae842176e <unknown>\n",
            "#8 0x5bbae843fc19 <unknown>\n",
            "#9 0x5bbae8421343 <unknown>\n",
            "#10 0x5bbae83f2593 <unknown>\n",
            "#11 0x5bbae83f2f5e <unknown>\n",
            "#12 0x5bbae868284b <unknown>\n",
            "#13 0x5bbae86867a5 <unknown>\n",
            "#14 0x5bbae8670571 <unknown>\n",
            "#15 0x5bbae8687332 <unknown>\n",
            "#16 0x5bbae865587f <unknown>\n",
            "#17 0x5bbae86ad728 <unknown>\n",
            "#18 0x5bbae86ad8fb <unknown>\n",
            "#19 0x5bbae86bd9b4 <unknown>\n",
            "#20 0x7d2d277ccac3 <unknown>\n",
            "\n",
            "An error occurred while processing an article: Message: \n",
            "Stacktrace:\n",
            "#0 0x5bbae86be863 <unknown>\n",
            "#1 0x5bbae83b48c6 <unknown>\n",
            "#2 0x5bbae83ff618 <unknown>\n",
            "#3 0x5bbae83ff6d1 <unknown>\n",
            "#4 0x5bbae83f3fa6 <unknown>\n",
            "#5 0x5bbae84215cd <unknown>\n",
            "#6 0x5bbae83f3e98 <unknown>\n",
            "#7 0x5bbae842176e <unknown>\n",
            "#8 0x5bbae843fc19 <unknown>\n",
            "#9 0x5bbae8421343 <unknown>\n",
            "#10 0x5bbae83f2593 <unknown>\n",
            "#11 0x5bbae83f2f5e <unknown>\n",
            "#12 0x5bbae868284b <unknown>\n",
            "#13 0x5bbae86867a5 <unknown>\n",
            "#14 0x5bbae8670571 <unknown>\n",
            "#15 0x5bbae8687332 <unknown>\n",
            "#16 0x5bbae865587f <unknown>\n",
            "#17 0x5bbae86ad728 <unknown>\n",
            "#18 0x5bbae86ad8fb <unknown>\n",
            "#19 0x5bbae86bd9b4 <unknown>\n",
            "#20 0x7d2d277ccac3 <unknown>\n",
            "\n",
            "An error occurred while processing an article: Message: \n",
            "Stacktrace:\n",
            "#0 0x5bbae86be863 <unknown>\n",
            "#1 0x5bbae83b48c6 <unknown>\n",
            "#2 0x5bbae83ff618 <unknown>\n",
            "#3 0x5bbae83ff6d1 <unknown>\n",
            "#4 0x5bbae83f3fa6 <unknown>\n",
            "#5 0x5bbae84215cd <unknown>\n",
            "#6 0x5bbae83f3e98 <unknown>\n",
            "#7 0x5bbae842176e <unknown>\n",
            "#8 0x5bbae843fc19 <unknown>\n",
            "#9 0x5bbae8421343 <unknown>\n",
            "#10 0x5bbae83f2593 <unknown>\n",
            "#11 0x5bbae83f2f5e <unknown>\n",
            "#12 0x5bbae868284b <unknown>\n",
            "#13 0x5bbae86867a5 <unknown>\n",
            "#14 0x5bbae8670571 <unknown>\n",
            "#15 0x5bbae8687332 <unknown>\n",
            "#16 0x5bbae865587f <unknown>\n",
            "#17 0x5bbae86ad728 <unknown>\n",
            "#18 0x5bbae86ad8fb <unknown>\n",
            "#19 0x5bbae86bd9b4 <unknown>\n",
            "#20 0x7d2d277ccac3 <unknown>\n",
            "\n",
            "An error occurred while processing an article: Message: \n",
            "Stacktrace:\n",
            "#0 0x5bbae86be863 <unknown>\n",
            "#1 0x5bbae83b48c6 <unknown>\n",
            "#2 0x5bbae83ff618 <unknown>\n",
            "#3 0x5bbae83ff6d1 <unknown>\n",
            "#4 0x5bbae83f3fa6 <unknown>\n",
            "#5 0x5bbae84215cd <unknown>\n",
            "#6 0x5bbae83f3e98 <unknown>\n",
            "#7 0x5bbae842176e <unknown>\n",
            "#8 0x5bbae843fc19 <unknown>\n",
            "#9 0x5bbae8421343 <unknown>\n",
            "#10 0x5bbae83f2593 <unknown>\n",
            "#11 0x5bbae83f2f5e <unknown>\n",
            "#12 0x5bbae868284b <unknown>\n",
            "#13 0x5bbae86867a5 <unknown>\n",
            "#14 0x5bbae8670571 <unknown>\n",
            "#15 0x5bbae8687332 <unknown>\n",
            "#16 0x5bbae865587f <unknown>\n",
            "#17 0x5bbae86ad728 <unknown>\n",
            "#18 0x5bbae86ad8fb <unknown>\n",
            "#19 0x5bbae86bd9b4 <unknown>\n",
            "#20 0x7d2d277ccac3 <unknown>\n",
            "\n",
            "An error occurred while processing an article: Message: \n",
            "Stacktrace:\n",
            "#0 0x5bbae86be863 <unknown>\n",
            "#1 0x5bbae83b48c6 <unknown>\n",
            "#2 0x5bbae83ff618 <unknown>\n",
            "#3 0x5bbae83ff6d1 <unknown>\n",
            "#4 0x5bbae83f3fa6 <unknown>\n",
            "#5 0x5bbae84215cd <unknown>\n",
            "#6 0x5bbae83f3e98 <unknown>\n",
            "#7 0x5bbae842176e <unknown>\n",
            "#8 0x5bbae843fc19 <unknown>\n",
            "#9 0x5bbae8421343 <unknown>\n",
            "#10 0x5bbae83f2593 <unknown>\n",
            "#11 0x5bbae83f2f5e <unknown>\n",
            "#12 0x5bbae868284b <unknown>\n",
            "#13 0x5bbae86867a5 <unknown>\n",
            "#14 0x5bbae8670571 <unknown>\n",
            "#15 0x5bbae8687332 <unknown>\n",
            "#16 0x5bbae865587f <unknown>\n",
            "#17 0x5bbae86ad728 <unknown>\n",
            "#18 0x5bbae86ad8fb <unknown>\n",
            "#19 0x5bbae86bd9b4 <unknown>\n",
            "#20 0x7d2d277ccac3 <unknown>\n",
            "\n",
            "An error occurred while extracting article info: Message: \n",
            "Stacktrace:\n",
            "#0 0x5bbae86be863 <unknown>\n",
            "#1 0x5bbae83b48c6 <unknown>\n",
            "#2 0x5bbae83ff618 <unknown>\n",
            "#3 0x5bbae83ff6d1 <unknown>\n",
            "#4 0x5bbae8442744 <unknown>\n",
            "#5 0x5bbae84215cd <unknown>\n",
            "#6 0x5bbae843fc19 <unknown>\n",
            "#7 0x5bbae8421343 <unknown>\n",
            "#8 0x5bbae83f2593 <unknown>\n",
            "#9 0x5bbae83f2f5e <unknown>\n",
            "#10 0x5bbae868284b <unknown>\n",
            "#11 0x5bbae86867a5 <unknown>\n",
            "#12 0x5bbae8670571 <unknown>\n",
            "#13 0x5bbae8687332 <unknown>\n",
            "#14 0x5bbae865587f <unknown>\n",
            "#15 0x5bbae86ad728 <unknown>\n",
            "#16 0x5bbae86ad8fb <unknown>\n",
            "#17 0x5bbae86bd9b4 <unknown>\n",
            "#18 0x7d2d277ccac3 <unknown>\n",
            "\n",
            "An error occurred while extracting article info: Message: \n",
            "Stacktrace:\n",
            "#0 0x5bbae86be863 <unknown>\n",
            "#1 0x5bbae83b48c6 <unknown>\n",
            "#2 0x5bbae83ff618 <unknown>\n",
            "#3 0x5bbae83ff6d1 <unknown>\n",
            "#4 0x5bbae8442744 <unknown>\n",
            "#5 0x5bbae84215cd <unknown>\n",
            "#6 0x5bbae843fc19 <unknown>\n",
            "#7 0x5bbae8421343 <unknown>\n",
            "#8 0x5bbae83f2593 <unknown>\n",
            "#9 0x5bbae83f2f5e <unknown>\n",
            "#10 0x5bbae868284b <unknown>\n",
            "#11 0x5bbae86867a5 <unknown>\n",
            "#12 0x5bbae8670571 <unknown>\n",
            "#13 0x5bbae8687332 <unknown>\n",
            "#14 0x5bbae865587f <unknown>\n",
            "#15 0x5bbae86ad728 <unknown>\n",
            "#16 0x5bbae86ad8fb <unknown>\n",
            "#17 0x5bbae86bd9b4 <unknown>\n",
            "#18 0x7d2d277ccac3 <unknown>\n",
            "\n",
            "An error occurred while extracting article info: Message: \n",
            "Stacktrace:\n",
            "#0 0x5bbae86be863 <unknown>\n",
            "#1 0x5bbae83b48c6 <unknown>\n",
            "#2 0x5bbae83ff618 <unknown>\n",
            "#3 0x5bbae83ff6d1 <unknown>\n",
            "#4 0x5bbae8442744 <unknown>\n",
            "#5 0x5bbae84215cd <unknown>\n",
            "#6 0x5bbae843fc19 <unknown>\n",
            "#7 0x5bbae8421343 <unknown>\n",
            "#8 0x5bbae83f2593 <unknown>\n",
            "#9 0x5bbae83f2f5e <unknown>\n",
            "#10 0x5bbae868284b <unknown>\n",
            "#11 0x5bbae86867a5 <unknown>\n",
            "#12 0x5bbae8670571 <unknown>\n",
            "#13 0x5bbae8687332 <unknown>\n",
            "#14 0x5bbae865587f <unknown>\n",
            "#15 0x5bbae86ad728 <unknown>\n",
            "#16 0x5bbae86ad8fb <unknown>\n",
            "#17 0x5bbae86bd9b4 <unknown>\n",
            "#18 0x7d2d277ccac3 <unknown>\n",
            "\n",
            "An error occurred while extracting article info: Message: \n",
            "Stacktrace:\n",
            "#0 0x5bbae86be863 <unknown>\n",
            "#1 0x5bbae83b48c6 <unknown>\n",
            "#2 0x5bbae83ff618 <unknown>\n",
            "#3 0x5bbae83ff6d1 <unknown>\n",
            "#4 0x5bbae8442744 <unknown>\n",
            "#5 0x5bbae84215cd <unknown>\n",
            "#6 0x5bbae843fc19 <unknown>\n",
            "#7 0x5bbae8421343 <unknown>\n",
            "#8 0x5bbae83f2593 <unknown>\n",
            "#9 0x5bbae83f2f5e <unknown>\n",
            "#10 0x5bbae868284b <unknown>\n",
            "#11 0x5bbae86867a5 <unknown>\n",
            "#12 0x5bbae8670571 <unknown>\n",
            "#13 0x5bbae8687332 <unknown>\n",
            "#14 0x5bbae865587f <unknown>\n",
            "#15 0x5bbae86ad728 <unknown>\n",
            "#16 0x5bbae86ad8fb <unknown>\n",
            "#17 0x5bbae86bd9b4 <unknown>\n",
            "#18 0x7d2d277ccac3 <unknown>\n",
            "\n",
            "An error occurred while extracting article info: Message: \n",
            "Stacktrace:\n",
            "#0 0x5bbae86be863 <unknown>\n",
            "#1 0x5bbae83b48c6 <unknown>\n",
            "#2 0x5bbae83ff618 <unknown>\n",
            "#3 0x5bbae83ff6d1 <unknown>\n",
            "#4 0x5bbae8442744 <unknown>\n",
            "#5 0x5bbae84215cd <unknown>\n",
            "#6 0x5bbae843fc19 <unknown>\n",
            "#7 0x5bbae8421343 <unknown>\n",
            "#8 0x5bbae83f2593 <unknown>\n",
            "#9 0x5bbae83f2f5e <unknown>\n",
            "#10 0x5bbae868284b <unknown>\n",
            "#11 0x5bbae86867a5 <unknown>\n",
            "#12 0x5bbae8670571 <unknown>\n",
            "#13 0x5bbae8687332 <unknown>\n",
            "#14 0x5bbae865587f <unknown>\n",
            "#15 0x5bbae86ad728 <unknown>\n",
            "#16 0x5bbae86ad8fb <unknown>\n",
            "#17 0x5bbae86bd9b4 <unknown>\n",
            "#18 0x7d2d277ccac3 <unknown>\n",
            "\n",
            "An error occurred while extracting article info: Message: \n",
            "Stacktrace:\n",
            "#0 0x5bbae86be863 <unknown>\n",
            "#1 0x5bbae83b48c6 <unknown>\n",
            "#2 0x5bbae83ff618 <unknown>\n",
            "#3 0x5bbae83ff6d1 <unknown>\n",
            "#4 0x5bbae8442744 <unknown>\n",
            "#5 0x5bbae84215cd <unknown>\n",
            "#6 0x5bbae843fc19 <unknown>\n",
            "#7 0x5bbae8421343 <unknown>\n",
            "#8 0x5bbae83f2593 <unknown>\n",
            "#9 0x5bbae83f2f5e <unknown>\n",
            "#10 0x5bbae868284b <unknown>\n",
            "#11 0x5bbae86867a5 <unknown>\n",
            "#12 0x5bbae8670571 <unknown>\n",
            "#13 0x5bbae8687332 <unknown>\n",
            "#14 0x5bbae865587f <unknown>\n",
            "#15 0x5bbae86ad728 <unknown>\n",
            "#16 0x5bbae86ad8fb <unknown>\n",
            "#17 0x5bbae86bd9b4 <unknown>\n",
            "#18 0x7d2d277ccac3 <unknown>\n",
            "\n",
            "An error occurred while extracting article info: Message: \n",
            "Stacktrace:\n",
            "#0 0x5bbae86be863 <unknown>\n",
            "#1 0x5bbae83b48c6 <unknown>\n",
            "#2 0x5bbae83ff618 <unknown>\n",
            "#3 0x5bbae83ff6d1 <unknown>\n",
            "#4 0x5bbae8442744 <unknown>\n",
            "#5 0x5bbae84215cd <unknown>\n",
            "#6 0x5bbae843fc19 <unknown>\n",
            "#7 0x5bbae8421343 <unknown>\n",
            "#8 0x5bbae83f2593 <unknown>\n",
            "#9 0x5bbae83f2f5e <unknown>\n",
            "#10 0x5bbae868284b <unknown>\n",
            "#11 0x5bbae86867a5 <unknown>\n",
            "#12 0x5bbae8670571 <unknown>\n",
            "#13 0x5bbae8687332 <unknown>\n",
            "#14 0x5bbae865587f <unknown>\n",
            "#15 0x5bbae86ad728 <unknown>\n",
            "#16 0x5bbae86ad8fb <unknown>\n",
            "#17 0x5bbae86bd9b4 <unknown>\n",
            "#18 0x7d2d277ccac3 <unknown>\n",
            "\n",
            "An error occurred while extracting article info: Message: \n",
            "Stacktrace:\n",
            "#0 0x5bbae86be863 <unknown>\n",
            "#1 0x5bbae83b48c6 <unknown>\n",
            "#2 0x5bbae83ff618 <unknown>\n",
            "#3 0x5bbae83ff6d1 <unknown>\n",
            "#4 0x5bbae8442744 <unknown>\n",
            "#5 0x5bbae84215cd <unknown>\n",
            "#6 0x5bbae843fc19 <unknown>\n",
            "#7 0x5bbae8421343 <unknown>\n",
            "#8 0x5bbae83f2593 <unknown>\n",
            "#9 0x5bbae83f2f5e <unknown>\n",
            "#10 0x5bbae868284b <unknown>\n",
            "#11 0x5bbae86867a5 <unknown>\n",
            "#12 0x5bbae8670571 <unknown>\n",
            "#13 0x5bbae8687332 <unknown>\n",
            "#14 0x5bbae865587f <unknown>\n",
            "#15 0x5bbae86ad728 <unknown>\n",
            "#16 0x5bbae86ad8fb <unknown>\n",
            "#17 0x5bbae86bd9b4 <unknown>\n",
            "#18 0x7d2d277ccac3 <unknown>\n",
            "\n",
            "An error occurred while extracting article info: Message: \n",
            "Stacktrace:\n",
            "#0 0x5bbae86be863 <unknown>\n",
            "#1 0x5bbae83b48c6 <unknown>\n",
            "#2 0x5bbae83ff618 <unknown>\n",
            "#3 0x5bbae83ff6d1 <unknown>\n",
            "#4 0x5bbae8442744 <unknown>\n",
            "#5 0x5bbae84215cd <unknown>\n",
            "#6 0x5bbae843fc19 <unknown>\n",
            "#7 0x5bbae8421343 <unknown>\n",
            "#8 0x5bbae83f2593 <unknown>\n",
            "#9 0x5bbae83f2f5e <unknown>\n",
            "#10 0x5bbae868284b <unknown>\n",
            "#11 0x5bbae86867a5 <unknown>\n",
            "#12 0x5bbae8670571 <unknown>\n",
            "#13 0x5bbae8687332 <unknown>\n",
            "#14 0x5bbae865587f <unknown>\n",
            "#15 0x5bbae86ad728 <unknown>\n",
            "#16 0x5bbae86ad8fb <unknown>\n",
            "#17 0x5bbae86bd9b4 <unknown>\n",
            "#18 0x7d2d277ccac3 <unknown>\n",
            "\n",
            "An error occurred while extracting article info: Message: \n",
            "Stacktrace:\n",
            "#0 0x5bbae86be863 <unknown>\n",
            "#1 0x5bbae83b48c6 <unknown>\n",
            "#2 0x5bbae83ff618 <unknown>\n",
            "#3 0x5bbae83ff6d1 <unknown>\n",
            "#4 0x5bbae8442744 <unknown>\n",
            "#5 0x5bbae84215cd <unknown>\n",
            "#6 0x5bbae843fc19 <unknown>\n",
            "#7 0x5bbae8421343 <unknown>\n",
            "#8 0x5bbae83f2593 <unknown>\n",
            "#9 0x5bbae83f2f5e <unknown>\n",
            "#10 0x5bbae868284b <unknown>\n",
            "#11 0x5bbae86867a5 <unknown>\n",
            "#12 0x5bbae8670571 <unknown>\n",
            "#13 0x5bbae8687332 <unknown>\n",
            "#14 0x5bbae865587f <unknown>\n",
            "#15 0x5bbae86ad728 <unknown>\n",
            "#16 0x5bbae86ad8fb <unknown>\n",
            "#17 0x5bbae86bd9b4 <unknown>\n",
            "#18 0x7d2d277ccac3 <unknown>\n",
            "\n",
            "An error occurred while extracting article info: Message: \n",
            "Stacktrace:\n",
            "#0 0x5bbae86be863 <unknown>\n",
            "#1 0x5bbae83b48c6 <unknown>\n",
            "#2 0x5bbae83ff618 <unknown>\n",
            "#3 0x5bbae83ff6d1 <unknown>\n",
            "#4 0x5bbae8442744 <unknown>\n",
            "#5 0x5bbae84215cd <unknown>\n",
            "#6 0x5bbae843fc19 <unknown>\n",
            "#7 0x5bbae8421343 <unknown>\n",
            "#8 0x5bbae83f2593 <unknown>\n",
            "#9 0x5bbae83f2f5e <unknown>\n",
            "#10 0x5bbae868284b <unknown>\n",
            "#11 0x5bbae86867a5 <unknown>\n",
            "#12 0x5bbae8670571 <unknown>\n",
            "#13 0x5bbae8687332 <unknown>\n",
            "#14 0x5bbae865587f <unknown>\n",
            "#15 0x5bbae86ad728 <unknown>\n",
            "#16 0x5bbae86ad8fb <unknown>\n",
            "#17 0x5bbae86bd9b4 <unknown>\n",
            "#18 0x7d2d277ccac3 <unknown>\n",
            "\n",
            "An error occurred while extracting article info: Message: \n",
            "Stacktrace:\n",
            "#0 0x5bbae86be863 <unknown>\n",
            "#1 0x5bbae83b48c6 <unknown>\n",
            "#2 0x5bbae83ff618 <unknown>\n",
            "#3 0x5bbae83ff6d1 <unknown>\n",
            "#4 0x5bbae8442744 <unknown>\n",
            "#5 0x5bbae84215cd <unknown>\n",
            "#6 0x5bbae843fc19 <unknown>\n",
            "#7 0x5bbae8421343 <unknown>\n",
            "#8 0x5bbae83f2593 <unknown>\n",
            "#9 0x5bbae83f2f5e <unknown>\n",
            "#10 0x5bbae868284b <unknown>\n",
            "#11 0x5bbae86867a5 <unknown>\n",
            "#12 0x5bbae8670571 <unknown>\n",
            "#13 0x5bbae8687332 <unknown>\n",
            "#14 0x5bbae865587f <unknown>\n",
            "#15 0x5bbae86ad728 <unknown>\n",
            "#16 0x5bbae86ad8fb <unknown>\n",
            "#17 0x5bbae86bd9b4 <unknown>\n",
            "#18 0x7d2d277ccac3 <unknown>\n",
            "\n",
            "An error occurred while processing an article: Message: \n",
            "Stacktrace:\n",
            "#0 0x5bbae86be863 <unknown>\n",
            "#1 0x5bbae83b48c6 <unknown>\n",
            "#2 0x5bbae83ff618 <unknown>\n",
            "#3 0x5bbae83ff6d1 <unknown>\n",
            "#4 0x5bbae83f3fa6 <unknown>\n",
            "#5 0x5bbae84215cd <unknown>\n",
            "#6 0x5bbae83f3e98 <unknown>\n",
            "#7 0x5bbae842176e <unknown>\n",
            "#8 0x5bbae843fc19 <unknown>\n",
            "#9 0x5bbae8421343 <unknown>\n",
            "#10 0x5bbae83f2593 <unknown>\n",
            "#11 0x5bbae83f2f5e <unknown>\n",
            "#12 0x5bbae868284b <unknown>\n",
            "#13 0x5bbae86867a5 <unknown>\n",
            "#14 0x5bbae8670571 <unknown>\n",
            "#15 0x5bbae8687332 <unknown>\n",
            "#16 0x5bbae865587f <unknown>\n",
            "#17 0x5bbae86ad728 <unknown>\n",
            "#18 0x5bbae86ad8fb <unknown>\n",
            "#19 0x5bbae86bd9b4 <unknown>\n",
            "#20 0x7d2d277ccac3 <unknown>\n",
            "\n",
            "An error occurred while processing an article: Message: \n",
            "Stacktrace:\n",
            "#0 0x5bbae86be863 <unknown>\n",
            "#1 0x5bbae83b48c6 <unknown>\n",
            "#2 0x5bbae83ff618 <unknown>\n",
            "#3 0x5bbae83ff6d1 <unknown>\n",
            "#4 0x5bbae83f3fa6 <unknown>\n",
            "#5 0x5bbae84215cd <unknown>\n",
            "#6 0x5bbae83f3e98 <unknown>\n",
            "#7 0x5bbae842176e <unknown>\n",
            "#8 0x5bbae843fc19 <unknown>\n",
            "#9 0x5bbae8421343 <unknown>\n",
            "#10 0x5bbae83f2593 <unknown>\n",
            "#11 0x5bbae83f2f5e <unknown>\n",
            "#12 0x5bbae868284b <unknown>\n",
            "#13 0x5bbae86867a5 <unknown>\n",
            "#14 0x5bbae8670571 <unknown>\n",
            "#15 0x5bbae8687332 <unknown>\n",
            "#16 0x5bbae865587f <unknown>\n",
            "#17 0x5bbae86ad728 <unknown>\n",
            "#18 0x5bbae86ad8fb <unknown>\n",
            "#19 0x5bbae86bd9b4 <unknown>\n",
            "#20 0x7d2d277ccac3 <unknown>\n",
            "\n",
            "An error occurred while processing an article: Message: \n",
            "Stacktrace:\n",
            "#0 0x5bbae86be863 <unknown>\n",
            "#1 0x5bbae83b48c6 <unknown>\n",
            "#2 0x5bbae83ff618 <unknown>\n",
            "#3 0x5bbae83ff6d1 <unknown>\n",
            "#4 0x5bbae83f3fa6 <unknown>\n",
            "#5 0x5bbae84215cd <unknown>\n",
            "#6 0x5bbae83f3e98 <unknown>\n",
            "#7 0x5bbae842176e <unknown>\n",
            "#8 0x5bbae843fc19 <unknown>\n",
            "#9 0x5bbae8421343 <unknown>\n",
            "#10 0x5bbae83f2593 <unknown>\n",
            "#11 0x5bbae83f2f5e <unknown>\n",
            "#12 0x5bbae868284b <unknown>\n",
            "#13 0x5bbae86867a5 <unknown>\n",
            "#14 0x5bbae8670571 <unknown>\n",
            "#15 0x5bbae8687332 <unknown>\n",
            "#16 0x5bbae865587f <unknown>\n",
            "#17 0x5bbae86ad728 <unknown>\n",
            "#18 0x5bbae86ad8fb <unknown>\n",
            "#19 0x5bbae86bd9b4 <unknown>\n",
            "#20 0x7d2d277ccac3 <unknown>\n",
            "\n",
            "An error occurred while processing an article: Message: \n",
            "Stacktrace:\n",
            "#0 0x5bbae86be863 <unknown>\n",
            "#1 0x5bbae83b48c6 <unknown>\n",
            "#2 0x5bbae83ff618 <unknown>\n",
            "#3 0x5bbae83ff6d1 <unknown>\n",
            "#4 0x5bbae83f3fa6 <unknown>\n",
            "#5 0x5bbae84215cd <unknown>\n",
            "#6 0x5bbae83f3e98 <unknown>\n",
            "#7 0x5bbae842176e <unknown>\n",
            "#8 0x5bbae843fc19 <unknown>\n",
            "#9 0x5bbae8421343 <unknown>\n",
            "#10 0x5bbae83f2593 <unknown>\n",
            "#11 0x5bbae83f2f5e <unknown>\n",
            "#12 0x5bbae868284b <unknown>\n",
            "#13 0x5bbae86867a5 <unknown>\n",
            "#14 0x5bbae8670571 <unknown>\n",
            "#15 0x5bbae8687332 <unknown>\n",
            "#16 0x5bbae865587f <unknown>\n",
            "#17 0x5bbae86ad728 <unknown>\n",
            "#18 0x5bbae86ad8fb <unknown>\n",
            "#19 0x5bbae86bd9b4 <unknown>\n",
            "#20 0x7d2d277ccac3 <unknown>\n",
            "\n",
            "An error occurred while processing an article: Message: \n",
            "Stacktrace:\n",
            "#0 0x5bbae86be863 <unknown>\n",
            "#1 0x5bbae83b48c6 <unknown>\n",
            "#2 0x5bbae83ff618 <unknown>\n",
            "#3 0x5bbae83ff6d1 <unknown>\n",
            "#4 0x5bbae83f3fa6 <unknown>\n",
            "#5 0x5bbae84215cd <unknown>\n",
            "#6 0x5bbae83f3e98 <unknown>\n",
            "#7 0x5bbae842176e <unknown>\n",
            "#8 0x5bbae843fc19 <unknown>\n",
            "#9 0x5bbae8421343 <unknown>\n",
            "#10 0x5bbae83f2593 <unknown>\n",
            "#11 0x5bbae83f2f5e <unknown>\n",
            "#12 0x5bbae868284b <unknown>\n",
            "#13 0x5bbae86867a5 <unknown>\n",
            "#14 0x5bbae8670571 <unknown>\n",
            "#15 0x5bbae8687332 <unknown>\n",
            "#16 0x5bbae865587f <unknown>\n",
            "#17 0x5bbae86ad728 <unknown>\n",
            "#18 0x5bbae86ad8fb <unknown>\n",
            "#19 0x5bbae86bd9b4 <unknown>\n",
            "#20 0x7d2d277ccac3 <unknown>\n",
            "\n",
            "An error occurred while extracting article info: Message: \n",
            "Stacktrace:\n",
            "#0 0x5bbae86be863 <unknown>\n",
            "#1 0x5bbae83b48c6 <unknown>\n",
            "#2 0x5bbae83ff618 <unknown>\n",
            "#3 0x5bbae83ff6d1 <unknown>\n",
            "#4 0x5bbae8442744 <unknown>\n",
            "#5 0x5bbae84215cd <unknown>\n",
            "#6 0x5bbae843fc19 <unknown>\n",
            "#7 0x5bbae8421343 <unknown>\n",
            "#8 0x5bbae83f2593 <unknown>\n",
            "#9 0x5bbae83f2f5e <unknown>\n",
            "#10 0x5bbae868284b <unknown>\n",
            "#11 0x5bbae86867a5 <unknown>\n",
            "#12 0x5bbae8670571 <unknown>\n",
            "#13 0x5bbae8687332 <unknown>\n",
            "#14 0x5bbae865587f <unknown>\n",
            "#15 0x5bbae86ad728 <unknown>\n",
            "#16 0x5bbae86ad8fb <unknown>\n",
            "#17 0x5bbae86bd9b4 <unknown>\n",
            "#18 0x7d2d277ccac3 <unknown>\n",
            "\n",
            "An error occurred while extracting article info: Message: \n",
            "Stacktrace:\n",
            "#0 0x5bbae86be863 <unknown>\n",
            "#1 0x5bbae83b48c6 <unknown>\n",
            "#2 0x5bbae83ff618 <unknown>\n",
            "#3 0x5bbae83ff6d1 <unknown>\n",
            "#4 0x5bbae8442744 <unknown>\n",
            "#5 0x5bbae84215cd <unknown>\n",
            "#6 0x5bbae843fc19 <unknown>\n",
            "#7 0x5bbae8421343 <unknown>\n",
            "#8 0x5bbae83f2593 <unknown>\n",
            "#9 0x5bbae83f2f5e <unknown>\n",
            "#10 0x5bbae868284b <unknown>\n",
            "#11 0x5bbae86867a5 <unknown>\n",
            "#12 0x5bbae8670571 <unknown>\n",
            "#13 0x5bbae8687332 <unknown>\n",
            "#14 0x5bbae865587f <unknown>\n",
            "#15 0x5bbae86ad728 <unknown>\n",
            "#16 0x5bbae86ad8fb <unknown>\n",
            "#17 0x5bbae86bd9b4 <unknown>\n",
            "#18 0x7d2d277ccac3 <unknown>\n",
            "\n",
            "An error occurred while extracting article info: Message: \n",
            "Stacktrace:\n",
            "#0 0x5bbae86be863 <unknown>\n",
            "#1 0x5bbae83b48c6 <unknown>\n",
            "#2 0x5bbae83ff618 <unknown>\n",
            "#3 0x5bbae83ff6d1 <unknown>\n",
            "#4 0x5bbae8442744 <unknown>\n",
            "#5 0x5bbae84215cd <unknown>\n",
            "#6 0x5bbae843fc19 <unknown>\n",
            "#7 0x5bbae8421343 <unknown>\n",
            "#8 0x5bbae83f2593 <unknown>\n",
            "#9 0x5bbae83f2f5e <unknown>\n",
            "#10 0x5bbae868284b <unknown>\n",
            "#11 0x5bbae86867a5 <unknown>\n",
            "#12 0x5bbae8670571 <unknown>\n",
            "#13 0x5bbae8687332 <unknown>\n",
            "#14 0x5bbae865587f <unknown>\n",
            "#15 0x5bbae86ad728 <unknown>\n",
            "#16 0x5bbae86ad8fb <unknown>\n",
            "#17 0x5bbae86bd9b4 <unknown>\n",
            "#18 0x7d2d277ccac3 <unknown>\n",
            "\n",
            "An error occurred while extracting article info: Message: \n",
            "Stacktrace:\n",
            "#0 0x5bbae86be863 <unknown>\n",
            "#1 0x5bbae83b48c6 <unknown>\n",
            "#2 0x5bbae83ff618 <unknown>\n",
            "#3 0x5bbae83ff6d1 <unknown>\n",
            "#4 0x5bbae8442744 <unknown>\n",
            "#5 0x5bbae84215cd <unknown>\n",
            "#6 0x5bbae843fc19 <unknown>\n",
            "#7 0x5bbae8421343 <unknown>\n",
            "#8 0x5bbae83f2593 <unknown>\n",
            "#9 0x5bbae83f2f5e <unknown>\n",
            "#10 0x5bbae868284b <unknown>\n",
            "#11 0x5bbae86867a5 <unknown>\n",
            "#12 0x5bbae8670571 <unknown>\n",
            "#13 0x5bbae8687332 <unknown>\n",
            "#14 0x5bbae865587f <unknown>\n",
            "#15 0x5bbae86ad728 <unknown>\n",
            "#16 0x5bbae86ad8fb <unknown>\n",
            "#17 0x5bbae86bd9b4 <unknown>\n",
            "#18 0x7d2d277ccac3 <unknown>\n",
            "\n",
            "An error occurred while extracting article info: Message: \n",
            "Stacktrace:\n",
            "#0 0x5bbae86be863 <unknown>\n",
            "#1 0x5bbae83b48c6 <unknown>\n",
            "#2 0x5bbae83ff618 <unknown>\n",
            "#3 0x5bbae83ff6d1 <unknown>\n",
            "#4 0x5bbae8442744 <unknown>\n",
            "#5 0x5bbae84215cd <unknown>\n",
            "#6 0x5bbae843fc19 <unknown>\n",
            "#7 0x5bbae8421343 <unknown>\n",
            "#8 0x5bbae83f2593 <unknown>\n",
            "#9 0x5bbae83f2f5e <unknown>\n",
            "#10 0x5bbae868284b <unknown>\n",
            "#11 0x5bbae86867a5 <unknown>\n",
            "#12 0x5bbae8670571 <unknown>\n",
            "#13 0x5bbae8687332 <unknown>\n",
            "#14 0x5bbae865587f <unknown>\n",
            "#15 0x5bbae86ad728 <unknown>\n",
            "#16 0x5bbae86ad8fb <unknown>\n",
            "#17 0x5bbae86bd9b4 <unknown>\n",
            "#18 0x7d2d277ccac3 <unknown>\n",
            "\n",
            "An error occurred while extracting article info: Message: \n",
            "Stacktrace:\n",
            "#0 0x5bbae86be863 <unknown>\n",
            "#1 0x5bbae83b48c6 <unknown>\n",
            "#2 0x5bbae83ff618 <unknown>\n",
            "#3 0x5bbae83ff6d1 <unknown>\n",
            "#4 0x5bbae8442744 <unknown>\n",
            "#5 0x5bbae84215cd <unknown>\n",
            "#6 0x5bbae843fc19 <unknown>\n",
            "#7 0x5bbae8421343 <unknown>\n",
            "#8 0x5bbae83f2593 <unknown>\n",
            "#9 0x5bbae83f2f5e <unknown>\n",
            "#10 0x5bbae868284b <unknown>\n",
            "#11 0x5bbae86867a5 <unknown>\n",
            "#12 0x5bbae8670571 <unknown>\n",
            "#13 0x5bbae8687332 <unknown>\n",
            "#14 0x5bbae865587f <unknown>\n",
            "#15 0x5bbae86ad728 <unknown>\n",
            "#16 0x5bbae86ad8fb <unknown>\n",
            "#17 0x5bbae86bd9b4 <unknown>\n",
            "#18 0x7d2d277ccac3 <unknown>\n",
            "\n",
            "An error occurred while extracting article info: Message: \n",
            "Stacktrace:\n",
            "#0 0x5bbae86be863 <unknown>\n",
            "#1 0x5bbae83b48c6 <unknown>\n",
            "#2 0x5bbae83ff618 <unknown>\n",
            "#3 0x5bbae83ff6d1 <unknown>\n",
            "#4 0x5bbae8442744 <unknown>\n",
            "#5 0x5bbae84215cd <unknown>\n",
            "#6 0x5bbae843fc19 <unknown>\n",
            "#7 0x5bbae8421343 <unknown>\n",
            "#8 0x5bbae83f2593 <unknown>\n",
            "#9 0x5bbae83f2f5e <unknown>\n",
            "#10 0x5bbae868284b <unknown>\n",
            "#11 0x5bbae86867a5 <unknown>\n",
            "#12 0x5bbae8670571 <unknown>\n",
            "#13 0x5bbae8687332 <unknown>\n",
            "#14 0x5bbae865587f <unknown>\n",
            "#15 0x5bbae86ad728 <unknown>\n",
            "#16 0x5bbae86ad8fb <unknown>\n",
            "#17 0x5bbae86bd9b4 <unknown>\n",
            "#18 0x7d2d277ccac3 <unknown>\n",
            "\n",
            "An error occurred while extracting article info: Message: \n",
            "Stacktrace:\n",
            "#0 0x5bbae86be863 <unknown>\n",
            "#1 0x5bbae83b48c6 <unknown>\n",
            "#2 0x5bbae83ff618 <unknown>\n",
            "#3 0x5bbae83ff6d1 <unknown>\n",
            "#4 0x5bbae8442744 <unknown>\n",
            "#5 0x5bbae84215cd <unknown>\n",
            "#6 0x5bbae843fc19 <unknown>\n",
            "#7 0x5bbae8421343 <unknown>\n",
            "#8 0x5bbae83f2593 <unknown>\n",
            "#9 0x5bbae83f2f5e <unknown>\n",
            "#10 0x5bbae868284b <unknown>\n",
            "#11 0x5bbae86867a5 <unknown>\n",
            "#12 0x5bbae8670571 <unknown>\n",
            "#13 0x5bbae8687332 <unknown>\n",
            "#14 0x5bbae865587f <unknown>\n",
            "#15 0x5bbae86ad728 <unknown>\n",
            "#16 0x5bbae86ad8fb <unknown>\n",
            "#17 0x5bbae86bd9b4 <unknown>\n",
            "#18 0x7d2d277ccac3 <unknown>\n",
            "\n",
            "An error occurred while extracting article info: Message: \n",
            "Stacktrace:\n",
            "#0 0x5bbae86be863 <unknown>\n",
            "#1 0x5bbae83b48c6 <unknown>\n",
            "#2 0x5bbae83ff618 <unknown>\n",
            "#3 0x5bbae83ff6d1 <unknown>\n",
            "#4 0x5bbae8442744 <unknown>\n",
            "#5 0x5bbae84215cd <unknown>\n",
            "#6 0x5bbae843fc19 <unknown>\n",
            "#7 0x5bbae8421343 <unknown>\n",
            "#8 0x5bbae83f2593 <unknown>\n",
            "#9 0x5bbae83f2f5e <unknown>\n",
            "#10 0x5bbae868284b <unknown>\n",
            "#11 0x5bbae86867a5 <unknown>\n",
            "#12 0x5bbae8670571 <unknown>\n",
            "#13 0x5bbae8687332 <unknown>\n",
            "#14 0x5bbae865587f <unknown>\n",
            "#15 0x5bbae86ad728 <unknown>\n",
            "#16 0x5bbae86ad8fb <unknown>\n",
            "#17 0x5bbae86bd9b4 <unknown>\n",
            "#18 0x7d2d277ccac3 <unknown>\n",
            "\n",
            "An error occurred while extracting article info: Message: \n",
            "Stacktrace:\n",
            "#0 0x5bbae86be863 <unknown>\n",
            "#1 0x5bbae83b48c6 <unknown>\n",
            "#2 0x5bbae83ff618 <unknown>\n",
            "#3 0x5bbae83ff6d1 <unknown>\n",
            "#4 0x5bbae8442744 <unknown>\n",
            "#5 0x5bbae84215cd <unknown>\n",
            "#6 0x5bbae843fc19 <unknown>\n",
            "#7 0x5bbae8421343 <unknown>\n",
            "#8 0x5bbae83f2593 <unknown>\n",
            "#9 0x5bbae83f2f5e <unknown>\n",
            "#10 0x5bbae868284b <unknown>\n",
            "#11 0x5bbae86867a5 <unknown>\n",
            "#12 0x5bbae8670571 <unknown>\n",
            "#13 0x5bbae8687332 <unknown>\n",
            "#14 0x5bbae865587f <unknown>\n",
            "#15 0x5bbae86ad728 <unknown>\n",
            "#16 0x5bbae86ad8fb <unknown>\n",
            "#17 0x5bbae86bd9b4 <unknown>\n",
            "#18 0x7d2d277ccac3 <unknown>\n",
            "\n",
            "An error occurred while extracting article info: Message: \n",
            "Stacktrace:\n",
            "#0 0x5bbae86be863 <unknown>\n",
            "#1 0x5bbae83b48c6 <unknown>\n",
            "#2 0x5bbae83ff618 <unknown>\n",
            "#3 0x5bbae83ff6d1 <unknown>\n",
            "#4 0x5bbae8442744 <unknown>\n",
            "#5 0x5bbae84215cd <unknown>\n",
            "#6 0x5bbae843fc19 <unknown>\n",
            "#7 0x5bbae8421343 <unknown>\n",
            "#8 0x5bbae83f2593 <unknown>\n",
            "#9 0x5bbae83f2f5e <unknown>\n",
            "#10 0x5bbae868284b <unknown>\n",
            "#11 0x5bbae86867a5 <unknown>\n",
            "#12 0x5bbae8670571 <unknown>\n",
            "#13 0x5bbae8687332 <unknown>\n",
            "#14 0x5bbae865587f <unknown>\n",
            "#15 0x5bbae86ad728 <unknown>\n",
            "#16 0x5bbae86ad8fb <unknown>\n",
            "#17 0x5bbae86bd9b4 <unknown>\n",
            "#18 0x7d2d277ccac3 <unknown>\n",
            "\n",
            "An error occurred while extracting article info: Message: \n",
            "Stacktrace:\n",
            "#0 0x5bbae86be863 <unknown>\n",
            "#1 0x5bbae83b48c6 <unknown>\n",
            "#2 0x5bbae83ff618 <unknown>\n",
            "#3 0x5bbae83ff6d1 <unknown>\n",
            "#4 0x5bbae8442744 <unknown>\n",
            "#5 0x5bbae84215cd <unknown>\n",
            "#6 0x5bbae843fc19 <unknown>\n",
            "#7 0x5bbae8421343 <unknown>\n",
            "#8 0x5bbae83f2593 <unknown>\n",
            "#9 0x5bbae83f2f5e <unknown>\n",
            "#10 0x5bbae868284b <unknown>\n",
            "#11 0x5bbae86867a5 <unknown>\n",
            "#12 0x5bbae8670571 <unknown>\n",
            "#13 0x5bbae8687332 <unknown>\n",
            "#14 0x5bbae865587f <unknown>\n",
            "#15 0x5bbae86ad728 <unknown>\n",
            "#16 0x5bbae86ad8fb <unknown>\n",
            "#17 0x5bbae86bd9b4 <unknown>\n",
            "#18 0x7d2d277ccac3 <unknown>\n",
            "\n",
            "An error occurred while processing an article: Message: \n",
            "Stacktrace:\n",
            "#0 0x5bbae86be863 <unknown>\n",
            "#1 0x5bbae83b48c6 <unknown>\n",
            "#2 0x5bbae83ff618 <unknown>\n",
            "#3 0x5bbae83ff6d1 <unknown>\n",
            "#4 0x5bbae83f3fa6 <unknown>\n",
            "#5 0x5bbae84215cd <unknown>\n",
            "#6 0x5bbae83f3e98 <unknown>\n",
            "#7 0x5bbae842176e <unknown>\n",
            "#8 0x5bbae843fc19 <unknown>\n",
            "#9 0x5bbae8421343 <unknown>\n",
            "#10 0x5bbae83f2593 <unknown>\n",
            "#11 0x5bbae83f2f5e <unknown>\n",
            "#12 0x5bbae868284b <unknown>\n",
            "#13 0x5bbae86867a5 <unknown>\n",
            "#14 0x5bbae8670571 <unknown>\n",
            "#15 0x5bbae8687332 <unknown>\n",
            "#16 0x5bbae865587f <unknown>\n",
            "#17 0x5bbae86ad728 <unknown>\n",
            "#18 0x5bbae86ad8fb <unknown>\n",
            "#19 0x5bbae86bd9b4 <unknown>\n",
            "#20 0x7d2d277ccac3 <unknown>\n",
            "\n",
            "An error occurred while processing an article: Message: \n",
            "Stacktrace:\n",
            "#0 0x5bbae86be863 <unknown>\n",
            "#1 0x5bbae83b48c6 <unknown>\n",
            "#2 0x5bbae83ff618 <unknown>\n",
            "#3 0x5bbae83ff6d1 <unknown>\n",
            "#4 0x5bbae83f3fa6 <unknown>\n",
            "#5 0x5bbae84215cd <unknown>\n",
            "#6 0x5bbae83f3e98 <unknown>\n",
            "#7 0x5bbae842176e <unknown>\n",
            "#8 0x5bbae843fc19 <unknown>\n",
            "#9 0x5bbae8421343 <unknown>\n",
            "#10 0x5bbae83f2593 <unknown>\n",
            "#11 0x5bbae83f2f5e <unknown>\n",
            "#12 0x5bbae868284b <unknown>\n",
            "#13 0x5bbae86867a5 <unknown>\n",
            "#14 0x5bbae8670571 <unknown>\n",
            "#15 0x5bbae8687332 <unknown>\n",
            "#16 0x5bbae865587f <unknown>\n",
            "#17 0x5bbae86ad728 <unknown>\n",
            "#18 0x5bbae86ad8fb <unknown>\n",
            "#19 0x5bbae86bd9b4 <unknown>\n",
            "#20 0x7d2d277ccac3 <unknown>\n",
            "\n",
            "An error occurred while processing an article: Message: \n",
            "Stacktrace:\n",
            "#0 0x5bbae86be863 <unknown>\n",
            "#1 0x5bbae83b48c6 <unknown>\n",
            "#2 0x5bbae83ff618 <unknown>\n",
            "#3 0x5bbae83ff6d1 <unknown>\n",
            "#4 0x5bbae83f3fa6 <unknown>\n",
            "#5 0x5bbae84215cd <unknown>\n",
            "#6 0x5bbae83f3e98 <unknown>\n",
            "#7 0x5bbae842176e <unknown>\n",
            "#8 0x5bbae843fc19 <unknown>\n",
            "#9 0x5bbae8421343 <unknown>\n",
            "#10 0x5bbae83f2593 <unknown>\n",
            "#11 0x5bbae83f2f5e <unknown>\n",
            "#12 0x5bbae868284b <unknown>\n",
            "#13 0x5bbae86867a5 <unknown>\n",
            "#14 0x5bbae8670571 <unknown>\n",
            "#15 0x5bbae8687332 <unknown>\n",
            "#16 0x5bbae865587f <unknown>\n",
            "#17 0x5bbae86ad728 <unknown>\n",
            "#18 0x5bbae86ad8fb <unknown>\n",
            "#19 0x5bbae86bd9b4 <unknown>\n",
            "#20 0x7d2d277ccac3 <unknown>\n",
            "\n",
            "An error occurred while processing an article: Message: \n",
            "Stacktrace:\n",
            "#0 0x5bbae86be863 <unknown>\n",
            "#1 0x5bbae83b48c6 <unknown>\n",
            "#2 0x5bbae83ff618 <unknown>\n",
            "#3 0x5bbae83ff6d1 <unknown>\n",
            "#4 0x5bbae83f3fa6 <unknown>\n",
            "#5 0x5bbae84215cd <unknown>\n",
            "#6 0x5bbae83f3e98 <unknown>\n",
            "#7 0x5bbae842176e <unknown>\n",
            "#8 0x5bbae843fc19 <unknown>\n",
            "#9 0x5bbae8421343 <unknown>\n",
            "#10 0x5bbae83f2593 <unknown>\n",
            "#11 0x5bbae83f2f5e <unknown>\n",
            "#12 0x5bbae868284b <unknown>\n",
            "#13 0x5bbae86867a5 <unknown>\n",
            "#14 0x5bbae8670571 <unknown>\n",
            "#15 0x5bbae8687332 <unknown>\n",
            "#16 0x5bbae865587f <unknown>\n",
            "#17 0x5bbae86ad728 <unknown>\n",
            "#18 0x5bbae86ad8fb <unknown>\n",
            "#19 0x5bbae86bd9b4 <unknown>\n",
            "#20 0x7d2d277ccac3 <unknown>\n",
            "\n",
            "An error occurred while processing an article: Message: \n",
            "Stacktrace:\n",
            "#0 0x5bbae86be863 <unknown>\n",
            "#1 0x5bbae83b48c6 <unknown>\n",
            "#2 0x5bbae83ff618 <unknown>\n",
            "#3 0x5bbae83ff6d1 <unknown>\n",
            "#4 0x5bbae83f3fa6 <unknown>\n",
            "#5 0x5bbae84215cd <unknown>\n",
            "#6 0x5bbae83f3e98 <unknown>\n",
            "#7 0x5bbae842176e <unknown>\n",
            "#8 0x5bbae843fc19 <unknown>\n",
            "#9 0x5bbae8421343 <unknown>\n",
            "#10 0x5bbae83f2593 <unknown>\n",
            "#11 0x5bbae83f2f5e <unknown>\n",
            "#12 0x5bbae868284b <unknown>\n",
            "#13 0x5bbae86867a5 <unknown>\n",
            "#14 0x5bbae8670571 <unknown>\n",
            "#15 0x5bbae8687332 <unknown>\n",
            "#16 0x5bbae865587f <unknown>\n",
            "#17 0x5bbae86ad728 <unknown>\n",
            "#18 0x5bbae86ad8fb <unknown>\n",
            "#19 0x5bbae86bd9b4 <unknown>\n",
            "#20 0x7d2d277ccac3 <unknown>\n",
            "\n",
            "An error occurred while extracting article info: Message: \n",
            "Stacktrace:\n",
            "#0 0x5bbae86be863 <unknown>\n",
            "#1 0x5bbae83b48c6 <unknown>\n",
            "#2 0x5bbae83ff618 <unknown>\n",
            "#3 0x5bbae83ff6d1 <unknown>\n",
            "#4 0x5bbae8442744 <unknown>\n",
            "#5 0x5bbae84215cd <unknown>\n",
            "#6 0x5bbae843fc19 <unknown>\n",
            "#7 0x5bbae8421343 <unknown>\n",
            "#8 0x5bbae83f2593 <unknown>\n",
            "#9 0x5bbae83f2f5e <unknown>\n",
            "#10 0x5bbae868284b <unknown>\n",
            "#11 0x5bbae86867a5 <unknown>\n",
            "#12 0x5bbae8670571 <unknown>\n",
            "#13 0x5bbae8687332 <unknown>\n",
            "#14 0x5bbae865587f <unknown>\n",
            "#15 0x5bbae86ad728 <unknown>\n",
            "#16 0x5bbae86ad8fb <unknown>\n",
            "#17 0x5bbae86bd9b4 <unknown>\n",
            "#18 0x7d2d277ccac3 <unknown>\n",
            "\n",
            "An error occurred while extracting article info: Message: \n",
            "Stacktrace:\n",
            "#0 0x5bbae86be863 <unknown>\n",
            "#1 0x5bbae83b48c6 <unknown>\n",
            "#2 0x5bbae83ff618 <unknown>\n",
            "#3 0x5bbae83ff6d1 <unknown>\n",
            "#4 0x5bbae8442744 <unknown>\n",
            "#5 0x5bbae84215cd <unknown>\n",
            "#6 0x5bbae843fc19 <unknown>\n",
            "#7 0x5bbae8421343 <unknown>\n",
            "#8 0x5bbae83f2593 <unknown>\n",
            "#9 0x5bbae83f2f5e <unknown>\n",
            "#10 0x5bbae868284b <unknown>\n",
            "#11 0x5bbae86867a5 <unknown>\n",
            "#12 0x5bbae8670571 <unknown>\n",
            "#13 0x5bbae8687332 <unknown>\n",
            "#14 0x5bbae865587f <unknown>\n",
            "#15 0x5bbae86ad728 <unknown>\n",
            "#16 0x5bbae86ad8fb <unknown>\n",
            "#17 0x5bbae86bd9b4 <unknown>\n",
            "#18 0x7d2d277ccac3 <unknown>\n",
            "\n",
            "An error occurred while extracting article info: Message: \n",
            "Stacktrace:\n",
            "#0 0x5bbae86be863 <unknown>\n",
            "#1 0x5bbae83b48c6 <unknown>\n",
            "#2 0x5bbae83ff618 <unknown>\n",
            "#3 0x5bbae83ff6d1 <unknown>\n",
            "#4 0x5bbae8442744 <unknown>\n",
            "#5 0x5bbae84215cd <unknown>\n",
            "#6 0x5bbae843fc19 <unknown>\n",
            "#7 0x5bbae8421343 <unknown>\n",
            "#8 0x5bbae83f2593 <unknown>\n",
            "#9 0x5bbae83f2f5e <unknown>\n",
            "#10 0x5bbae868284b <unknown>\n",
            "#11 0x5bbae86867a5 <unknown>\n",
            "#12 0x5bbae8670571 <unknown>\n",
            "#13 0x5bbae8687332 <unknown>\n",
            "#14 0x5bbae865587f <unknown>\n",
            "#15 0x5bbae86ad728 <unknown>\n",
            "#16 0x5bbae86ad8fb <unknown>\n",
            "#17 0x5bbae86bd9b4 <unknown>\n",
            "#18 0x7d2d277ccac3 <unknown>\n",
            "\n",
            "An error occurred while extracting article info: Message: \n",
            "Stacktrace:\n",
            "#0 0x5bbae86be863 <unknown>\n",
            "#1 0x5bbae83b48c6 <unknown>\n",
            "#2 0x5bbae83ff618 <unknown>\n",
            "#3 0x5bbae83ff6d1 <unknown>\n",
            "#4 0x5bbae8442744 <unknown>\n",
            "#5 0x5bbae84215cd <unknown>\n",
            "#6 0x5bbae843fc19 <unknown>\n",
            "#7 0x5bbae8421343 <unknown>\n",
            "#8 0x5bbae83f2593 <unknown>\n",
            "#9 0x5bbae83f2f5e <unknown>\n",
            "#10 0x5bbae868284b <unknown>\n",
            "#11 0x5bbae86867a5 <unknown>\n",
            "#12 0x5bbae8670571 <unknown>\n",
            "#13 0x5bbae8687332 <unknown>\n",
            "#14 0x5bbae865587f <unknown>\n",
            "#15 0x5bbae86ad728 <unknown>\n",
            "#16 0x5bbae86ad8fb <unknown>\n",
            "#17 0x5bbae86bd9b4 <unknown>\n",
            "#18 0x7d2d277ccac3 <unknown>\n",
            "\n",
            "An error occurred while extracting article info: Message: \n",
            "Stacktrace:\n",
            "#0 0x5bbae86be863 <unknown>\n",
            "#1 0x5bbae83b48c6 <unknown>\n",
            "#2 0x5bbae83ff618 <unknown>\n",
            "#3 0x5bbae83ff6d1 <unknown>\n",
            "#4 0x5bbae8442744 <unknown>\n",
            "#5 0x5bbae84215cd <unknown>\n",
            "#6 0x5bbae843fc19 <unknown>\n",
            "#7 0x5bbae8421343 <unknown>\n",
            "#8 0x5bbae83f2593 <unknown>\n",
            "#9 0x5bbae83f2f5e <unknown>\n",
            "#10 0x5bbae868284b <unknown>\n",
            "#11 0x5bbae86867a5 <unknown>\n",
            "#12 0x5bbae8670571 <unknown>\n",
            "#13 0x5bbae8687332 <unknown>\n",
            "#14 0x5bbae865587f <unknown>\n",
            "#15 0x5bbae86ad728 <unknown>\n",
            "#16 0x5bbae86ad8fb <unknown>\n",
            "#17 0x5bbae86bd9b4 <unknown>\n",
            "#18 0x7d2d277ccac3 <unknown>\n",
            "\n",
            "An error occurred while extracting article info: Message: \n",
            "Stacktrace:\n",
            "#0 0x5bbae86be863 <unknown>\n",
            "#1 0x5bbae83b48c6 <unknown>\n",
            "#2 0x5bbae83ff618 <unknown>\n",
            "#3 0x5bbae83ff6d1 <unknown>\n",
            "#4 0x5bbae8442744 <unknown>\n",
            "#5 0x5bbae84215cd <unknown>\n",
            "#6 0x5bbae843fc19 <unknown>\n",
            "#7 0x5bbae8421343 <unknown>\n",
            "#8 0x5bbae83f2593 <unknown>\n",
            "#9 0x5bbae83f2f5e <unknown>\n",
            "#10 0x5bbae868284b <unknown>\n",
            "#11 0x5bbae86867a5 <unknown>\n",
            "#12 0x5bbae8670571 <unknown>\n",
            "#13 0x5bbae8687332 <unknown>\n",
            "#14 0x5bbae865587f <unknown>\n",
            "#15 0x5bbae86ad728 <unknown>\n",
            "#16 0x5bbae86ad8fb <unknown>\n",
            "#17 0x5bbae86bd9b4 <unknown>\n",
            "#18 0x7d2d277ccac3 <unknown>\n",
            "\n",
            "An error occurred while extracting article info: Message: \n",
            "Stacktrace:\n",
            "#0 0x5bbae86be863 <unknown>\n",
            "#1 0x5bbae83b48c6 <unknown>\n",
            "#2 0x5bbae83ff618 <unknown>\n",
            "#3 0x5bbae83ff6d1 <unknown>\n",
            "#4 0x5bbae8442744 <unknown>\n",
            "#5 0x5bbae84215cd <unknown>\n",
            "#6 0x5bbae843fc19 <unknown>\n",
            "#7 0x5bbae8421343 <unknown>\n",
            "#8 0x5bbae83f2593 <unknown>\n",
            "#9 0x5bbae83f2f5e <unknown>\n",
            "#10 0x5bbae868284b <unknown>\n",
            "#11 0x5bbae86867a5 <unknown>\n",
            "#12 0x5bbae8670571 <unknown>\n",
            "#13 0x5bbae8687332 <unknown>\n",
            "#14 0x5bbae865587f <unknown>\n",
            "#15 0x5bbae86ad728 <unknown>\n",
            "#16 0x5bbae86ad8fb <unknown>\n",
            "#17 0x5bbae86bd9b4 <unknown>\n",
            "#18 0x7d2d277ccac3 <unknown>\n",
            "\n",
            "An error occurred while extracting article info: Message: \n",
            "Stacktrace:\n",
            "#0 0x5bbae86be863 <unknown>\n",
            "#1 0x5bbae83b48c6 <unknown>\n",
            "#2 0x5bbae83ff618 <unknown>\n",
            "#3 0x5bbae83ff6d1 <unknown>\n",
            "#4 0x5bbae8442744 <unknown>\n",
            "#5 0x5bbae84215cd <unknown>\n",
            "#6 0x5bbae843fc19 <unknown>\n",
            "#7 0x5bbae8421343 <unknown>\n",
            "#8 0x5bbae83f2593 <unknown>\n",
            "#9 0x5bbae83f2f5e <unknown>\n",
            "#10 0x5bbae868284b <unknown>\n",
            "#11 0x5bbae86867a5 <unknown>\n",
            "#12 0x5bbae8670571 <unknown>\n",
            "#13 0x5bbae8687332 <unknown>\n",
            "#14 0x5bbae865587f <unknown>\n",
            "#15 0x5bbae86ad728 <unknown>\n",
            "#16 0x5bbae86ad8fb <unknown>\n",
            "#17 0x5bbae86bd9b4 <unknown>\n",
            "#18 0x7d2d277ccac3 <unknown>\n",
            "\n",
            "An error occurred while extracting article info: Message: \n",
            "Stacktrace:\n",
            "#0 0x5bbae86be863 <unknown>\n",
            "#1 0x5bbae83b48c6 <unknown>\n",
            "#2 0x5bbae83ff618 <unknown>\n",
            "#3 0x5bbae83ff6d1 <unknown>\n",
            "#4 0x5bbae8442744 <unknown>\n",
            "#5 0x5bbae84215cd <unknown>\n",
            "#6 0x5bbae843fc19 <unknown>\n",
            "#7 0x5bbae8421343 <unknown>\n",
            "#8 0x5bbae83f2593 <unknown>\n",
            "#9 0x5bbae83f2f5e <unknown>\n",
            "#10 0x5bbae868284b <unknown>\n",
            "#11 0x5bbae86867a5 <unknown>\n",
            "#12 0x5bbae8670571 <unknown>\n",
            "#13 0x5bbae8687332 <unknown>\n",
            "#14 0x5bbae865587f <unknown>\n",
            "#15 0x5bbae86ad728 <unknown>\n",
            "#16 0x5bbae86ad8fb <unknown>\n",
            "#17 0x5bbae86bd9b4 <unknown>\n",
            "#18 0x7d2d277ccac3 <unknown>\n",
            "\n",
            "An error occurred while extracting article info: Message: \n",
            "Stacktrace:\n",
            "#0 0x5bbae86be863 <unknown>\n",
            "#1 0x5bbae83b48c6 <unknown>\n",
            "#2 0x5bbae83ff618 <unknown>\n",
            "#3 0x5bbae83ff6d1 <unknown>\n",
            "#4 0x5bbae8442744 <unknown>\n",
            "#5 0x5bbae84215cd <unknown>\n",
            "#6 0x5bbae843fc19 <unknown>\n",
            "#7 0x5bbae8421343 <unknown>\n",
            "#8 0x5bbae83f2593 <unknown>\n",
            "#9 0x5bbae83f2f5e <unknown>\n",
            "#10 0x5bbae868284b <unknown>\n",
            "#11 0x5bbae86867a5 <unknown>\n",
            "#12 0x5bbae8670571 <unknown>\n",
            "#13 0x5bbae8687332 <unknown>\n",
            "#14 0x5bbae865587f <unknown>\n",
            "#15 0x5bbae86ad728 <unknown>\n",
            "#16 0x5bbae86ad8fb <unknown>\n",
            "#17 0x5bbae86bd9b4 <unknown>\n",
            "#18 0x7d2d277ccac3 <unknown>\n",
            "\n",
            "An error occurred while extracting article info: Message: \n",
            "Stacktrace:\n",
            "#0 0x5bbae86be863 <unknown>\n",
            "#1 0x5bbae83b48c6 <unknown>\n",
            "#2 0x5bbae83ff618 <unknown>\n",
            "#3 0x5bbae83ff6d1 <unknown>\n",
            "#4 0x5bbae8442744 <unknown>\n",
            "#5 0x5bbae84215cd <unknown>\n",
            "#6 0x5bbae843fc19 <unknown>\n",
            "#7 0x5bbae8421343 <unknown>\n",
            "#8 0x5bbae83f2593 <unknown>\n",
            "#9 0x5bbae83f2f5e <unknown>\n",
            "#10 0x5bbae868284b <unknown>\n",
            "#11 0x5bbae86867a5 <unknown>\n",
            "#12 0x5bbae8670571 <unknown>\n",
            "#13 0x5bbae8687332 <unknown>\n",
            "#14 0x5bbae865587f <unknown>\n",
            "#15 0x5bbae86ad728 <unknown>\n",
            "#16 0x5bbae86ad8fb <unknown>\n",
            "#17 0x5bbae86bd9b4 <unknown>\n",
            "#18 0x7d2d277ccac3 <unknown>\n",
            "\n",
            "An error occurred while extracting article info: Message: \n",
            "Stacktrace:\n",
            "#0 0x5bbae86be863 <unknown>\n",
            "#1 0x5bbae83b48c6 <unknown>\n",
            "#2 0x5bbae83ff618 <unknown>\n",
            "#3 0x5bbae83ff6d1 <unknown>\n",
            "#4 0x5bbae8442744 <unknown>\n",
            "#5 0x5bbae84215cd <unknown>\n",
            "#6 0x5bbae843fc19 <unknown>\n",
            "#7 0x5bbae8421343 <unknown>\n",
            "#8 0x5bbae83f2593 <unknown>\n",
            "#9 0x5bbae83f2f5e <unknown>\n",
            "#10 0x5bbae868284b <unknown>\n",
            "#11 0x5bbae86867a5 <unknown>\n",
            "#12 0x5bbae8670571 <unknown>\n",
            "#13 0x5bbae8687332 <unknown>\n",
            "#14 0x5bbae865587f <unknown>\n",
            "#15 0x5bbae86ad728 <unknown>\n",
            "#16 0x5bbae86ad8fb <unknown>\n",
            "#17 0x5bbae86bd9b4 <unknown>\n",
            "#18 0x7d2d277ccac3 <unknown>\n",
            "\n",
            "An error occurred while processing an article: Message: \n",
            "Stacktrace:\n",
            "#0 0x5bbae86be863 <unknown>\n",
            "#1 0x5bbae83b48c6 <unknown>\n",
            "#2 0x5bbae83ff618 <unknown>\n",
            "#3 0x5bbae83ff6d1 <unknown>\n",
            "#4 0x5bbae83f3fa6 <unknown>\n",
            "#5 0x5bbae84215cd <unknown>\n",
            "#6 0x5bbae83f3e98 <unknown>\n",
            "#7 0x5bbae842176e <unknown>\n",
            "#8 0x5bbae843fc19 <unknown>\n",
            "#9 0x5bbae8421343 <unknown>\n",
            "#10 0x5bbae83f2593 <unknown>\n",
            "#11 0x5bbae83f2f5e <unknown>\n",
            "#12 0x5bbae868284b <unknown>\n",
            "#13 0x5bbae86867a5 <unknown>\n",
            "#14 0x5bbae8670571 <unknown>\n",
            "#15 0x5bbae8687332 <unknown>\n",
            "#16 0x5bbae865587f <unknown>\n",
            "#17 0x5bbae86ad728 <unknown>\n",
            "#18 0x5bbae86ad8fb <unknown>\n",
            "#19 0x5bbae86bd9b4 <unknown>\n",
            "#20 0x7d2d277ccac3 <unknown>\n",
            "\n",
            "An error occurred while processing an article: Message: \n",
            "Stacktrace:\n",
            "#0 0x5bbae86be863 <unknown>\n",
            "#1 0x5bbae83b48c6 <unknown>\n",
            "#2 0x5bbae83ff618 <unknown>\n",
            "#3 0x5bbae83ff6d1 <unknown>\n",
            "#4 0x5bbae83f3fa6 <unknown>\n",
            "#5 0x5bbae84215cd <unknown>\n",
            "#6 0x5bbae83f3e98 <unknown>\n",
            "#7 0x5bbae842176e <unknown>\n",
            "#8 0x5bbae843fc19 <unknown>\n",
            "#9 0x5bbae8421343 <unknown>\n",
            "#10 0x5bbae83f2593 <unknown>\n",
            "#11 0x5bbae83f2f5e <unknown>\n",
            "#12 0x5bbae868284b <unknown>\n",
            "#13 0x5bbae86867a5 <unknown>\n",
            "#14 0x5bbae8670571 <unknown>\n",
            "#15 0x5bbae8687332 <unknown>\n",
            "#16 0x5bbae865587f <unknown>\n",
            "#17 0x5bbae86ad728 <unknown>\n",
            "#18 0x5bbae86ad8fb <unknown>\n",
            "#19 0x5bbae86bd9b4 <unknown>\n",
            "#20 0x7d2d277ccac3 <unknown>\n",
            "\n",
            "An error occurred while processing an article: Message: \n",
            "Stacktrace:\n",
            "#0 0x5bbae86be863 <unknown>\n",
            "#1 0x5bbae83b48c6 <unknown>\n",
            "#2 0x5bbae83ff618 <unknown>\n",
            "#3 0x5bbae83ff6d1 <unknown>\n",
            "#4 0x5bbae83f3fa6 <unknown>\n",
            "#5 0x5bbae84215cd <unknown>\n",
            "#6 0x5bbae83f3e98 <unknown>\n",
            "#7 0x5bbae842176e <unknown>\n",
            "#8 0x5bbae843fc19 <unknown>\n",
            "#9 0x5bbae8421343 <unknown>\n",
            "#10 0x5bbae83f2593 <unknown>\n",
            "#11 0x5bbae83f2f5e <unknown>\n",
            "#12 0x5bbae868284b <unknown>\n",
            "#13 0x5bbae86867a5 <unknown>\n",
            "#14 0x5bbae8670571 <unknown>\n",
            "#15 0x5bbae8687332 <unknown>\n",
            "#16 0x5bbae865587f <unknown>\n",
            "#17 0x5bbae86ad728 <unknown>\n",
            "#18 0x5bbae86ad8fb <unknown>\n",
            "#19 0x5bbae86bd9b4 <unknown>\n",
            "#20 0x7d2d277ccac3 <unknown>\n",
            "\n",
            "An error occurred while processing an article: Message: \n",
            "Stacktrace:\n",
            "#0 0x5bbae86be863 <unknown>\n",
            "#1 0x5bbae83b48c6 <unknown>\n",
            "#2 0x5bbae83ff618 <unknown>\n",
            "#3 0x5bbae83ff6d1 <unknown>\n",
            "#4 0x5bbae83f3fa6 <unknown>\n",
            "#5 0x5bbae84215cd <unknown>\n",
            "#6 0x5bbae83f3e98 <unknown>\n",
            "#7 0x5bbae842176e <unknown>\n",
            "#8 0x5bbae843fc19 <unknown>\n",
            "#9 0x5bbae8421343 <unknown>\n",
            "#10 0x5bbae83f2593 <unknown>\n",
            "#11 0x5bbae83f2f5e <unknown>\n",
            "#12 0x5bbae868284b <unknown>\n",
            "#13 0x5bbae86867a5 <unknown>\n",
            "#14 0x5bbae8670571 <unknown>\n",
            "#15 0x5bbae8687332 <unknown>\n",
            "#16 0x5bbae865587f <unknown>\n",
            "#17 0x5bbae86ad728 <unknown>\n",
            "#18 0x5bbae86ad8fb <unknown>\n",
            "#19 0x5bbae86bd9b4 <unknown>\n",
            "#20 0x7d2d277ccac3 <unknown>\n",
            "\n",
            "An error occurred while processing an article: Message: \n",
            "Stacktrace:\n",
            "#0 0x5bbae86be863 <unknown>\n",
            "#1 0x5bbae83b48c6 <unknown>\n",
            "#2 0x5bbae83ff618 <unknown>\n",
            "#3 0x5bbae83ff6d1 <unknown>\n",
            "#4 0x5bbae83f3fa6 <unknown>\n",
            "#5 0x5bbae84215cd <unknown>\n",
            "#6 0x5bbae83f3e98 <unknown>\n",
            "#7 0x5bbae842176e <unknown>\n",
            "#8 0x5bbae843fc19 <unknown>\n",
            "#9 0x5bbae8421343 <unknown>\n",
            "#10 0x5bbae83f2593 <unknown>\n",
            "#11 0x5bbae83f2f5e <unknown>\n",
            "#12 0x5bbae868284b <unknown>\n",
            "#13 0x5bbae86867a5 <unknown>\n",
            "#14 0x5bbae8670571 <unknown>\n",
            "#15 0x5bbae8687332 <unknown>\n",
            "#16 0x5bbae865587f <unknown>\n",
            "#17 0x5bbae86ad728 <unknown>\n",
            "#18 0x5bbae86ad8fb <unknown>\n",
            "#19 0x5bbae86bd9b4 <unknown>\n",
            "#20 0x7d2d277ccac3 <unknown>\n",
            "\n",
            "An error occurred while extracting article info: Message: \n",
            "Stacktrace:\n",
            "#0 0x5bbae86be863 <unknown>\n",
            "#1 0x5bbae83b48c6 <unknown>\n",
            "#2 0x5bbae83ff618 <unknown>\n",
            "#3 0x5bbae83ff6d1 <unknown>\n",
            "#4 0x5bbae8442744 <unknown>\n",
            "#5 0x5bbae84215cd <unknown>\n",
            "#6 0x5bbae843fc19 <unknown>\n",
            "#7 0x5bbae8421343 <unknown>\n",
            "#8 0x5bbae83f2593 <unknown>\n",
            "#9 0x5bbae83f2f5e <unknown>\n",
            "#10 0x5bbae868284b <unknown>\n",
            "#11 0x5bbae86867a5 <unknown>\n",
            "#12 0x5bbae8670571 <unknown>\n",
            "#13 0x5bbae8687332 <unknown>\n",
            "#14 0x5bbae865587f <unknown>\n",
            "#15 0x5bbae86ad728 <unknown>\n",
            "#16 0x5bbae86ad8fb <unknown>\n",
            "#17 0x5bbae86bd9b4 <unknown>\n",
            "#18 0x7d2d277ccac3 <unknown>\n",
            "\n",
            "An error occurred while extracting article info: Message: \n",
            "Stacktrace:\n",
            "#0 0x5bbae86be863 <unknown>\n",
            "#1 0x5bbae83b48c6 <unknown>\n",
            "#2 0x5bbae83ff618 <unknown>\n",
            "#3 0x5bbae83ff6d1 <unknown>\n",
            "#4 0x5bbae8442744 <unknown>\n",
            "#5 0x5bbae84215cd <unknown>\n",
            "#6 0x5bbae843fc19 <unknown>\n",
            "#7 0x5bbae8421343 <unknown>\n",
            "#8 0x5bbae83f2593 <unknown>\n",
            "#9 0x5bbae83f2f5e <unknown>\n",
            "#10 0x5bbae868284b <unknown>\n",
            "#11 0x5bbae86867a5 <unknown>\n",
            "#12 0x5bbae8670571 <unknown>\n",
            "#13 0x5bbae8687332 <unknown>\n",
            "#14 0x5bbae865587f <unknown>\n",
            "#15 0x5bbae86ad728 <unknown>\n",
            "#16 0x5bbae86ad8fb <unknown>\n",
            "#17 0x5bbae86bd9b4 <unknown>\n",
            "#18 0x7d2d277ccac3 <unknown>\n",
            "\n",
            "An error occurred while extracting article info: Message: \n",
            "Stacktrace:\n",
            "#0 0x5bbae86be863 <unknown>\n",
            "#1 0x5bbae83b48c6 <unknown>\n",
            "#2 0x5bbae83ff618 <unknown>\n",
            "#3 0x5bbae83ff6d1 <unknown>\n",
            "#4 0x5bbae8442744 <unknown>\n",
            "#5 0x5bbae84215cd <unknown>\n",
            "#6 0x5bbae843fc19 <unknown>\n",
            "#7 0x5bbae8421343 <unknown>\n",
            "#8 0x5bbae83f2593 <unknown>\n",
            "#9 0x5bbae83f2f5e <unknown>\n",
            "#10 0x5bbae868284b <unknown>\n",
            "#11 0x5bbae86867a5 <unknown>\n",
            "#12 0x5bbae8670571 <unknown>\n",
            "#13 0x5bbae8687332 <unknown>\n",
            "#14 0x5bbae865587f <unknown>\n",
            "#15 0x5bbae86ad728 <unknown>\n",
            "#16 0x5bbae86ad8fb <unknown>\n",
            "#17 0x5bbae86bd9b4 <unknown>\n",
            "#18 0x7d2d277ccac3 <unknown>\n",
            "\n",
            "An error occurred while extracting article info: Message: \n",
            "Stacktrace:\n",
            "#0 0x5bbae86be863 <unknown>\n",
            "#1 0x5bbae83b48c6 <unknown>\n",
            "#2 0x5bbae83ff618 <unknown>\n",
            "#3 0x5bbae83ff6d1 <unknown>\n",
            "#4 0x5bbae8442744 <unknown>\n",
            "#5 0x5bbae84215cd <unknown>\n",
            "#6 0x5bbae843fc19 <unknown>\n",
            "#7 0x5bbae8421343 <unknown>\n",
            "#8 0x5bbae83f2593 <unknown>\n",
            "#9 0x5bbae83f2f5e <unknown>\n",
            "#10 0x5bbae868284b <unknown>\n",
            "#11 0x5bbae86867a5 <unknown>\n",
            "#12 0x5bbae8670571 <unknown>\n",
            "#13 0x5bbae8687332 <unknown>\n",
            "#14 0x5bbae865587f <unknown>\n",
            "#15 0x5bbae86ad728 <unknown>\n",
            "#16 0x5bbae86ad8fb <unknown>\n",
            "#17 0x5bbae86bd9b4 <unknown>\n",
            "#18 0x7d2d277ccac3 <unknown>\n",
            "\n",
            "An error occurred while extracting article info: Message: \n",
            "Stacktrace:\n",
            "#0 0x5bbae86be863 <unknown>\n",
            "#1 0x5bbae83b48c6 <unknown>\n",
            "#2 0x5bbae83ff618 <unknown>\n",
            "#3 0x5bbae83ff6d1 <unknown>\n",
            "#4 0x5bbae8442744 <unknown>\n",
            "#5 0x5bbae84215cd <unknown>\n",
            "#6 0x5bbae843fc19 <unknown>\n",
            "#7 0x5bbae8421343 <unknown>\n",
            "#8 0x5bbae83f2593 <unknown>\n",
            "#9 0x5bbae83f2f5e <unknown>\n",
            "#10 0x5bbae868284b <unknown>\n",
            "#11 0x5bbae86867a5 <unknown>\n",
            "#12 0x5bbae8670571 <unknown>\n",
            "#13 0x5bbae8687332 <unknown>\n",
            "#14 0x5bbae865587f <unknown>\n",
            "#15 0x5bbae86ad728 <unknown>\n",
            "#16 0x5bbae86ad8fb <unknown>\n",
            "#17 0x5bbae86bd9b4 <unknown>\n",
            "#18 0x7d2d277ccac3 <unknown>\n",
            "\n",
            "An error occurred while extracting article info: Message: \n",
            "Stacktrace:\n",
            "#0 0x5bbae86be863 <unknown>\n",
            "#1 0x5bbae83b48c6 <unknown>\n",
            "#2 0x5bbae83ff618 <unknown>\n",
            "#3 0x5bbae83ff6d1 <unknown>\n",
            "#4 0x5bbae8442744 <unknown>\n",
            "#5 0x5bbae84215cd <unknown>\n",
            "#6 0x5bbae843fc19 <unknown>\n",
            "#7 0x5bbae8421343 <unknown>\n",
            "#8 0x5bbae83f2593 <unknown>\n",
            "#9 0x5bbae83f2f5e <unknown>\n",
            "#10 0x5bbae868284b <unknown>\n",
            "#11 0x5bbae86867a5 <unknown>\n",
            "#12 0x5bbae8670571 <unknown>\n",
            "#13 0x5bbae8687332 <unknown>\n",
            "#14 0x5bbae865587f <unknown>\n",
            "#15 0x5bbae86ad728 <unknown>\n",
            "#16 0x5bbae86ad8fb <unknown>\n",
            "#17 0x5bbae86bd9b4 <unknown>\n",
            "#18 0x7d2d277ccac3 <unknown>\n",
            "\n",
            "An error occurred while extracting article info: Message: \n",
            "Stacktrace:\n",
            "#0 0x5bbae86be863 <unknown>\n",
            "#1 0x5bbae83b48c6 <unknown>\n",
            "#2 0x5bbae83ff618 <unknown>\n",
            "#3 0x5bbae83ff6d1 <unknown>\n",
            "#4 0x5bbae8442744 <unknown>\n",
            "#5 0x5bbae84215cd <unknown>\n",
            "#6 0x5bbae843fc19 <unknown>\n",
            "#7 0x5bbae8421343 <unknown>\n",
            "#8 0x5bbae83f2593 <unknown>\n",
            "#9 0x5bbae83f2f5e <unknown>\n",
            "#10 0x5bbae868284b <unknown>\n",
            "#11 0x5bbae86867a5 <unknown>\n",
            "#12 0x5bbae8670571 <unknown>\n",
            "#13 0x5bbae8687332 <unknown>\n",
            "#14 0x5bbae865587f <unknown>\n",
            "#15 0x5bbae86ad728 <unknown>\n",
            "#16 0x5bbae86ad8fb <unknown>\n",
            "#17 0x5bbae86bd9b4 <unknown>\n",
            "#18 0x7d2d277ccac3 <unknown>\n",
            "\n",
            "An error occurred while extracting article info: Message: \n",
            "Stacktrace:\n",
            "#0 0x5bbae86be863 <unknown>\n",
            "#1 0x5bbae83b48c6 <unknown>\n",
            "#2 0x5bbae83ff618 <unknown>\n",
            "#3 0x5bbae83ff6d1 <unknown>\n",
            "#4 0x5bbae8442744 <unknown>\n",
            "#5 0x5bbae84215cd <unknown>\n",
            "#6 0x5bbae843fc19 <unknown>\n",
            "#7 0x5bbae8421343 <unknown>\n",
            "#8 0x5bbae83f2593 <unknown>\n",
            "#9 0x5bbae83f2f5e <unknown>\n",
            "#10 0x5bbae868284b <unknown>\n",
            "#11 0x5bbae86867a5 <unknown>\n",
            "#12 0x5bbae8670571 <unknown>\n",
            "#13 0x5bbae8687332 <unknown>\n",
            "#14 0x5bbae865587f <unknown>\n",
            "#15 0x5bbae86ad728 <unknown>\n",
            "#16 0x5bbae86ad8fb <unknown>\n",
            "#17 0x5bbae86bd9b4 <unknown>\n",
            "#18 0x7d2d277ccac3 <unknown>\n",
            "\n",
            "An error occurred while extracting article info: Message: \n",
            "Stacktrace:\n",
            "#0 0x5bbae86be863 <unknown>\n",
            "#1 0x5bbae83b48c6 <unknown>\n",
            "#2 0x5bbae83ff618 <unknown>\n",
            "#3 0x5bbae83ff6d1 <unknown>\n",
            "#4 0x5bbae8442744 <unknown>\n",
            "#5 0x5bbae84215cd <unknown>\n",
            "#6 0x5bbae843fc19 <unknown>\n",
            "#7 0x5bbae8421343 <unknown>\n",
            "#8 0x5bbae83f2593 <unknown>\n",
            "#9 0x5bbae83f2f5e <unknown>\n",
            "#10 0x5bbae868284b <unknown>\n",
            "#11 0x5bbae86867a5 <unknown>\n",
            "#12 0x5bbae8670571 <unknown>\n",
            "#13 0x5bbae8687332 <unknown>\n",
            "#14 0x5bbae865587f <unknown>\n",
            "#15 0x5bbae86ad728 <unknown>\n",
            "#16 0x5bbae86ad8fb <unknown>\n",
            "#17 0x5bbae86bd9b4 <unknown>\n",
            "#18 0x7d2d277ccac3 <unknown>\n",
            "\n",
            "An error occurred while extracting article info: Message: \n",
            "Stacktrace:\n",
            "#0 0x5bbae86be863 <unknown>\n",
            "#1 0x5bbae83b48c6 <unknown>\n",
            "#2 0x5bbae83ff618 <unknown>\n",
            "#3 0x5bbae83ff6d1 <unknown>\n",
            "#4 0x5bbae8442744 <unknown>\n",
            "#5 0x5bbae84215cd <unknown>\n",
            "#6 0x5bbae843fc19 <unknown>\n",
            "#7 0x5bbae8421343 <unknown>\n",
            "#8 0x5bbae83f2593 <unknown>\n",
            "#9 0x5bbae83f2f5e <unknown>\n",
            "#10 0x5bbae868284b <unknown>\n",
            "#11 0x5bbae86867a5 <unknown>\n",
            "#12 0x5bbae8670571 <unknown>\n",
            "#13 0x5bbae8687332 <unknown>\n",
            "#14 0x5bbae865587f <unknown>\n",
            "#15 0x5bbae86ad728 <unknown>\n",
            "#16 0x5bbae86ad8fb <unknown>\n",
            "#17 0x5bbae86bd9b4 <unknown>\n",
            "#18 0x7d2d277ccac3 <unknown>\n",
            "\n",
            "An error occurred while extracting article info: Message: \n",
            "Stacktrace:\n",
            "#0 0x5bbae86be863 <unknown>\n",
            "#1 0x5bbae83b48c6 <unknown>\n",
            "#2 0x5bbae83ff618 <unknown>\n",
            "#3 0x5bbae83ff6d1 <unknown>\n",
            "#4 0x5bbae8442744 <unknown>\n",
            "#5 0x5bbae84215cd <unknown>\n",
            "#6 0x5bbae843fc19 <unknown>\n",
            "#7 0x5bbae8421343 <unknown>\n",
            "#8 0x5bbae83f2593 <unknown>\n",
            "#9 0x5bbae83f2f5e <unknown>\n",
            "#10 0x5bbae868284b <unknown>\n",
            "#11 0x5bbae86867a5 <unknown>\n",
            "#12 0x5bbae8670571 <unknown>\n",
            "#13 0x5bbae8687332 <unknown>\n",
            "#14 0x5bbae865587f <unknown>\n",
            "#15 0x5bbae86ad728 <unknown>\n",
            "#16 0x5bbae86ad8fb <unknown>\n",
            "#17 0x5bbae86bd9b4 <unknown>\n",
            "#18 0x7d2d277ccac3 <unknown>\n",
            "\n",
            "An error occurred while extracting article info: Message: \n",
            "Stacktrace:\n",
            "#0 0x5bbae86be863 <unknown>\n",
            "#1 0x5bbae83b48c6 <unknown>\n",
            "#2 0x5bbae83ff618 <unknown>\n",
            "#3 0x5bbae83ff6d1 <unknown>\n",
            "#4 0x5bbae8442744 <unknown>\n",
            "#5 0x5bbae84215cd <unknown>\n",
            "#6 0x5bbae843fc19 <unknown>\n",
            "#7 0x5bbae8421343 <unknown>\n",
            "#8 0x5bbae83f2593 <unknown>\n",
            "#9 0x5bbae83f2f5e <unknown>\n",
            "#10 0x5bbae868284b <unknown>\n",
            "#11 0x5bbae86867a5 <unknown>\n",
            "#12 0x5bbae8670571 <unknown>\n",
            "#13 0x5bbae8687332 <unknown>\n",
            "#14 0x5bbae865587f <unknown>\n",
            "#15 0x5bbae86ad728 <unknown>\n",
            "#16 0x5bbae86ad8fb <unknown>\n",
            "#17 0x5bbae86bd9b4 <unknown>\n",
            "#18 0x7d2d277ccac3 <unknown>\n",
            "\n",
            "An error occurred while processing an article: Message: \n",
            "Stacktrace:\n",
            "#0 0x5bbae86be863 <unknown>\n",
            "#1 0x5bbae83b48c6 <unknown>\n",
            "#2 0x5bbae83ff618 <unknown>\n",
            "#3 0x5bbae83ff6d1 <unknown>\n",
            "#4 0x5bbae83f3fa6 <unknown>\n",
            "#5 0x5bbae84215cd <unknown>\n",
            "#6 0x5bbae83f3e98 <unknown>\n",
            "#7 0x5bbae842176e <unknown>\n",
            "#8 0x5bbae843fc19 <unknown>\n",
            "#9 0x5bbae8421343 <unknown>\n",
            "#10 0x5bbae83f2593 <unknown>\n",
            "#11 0x5bbae83f2f5e <unknown>\n",
            "#12 0x5bbae868284b <unknown>\n",
            "#13 0x5bbae86867a5 <unknown>\n",
            "#14 0x5bbae8670571 <unknown>\n",
            "#15 0x5bbae8687332 <unknown>\n",
            "#16 0x5bbae865587f <unknown>\n",
            "#17 0x5bbae86ad728 <unknown>\n",
            "#18 0x5bbae86ad8fb <unknown>\n",
            "#19 0x5bbae86bd9b4 <unknown>\n",
            "#20 0x7d2d277ccac3 <unknown>\n",
            "\n",
            "An error occurred while processing an article: Message: \n",
            "Stacktrace:\n",
            "#0 0x5bbae86be863 <unknown>\n",
            "#1 0x5bbae83b48c6 <unknown>\n",
            "#2 0x5bbae83ff618 <unknown>\n",
            "#3 0x5bbae83ff6d1 <unknown>\n",
            "#4 0x5bbae83f3fa6 <unknown>\n",
            "#5 0x5bbae84215cd <unknown>\n",
            "#6 0x5bbae83f3e98 <unknown>\n",
            "#7 0x5bbae842176e <unknown>\n",
            "#8 0x5bbae843fc19 <unknown>\n",
            "#9 0x5bbae8421343 <unknown>\n",
            "#10 0x5bbae83f2593 <unknown>\n",
            "#11 0x5bbae83f2f5e <unknown>\n",
            "#12 0x5bbae868284b <unknown>\n",
            "#13 0x5bbae86867a5 <unknown>\n",
            "#14 0x5bbae8670571 <unknown>\n",
            "#15 0x5bbae8687332 <unknown>\n",
            "#16 0x5bbae865587f <unknown>\n",
            "#17 0x5bbae86ad728 <unknown>\n",
            "#18 0x5bbae86ad8fb <unknown>\n",
            "#19 0x5bbae86bd9b4 <unknown>\n",
            "#20 0x7d2d277ccac3 <unknown>\n",
            "\n",
            "An error occurred while processing an article: Message: \n",
            "Stacktrace:\n",
            "#0 0x5bbae86be863 <unknown>\n",
            "#1 0x5bbae83b48c6 <unknown>\n",
            "#2 0x5bbae83ff618 <unknown>\n",
            "#3 0x5bbae83ff6d1 <unknown>\n",
            "#4 0x5bbae83f3fa6 <unknown>\n",
            "#5 0x5bbae84215cd <unknown>\n",
            "#6 0x5bbae83f3e98 <unknown>\n",
            "#7 0x5bbae842176e <unknown>\n",
            "#8 0x5bbae843fc19 <unknown>\n",
            "#9 0x5bbae8421343 <unknown>\n",
            "#10 0x5bbae83f2593 <unknown>\n",
            "#11 0x5bbae83f2f5e <unknown>\n",
            "#12 0x5bbae868284b <unknown>\n",
            "#13 0x5bbae86867a5 <unknown>\n",
            "#14 0x5bbae8670571 <unknown>\n",
            "#15 0x5bbae8687332 <unknown>\n",
            "#16 0x5bbae865587f <unknown>\n",
            "#17 0x5bbae86ad728 <unknown>\n",
            "#18 0x5bbae86ad8fb <unknown>\n",
            "#19 0x5bbae86bd9b4 <unknown>\n",
            "#20 0x7d2d277ccac3 <unknown>\n",
            "\n",
            "An error occurred while processing an article: Message: \n",
            "Stacktrace:\n",
            "#0 0x5bbae86be863 <unknown>\n",
            "#1 0x5bbae83b48c6 <unknown>\n",
            "#2 0x5bbae83ff618 <unknown>\n",
            "#3 0x5bbae83ff6d1 <unknown>\n",
            "#4 0x5bbae83f3fa6 <unknown>\n",
            "#5 0x5bbae84215cd <unknown>\n",
            "#6 0x5bbae83f3e98 <unknown>\n",
            "#7 0x5bbae842176e <unknown>\n",
            "#8 0x5bbae843fc19 <unknown>\n",
            "#9 0x5bbae8421343 <unknown>\n",
            "#10 0x5bbae83f2593 <unknown>\n",
            "#11 0x5bbae83f2f5e <unknown>\n",
            "#12 0x5bbae868284b <unknown>\n",
            "#13 0x5bbae86867a5 <unknown>\n",
            "#14 0x5bbae8670571 <unknown>\n",
            "#15 0x5bbae8687332 <unknown>\n",
            "#16 0x5bbae865587f <unknown>\n",
            "#17 0x5bbae86ad728 <unknown>\n",
            "#18 0x5bbae86ad8fb <unknown>\n",
            "#19 0x5bbae86bd9b4 <unknown>\n",
            "#20 0x7d2d277ccac3 <unknown>\n",
            "\n",
            "An error occurred while processing an article: Message: \n",
            "Stacktrace:\n",
            "#0 0x5bbae86be863 <unknown>\n",
            "#1 0x5bbae83b48c6 <unknown>\n",
            "#2 0x5bbae83ff618 <unknown>\n",
            "#3 0x5bbae83ff6d1 <unknown>\n",
            "#4 0x5bbae83f3fa6 <unknown>\n",
            "#5 0x5bbae84215cd <unknown>\n",
            "#6 0x5bbae83f3e98 <unknown>\n",
            "#7 0x5bbae842176e <unknown>\n",
            "#8 0x5bbae843fc19 <unknown>\n",
            "#9 0x5bbae8421343 <unknown>\n",
            "#10 0x5bbae83f2593 <unknown>\n",
            "#11 0x5bbae83f2f5e <unknown>\n",
            "#12 0x5bbae868284b <unknown>\n",
            "#13 0x5bbae86867a5 <unknown>\n",
            "#14 0x5bbae8670571 <unknown>\n",
            "#15 0x5bbae8687332 <unknown>\n",
            "#16 0x5bbae865587f <unknown>\n",
            "#17 0x5bbae86ad728 <unknown>\n",
            "#18 0x5bbae86ad8fb <unknown>\n",
            "#19 0x5bbae86bd9b4 <unknown>\n",
            "#20 0x7d2d277ccac3 <unknown>\n",
            "\n",
            "An error occurred while extracting article info: Message: \n",
            "Stacktrace:\n",
            "#0 0x5bbae86be863 <unknown>\n",
            "#1 0x5bbae83b48c6 <unknown>\n",
            "#2 0x5bbae83ff618 <unknown>\n",
            "#3 0x5bbae83ff6d1 <unknown>\n",
            "#4 0x5bbae8442744 <unknown>\n",
            "#5 0x5bbae84215cd <unknown>\n",
            "#6 0x5bbae843fc19 <unknown>\n",
            "#7 0x5bbae8421343 <unknown>\n",
            "#8 0x5bbae83f2593 <unknown>\n",
            "#9 0x5bbae83f2f5e <unknown>\n",
            "#10 0x5bbae868284b <unknown>\n",
            "#11 0x5bbae86867a5 <unknown>\n",
            "#12 0x5bbae8670571 <unknown>\n",
            "#13 0x5bbae8687332 <unknown>\n",
            "#14 0x5bbae865587f <unknown>\n",
            "#15 0x5bbae86ad728 <unknown>\n",
            "#16 0x5bbae86ad8fb <unknown>\n",
            "#17 0x5bbae86bd9b4 <unknown>\n",
            "#18 0x7d2d277ccac3 <unknown>\n",
            "\n",
            "An error occurred while extracting article info: Message: \n",
            "Stacktrace:\n",
            "#0 0x5bbae86be863 <unknown>\n",
            "#1 0x5bbae83b48c6 <unknown>\n",
            "#2 0x5bbae83ff618 <unknown>\n",
            "#3 0x5bbae83ff6d1 <unknown>\n",
            "#4 0x5bbae8442744 <unknown>\n",
            "#5 0x5bbae84215cd <unknown>\n",
            "#6 0x5bbae843fc19 <unknown>\n",
            "#7 0x5bbae8421343 <unknown>\n",
            "#8 0x5bbae83f2593 <unknown>\n",
            "#9 0x5bbae83f2f5e <unknown>\n",
            "#10 0x5bbae868284b <unknown>\n",
            "#11 0x5bbae86867a5 <unknown>\n",
            "#12 0x5bbae8670571 <unknown>\n",
            "#13 0x5bbae8687332 <unknown>\n",
            "#14 0x5bbae865587f <unknown>\n",
            "#15 0x5bbae86ad728 <unknown>\n",
            "#16 0x5bbae86ad8fb <unknown>\n",
            "#17 0x5bbae86bd9b4 <unknown>\n",
            "#18 0x7d2d277ccac3 <unknown>\n",
            "\n",
            "An error occurred while extracting article info: Message: \n",
            "Stacktrace:\n",
            "#0 0x5bbae86be863 <unknown>\n",
            "#1 0x5bbae83b48c6 <unknown>\n",
            "#2 0x5bbae83ff618 <unknown>\n",
            "#3 0x5bbae83ff6d1 <unknown>\n",
            "#4 0x5bbae8442744 <unknown>\n",
            "#5 0x5bbae84215cd <unknown>\n",
            "#6 0x5bbae843fc19 <unknown>\n",
            "#7 0x5bbae8421343 <unknown>\n",
            "#8 0x5bbae83f2593 <unknown>\n",
            "#9 0x5bbae83f2f5e <unknown>\n",
            "#10 0x5bbae868284b <unknown>\n",
            "#11 0x5bbae86867a5 <unknown>\n",
            "#12 0x5bbae8670571 <unknown>\n",
            "#13 0x5bbae8687332 <unknown>\n",
            "#14 0x5bbae865587f <unknown>\n",
            "#15 0x5bbae86ad728 <unknown>\n",
            "#16 0x5bbae86ad8fb <unknown>\n",
            "#17 0x5bbae86bd9b4 <unknown>\n",
            "#18 0x7d2d277ccac3 <unknown>\n",
            "\n",
            "An error occurred while extracting article info: Message: \n",
            "Stacktrace:\n",
            "#0 0x5bbae86be863 <unknown>\n",
            "#1 0x5bbae83b48c6 <unknown>\n",
            "#2 0x5bbae83ff618 <unknown>\n",
            "#3 0x5bbae83ff6d1 <unknown>\n",
            "#4 0x5bbae8442744 <unknown>\n",
            "#5 0x5bbae84215cd <unknown>\n",
            "#6 0x5bbae843fc19 <unknown>\n",
            "#7 0x5bbae8421343 <unknown>\n",
            "#8 0x5bbae83f2593 <unknown>\n",
            "#9 0x5bbae83f2f5e <unknown>\n",
            "#10 0x5bbae868284b <unknown>\n",
            "#11 0x5bbae86867a5 <unknown>\n",
            "#12 0x5bbae8670571 <unknown>\n",
            "#13 0x5bbae8687332 <unknown>\n",
            "#14 0x5bbae865587f <unknown>\n",
            "#15 0x5bbae86ad728 <unknown>\n",
            "#16 0x5bbae86ad8fb <unknown>\n",
            "#17 0x5bbae86bd9b4 <unknown>\n",
            "#18 0x7d2d277ccac3 <unknown>\n",
            "\n",
            "An error occurred while extracting article info: Message: \n",
            "Stacktrace:\n",
            "#0 0x5bbae86be863 <unknown>\n",
            "#1 0x5bbae83b48c6 <unknown>\n",
            "#2 0x5bbae83ff618 <unknown>\n",
            "#3 0x5bbae83ff6d1 <unknown>\n",
            "#4 0x5bbae8442744 <unknown>\n",
            "#5 0x5bbae84215cd <unknown>\n",
            "#6 0x5bbae843fc19 <unknown>\n",
            "#7 0x5bbae8421343 <unknown>\n",
            "#8 0x5bbae83f2593 <unknown>\n",
            "#9 0x5bbae83f2f5e <unknown>\n",
            "#10 0x5bbae868284b <unknown>\n",
            "#11 0x5bbae86867a5 <unknown>\n",
            "#12 0x5bbae8670571 <unknown>\n",
            "#13 0x5bbae8687332 <unknown>\n",
            "#14 0x5bbae865587f <unknown>\n",
            "#15 0x5bbae86ad728 <unknown>\n",
            "#16 0x5bbae86ad8fb <unknown>\n",
            "#17 0x5bbae86bd9b4 <unknown>\n",
            "#18 0x7d2d277ccac3 <unknown>\n",
            "\n",
            "An error occurred while extracting article info: Message: \n",
            "Stacktrace:\n",
            "#0 0x5bbae86be863 <unknown>\n",
            "#1 0x5bbae83b48c6 <unknown>\n",
            "#2 0x5bbae83ff618 <unknown>\n",
            "#3 0x5bbae83ff6d1 <unknown>\n",
            "#4 0x5bbae8442744 <unknown>\n",
            "#5 0x5bbae84215cd <unknown>\n",
            "#6 0x5bbae843fc19 <unknown>\n",
            "#7 0x5bbae8421343 <unknown>\n",
            "#8 0x5bbae83f2593 <unknown>\n",
            "#9 0x5bbae83f2f5e <unknown>\n",
            "#10 0x5bbae868284b <unknown>\n",
            "#11 0x5bbae86867a5 <unknown>\n",
            "#12 0x5bbae8670571 <unknown>\n",
            "#13 0x5bbae8687332 <unknown>\n",
            "#14 0x5bbae865587f <unknown>\n",
            "#15 0x5bbae86ad728 <unknown>\n",
            "#16 0x5bbae86ad8fb <unknown>\n",
            "#17 0x5bbae86bd9b4 <unknown>\n",
            "#18 0x7d2d277ccac3 <unknown>\n",
            "\n",
            "An error occurred while extracting article info: Message: \n",
            "Stacktrace:\n",
            "#0 0x5bbae86be863 <unknown>\n",
            "#1 0x5bbae83b48c6 <unknown>\n",
            "#2 0x5bbae83ff618 <unknown>\n",
            "#3 0x5bbae83ff6d1 <unknown>\n",
            "#4 0x5bbae8442744 <unknown>\n",
            "#5 0x5bbae84215cd <unknown>\n",
            "#6 0x5bbae843fc19 <unknown>\n",
            "#7 0x5bbae8421343 <unknown>\n",
            "#8 0x5bbae83f2593 <unknown>\n",
            "#9 0x5bbae83f2f5e <unknown>\n",
            "#10 0x5bbae868284b <unknown>\n",
            "#11 0x5bbae86867a5 <unknown>\n",
            "#12 0x5bbae8670571 <unknown>\n",
            "#13 0x5bbae8687332 <unknown>\n",
            "#14 0x5bbae865587f <unknown>\n",
            "#15 0x5bbae86ad728 <unknown>\n",
            "#16 0x5bbae86ad8fb <unknown>\n",
            "#17 0x5bbae86bd9b4 <unknown>\n",
            "#18 0x7d2d277ccac3 <unknown>\n",
            "\n",
            "An error occurred while extracting article info: Message: \n",
            "Stacktrace:\n",
            "#0 0x5bbae86be863 <unknown>\n",
            "#1 0x5bbae83b48c6 <unknown>\n",
            "#2 0x5bbae83ff618 <unknown>\n",
            "#3 0x5bbae83ff6d1 <unknown>\n",
            "#4 0x5bbae8442744 <unknown>\n",
            "#5 0x5bbae84215cd <unknown>\n",
            "#6 0x5bbae843fc19 <unknown>\n",
            "#7 0x5bbae8421343 <unknown>\n",
            "#8 0x5bbae83f2593 <unknown>\n",
            "#9 0x5bbae83f2f5e <unknown>\n",
            "#10 0x5bbae868284b <unknown>\n",
            "#11 0x5bbae86867a5 <unknown>\n",
            "#12 0x5bbae8670571 <unknown>\n",
            "#13 0x5bbae8687332 <unknown>\n",
            "#14 0x5bbae865587f <unknown>\n",
            "#15 0x5bbae86ad728 <unknown>\n",
            "#16 0x5bbae86ad8fb <unknown>\n",
            "#17 0x5bbae86bd9b4 <unknown>\n",
            "#18 0x7d2d277ccac3 <unknown>\n",
            "\n",
            "An error occurred while extracting article info: Message: \n",
            "Stacktrace:\n",
            "#0 0x5bbae86be863 <unknown>\n",
            "#1 0x5bbae83b48c6 <unknown>\n",
            "#2 0x5bbae83ff618 <unknown>\n",
            "#3 0x5bbae83ff6d1 <unknown>\n",
            "#4 0x5bbae8442744 <unknown>\n",
            "#5 0x5bbae84215cd <unknown>\n",
            "#6 0x5bbae843fc19 <unknown>\n",
            "#7 0x5bbae8421343 <unknown>\n",
            "#8 0x5bbae83f2593 <unknown>\n",
            "#9 0x5bbae83f2f5e <unknown>\n",
            "#10 0x5bbae868284b <unknown>\n",
            "#11 0x5bbae86867a5 <unknown>\n",
            "#12 0x5bbae8670571 <unknown>\n",
            "#13 0x5bbae8687332 <unknown>\n",
            "#14 0x5bbae865587f <unknown>\n",
            "#15 0x5bbae86ad728 <unknown>\n",
            "#16 0x5bbae86ad8fb <unknown>\n",
            "#17 0x5bbae86bd9b4 <unknown>\n",
            "#18 0x7d2d277ccac3 <unknown>\n",
            "\n",
            "An error occurred while extracting article info: Message: \n",
            "Stacktrace:\n",
            "#0 0x5bbae86be863 <unknown>\n",
            "#1 0x5bbae83b48c6 <unknown>\n",
            "#2 0x5bbae83ff618 <unknown>\n",
            "#3 0x5bbae83ff6d1 <unknown>\n",
            "#4 0x5bbae8442744 <unknown>\n",
            "#5 0x5bbae84215cd <unknown>\n",
            "#6 0x5bbae843fc19 <unknown>\n",
            "#7 0x5bbae8421343 <unknown>\n",
            "#8 0x5bbae83f2593 <unknown>\n",
            "#9 0x5bbae83f2f5e <unknown>\n",
            "#10 0x5bbae868284b <unknown>\n",
            "#11 0x5bbae86867a5 <unknown>\n",
            "#12 0x5bbae8670571 <unknown>\n",
            "#13 0x5bbae8687332 <unknown>\n",
            "#14 0x5bbae865587f <unknown>\n",
            "#15 0x5bbae86ad728 <unknown>\n",
            "#16 0x5bbae86ad8fb <unknown>\n",
            "#17 0x5bbae86bd9b4 <unknown>\n",
            "#18 0x7d2d277ccac3 <unknown>\n",
            "\n",
            "An error occurred while extracting article info: Message: \n",
            "Stacktrace:\n",
            "#0 0x5bbae86be863 <unknown>\n",
            "#1 0x5bbae83b48c6 <unknown>\n",
            "#2 0x5bbae83ff618 <unknown>\n",
            "#3 0x5bbae83ff6d1 <unknown>\n",
            "#4 0x5bbae8442744 <unknown>\n",
            "#5 0x5bbae84215cd <unknown>\n",
            "#6 0x5bbae843fc19 <unknown>\n",
            "#7 0x5bbae8421343 <unknown>\n",
            "#8 0x5bbae83f2593 <unknown>\n",
            "#9 0x5bbae83f2f5e <unknown>\n",
            "#10 0x5bbae868284b <unknown>\n",
            "#11 0x5bbae86867a5 <unknown>\n",
            "#12 0x5bbae8670571 <unknown>\n",
            "#13 0x5bbae8687332 <unknown>\n",
            "#14 0x5bbae865587f <unknown>\n",
            "#15 0x5bbae86ad728 <unknown>\n",
            "#16 0x5bbae86ad8fb <unknown>\n",
            "#17 0x5bbae86bd9b4 <unknown>\n",
            "#18 0x7d2d277ccac3 <unknown>\n",
            "\n",
            "An error occurred while extracting article info: Message: \n",
            "Stacktrace:\n",
            "#0 0x5bbae86be863 <unknown>\n",
            "#1 0x5bbae83b48c6 <unknown>\n",
            "#2 0x5bbae83ff618 <unknown>\n",
            "#3 0x5bbae83ff6d1 <unknown>\n",
            "#4 0x5bbae8442744 <unknown>\n",
            "#5 0x5bbae84215cd <unknown>\n",
            "#6 0x5bbae843fc19 <unknown>\n",
            "#7 0x5bbae8421343 <unknown>\n",
            "#8 0x5bbae83f2593 <unknown>\n",
            "#9 0x5bbae83f2f5e <unknown>\n",
            "#10 0x5bbae868284b <unknown>\n",
            "#11 0x5bbae86867a5 <unknown>\n",
            "#12 0x5bbae8670571 <unknown>\n",
            "#13 0x5bbae8687332 <unknown>\n",
            "#14 0x5bbae865587f <unknown>\n",
            "#15 0x5bbae86ad728 <unknown>\n",
            "#16 0x5bbae86ad8fb <unknown>\n",
            "#17 0x5bbae86bd9b4 <unknown>\n",
            "#18 0x7d2d277ccac3 <unknown>\n",
            "\n",
            "An error occurred while processing an article: Message: \n",
            "Stacktrace:\n",
            "#0 0x5bbae86be863 <unknown>\n",
            "#1 0x5bbae83b48c6 <unknown>\n",
            "#2 0x5bbae83ff618 <unknown>\n",
            "#3 0x5bbae83ff6d1 <unknown>\n",
            "#4 0x5bbae83f3fa6 <unknown>\n",
            "#5 0x5bbae84215cd <unknown>\n",
            "#6 0x5bbae83f3e98 <unknown>\n",
            "#7 0x5bbae842176e <unknown>\n",
            "#8 0x5bbae843fc19 <unknown>\n",
            "#9 0x5bbae8421343 <unknown>\n",
            "#10 0x5bbae83f2593 <unknown>\n",
            "#11 0x5bbae83f2f5e <unknown>\n",
            "#12 0x5bbae868284b <unknown>\n",
            "#13 0x5bbae86867a5 <unknown>\n",
            "#14 0x5bbae8670571 <unknown>\n",
            "#15 0x5bbae8687332 <unknown>\n",
            "#16 0x5bbae865587f <unknown>\n",
            "#17 0x5bbae86ad728 <unknown>\n",
            "#18 0x5bbae86ad8fb <unknown>\n",
            "#19 0x5bbae86bd9b4 <unknown>\n",
            "#20 0x7d2d277ccac3 <unknown>\n",
            "\n",
            "An error occurred while processing an article: Message: \n",
            "Stacktrace:\n",
            "#0 0x5bbae86be863 <unknown>\n",
            "#1 0x5bbae83b48c6 <unknown>\n",
            "#2 0x5bbae83ff618 <unknown>\n",
            "#3 0x5bbae83ff6d1 <unknown>\n",
            "#4 0x5bbae83f3fa6 <unknown>\n",
            "#5 0x5bbae84215cd <unknown>\n",
            "#6 0x5bbae83f3e98 <unknown>\n",
            "#7 0x5bbae842176e <unknown>\n",
            "#8 0x5bbae843fc19 <unknown>\n",
            "#9 0x5bbae8421343 <unknown>\n",
            "#10 0x5bbae83f2593 <unknown>\n",
            "#11 0x5bbae83f2f5e <unknown>\n",
            "#12 0x5bbae868284b <unknown>\n",
            "#13 0x5bbae86867a5 <unknown>\n",
            "#14 0x5bbae8670571 <unknown>\n",
            "#15 0x5bbae8687332 <unknown>\n",
            "#16 0x5bbae865587f <unknown>\n",
            "#17 0x5bbae86ad728 <unknown>\n",
            "#18 0x5bbae86ad8fb <unknown>\n",
            "#19 0x5bbae86bd9b4 <unknown>\n",
            "#20 0x7d2d277ccac3 <unknown>\n",
            "\n",
            "An error occurred while processing an article: Message: \n",
            "Stacktrace:\n",
            "#0 0x5bbae86be863 <unknown>\n",
            "#1 0x5bbae83b48c6 <unknown>\n",
            "#2 0x5bbae83ff618 <unknown>\n",
            "#3 0x5bbae83ff6d1 <unknown>\n",
            "#4 0x5bbae83f3fa6 <unknown>\n",
            "#5 0x5bbae84215cd <unknown>\n",
            "#6 0x5bbae83f3e98 <unknown>\n",
            "#7 0x5bbae842176e <unknown>\n",
            "#8 0x5bbae843fc19 <unknown>\n",
            "#9 0x5bbae8421343 <unknown>\n",
            "#10 0x5bbae83f2593 <unknown>\n",
            "#11 0x5bbae83f2f5e <unknown>\n",
            "#12 0x5bbae868284b <unknown>\n",
            "#13 0x5bbae86867a5 <unknown>\n",
            "#14 0x5bbae8670571 <unknown>\n",
            "#15 0x5bbae8687332 <unknown>\n",
            "#16 0x5bbae865587f <unknown>\n",
            "#17 0x5bbae86ad728 <unknown>\n",
            "#18 0x5bbae86ad8fb <unknown>\n",
            "#19 0x5bbae86bd9b4 <unknown>\n",
            "#20 0x7d2d277ccac3 <unknown>\n",
            "\n",
            "An error occurred while processing an article: Message: \n",
            "Stacktrace:\n",
            "#0 0x5bbae86be863 <unknown>\n",
            "#1 0x5bbae83b48c6 <unknown>\n",
            "#2 0x5bbae83ff618 <unknown>\n",
            "#3 0x5bbae83ff6d1 <unknown>\n",
            "#4 0x5bbae83f3fa6 <unknown>\n",
            "#5 0x5bbae84215cd <unknown>\n",
            "#6 0x5bbae83f3e98 <unknown>\n",
            "#7 0x5bbae842176e <unknown>\n",
            "#8 0x5bbae843fc19 <unknown>\n",
            "#9 0x5bbae8421343 <unknown>\n",
            "#10 0x5bbae83f2593 <unknown>\n",
            "#11 0x5bbae83f2f5e <unknown>\n",
            "#12 0x5bbae868284b <unknown>\n",
            "#13 0x5bbae86867a5 <unknown>\n",
            "#14 0x5bbae8670571 <unknown>\n",
            "#15 0x5bbae8687332 <unknown>\n",
            "#16 0x5bbae865587f <unknown>\n",
            "#17 0x5bbae86ad728 <unknown>\n",
            "#18 0x5bbae86ad8fb <unknown>\n",
            "#19 0x5bbae86bd9b4 <unknown>\n",
            "#20 0x7d2d277ccac3 <unknown>\n",
            "\n",
            "An error occurred while processing an article: Message: \n",
            "Stacktrace:\n",
            "#0 0x5bbae86be863 <unknown>\n",
            "#1 0x5bbae83b48c6 <unknown>\n",
            "#2 0x5bbae83ff618 <unknown>\n",
            "#3 0x5bbae83ff6d1 <unknown>\n",
            "#4 0x5bbae83f3fa6 <unknown>\n",
            "#5 0x5bbae84215cd <unknown>\n",
            "#6 0x5bbae83f3e98 <unknown>\n",
            "#7 0x5bbae842176e <unknown>\n",
            "#8 0x5bbae843fc19 <unknown>\n",
            "#9 0x5bbae8421343 <unknown>\n",
            "#10 0x5bbae83f2593 <unknown>\n",
            "#11 0x5bbae83f2f5e <unknown>\n",
            "#12 0x5bbae868284b <unknown>\n",
            "#13 0x5bbae86867a5 <unknown>\n",
            "#14 0x5bbae8670571 <unknown>\n",
            "#15 0x5bbae8687332 <unknown>\n",
            "#16 0x5bbae865587f <unknown>\n",
            "#17 0x5bbae86ad728 <unknown>\n",
            "#18 0x5bbae86ad8fb <unknown>\n",
            "#19 0x5bbae86bd9b4 <unknown>\n",
            "#20 0x7d2d277ccac3 <unknown>\n",
            "\n",
            "An error occurred while extracting article info: Message: \n",
            "Stacktrace:\n",
            "#0 0x5bbae86be863 <unknown>\n",
            "#1 0x5bbae83b48c6 <unknown>\n",
            "#2 0x5bbae83ff618 <unknown>\n",
            "#3 0x5bbae83ff6d1 <unknown>\n",
            "#4 0x5bbae8442744 <unknown>\n",
            "#5 0x5bbae84215cd <unknown>\n",
            "#6 0x5bbae843fc19 <unknown>\n",
            "#7 0x5bbae8421343 <unknown>\n",
            "#8 0x5bbae83f2593 <unknown>\n",
            "#9 0x5bbae83f2f5e <unknown>\n",
            "#10 0x5bbae868284b <unknown>\n",
            "#11 0x5bbae86867a5 <unknown>\n",
            "#12 0x5bbae8670571 <unknown>\n",
            "#13 0x5bbae8687332 <unknown>\n",
            "#14 0x5bbae865587f <unknown>\n",
            "#15 0x5bbae86ad728 <unknown>\n",
            "#16 0x5bbae86ad8fb <unknown>\n",
            "#17 0x5bbae86bd9b4 <unknown>\n",
            "#18 0x7d2d277ccac3 <unknown>\n",
            "\n",
            "An error occurred while extracting article info: Message: \n",
            "Stacktrace:\n",
            "#0 0x5bbae86be863 <unknown>\n",
            "#1 0x5bbae83b48c6 <unknown>\n",
            "#2 0x5bbae83ff618 <unknown>\n",
            "#3 0x5bbae83ff6d1 <unknown>\n",
            "#4 0x5bbae8442744 <unknown>\n",
            "#5 0x5bbae84215cd <unknown>\n",
            "#6 0x5bbae843fc19 <unknown>\n",
            "#7 0x5bbae8421343 <unknown>\n",
            "#8 0x5bbae83f2593 <unknown>\n",
            "#9 0x5bbae83f2f5e <unknown>\n",
            "#10 0x5bbae868284b <unknown>\n",
            "#11 0x5bbae86867a5 <unknown>\n",
            "#12 0x5bbae8670571 <unknown>\n",
            "#13 0x5bbae8687332 <unknown>\n",
            "#14 0x5bbae865587f <unknown>\n",
            "#15 0x5bbae86ad728 <unknown>\n",
            "#16 0x5bbae86ad8fb <unknown>\n",
            "#17 0x5bbae86bd9b4 <unknown>\n",
            "#18 0x7d2d277ccac3 <unknown>\n",
            "\n",
            "An error occurred while extracting article info: Message: \n",
            "Stacktrace:\n",
            "#0 0x5bbae86be863 <unknown>\n",
            "#1 0x5bbae83b48c6 <unknown>\n",
            "#2 0x5bbae83ff618 <unknown>\n",
            "#3 0x5bbae83ff6d1 <unknown>\n",
            "#4 0x5bbae8442744 <unknown>\n",
            "#5 0x5bbae84215cd <unknown>\n",
            "#6 0x5bbae843fc19 <unknown>\n",
            "#7 0x5bbae8421343 <unknown>\n",
            "#8 0x5bbae83f2593 <unknown>\n",
            "#9 0x5bbae83f2f5e <unknown>\n",
            "#10 0x5bbae868284b <unknown>\n",
            "#11 0x5bbae86867a5 <unknown>\n",
            "#12 0x5bbae8670571 <unknown>\n",
            "#13 0x5bbae8687332 <unknown>\n",
            "#14 0x5bbae865587f <unknown>\n",
            "#15 0x5bbae86ad728 <unknown>\n",
            "#16 0x5bbae86ad8fb <unknown>\n",
            "#17 0x5bbae86bd9b4 <unknown>\n",
            "#18 0x7d2d277ccac3 <unknown>\n",
            "\n",
            "An error occurred while extracting article info: Message: \n",
            "Stacktrace:\n",
            "#0 0x5bbae86be863 <unknown>\n",
            "#1 0x5bbae83b48c6 <unknown>\n",
            "#2 0x5bbae83ff618 <unknown>\n",
            "#3 0x5bbae83ff6d1 <unknown>\n",
            "#4 0x5bbae8442744 <unknown>\n",
            "#5 0x5bbae84215cd <unknown>\n",
            "#6 0x5bbae843fc19 <unknown>\n",
            "#7 0x5bbae8421343 <unknown>\n",
            "#8 0x5bbae83f2593 <unknown>\n",
            "#9 0x5bbae83f2f5e <unknown>\n",
            "#10 0x5bbae868284b <unknown>\n",
            "#11 0x5bbae86867a5 <unknown>\n",
            "#12 0x5bbae8670571 <unknown>\n",
            "#13 0x5bbae8687332 <unknown>\n",
            "#14 0x5bbae865587f <unknown>\n",
            "#15 0x5bbae86ad728 <unknown>\n",
            "#16 0x5bbae86ad8fb <unknown>\n",
            "#17 0x5bbae86bd9b4 <unknown>\n",
            "#18 0x7d2d277ccac3 <unknown>\n",
            "\n",
            "An error occurred while extracting article info: Message: \n",
            "Stacktrace:\n",
            "#0 0x5bbae86be863 <unknown>\n",
            "#1 0x5bbae83b48c6 <unknown>\n",
            "#2 0x5bbae83ff618 <unknown>\n",
            "#3 0x5bbae83ff6d1 <unknown>\n",
            "#4 0x5bbae8442744 <unknown>\n",
            "#5 0x5bbae84215cd <unknown>\n",
            "#6 0x5bbae843fc19 <unknown>\n",
            "#7 0x5bbae8421343 <unknown>\n",
            "#8 0x5bbae83f2593 <unknown>\n",
            "#9 0x5bbae83f2f5e <unknown>\n",
            "#10 0x5bbae868284b <unknown>\n",
            "#11 0x5bbae86867a5 <unknown>\n",
            "#12 0x5bbae8670571 <unknown>\n",
            "#13 0x5bbae8687332 <unknown>\n",
            "#14 0x5bbae865587f <unknown>\n",
            "#15 0x5bbae86ad728 <unknown>\n",
            "#16 0x5bbae86ad8fb <unknown>\n",
            "#17 0x5bbae86bd9b4 <unknown>\n",
            "#18 0x7d2d277ccac3 <unknown>\n",
            "\n",
            "An error occurred while extracting article info: Message: \n",
            "Stacktrace:\n",
            "#0 0x5bbae86be863 <unknown>\n",
            "#1 0x5bbae83b48c6 <unknown>\n",
            "#2 0x5bbae83ff618 <unknown>\n",
            "#3 0x5bbae83ff6d1 <unknown>\n",
            "#4 0x5bbae8442744 <unknown>\n",
            "#5 0x5bbae84215cd <unknown>\n",
            "#6 0x5bbae843fc19 <unknown>\n",
            "#7 0x5bbae8421343 <unknown>\n",
            "#8 0x5bbae83f2593 <unknown>\n",
            "#9 0x5bbae83f2f5e <unknown>\n",
            "#10 0x5bbae868284b <unknown>\n",
            "#11 0x5bbae86867a5 <unknown>\n",
            "#12 0x5bbae8670571 <unknown>\n",
            "#13 0x5bbae8687332 <unknown>\n",
            "#14 0x5bbae865587f <unknown>\n",
            "#15 0x5bbae86ad728 <unknown>\n",
            "#16 0x5bbae86ad8fb <unknown>\n",
            "#17 0x5bbae86bd9b4 <unknown>\n",
            "#18 0x7d2d277ccac3 <unknown>\n",
            "\n",
            "An error occurred while extracting article info: Message: \n",
            "Stacktrace:\n",
            "#0 0x5bbae86be863 <unknown>\n",
            "#1 0x5bbae83b48c6 <unknown>\n",
            "#2 0x5bbae83ff618 <unknown>\n",
            "#3 0x5bbae83ff6d1 <unknown>\n",
            "#4 0x5bbae8442744 <unknown>\n",
            "#5 0x5bbae84215cd <unknown>\n",
            "#6 0x5bbae843fc19 <unknown>\n",
            "#7 0x5bbae8421343 <unknown>\n",
            "#8 0x5bbae83f2593 <unknown>\n",
            "#9 0x5bbae83f2f5e <unknown>\n",
            "#10 0x5bbae868284b <unknown>\n",
            "#11 0x5bbae86867a5 <unknown>\n",
            "#12 0x5bbae8670571 <unknown>\n",
            "#13 0x5bbae8687332 <unknown>\n",
            "#14 0x5bbae865587f <unknown>\n",
            "#15 0x5bbae86ad728 <unknown>\n",
            "#16 0x5bbae86ad8fb <unknown>\n",
            "#17 0x5bbae86bd9b4 <unknown>\n",
            "#18 0x7d2d277ccac3 <unknown>\n",
            "\n",
            "An error occurred while extracting article info: Message: \n",
            "Stacktrace:\n",
            "#0 0x5bbae86be863 <unknown>\n",
            "#1 0x5bbae83b48c6 <unknown>\n",
            "#2 0x5bbae83ff618 <unknown>\n",
            "#3 0x5bbae83ff6d1 <unknown>\n",
            "#4 0x5bbae8442744 <unknown>\n",
            "#5 0x5bbae84215cd <unknown>\n",
            "#6 0x5bbae843fc19 <unknown>\n",
            "#7 0x5bbae8421343 <unknown>\n",
            "#8 0x5bbae83f2593 <unknown>\n",
            "#9 0x5bbae83f2f5e <unknown>\n",
            "#10 0x5bbae868284b <unknown>\n",
            "#11 0x5bbae86867a5 <unknown>\n",
            "#12 0x5bbae8670571 <unknown>\n",
            "#13 0x5bbae8687332 <unknown>\n",
            "#14 0x5bbae865587f <unknown>\n",
            "#15 0x5bbae86ad728 <unknown>\n",
            "#16 0x5bbae86ad8fb <unknown>\n",
            "#17 0x5bbae86bd9b4 <unknown>\n",
            "#18 0x7d2d277ccac3 <unknown>\n",
            "\n",
            "An error occurred while extracting article info: Message: \n",
            "Stacktrace:\n",
            "#0 0x5bbae86be863 <unknown>\n",
            "#1 0x5bbae83b48c6 <unknown>\n",
            "#2 0x5bbae83ff618 <unknown>\n",
            "#3 0x5bbae83ff6d1 <unknown>\n",
            "#4 0x5bbae8442744 <unknown>\n",
            "#5 0x5bbae84215cd <unknown>\n",
            "#6 0x5bbae843fc19 <unknown>\n",
            "#7 0x5bbae8421343 <unknown>\n",
            "#8 0x5bbae83f2593 <unknown>\n",
            "#9 0x5bbae83f2f5e <unknown>\n",
            "#10 0x5bbae868284b <unknown>\n",
            "#11 0x5bbae86867a5 <unknown>\n",
            "#12 0x5bbae8670571 <unknown>\n",
            "#13 0x5bbae8687332 <unknown>\n",
            "#14 0x5bbae865587f <unknown>\n",
            "#15 0x5bbae86ad728 <unknown>\n",
            "#16 0x5bbae86ad8fb <unknown>\n",
            "#17 0x5bbae86bd9b4 <unknown>\n",
            "#18 0x7d2d277ccac3 <unknown>\n",
            "\n",
            "An error occurred while extracting article info: Message: \n",
            "Stacktrace:\n",
            "#0 0x5bbae86be863 <unknown>\n",
            "#1 0x5bbae83b48c6 <unknown>\n",
            "#2 0x5bbae83ff618 <unknown>\n",
            "#3 0x5bbae83ff6d1 <unknown>\n",
            "#4 0x5bbae8442744 <unknown>\n",
            "#5 0x5bbae84215cd <unknown>\n",
            "#6 0x5bbae843fc19 <unknown>\n",
            "#7 0x5bbae8421343 <unknown>\n",
            "#8 0x5bbae83f2593 <unknown>\n",
            "#9 0x5bbae83f2f5e <unknown>\n",
            "#10 0x5bbae868284b <unknown>\n",
            "#11 0x5bbae86867a5 <unknown>\n",
            "#12 0x5bbae8670571 <unknown>\n",
            "#13 0x5bbae8687332 <unknown>\n",
            "#14 0x5bbae865587f <unknown>\n",
            "#15 0x5bbae86ad728 <unknown>\n",
            "#16 0x5bbae86ad8fb <unknown>\n",
            "#17 0x5bbae86bd9b4 <unknown>\n",
            "#18 0x7d2d277ccac3 <unknown>\n",
            "\n",
            "An error occurred while extracting article info: Message: \n",
            "Stacktrace:\n",
            "#0 0x5bbae86be863 <unknown>\n",
            "#1 0x5bbae83b48c6 <unknown>\n",
            "#2 0x5bbae83ff618 <unknown>\n",
            "#3 0x5bbae83ff6d1 <unknown>\n",
            "#4 0x5bbae8442744 <unknown>\n",
            "#5 0x5bbae84215cd <unknown>\n",
            "#6 0x5bbae843fc19 <unknown>\n",
            "#7 0x5bbae8421343 <unknown>\n",
            "#8 0x5bbae83f2593 <unknown>\n",
            "#9 0x5bbae83f2f5e <unknown>\n",
            "#10 0x5bbae868284b <unknown>\n",
            "#11 0x5bbae86867a5 <unknown>\n",
            "#12 0x5bbae8670571 <unknown>\n",
            "#13 0x5bbae8687332 <unknown>\n",
            "#14 0x5bbae865587f <unknown>\n",
            "#15 0x5bbae86ad728 <unknown>\n",
            "#16 0x5bbae86ad8fb <unknown>\n",
            "#17 0x5bbae86bd9b4 <unknown>\n",
            "#18 0x7d2d277ccac3 <unknown>\n",
            "\n",
            "An error occurred while extracting article info: Message: \n",
            "Stacktrace:\n",
            "#0 0x5bbae86be863 <unknown>\n",
            "#1 0x5bbae83b48c6 <unknown>\n",
            "#2 0x5bbae83ff618 <unknown>\n",
            "#3 0x5bbae83ff6d1 <unknown>\n",
            "#4 0x5bbae8442744 <unknown>\n",
            "#5 0x5bbae84215cd <unknown>\n",
            "#6 0x5bbae843fc19 <unknown>\n",
            "#7 0x5bbae8421343 <unknown>\n",
            "#8 0x5bbae83f2593 <unknown>\n",
            "#9 0x5bbae83f2f5e <unknown>\n",
            "#10 0x5bbae868284b <unknown>\n",
            "#11 0x5bbae86867a5 <unknown>\n",
            "#12 0x5bbae8670571 <unknown>\n",
            "#13 0x5bbae8687332 <unknown>\n",
            "#14 0x5bbae865587f <unknown>\n",
            "#15 0x5bbae86ad728 <unknown>\n",
            "#16 0x5bbae86ad8fb <unknown>\n",
            "#17 0x5bbae86bd9b4 <unknown>\n",
            "#18 0x7d2d277ccac3 <unknown>\n",
            "\n",
            "An error occurred while processing an article: Message: \n",
            "Stacktrace:\n",
            "#0 0x5bbae86be863 <unknown>\n",
            "#1 0x5bbae83b48c6 <unknown>\n",
            "#2 0x5bbae83ff618 <unknown>\n",
            "#3 0x5bbae83ff6d1 <unknown>\n",
            "#4 0x5bbae83f3fa6 <unknown>\n",
            "#5 0x5bbae84215cd <unknown>\n",
            "#6 0x5bbae83f3e98 <unknown>\n",
            "#7 0x5bbae842176e <unknown>\n",
            "#8 0x5bbae843fc19 <unknown>\n",
            "#9 0x5bbae8421343 <unknown>\n",
            "#10 0x5bbae83f2593 <unknown>\n",
            "#11 0x5bbae83f2f5e <unknown>\n",
            "#12 0x5bbae868284b <unknown>\n",
            "#13 0x5bbae86867a5 <unknown>\n",
            "#14 0x5bbae8670571 <unknown>\n",
            "#15 0x5bbae8687332 <unknown>\n",
            "#16 0x5bbae865587f <unknown>\n",
            "#17 0x5bbae86ad728 <unknown>\n",
            "#18 0x5bbae86ad8fb <unknown>\n",
            "#19 0x5bbae86bd9b4 <unknown>\n",
            "#20 0x7d2d277ccac3 <unknown>\n",
            "\n",
            "An error occurred while processing an article: Message: \n",
            "Stacktrace:\n",
            "#0 0x5bbae86be863 <unknown>\n",
            "#1 0x5bbae83b48c6 <unknown>\n",
            "#2 0x5bbae83ff618 <unknown>\n",
            "#3 0x5bbae83ff6d1 <unknown>\n",
            "#4 0x5bbae83f3fa6 <unknown>\n",
            "#5 0x5bbae84215cd <unknown>\n",
            "#6 0x5bbae83f3e98 <unknown>\n",
            "#7 0x5bbae842176e <unknown>\n",
            "#8 0x5bbae843fc19 <unknown>\n",
            "#9 0x5bbae8421343 <unknown>\n",
            "#10 0x5bbae83f2593 <unknown>\n",
            "#11 0x5bbae83f2f5e <unknown>\n",
            "#12 0x5bbae868284b <unknown>\n",
            "#13 0x5bbae86867a5 <unknown>\n",
            "#14 0x5bbae8670571 <unknown>\n",
            "#15 0x5bbae8687332 <unknown>\n",
            "#16 0x5bbae865587f <unknown>\n",
            "#17 0x5bbae86ad728 <unknown>\n",
            "#18 0x5bbae86ad8fb <unknown>\n",
            "#19 0x5bbae86bd9b4 <unknown>\n",
            "#20 0x7d2d277ccac3 <unknown>\n",
            "\n",
            "An error occurred while processing an article: Message: \n",
            "Stacktrace:\n",
            "#0 0x5bbae86be863 <unknown>\n",
            "#1 0x5bbae83b48c6 <unknown>\n",
            "#2 0x5bbae83ff618 <unknown>\n",
            "#3 0x5bbae83ff6d1 <unknown>\n",
            "#4 0x5bbae83f3fa6 <unknown>\n",
            "#5 0x5bbae84215cd <unknown>\n",
            "#6 0x5bbae83f3e98 <unknown>\n",
            "#7 0x5bbae842176e <unknown>\n",
            "#8 0x5bbae843fc19 <unknown>\n",
            "#9 0x5bbae8421343 <unknown>\n",
            "#10 0x5bbae83f2593 <unknown>\n",
            "#11 0x5bbae83f2f5e <unknown>\n",
            "#12 0x5bbae868284b <unknown>\n",
            "#13 0x5bbae86867a5 <unknown>\n",
            "#14 0x5bbae8670571 <unknown>\n",
            "#15 0x5bbae8687332 <unknown>\n",
            "#16 0x5bbae865587f <unknown>\n",
            "#17 0x5bbae86ad728 <unknown>\n",
            "#18 0x5bbae86ad8fb <unknown>\n",
            "#19 0x5bbae86bd9b4 <unknown>\n",
            "#20 0x7d2d277ccac3 <unknown>\n",
            "\n",
            "An error occurred while processing an article: Message: \n",
            "Stacktrace:\n",
            "#0 0x5bbae86be863 <unknown>\n",
            "#1 0x5bbae83b48c6 <unknown>\n",
            "#2 0x5bbae83ff618 <unknown>\n",
            "#3 0x5bbae83ff6d1 <unknown>\n",
            "#4 0x5bbae83f3fa6 <unknown>\n",
            "#5 0x5bbae84215cd <unknown>\n",
            "#6 0x5bbae83f3e98 <unknown>\n",
            "#7 0x5bbae842176e <unknown>\n",
            "#8 0x5bbae843fc19 <unknown>\n",
            "#9 0x5bbae8421343 <unknown>\n",
            "#10 0x5bbae83f2593 <unknown>\n",
            "#11 0x5bbae83f2f5e <unknown>\n",
            "#12 0x5bbae868284b <unknown>\n",
            "#13 0x5bbae86867a5 <unknown>\n",
            "#14 0x5bbae8670571 <unknown>\n",
            "#15 0x5bbae8687332 <unknown>\n",
            "#16 0x5bbae865587f <unknown>\n",
            "#17 0x5bbae86ad728 <unknown>\n",
            "#18 0x5bbae86ad8fb <unknown>\n",
            "#19 0x5bbae86bd9b4 <unknown>\n",
            "#20 0x7d2d277ccac3 <unknown>\n",
            "\n",
            "An error occurred while processing an article: Message: \n",
            "Stacktrace:\n",
            "#0 0x5bbae86be863 <unknown>\n",
            "#1 0x5bbae83b48c6 <unknown>\n",
            "#2 0x5bbae83ff618 <unknown>\n",
            "#3 0x5bbae83ff6d1 <unknown>\n",
            "#4 0x5bbae83f3fa6 <unknown>\n",
            "#5 0x5bbae84215cd <unknown>\n",
            "#6 0x5bbae83f3e98 <unknown>\n",
            "#7 0x5bbae842176e <unknown>\n",
            "#8 0x5bbae843fc19 <unknown>\n",
            "#9 0x5bbae8421343 <unknown>\n",
            "#10 0x5bbae83f2593 <unknown>\n",
            "#11 0x5bbae83f2f5e <unknown>\n",
            "#12 0x5bbae868284b <unknown>\n",
            "#13 0x5bbae86867a5 <unknown>\n",
            "#14 0x5bbae8670571 <unknown>\n",
            "#15 0x5bbae8687332 <unknown>\n",
            "#16 0x5bbae865587f <unknown>\n",
            "#17 0x5bbae86ad728 <unknown>\n",
            "#18 0x5bbae86ad8fb <unknown>\n",
            "#19 0x5bbae86bd9b4 <unknown>\n",
            "#20 0x7d2d277ccac3 <unknown>\n",
            "\n",
            "An error occurred while extracting article info: Message: \n",
            "Stacktrace:\n",
            "#0 0x5bbae86be863 <unknown>\n",
            "#1 0x5bbae83b48c6 <unknown>\n",
            "#2 0x5bbae83ff618 <unknown>\n",
            "#3 0x5bbae83ff6d1 <unknown>\n",
            "#4 0x5bbae8442744 <unknown>\n",
            "#5 0x5bbae84215cd <unknown>\n",
            "#6 0x5bbae843fc19 <unknown>\n",
            "#7 0x5bbae8421343 <unknown>\n",
            "#8 0x5bbae83f2593 <unknown>\n",
            "#9 0x5bbae83f2f5e <unknown>\n",
            "#10 0x5bbae868284b <unknown>\n",
            "#11 0x5bbae86867a5 <unknown>\n",
            "#12 0x5bbae8670571 <unknown>\n",
            "#13 0x5bbae8687332 <unknown>\n",
            "#14 0x5bbae865587f <unknown>\n",
            "#15 0x5bbae86ad728 <unknown>\n",
            "#16 0x5bbae86ad8fb <unknown>\n",
            "#17 0x5bbae86bd9b4 <unknown>\n",
            "#18 0x7d2d277ccac3 <unknown>\n",
            "\n",
            "An error occurred while extracting article info: Message: \n",
            "Stacktrace:\n",
            "#0 0x5bbae86be863 <unknown>\n",
            "#1 0x5bbae83b48c6 <unknown>\n",
            "#2 0x5bbae83ff618 <unknown>\n",
            "#3 0x5bbae83ff6d1 <unknown>\n",
            "#4 0x5bbae8442744 <unknown>\n",
            "#5 0x5bbae84215cd <unknown>\n",
            "#6 0x5bbae843fc19 <unknown>\n",
            "#7 0x5bbae8421343 <unknown>\n",
            "#8 0x5bbae83f2593 <unknown>\n",
            "#9 0x5bbae83f2f5e <unknown>\n",
            "#10 0x5bbae868284b <unknown>\n",
            "#11 0x5bbae86867a5 <unknown>\n",
            "#12 0x5bbae8670571 <unknown>\n",
            "#13 0x5bbae8687332 <unknown>\n",
            "#14 0x5bbae865587f <unknown>\n",
            "#15 0x5bbae86ad728 <unknown>\n",
            "#16 0x5bbae86ad8fb <unknown>\n",
            "#17 0x5bbae86bd9b4 <unknown>\n",
            "#18 0x7d2d277ccac3 <unknown>\n",
            "\n",
            "An error occurred while extracting article info: Message: \n",
            "Stacktrace:\n",
            "#0 0x5bbae86be863 <unknown>\n",
            "#1 0x5bbae83b48c6 <unknown>\n",
            "#2 0x5bbae83ff618 <unknown>\n",
            "#3 0x5bbae83ff6d1 <unknown>\n",
            "#4 0x5bbae8442744 <unknown>\n",
            "#5 0x5bbae84215cd <unknown>\n",
            "#6 0x5bbae843fc19 <unknown>\n",
            "#7 0x5bbae8421343 <unknown>\n",
            "#8 0x5bbae83f2593 <unknown>\n",
            "#9 0x5bbae83f2f5e <unknown>\n",
            "#10 0x5bbae868284b <unknown>\n",
            "#11 0x5bbae86867a5 <unknown>\n",
            "#12 0x5bbae8670571 <unknown>\n",
            "#13 0x5bbae8687332 <unknown>\n",
            "#14 0x5bbae865587f <unknown>\n",
            "#15 0x5bbae86ad728 <unknown>\n",
            "#16 0x5bbae86ad8fb <unknown>\n",
            "#17 0x5bbae86bd9b4 <unknown>\n",
            "#18 0x7d2d277ccac3 <unknown>\n",
            "\n",
            "An error occurred while extracting article info: Message: \n",
            "Stacktrace:\n",
            "#0 0x5bbae86be863 <unknown>\n",
            "#1 0x5bbae83b48c6 <unknown>\n",
            "#2 0x5bbae83ff618 <unknown>\n",
            "#3 0x5bbae83ff6d1 <unknown>\n",
            "#4 0x5bbae8442744 <unknown>\n",
            "#5 0x5bbae84215cd <unknown>\n",
            "#6 0x5bbae843fc19 <unknown>\n",
            "#7 0x5bbae8421343 <unknown>\n",
            "#8 0x5bbae83f2593 <unknown>\n",
            "#9 0x5bbae83f2f5e <unknown>\n",
            "#10 0x5bbae868284b <unknown>\n",
            "#11 0x5bbae86867a5 <unknown>\n",
            "#12 0x5bbae8670571 <unknown>\n",
            "#13 0x5bbae8687332 <unknown>\n",
            "#14 0x5bbae865587f <unknown>\n",
            "#15 0x5bbae86ad728 <unknown>\n",
            "#16 0x5bbae86ad8fb <unknown>\n",
            "#17 0x5bbae86bd9b4 <unknown>\n",
            "#18 0x7d2d277ccac3 <unknown>\n",
            "\n",
            "An error occurred while extracting article info: Message: \n",
            "Stacktrace:\n",
            "#0 0x5bbae86be863 <unknown>\n",
            "#1 0x5bbae83b48c6 <unknown>\n",
            "#2 0x5bbae83ff618 <unknown>\n",
            "#3 0x5bbae83ff6d1 <unknown>\n",
            "#4 0x5bbae8442744 <unknown>\n",
            "#5 0x5bbae84215cd <unknown>\n",
            "#6 0x5bbae843fc19 <unknown>\n",
            "#7 0x5bbae8421343 <unknown>\n",
            "#8 0x5bbae83f2593 <unknown>\n",
            "#9 0x5bbae83f2f5e <unknown>\n",
            "#10 0x5bbae868284b <unknown>\n",
            "#11 0x5bbae86867a5 <unknown>\n",
            "#12 0x5bbae8670571 <unknown>\n",
            "#13 0x5bbae8687332 <unknown>\n",
            "#14 0x5bbae865587f <unknown>\n",
            "#15 0x5bbae86ad728 <unknown>\n",
            "#16 0x5bbae86ad8fb <unknown>\n",
            "#17 0x5bbae86bd9b4 <unknown>\n",
            "#18 0x7d2d277ccac3 <unknown>\n",
            "\n",
            "An error occurred while extracting article info: Message: \n",
            "Stacktrace:\n",
            "#0 0x5bbae86be863 <unknown>\n",
            "#1 0x5bbae83b48c6 <unknown>\n",
            "#2 0x5bbae83ff618 <unknown>\n",
            "#3 0x5bbae83ff6d1 <unknown>\n",
            "#4 0x5bbae8442744 <unknown>\n",
            "#5 0x5bbae84215cd <unknown>\n",
            "#6 0x5bbae843fc19 <unknown>\n",
            "#7 0x5bbae8421343 <unknown>\n",
            "#8 0x5bbae83f2593 <unknown>\n",
            "#9 0x5bbae83f2f5e <unknown>\n",
            "#10 0x5bbae868284b <unknown>\n",
            "#11 0x5bbae86867a5 <unknown>\n",
            "#12 0x5bbae8670571 <unknown>\n",
            "#13 0x5bbae8687332 <unknown>\n",
            "#14 0x5bbae865587f <unknown>\n",
            "#15 0x5bbae86ad728 <unknown>\n",
            "#16 0x5bbae86ad8fb <unknown>\n",
            "#17 0x5bbae86bd9b4 <unknown>\n",
            "#18 0x7d2d277ccac3 <unknown>\n",
            "\n",
            "An error occurred while extracting article info: Message: \n",
            "Stacktrace:\n",
            "#0 0x5bbae86be863 <unknown>\n",
            "#1 0x5bbae83b48c6 <unknown>\n",
            "#2 0x5bbae83ff618 <unknown>\n",
            "#3 0x5bbae83ff6d1 <unknown>\n",
            "#4 0x5bbae8442744 <unknown>\n",
            "#5 0x5bbae84215cd <unknown>\n",
            "#6 0x5bbae843fc19 <unknown>\n",
            "#7 0x5bbae8421343 <unknown>\n",
            "#8 0x5bbae83f2593 <unknown>\n",
            "#9 0x5bbae83f2f5e <unknown>\n",
            "#10 0x5bbae868284b <unknown>\n",
            "#11 0x5bbae86867a5 <unknown>\n",
            "#12 0x5bbae8670571 <unknown>\n",
            "#13 0x5bbae8687332 <unknown>\n",
            "#14 0x5bbae865587f <unknown>\n",
            "#15 0x5bbae86ad728 <unknown>\n",
            "#16 0x5bbae86ad8fb <unknown>\n",
            "#17 0x5bbae86bd9b4 <unknown>\n",
            "#18 0x7d2d277ccac3 <unknown>\n",
            "\n",
            "An error occurred while extracting article info: Message: \n",
            "Stacktrace:\n",
            "#0 0x5bbae86be863 <unknown>\n",
            "#1 0x5bbae83b48c6 <unknown>\n",
            "#2 0x5bbae83ff618 <unknown>\n",
            "#3 0x5bbae83ff6d1 <unknown>\n",
            "#4 0x5bbae8442744 <unknown>\n",
            "#5 0x5bbae84215cd <unknown>\n",
            "#6 0x5bbae843fc19 <unknown>\n",
            "#7 0x5bbae8421343 <unknown>\n",
            "#8 0x5bbae83f2593 <unknown>\n",
            "#9 0x5bbae83f2f5e <unknown>\n",
            "#10 0x5bbae868284b <unknown>\n",
            "#11 0x5bbae86867a5 <unknown>\n",
            "#12 0x5bbae8670571 <unknown>\n",
            "#13 0x5bbae8687332 <unknown>\n",
            "#14 0x5bbae865587f <unknown>\n",
            "#15 0x5bbae86ad728 <unknown>\n",
            "#16 0x5bbae86ad8fb <unknown>\n",
            "#17 0x5bbae86bd9b4 <unknown>\n",
            "#18 0x7d2d277ccac3 <unknown>\n",
            "\n",
            "An error occurred while extracting article info: Message: \n",
            "Stacktrace:\n",
            "#0 0x5bbae86be863 <unknown>\n",
            "#1 0x5bbae83b48c6 <unknown>\n",
            "#2 0x5bbae83ff618 <unknown>\n",
            "#3 0x5bbae83ff6d1 <unknown>\n",
            "#4 0x5bbae8442744 <unknown>\n",
            "#5 0x5bbae84215cd <unknown>\n",
            "#6 0x5bbae843fc19 <unknown>\n",
            "#7 0x5bbae8421343 <unknown>\n",
            "#8 0x5bbae83f2593 <unknown>\n",
            "#9 0x5bbae83f2f5e <unknown>\n",
            "#10 0x5bbae868284b <unknown>\n",
            "#11 0x5bbae86867a5 <unknown>\n",
            "#12 0x5bbae8670571 <unknown>\n",
            "#13 0x5bbae8687332 <unknown>\n",
            "#14 0x5bbae865587f <unknown>\n",
            "#15 0x5bbae86ad728 <unknown>\n",
            "#16 0x5bbae86ad8fb <unknown>\n",
            "#17 0x5bbae86bd9b4 <unknown>\n",
            "#18 0x7d2d277ccac3 <unknown>\n",
            "\n",
            "An error occurred while extracting article info: Message: \n",
            "Stacktrace:\n",
            "#0 0x5bbae86be863 <unknown>\n",
            "#1 0x5bbae83b48c6 <unknown>\n",
            "#2 0x5bbae83ff618 <unknown>\n",
            "#3 0x5bbae83ff6d1 <unknown>\n",
            "#4 0x5bbae8442744 <unknown>\n",
            "#5 0x5bbae84215cd <unknown>\n",
            "#6 0x5bbae843fc19 <unknown>\n",
            "#7 0x5bbae8421343 <unknown>\n",
            "#8 0x5bbae83f2593 <unknown>\n",
            "#9 0x5bbae83f2f5e <unknown>\n",
            "#10 0x5bbae868284b <unknown>\n",
            "#11 0x5bbae86867a5 <unknown>\n",
            "#12 0x5bbae8670571 <unknown>\n",
            "#13 0x5bbae8687332 <unknown>\n",
            "#14 0x5bbae865587f <unknown>\n",
            "#15 0x5bbae86ad728 <unknown>\n",
            "#16 0x5bbae86ad8fb <unknown>\n",
            "#17 0x5bbae86bd9b4 <unknown>\n",
            "#18 0x7d2d277ccac3 <unknown>\n",
            "\n",
            "An error occurred while extracting article info: Message: \n",
            "Stacktrace:\n",
            "#0 0x5bbae86be863 <unknown>\n",
            "#1 0x5bbae83b48c6 <unknown>\n",
            "#2 0x5bbae83ff618 <unknown>\n",
            "#3 0x5bbae83ff6d1 <unknown>\n",
            "#4 0x5bbae8442744 <unknown>\n",
            "#5 0x5bbae84215cd <unknown>\n",
            "#6 0x5bbae843fc19 <unknown>\n",
            "#7 0x5bbae8421343 <unknown>\n",
            "#8 0x5bbae83f2593 <unknown>\n",
            "#9 0x5bbae83f2f5e <unknown>\n",
            "#10 0x5bbae868284b <unknown>\n",
            "#11 0x5bbae86867a5 <unknown>\n",
            "#12 0x5bbae8670571 <unknown>\n",
            "#13 0x5bbae8687332 <unknown>\n",
            "#14 0x5bbae865587f <unknown>\n",
            "#15 0x5bbae86ad728 <unknown>\n",
            "#16 0x5bbae86ad8fb <unknown>\n",
            "#17 0x5bbae86bd9b4 <unknown>\n",
            "#18 0x7d2d277ccac3 <unknown>\n",
            "\n",
            "An error occurred while extracting article info: Message: \n",
            "Stacktrace:\n",
            "#0 0x5bbae86be863 <unknown>\n",
            "#1 0x5bbae83b48c6 <unknown>\n",
            "#2 0x5bbae83ff618 <unknown>\n",
            "#3 0x5bbae83ff6d1 <unknown>\n",
            "#4 0x5bbae8442744 <unknown>\n",
            "#5 0x5bbae84215cd <unknown>\n",
            "#6 0x5bbae843fc19 <unknown>\n",
            "#7 0x5bbae8421343 <unknown>\n",
            "#8 0x5bbae83f2593 <unknown>\n",
            "#9 0x5bbae83f2f5e <unknown>\n",
            "#10 0x5bbae868284b <unknown>\n",
            "#11 0x5bbae86867a5 <unknown>\n",
            "#12 0x5bbae8670571 <unknown>\n",
            "#13 0x5bbae8687332 <unknown>\n",
            "#14 0x5bbae865587f <unknown>\n",
            "#15 0x5bbae86ad728 <unknown>\n",
            "#16 0x5bbae86ad8fb <unknown>\n",
            "#17 0x5bbae86bd9b4 <unknown>\n",
            "#18 0x7d2d277ccac3 <unknown>\n",
            "\n",
            "An error occurred while processing an article: Message: \n",
            "Stacktrace:\n",
            "#0 0x5bbae86be863 <unknown>\n",
            "#1 0x5bbae83b48c6 <unknown>\n",
            "#2 0x5bbae83ff618 <unknown>\n",
            "#3 0x5bbae83ff6d1 <unknown>\n",
            "#4 0x5bbae83f3fa6 <unknown>\n",
            "#5 0x5bbae84215cd <unknown>\n",
            "#6 0x5bbae83f3e98 <unknown>\n",
            "#7 0x5bbae842176e <unknown>\n",
            "#8 0x5bbae843fc19 <unknown>\n",
            "#9 0x5bbae8421343 <unknown>\n",
            "#10 0x5bbae83f2593 <unknown>\n",
            "#11 0x5bbae83f2f5e <unknown>\n",
            "#12 0x5bbae868284b <unknown>\n",
            "#13 0x5bbae86867a5 <unknown>\n",
            "#14 0x5bbae8670571 <unknown>\n",
            "#15 0x5bbae8687332 <unknown>\n",
            "#16 0x5bbae865587f <unknown>\n",
            "#17 0x5bbae86ad728 <unknown>\n",
            "#18 0x5bbae86ad8fb <unknown>\n",
            "#19 0x5bbae86bd9b4 <unknown>\n",
            "#20 0x7d2d277ccac3 <unknown>\n",
            "\n",
            "An error occurred while processing an article: Message: \n",
            "Stacktrace:\n",
            "#0 0x5bbae86be863 <unknown>\n",
            "#1 0x5bbae83b48c6 <unknown>\n",
            "#2 0x5bbae83ff618 <unknown>\n",
            "#3 0x5bbae83ff6d1 <unknown>\n",
            "#4 0x5bbae83f3fa6 <unknown>\n",
            "#5 0x5bbae84215cd <unknown>\n",
            "#6 0x5bbae83f3e98 <unknown>\n",
            "#7 0x5bbae842176e <unknown>\n",
            "#8 0x5bbae843fc19 <unknown>\n",
            "#9 0x5bbae8421343 <unknown>\n",
            "#10 0x5bbae83f2593 <unknown>\n",
            "#11 0x5bbae83f2f5e <unknown>\n",
            "#12 0x5bbae868284b <unknown>\n",
            "#13 0x5bbae86867a5 <unknown>\n",
            "#14 0x5bbae8670571 <unknown>\n",
            "#15 0x5bbae8687332 <unknown>\n",
            "#16 0x5bbae865587f <unknown>\n",
            "#17 0x5bbae86ad728 <unknown>\n",
            "#18 0x5bbae86ad8fb <unknown>\n",
            "#19 0x5bbae86bd9b4 <unknown>\n",
            "#20 0x7d2d277ccac3 <unknown>\n",
            "\n",
            "An error occurred while processing an article: Message: \n",
            "Stacktrace:\n",
            "#0 0x5bbae86be863 <unknown>\n",
            "#1 0x5bbae83b48c6 <unknown>\n",
            "#2 0x5bbae83ff618 <unknown>\n",
            "#3 0x5bbae83ff6d1 <unknown>\n",
            "#4 0x5bbae83f3fa6 <unknown>\n",
            "#5 0x5bbae84215cd <unknown>\n",
            "#6 0x5bbae83f3e98 <unknown>\n",
            "#7 0x5bbae842176e <unknown>\n",
            "#8 0x5bbae843fc19 <unknown>\n",
            "#9 0x5bbae8421343 <unknown>\n",
            "#10 0x5bbae83f2593 <unknown>\n",
            "#11 0x5bbae83f2f5e <unknown>\n",
            "#12 0x5bbae868284b <unknown>\n",
            "#13 0x5bbae86867a5 <unknown>\n",
            "#14 0x5bbae8670571 <unknown>\n",
            "#15 0x5bbae8687332 <unknown>\n",
            "#16 0x5bbae865587f <unknown>\n",
            "#17 0x5bbae86ad728 <unknown>\n",
            "#18 0x5bbae86ad8fb <unknown>\n",
            "#19 0x5bbae86bd9b4 <unknown>\n",
            "#20 0x7d2d277ccac3 <unknown>\n",
            "\n",
            "An error occurred while processing an article: Message: \n",
            "Stacktrace:\n",
            "#0 0x5bbae86be863 <unknown>\n",
            "#1 0x5bbae83b48c6 <unknown>\n",
            "#2 0x5bbae83ff618 <unknown>\n",
            "#3 0x5bbae83ff6d1 <unknown>\n",
            "#4 0x5bbae83f3fa6 <unknown>\n",
            "#5 0x5bbae84215cd <unknown>\n",
            "#6 0x5bbae83f3e98 <unknown>\n",
            "#7 0x5bbae842176e <unknown>\n",
            "#8 0x5bbae843fc19 <unknown>\n",
            "#9 0x5bbae8421343 <unknown>\n",
            "#10 0x5bbae83f2593 <unknown>\n",
            "#11 0x5bbae83f2f5e <unknown>\n",
            "#12 0x5bbae868284b <unknown>\n",
            "#13 0x5bbae86867a5 <unknown>\n",
            "#14 0x5bbae8670571 <unknown>\n",
            "#15 0x5bbae8687332 <unknown>\n",
            "#16 0x5bbae865587f <unknown>\n",
            "#17 0x5bbae86ad728 <unknown>\n",
            "#18 0x5bbae86ad8fb <unknown>\n",
            "#19 0x5bbae86bd9b4 <unknown>\n",
            "#20 0x7d2d277ccac3 <unknown>\n",
            "\n",
            "An error occurred while processing an article: Message: \n",
            "Stacktrace:\n",
            "#0 0x5bbae86be863 <unknown>\n",
            "#1 0x5bbae83b48c6 <unknown>\n",
            "#2 0x5bbae83ff618 <unknown>\n",
            "#3 0x5bbae83ff6d1 <unknown>\n",
            "#4 0x5bbae83f3fa6 <unknown>\n",
            "#5 0x5bbae84215cd <unknown>\n",
            "#6 0x5bbae83f3e98 <unknown>\n",
            "#7 0x5bbae842176e <unknown>\n",
            "#8 0x5bbae843fc19 <unknown>\n",
            "#9 0x5bbae8421343 <unknown>\n",
            "#10 0x5bbae83f2593 <unknown>\n",
            "#11 0x5bbae83f2f5e <unknown>\n",
            "#12 0x5bbae868284b <unknown>\n",
            "#13 0x5bbae86867a5 <unknown>\n",
            "#14 0x5bbae8670571 <unknown>\n",
            "#15 0x5bbae8687332 <unknown>\n",
            "#16 0x5bbae865587f <unknown>\n",
            "#17 0x5bbae86ad728 <unknown>\n",
            "#18 0x5bbae86ad8fb <unknown>\n",
            "#19 0x5bbae86bd9b4 <unknown>\n",
            "#20 0x7d2d277ccac3 <unknown>\n",
            "\n",
            "An error occurred while extracting article info: Message: \n",
            "Stacktrace:\n",
            "#0 0x5bbae86be863 <unknown>\n",
            "#1 0x5bbae83b48c6 <unknown>\n",
            "#2 0x5bbae83ff618 <unknown>\n",
            "#3 0x5bbae83ff6d1 <unknown>\n",
            "#4 0x5bbae8442744 <unknown>\n",
            "#5 0x5bbae84215cd <unknown>\n",
            "#6 0x5bbae843fc19 <unknown>\n",
            "#7 0x5bbae8421343 <unknown>\n",
            "#8 0x5bbae83f2593 <unknown>\n",
            "#9 0x5bbae83f2f5e <unknown>\n",
            "#10 0x5bbae868284b <unknown>\n",
            "#11 0x5bbae86867a5 <unknown>\n",
            "#12 0x5bbae8670571 <unknown>\n",
            "#13 0x5bbae8687332 <unknown>\n",
            "#14 0x5bbae865587f <unknown>\n",
            "#15 0x5bbae86ad728 <unknown>\n",
            "#16 0x5bbae86ad8fb <unknown>\n",
            "#17 0x5bbae86bd9b4 <unknown>\n",
            "#18 0x7d2d277ccac3 <unknown>\n",
            "\n",
            "An error occurred while extracting article info: Message: \n",
            "Stacktrace:\n",
            "#0 0x5bbae86be863 <unknown>\n",
            "#1 0x5bbae83b48c6 <unknown>\n",
            "#2 0x5bbae83ff618 <unknown>\n",
            "#3 0x5bbae83ff6d1 <unknown>\n",
            "#4 0x5bbae8442744 <unknown>\n",
            "#5 0x5bbae84215cd <unknown>\n",
            "#6 0x5bbae843fc19 <unknown>\n",
            "#7 0x5bbae8421343 <unknown>\n",
            "#8 0x5bbae83f2593 <unknown>\n",
            "#9 0x5bbae83f2f5e <unknown>\n",
            "#10 0x5bbae868284b <unknown>\n",
            "#11 0x5bbae86867a5 <unknown>\n",
            "#12 0x5bbae8670571 <unknown>\n",
            "#13 0x5bbae8687332 <unknown>\n",
            "#14 0x5bbae865587f <unknown>\n",
            "#15 0x5bbae86ad728 <unknown>\n",
            "#16 0x5bbae86ad8fb <unknown>\n",
            "#17 0x5bbae86bd9b4 <unknown>\n",
            "#18 0x7d2d277ccac3 <unknown>\n",
            "\n",
            "An error occurred while extracting article info: Message: \n",
            "Stacktrace:\n",
            "#0 0x5bbae86be863 <unknown>\n",
            "#1 0x5bbae83b48c6 <unknown>\n",
            "#2 0x5bbae83ff618 <unknown>\n",
            "#3 0x5bbae83ff6d1 <unknown>\n",
            "#4 0x5bbae8442744 <unknown>\n",
            "#5 0x5bbae84215cd <unknown>\n",
            "#6 0x5bbae843fc19 <unknown>\n",
            "#7 0x5bbae8421343 <unknown>\n",
            "#8 0x5bbae83f2593 <unknown>\n",
            "#9 0x5bbae83f2f5e <unknown>\n",
            "#10 0x5bbae868284b <unknown>\n",
            "#11 0x5bbae86867a5 <unknown>\n",
            "#12 0x5bbae8670571 <unknown>\n",
            "#13 0x5bbae8687332 <unknown>\n",
            "#14 0x5bbae865587f <unknown>\n",
            "#15 0x5bbae86ad728 <unknown>\n",
            "#16 0x5bbae86ad8fb <unknown>\n",
            "#17 0x5bbae86bd9b4 <unknown>\n",
            "#18 0x7d2d277ccac3 <unknown>\n",
            "\n",
            "An error occurred while extracting article info: Message: \n",
            "Stacktrace:\n",
            "#0 0x5bbae86be863 <unknown>\n",
            "#1 0x5bbae83b48c6 <unknown>\n",
            "#2 0x5bbae83ff618 <unknown>\n",
            "#3 0x5bbae83ff6d1 <unknown>\n",
            "#4 0x5bbae8442744 <unknown>\n",
            "#5 0x5bbae84215cd <unknown>\n",
            "#6 0x5bbae843fc19 <unknown>\n",
            "#7 0x5bbae8421343 <unknown>\n",
            "#8 0x5bbae83f2593 <unknown>\n",
            "#9 0x5bbae83f2f5e <unknown>\n",
            "#10 0x5bbae868284b <unknown>\n",
            "#11 0x5bbae86867a5 <unknown>\n",
            "#12 0x5bbae8670571 <unknown>\n",
            "#13 0x5bbae8687332 <unknown>\n",
            "#14 0x5bbae865587f <unknown>\n",
            "#15 0x5bbae86ad728 <unknown>\n",
            "#16 0x5bbae86ad8fb <unknown>\n",
            "#17 0x5bbae86bd9b4 <unknown>\n",
            "#18 0x7d2d277ccac3 <unknown>\n",
            "\n",
            "An error occurred while extracting article info: Message: \n",
            "Stacktrace:\n",
            "#0 0x5bbae86be863 <unknown>\n",
            "#1 0x5bbae83b48c6 <unknown>\n",
            "#2 0x5bbae83ff618 <unknown>\n",
            "#3 0x5bbae83ff6d1 <unknown>\n",
            "#4 0x5bbae8442744 <unknown>\n",
            "#5 0x5bbae84215cd <unknown>\n",
            "#6 0x5bbae843fc19 <unknown>\n",
            "#7 0x5bbae8421343 <unknown>\n",
            "#8 0x5bbae83f2593 <unknown>\n",
            "#9 0x5bbae83f2f5e <unknown>\n",
            "#10 0x5bbae868284b <unknown>\n",
            "#11 0x5bbae86867a5 <unknown>\n",
            "#12 0x5bbae8670571 <unknown>\n",
            "#13 0x5bbae8687332 <unknown>\n",
            "#14 0x5bbae865587f <unknown>\n",
            "#15 0x5bbae86ad728 <unknown>\n",
            "#16 0x5bbae86ad8fb <unknown>\n",
            "#17 0x5bbae86bd9b4 <unknown>\n",
            "#18 0x7d2d277ccac3 <unknown>\n",
            "\n",
            "An error occurred while extracting article info: Message: \n",
            "Stacktrace:\n",
            "#0 0x5bbae86be863 <unknown>\n",
            "#1 0x5bbae83b48c6 <unknown>\n",
            "#2 0x5bbae83ff618 <unknown>\n",
            "#3 0x5bbae83ff6d1 <unknown>\n",
            "#4 0x5bbae8442744 <unknown>\n",
            "#5 0x5bbae84215cd <unknown>\n",
            "#6 0x5bbae843fc19 <unknown>\n",
            "#7 0x5bbae8421343 <unknown>\n",
            "#8 0x5bbae83f2593 <unknown>\n",
            "#9 0x5bbae83f2f5e <unknown>\n",
            "#10 0x5bbae868284b <unknown>\n",
            "#11 0x5bbae86867a5 <unknown>\n",
            "#12 0x5bbae8670571 <unknown>\n",
            "#13 0x5bbae8687332 <unknown>\n",
            "#14 0x5bbae865587f <unknown>\n",
            "#15 0x5bbae86ad728 <unknown>\n",
            "#16 0x5bbae86ad8fb <unknown>\n",
            "#17 0x5bbae86bd9b4 <unknown>\n",
            "#18 0x7d2d277ccac3 <unknown>\n",
            "\n",
            "An error occurred while extracting article info: Message: \n",
            "Stacktrace:\n",
            "#0 0x5bbae86be863 <unknown>\n",
            "#1 0x5bbae83b48c6 <unknown>\n",
            "#2 0x5bbae83ff618 <unknown>\n",
            "#3 0x5bbae83ff6d1 <unknown>\n",
            "#4 0x5bbae8442744 <unknown>\n",
            "#5 0x5bbae84215cd <unknown>\n",
            "#6 0x5bbae843fc19 <unknown>\n",
            "#7 0x5bbae8421343 <unknown>\n",
            "#8 0x5bbae83f2593 <unknown>\n",
            "#9 0x5bbae83f2f5e <unknown>\n",
            "#10 0x5bbae868284b <unknown>\n",
            "#11 0x5bbae86867a5 <unknown>\n",
            "#12 0x5bbae8670571 <unknown>\n",
            "#13 0x5bbae8687332 <unknown>\n",
            "#14 0x5bbae865587f <unknown>\n",
            "#15 0x5bbae86ad728 <unknown>\n",
            "#16 0x5bbae86ad8fb <unknown>\n",
            "#17 0x5bbae86bd9b4 <unknown>\n",
            "#18 0x7d2d277ccac3 <unknown>\n",
            "\n",
            "An error occurred while extracting article info: Message: \n",
            "Stacktrace:\n",
            "#0 0x5bbae86be863 <unknown>\n",
            "#1 0x5bbae83b48c6 <unknown>\n",
            "#2 0x5bbae83ff618 <unknown>\n",
            "#3 0x5bbae83ff6d1 <unknown>\n",
            "#4 0x5bbae8442744 <unknown>\n",
            "#5 0x5bbae84215cd <unknown>\n",
            "#6 0x5bbae843fc19 <unknown>\n",
            "#7 0x5bbae8421343 <unknown>\n",
            "#8 0x5bbae83f2593 <unknown>\n",
            "#9 0x5bbae83f2f5e <unknown>\n",
            "#10 0x5bbae868284b <unknown>\n",
            "#11 0x5bbae86867a5 <unknown>\n",
            "#12 0x5bbae8670571 <unknown>\n",
            "#13 0x5bbae8687332 <unknown>\n",
            "#14 0x5bbae865587f <unknown>\n",
            "#15 0x5bbae86ad728 <unknown>\n",
            "#16 0x5bbae86ad8fb <unknown>\n",
            "#17 0x5bbae86bd9b4 <unknown>\n",
            "#18 0x7d2d277ccac3 <unknown>\n",
            "\n",
            "An error occurred while extracting article info: Message: \n",
            "Stacktrace:\n",
            "#0 0x5bbae86be863 <unknown>\n",
            "#1 0x5bbae83b48c6 <unknown>\n",
            "#2 0x5bbae83ff618 <unknown>\n",
            "#3 0x5bbae83ff6d1 <unknown>\n",
            "#4 0x5bbae8442744 <unknown>\n",
            "#5 0x5bbae84215cd <unknown>\n",
            "#6 0x5bbae843fc19 <unknown>\n",
            "#7 0x5bbae8421343 <unknown>\n",
            "#8 0x5bbae83f2593 <unknown>\n",
            "#9 0x5bbae83f2f5e <unknown>\n",
            "#10 0x5bbae868284b <unknown>\n",
            "#11 0x5bbae86867a5 <unknown>\n",
            "#12 0x5bbae8670571 <unknown>\n",
            "#13 0x5bbae8687332 <unknown>\n",
            "#14 0x5bbae865587f <unknown>\n",
            "#15 0x5bbae86ad728 <unknown>\n",
            "#16 0x5bbae86ad8fb <unknown>\n",
            "#17 0x5bbae86bd9b4 <unknown>\n",
            "#18 0x7d2d277ccac3 <unknown>\n",
            "\n",
            "An error occurred while extracting article info: Message: \n",
            "Stacktrace:\n",
            "#0 0x5bbae86be863 <unknown>\n",
            "#1 0x5bbae83b48c6 <unknown>\n",
            "#2 0x5bbae83ff618 <unknown>\n",
            "#3 0x5bbae83ff6d1 <unknown>\n",
            "#4 0x5bbae8442744 <unknown>\n",
            "#5 0x5bbae84215cd <unknown>\n",
            "#6 0x5bbae843fc19 <unknown>\n",
            "#7 0x5bbae8421343 <unknown>\n",
            "#8 0x5bbae83f2593 <unknown>\n",
            "#9 0x5bbae83f2f5e <unknown>\n",
            "#10 0x5bbae868284b <unknown>\n",
            "#11 0x5bbae86867a5 <unknown>\n",
            "#12 0x5bbae8670571 <unknown>\n",
            "#13 0x5bbae8687332 <unknown>\n",
            "#14 0x5bbae865587f <unknown>\n",
            "#15 0x5bbae86ad728 <unknown>\n",
            "#16 0x5bbae86ad8fb <unknown>\n",
            "#17 0x5bbae86bd9b4 <unknown>\n",
            "#18 0x7d2d277ccac3 <unknown>\n",
            "\n",
            "An error occurred while extracting article info: Message: \n",
            "Stacktrace:\n",
            "#0 0x5bbae86be863 <unknown>\n",
            "#1 0x5bbae83b48c6 <unknown>\n",
            "#2 0x5bbae83ff618 <unknown>\n",
            "#3 0x5bbae83ff6d1 <unknown>\n",
            "#4 0x5bbae8442744 <unknown>\n",
            "#5 0x5bbae84215cd <unknown>\n",
            "#6 0x5bbae843fc19 <unknown>\n",
            "#7 0x5bbae8421343 <unknown>\n",
            "#8 0x5bbae83f2593 <unknown>\n",
            "#9 0x5bbae83f2f5e <unknown>\n",
            "#10 0x5bbae868284b <unknown>\n",
            "#11 0x5bbae86867a5 <unknown>\n",
            "#12 0x5bbae8670571 <unknown>\n",
            "#13 0x5bbae8687332 <unknown>\n",
            "#14 0x5bbae865587f <unknown>\n",
            "#15 0x5bbae86ad728 <unknown>\n",
            "#16 0x5bbae86ad8fb <unknown>\n",
            "#17 0x5bbae86bd9b4 <unknown>\n",
            "#18 0x7d2d277ccac3 <unknown>\n",
            "\n",
            "An error occurred while extracting article info: Message: \n",
            "Stacktrace:\n",
            "#0 0x5bbae86be863 <unknown>\n",
            "#1 0x5bbae83b48c6 <unknown>\n",
            "#2 0x5bbae83ff618 <unknown>\n",
            "#3 0x5bbae83ff6d1 <unknown>\n",
            "#4 0x5bbae8442744 <unknown>\n",
            "#5 0x5bbae84215cd <unknown>\n",
            "#6 0x5bbae843fc19 <unknown>\n",
            "#7 0x5bbae8421343 <unknown>\n",
            "#8 0x5bbae83f2593 <unknown>\n",
            "#9 0x5bbae83f2f5e <unknown>\n",
            "#10 0x5bbae868284b <unknown>\n",
            "#11 0x5bbae86867a5 <unknown>\n",
            "#12 0x5bbae8670571 <unknown>\n",
            "#13 0x5bbae8687332 <unknown>\n",
            "#14 0x5bbae865587f <unknown>\n",
            "#15 0x5bbae86ad728 <unknown>\n",
            "#16 0x5bbae86ad8fb <unknown>\n",
            "#17 0x5bbae86bd9b4 <unknown>\n",
            "#18 0x7d2d277ccac3 <unknown>\n",
            "\n",
            "An error occurred while processing an article: Message: \n",
            "Stacktrace:\n",
            "#0 0x5bbae86be863 <unknown>\n",
            "#1 0x5bbae83b48c6 <unknown>\n",
            "#2 0x5bbae83ff618 <unknown>\n",
            "#3 0x5bbae83ff6d1 <unknown>\n",
            "#4 0x5bbae83f3fa6 <unknown>\n",
            "#5 0x5bbae84215cd <unknown>\n",
            "#6 0x5bbae83f3e98 <unknown>\n",
            "#7 0x5bbae842176e <unknown>\n",
            "#8 0x5bbae843fc19 <unknown>\n",
            "#9 0x5bbae8421343 <unknown>\n",
            "#10 0x5bbae83f2593 <unknown>\n",
            "#11 0x5bbae83f2f5e <unknown>\n",
            "#12 0x5bbae868284b <unknown>\n",
            "#13 0x5bbae86867a5 <unknown>\n",
            "#14 0x5bbae8670571 <unknown>\n",
            "#15 0x5bbae8687332 <unknown>\n",
            "#16 0x5bbae865587f <unknown>\n",
            "#17 0x5bbae86ad728 <unknown>\n",
            "#18 0x5bbae86ad8fb <unknown>\n",
            "#19 0x5bbae86bd9b4 <unknown>\n",
            "#20 0x7d2d277ccac3 <unknown>\n",
            "\n",
            "An error occurred while processing an article: Message: \n",
            "Stacktrace:\n",
            "#0 0x5bbae86be863 <unknown>\n",
            "#1 0x5bbae83b48c6 <unknown>\n",
            "#2 0x5bbae83ff618 <unknown>\n",
            "#3 0x5bbae83ff6d1 <unknown>\n",
            "#4 0x5bbae83f3fa6 <unknown>\n",
            "#5 0x5bbae84215cd <unknown>\n",
            "#6 0x5bbae83f3e98 <unknown>\n",
            "#7 0x5bbae842176e <unknown>\n",
            "#8 0x5bbae843fc19 <unknown>\n",
            "#9 0x5bbae8421343 <unknown>\n",
            "#10 0x5bbae83f2593 <unknown>\n",
            "#11 0x5bbae83f2f5e <unknown>\n",
            "#12 0x5bbae868284b <unknown>\n",
            "#13 0x5bbae86867a5 <unknown>\n",
            "#14 0x5bbae8670571 <unknown>\n",
            "#15 0x5bbae8687332 <unknown>\n",
            "#16 0x5bbae865587f <unknown>\n",
            "#17 0x5bbae86ad728 <unknown>\n",
            "#18 0x5bbae86ad8fb <unknown>\n",
            "#19 0x5bbae86bd9b4 <unknown>\n",
            "#20 0x7d2d277ccac3 <unknown>\n",
            "\n",
            "An error occurred while processing an article: Message: \n",
            "Stacktrace:\n",
            "#0 0x5bbae86be863 <unknown>\n",
            "#1 0x5bbae83b48c6 <unknown>\n",
            "#2 0x5bbae83ff618 <unknown>\n",
            "#3 0x5bbae83ff6d1 <unknown>\n",
            "#4 0x5bbae83f3fa6 <unknown>\n",
            "#5 0x5bbae84215cd <unknown>\n",
            "#6 0x5bbae83f3e98 <unknown>\n",
            "#7 0x5bbae842176e <unknown>\n",
            "#8 0x5bbae843fc19 <unknown>\n",
            "#9 0x5bbae8421343 <unknown>\n",
            "#10 0x5bbae83f2593 <unknown>\n",
            "#11 0x5bbae83f2f5e <unknown>\n",
            "#12 0x5bbae868284b <unknown>\n",
            "#13 0x5bbae86867a5 <unknown>\n",
            "#14 0x5bbae8670571 <unknown>\n",
            "#15 0x5bbae8687332 <unknown>\n",
            "#16 0x5bbae865587f <unknown>\n",
            "#17 0x5bbae86ad728 <unknown>\n",
            "#18 0x5bbae86ad8fb <unknown>\n",
            "#19 0x5bbae86bd9b4 <unknown>\n",
            "#20 0x7d2d277ccac3 <unknown>\n",
            "\n",
            "An error occurred while processing an article: Message: \n",
            "Stacktrace:\n",
            "#0 0x5bbae86be863 <unknown>\n",
            "#1 0x5bbae83b48c6 <unknown>\n",
            "#2 0x5bbae83ff618 <unknown>\n",
            "#3 0x5bbae83ff6d1 <unknown>\n",
            "#4 0x5bbae83f3fa6 <unknown>\n",
            "#5 0x5bbae84215cd <unknown>\n",
            "#6 0x5bbae83f3e98 <unknown>\n",
            "#7 0x5bbae842176e <unknown>\n",
            "#8 0x5bbae843fc19 <unknown>\n",
            "#9 0x5bbae8421343 <unknown>\n",
            "#10 0x5bbae83f2593 <unknown>\n",
            "#11 0x5bbae83f2f5e <unknown>\n",
            "#12 0x5bbae868284b <unknown>\n",
            "#13 0x5bbae86867a5 <unknown>\n",
            "#14 0x5bbae8670571 <unknown>\n",
            "#15 0x5bbae8687332 <unknown>\n",
            "#16 0x5bbae865587f <unknown>\n",
            "#17 0x5bbae86ad728 <unknown>\n",
            "#18 0x5bbae86ad8fb <unknown>\n",
            "#19 0x5bbae86bd9b4 <unknown>\n",
            "#20 0x7d2d277ccac3 <unknown>\n",
            "\n",
            "An error occurred while processing an article: Message: \n",
            "Stacktrace:\n",
            "#0 0x5bbae86be863 <unknown>\n",
            "#1 0x5bbae83b48c6 <unknown>\n",
            "#2 0x5bbae83ff618 <unknown>\n",
            "#3 0x5bbae83ff6d1 <unknown>\n",
            "#4 0x5bbae83f3fa6 <unknown>\n",
            "#5 0x5bbae84215cd <unknown>\n",
            "#6 0x5bbae83f3e98 <unknown>\n",
            "#7 0x5bbae842176e <unknown>\n",
            "#8 0x5bbae843fc19 <unknown>\n",
            "#9 0x5bbae8421343 <unknown>\n",
            "#10 0x5bbae83f2593 <unknown>\n",
            "#11 0x5bbae83f2f5e <unknown>\n",
            "#12 0x5bbae868284b <unknown>\n",
            "#13 0x5bbae86867a5 <unknown>\n",
            "#14 0x5bbae8670571 <unknown>\n",
            "#15 0x5bbae8687332 <unknown>\n",
            "#16 0x5bbae865587f <unknown>\n",
            "#17 0x5bbae86ad728 <unknown>\n",
            "#18 0x5bbae86ad8fb <unknown>\n",
            "#19 0x5bbae86bd9b4 <unknown>\n",
            "#20 0x7d2d277ccac3 <unknown>\n",
            "\n",
            "An error occurred while extracting article info: Message: \n",
            "Stacktrace:\n",
            "#0 0x5bbae86be863 <unknown>\n",
            "#1 0x5bbae83b48c6 <unknown>\n",
            "#2 0x5bbae83ff618 <unknown>\n",
            "#3 0x5bbae83ff6d1 <unknown>\n",
            "#4 0x5bbae8442744 <unknown>\n",
            "#5 0x5bbae84215cd <unknown>\n",
            "#6 0x5bbae843fc19 <unknown>\n",
            "#7 0x5bbae8421343 <unknown>\n",
            "#8 0x5bbae83f2593 <unknown>\n",
            "#9 0x5bbae83f2f5e <unknown>\n",
            "#10 0x5bbae868284b <unknown>\n",
            "#11 0x5bbae86867a5 <unknown>\n",
            "#12 0x5bbae8670571 <unknown>\n",
            "#13 0x5bbae8687332 <unknown>\n",
            "#14 0x5bbae865587f <unknown>\n",
            "#15 0x5bbae86ad728 <unknown>\n",
            "#16 0x5bbae86ad8fb <unknown>\n",
            "#17 0x5bbae86bd9b4 <unknown>\n",
            "#18 0x7d2d277ccac3 <unknown>\n",
            "\n",
            "An error occurred while extracting article info: Message: \n",
            "Stacktrace:\n",
            "#0 0x5bbae86be863 <unknown>\n",
            "#1 0x5bbae83b48c6 <unknown>\n",
            "#2 0x5bbae83ff618 <unknown>\n",
            "#3 0x5bbae83ff6d1 <unknown>\n",
            "#4 0x5bbae8442744 <unknown>\n",
            "#5 0x5bbae84215cd <unknown>\n",
            "#6 0x5bbae843fc19 <unknown>\n",
            "#7 0x5bbae8421343 <unknown>\n",
            "#8 0x5bbae83f2593 <unknown>\n",
            "#9 0x5bbae83f2f5e <unknown>\n",
            "#10 0x5bbae868284b <unknown>\n",
            "#11 0x5bbae86867a5 <unknown>\n",
            "#12 0x5bbae8670571 <unknown>\n",
            "#13 0x5bbae8687332 <unknown>\n",
            "#14 0x5bbae865587f <unknown>\n",
            "#15 0x5bbae86ad728 <unknown>\n",
            "#16 0x5bbae86ad8fb <unknown>\n",
            "#17 0x5bbae86bd9b4 <unknown>\n",
            "#18 0x7d2d277ccac3 <unknown>\n",
            "\n",
            "An error occurred while extracting article info: Message: \n",
            "Stacktrace:\n",
            "#0 0x5bbae86be863 <unknown>\n",
            "#1 0x5bbae83b48c6 <unknown>\n",
            "#2 0x5bbae83ff618 <unknown>\n",
            "#3 0x5bbae83ff6d1 <unknown>\n",
            "#4 0x5bbae8442744 <unknown>\n",
            "#5 0x5bbae84215cd <unknown>\n",
            "#6 0x5bbae843fc19 <unknown>\n",
            "#7 0x5bbae8421343 <unknown>\n",
            "#8 0x5bbae83f2593 <unknown>\n",
            "#9 0x5bbae83f2f5e <unknown>\n",
            "#10 0x5bbae868284b <unknown>\n",
            "#11 0x5bbae86867a5 <unknown>\n",
            "#12 0x5bbae8670571 <unknown>\n",
            "#13 0x5bbae8687332 <unknown>\n",
            "#14 0x5bbae865587f <unknown>\n",
            "#15 0x5bbae86ad728 <unknown>\n",
            "#16 0x5bbae86ad8fb <unknown>\n",
            "#17 0x5bbae86bd9b4 <unknown>\n",
            "#18 0x7d2d277ccac3 <unknown>\n",
            "\n",
            "An error occurred while extracting article info: Message: \n",
            "Stacktrace:\n",
            "#0 0x5bbae86be863 <unknown>\n",
            "#1 0x5bbae83b48c6 <unknown>\n",
            "#2 0x5bbae83ff618 <unknown>\n",
            "#3 0x5bbae83ff6d1 <unknown>\n",
            "#4 0x5bbae8442744 <unknown>\n",
            "#5 0x5bbae84215cd <unknown>\n",
            "#6 0x5bbae843fc19 <unknown>\n",
            "#7 0x5bbae8421343 <unknown>\n",
            "#8 0x5bbae83f2593 <unknown>\n",
            "#9 0x5bbae83f2f5e <unknown>\n",
            "#10 0x5bbae868284b <unknown>\n",
            "#11 0x5bbae86867a5 <unknown>\n",
            "#12 0x5bbae8670571 <unknown>\n",
            "#13 0x5bbae8687332 <unknown>\n",
            "#14 0x5bbae865587f <unknown>\n",
            "#15 0x5bbae86ad728 <unknown>\n",
            "#16 0x5bbae86ad8fb <unknown>\n",
            "#17 0x5bbae86bd9b4 <unknown>\n",
            "#18 0x7d2d277ccac3 <unknown>\n",
            "\n",
            "An error occurred while extracting article info: Message: \n",
            "Stacktrace:\n",
            "#0 0x5bbae86be863 <unknown>\n",
            "#1 0x5bbae83b48c6 <unknown>\n",
            "#2 0x5bbae83ff618 <unknown>\n",
            "#3 0x5bbae83ff6d1 <unknown>\n",
            "#4 0x5bbae8442744 <unknown>\n",
            "#5 0x5bbae84215cd <unknown>\n",
            "#6 0x5bbae843fc19 <unknown>\n",
            "#7 0x5bbae8421343 <unknown>\n",
            "#8 0x5bbae83f2593 <unknown>\n",
            "#9 0x5bbae83f2f5e <unknown>\n",
            "#10 0x5bbae868284b <unknown>\n",
            "#11 0x5bbae86867a5 <unknown>\n",
            "#12 0x5bbae8670571 <unknown>\n",
            "#13 0x5bbae8687332 <unknown>\n",
            "#14 0x5bbae865587f <unknown>\n",
            "#15 0x5bbae86ad728 <unknown>\n",
            "#16 0x5bbae86ad8fb <unknown>\n",
            "#17 0x5bbae86bd9b4 <unknown>\n",
            "#18 0x7d2d277ccac3 <unknown>\n",
            "\n",
            "An error occurred while extracting article info: Message: \n",
            "Stacktrace:\n",
            "#0 0x5bbae86be863 <unknown>\n",
            "#1 0x5bbae83b48c6 <unknown>\n",
            "#2 0x5bbae83ff618 <unknown>\n",
            "#3 0x5bbae83ff6d1 <unknown>\n",
            "#4 0x5bbae8442744 <unknown>\n",
            "#5 0x5bbae84215cd <unknown>\n",
            "#6 0x5bbae843fc19 <unknown>\n",
            "#7 0x5bbae8421343 <unknown>\n",
            "#8 0x5bbae83f2593 <unknown>\n",
            "#9 0x5bbae83f2f5e <unknown>\n",
            "#10 0x5bbae868284b <unknown>\n",
            "#11 0x5bbae86867a5 <unknown>\n",
            "#12 0x5bbae8670571 <unknown>\n",
            "#13 0x5bbae8687332 <unknown>\n",
            "#14 0x5bbae865587f <unknown>\n",
            "#15 0x5bbae86ad728 <unknown>\n",
            "#16 0x5bbae86ad8fb <unknown>\n",
            "#17 0x5bbae86bd9b4 <unknown>\n",
            "#18 0x7d2d277ccac3 <unknown>\n",
            "\n",
            "An error occurred while extracting article info: Message: \n",
            "Stacktrace:\n",
            "#0 0x5bbae86be863 <unknown>\n",
            "#1 0x5bbae83b48c6 <unknown>\n",
            "#2 0x5bbae83ff618 <unknown>\n",
            "#3 0x5bbae83ff6d1 <unknown>\n",
            "#4 0x5bbae8442744 <unknown>\n",
            "#5 0x5bbae84215cd <unknown>\n",
            "#6 0x5bbae843fc19 <unknown>\n",
            "#7 0x5bbae8421343 <unknown>\n",
            "#8 0x5bbae83f2593 <unknown>\n",
            "#9 0x5bbae83f2f5e <unknown>\n",
            "#10 0x5bbae868284b <unknown>\n",
            "#11 0x5bbae86867a5 <unknown>\n",
            "#12 0x5bbae8670571 <unknown>\n",
            "#13 0x5bbae8687332 <unknown>\n",
            "#14 0x5bbae865587f <unknown>\n",
            "#15 0x5bbae86ad728 <unknown>\n",
            "#16 0x5bbae86ad8fb <unknown>\n",
            "#17 0x5bbae86bd9b4 <unknown>\n",
            "#18 0x7d2d277ccac3 <unknown>\n",
            "\n",
            "An error occurred while extracting article info: Message: \n",
            "Stacktrace:\n",
            "#0 0x5bbae86be863 <unknown>\n",
            "#1 0x5bbae83b48c6 <unknown>\n",
            "#2 0x5bbae83ff618 <unknown>\n",
            "#3 0x5bbae83ff6d1 <unknown>\n",
            "#4 0x5bbae8442744 <unknown>\n",
            "#5 0x5bbae84215cd <unknown>\n",
            "#6 0x5bbae843fc19 <unknown>\n",
            "#7 0x5bbae8421343 <unknown>\n",
            "#8 0x5bbae83f2593 <unknown>\n",
            "#9 0x5bbae83f2f5e <unknown>\n",
            "#10 0x5bbae868284b <unknown>\n",
            "#11 0x5bbae86867a5 <unknown>\n",
            "#12 0x5bbae8670571 <unknown>\n",
            "#13 0x5bbae8687332 <unknown>\n",
            "#14 0x5bbae865587f <unknown>\n",
            "#15 0x5bbae86ad728 <unknown>\n",
            "#16 0x5bbae86ad8fb <unknown>\n",
            "#17 0x5bbae86bd9b4 <unknown>\n",
            "#18 0x7d2d277ccac3 <unknown>\n",
            "\n",
            "An error occurred while extracting article info: Message: \n",
            "Stacktrace:\n",
            "#0 0x5bbae86be863 <unknown>\n",
            "#1 0x5bbae83b48c6 <unknown>\n",
            "#2 0x5bbae83ff618 <unknown>\n",
            "#3 0x5bbae83ff6d1 <unknown>\n",
            "#4 0x5bbae8442744 <unknown>\n",
            "#5 0x5bbae84215cd <unknown>\n",
            "#6 0x5bbae843fc19 <unknown>\n",
            "#7 0x5bbae8421343 <unknown>\n",
            "#8 0x5bbae83f2593 <unknown>\n",
            "#9 0x5bbae83f2f5e <unknown>\n",
            "#10 0x5bbae868284b <unknown>\n",
            "#11 0x5bbae86867a5 <unknown>\n",
            "#12 0x5bbae8670571 <unknown>\n",
            "#13 0x5bbae8687332 <unknown>\n",
            "#14 0x5bbae865587f <unknown>\n",
            "#15 0x5bbae86ad728 <unknown>\n",
            "#16 0x5bbae86ad8fb <unknown>\n",
            "#17 0x5bbae86bd9b4 <unknown>\n",
            "#18 0x7d2d277ccac3 <unknown>\n",
            "\n",
            "An error occurred while extracting article info: Message: \n",
            "Stacktrace:\n",
            "#0 0x5bbae86be863 <unknown>\n",
            "#1 0x5bbae83b48c6 <unknown>\n",
            "#2 0x5bbae83ff618 <unknown>\n",
            "#3 0x5bbae83ff6d1 <unknown>\n",
            "#4 0x5bbae8442744 <unknown>\n",
            "#5 0x5bbae84215cd <unknown>\n",
            "#6 0x5bbae843fc19 <unknown>\n",
            "#7 0x5bbae8421343 <unknown>\n",
            "#8 0x5bbae83f2593 <unknown>\n",
            "#9 0x5bbae83f2f5e <unknown>\n",
            "#10 0x5bbae868284b <unknown>\n",
            "#11 0x5bbae86867a5 <unknown>\n",
            "#12 0x5bbae8670571 <unknown>\n",
            "#13 0x5bbae8687332 <unknown>\n",
            "#14 0x5bbae865587f <unknown>\n",
            "#15 0x5bbae86ad728 <unknown>\n",
            "#16 0x5bbae86ad8fb <unknown>\n",
            "#17 0x5bbae86bd9b4 <unknown>\n",
            "#18 0x7d2d277ccac3 <unknown>\n",
            "\n",
            "An error occurred while extracting article info: Message: \n",
            "Stacktrace:\n",
            "#0 0x5bbae86be863 <unknown>\n",
            "#1 0x5bbae83b48c6 <unknown>\n",
            "#2 0x5bbae83ff618 <unknown>\n",
            "#3 0x5bbae83ff6d1 <unknown>\n",
            "#4 0x5bbae8442744 <unknown>\n",
            "#5 0x5bbae84215cd <unknown>\n",
            "#6 0x5bbae843fc19 <unknown>\n",
            "#7 0x5bbae8421343 <unknown>\n",
            "#8 0x5bbae83f2593 <unknown>\n",
            "#9 0x5bbae83f2f5e <unknown>\n",
            "#10 0x5bbae868284b <unknown>\n",
            "#11 0x5bbae86867a5 <unknown>\n",
            "#12 0x5bbae8670571 <unknown>\n",
            "#13 0x5bbae8687332 <unknown>\n",
            "#14 0x5bbae865587f <unknown>\n",
            "#15 0x5bbae86ad728 <unknown>\n",
            "#16 0x5bbae86ad8fb <unknown>\n",
            "#17 0x5bbae86bd9b4 <unknown>\n",
            "#18 0x7d2d277ccac3 <unknown>\n",
            "\n",
            "An error occurred while extracting article info: Message: \n",
            "Stacktrace:\n",
            "#0 0x5bbae86be863 <unknown>\n",
            "#1 0x5bbae83b48c6 <unknown>\n",
            "#2 0x5bbae83ff618 <unknown>\n",
            "#3 0x5bbae83ff6d1 <unknown>\n",
            "#4 0x5bbae8442744 <unknown>\n",
            "#5 0x5bbae84215cd <unknown>\n",
            "#6 0x5bbae843fc19 <unknown>\n",
            "#7 0x5bbae8421343 <unknown>\n",
            "#8 0x5bbae83f2593 <unknown>\n",
            "#9 0x5bbae83f2f5e <unknown>\n",
            "#10 0x5bbae868284b <unknown>\n",
            "#11 0x5bbae86867a5 <unknown>\n",
            "#12 0x5bbae8670571 <unknown>\n",
            "#13 0x5bbae8687332 <unknown>\n",
            "#14 0x5bbae865587f <unknown>\n",
            "#15 0x5bbae86ad728 <unknown>\n",
            "#16 0x5bbae86ad8fb <unknown>\n",
            "#17 0x5bbae86bd9b4 <unknown>\n",
            "#18 0x7d2d277ccac3 <unknown>\n",
            "\n",
            "An error occurred while processing an article: Message: \n",
            "Stacktrace:\n",
            "#0 0x5bbae86be863 <unknown>\n",
            "#1 0x5bbae83b48c6 <unknown>\n",
            "#2 0x5bbae83ff618 <unknown>\n",
            "#3 0x5bbae83ff6d1 <unknown>\n",
            "#4 0x5bbae83f3fa6 <unknown>\n",
            "#5 0x5bbae84215cd <unknown>\n",
            "#6 0x5bbae83f3e98 <unknown>\n",
            "#7 0x5bbae842176e <unknown>\n",
            "#8 0x5bbae843fc19 <unknown>\n",
            "#9 0x5bbae8421343 <unknown>\n",
            "#10 0x5bbae83f2593 <unknown>\n",
            "#11 0x5bbae83f2f5e <unknown>\n",
            "#12 0x5bbae868284b <unknown>\n",
            "#13 0x5bbae86867a5 <unknown>\n",
            "#14 0x5bbae8670571 <unknown>\n",
            "#15 0x5bbae8687332 <unknown>\n",
            "#16 0x5bbae865587f <unknown>\n",
            "#17 0x5bbae86ad728 <unknown>\n",
            "#18 0x5bbae86ad8fb <unknown>\n",
            "#19 0x5bbae86bd9b4 <unknown>\n",
            "#20 0x7d2d277ccac3 <unknown>\n",
            "\n",
            "An error occurred while processing an article: Message: \n",
            "Stacktrace:\n",
            "#0 0x5bbae86be863 <unknown>\n",
            "#1 0x5bbae83b48c6 <unknown>\n",
            "#2 0x5bbae83ff618 <unknown>\n",
            "#3 0x5bbae83ff6d1 <unknown>\n",
            "#4 0x5bbae83f3fa6 <unknown>\n",
            "#5 0x5bbae84215cd <unknown>\n",
            "#6 0x5bbae83f3e98 <unknown>\n",
            "#7 0x5bbae842176e <unknown>\n",
            "#8 0x5bbae843fc19 <unknown>\n",
            "#9 0x5bbae8421343 <unknown>\n",
            "#10 0x5bbae83f2593 <unknown>\n",
            "#11 0x5bbae83f2f5e <unknown>\n",
            "#12 0x5bbae868284b <unknown>\n",
            "#13 0x5bbae86867a5 <unknown>\n",
            "#14 0x5bbae8670571 <unknown>\n",
            "#15 0x5bbae8687332 <unknown>\n",
            "#16 0x5bbae865587f <unknown>\n",
            "#17 0x5bbae86ad728 <unknown>\n",
            "#18 0x5bbae86ad8fb <unknown>\n",
            "#19 0x5bbae86bd9b4 <unknown>\n",
            "#20 0x7d2d277ccac3 <unknown>\n",
            "\n",
            "An error occurred while processing an article: Message: \n",
            "Stacktrace:\n",
            "#0 0x5bbae86be863 <unknown>\n",
            "#1 0x5bbae83b48c6 <unknown>\n",
            "#2 0x5bbae83ff618 <unknown>\n",
            "#3 0x5bbae83ff6d1 <unknown>\n",
            "#4 0x5bbae83f3fa6 <unknown>\n",
            "#5 0x5bbae84215cd <unknown>\n",
            "#6 0x5bbae83f3e98 <unknown>\n",
            "#7 0x5bbae842176e <unknown>\n",
            "#8 0x5bbae843fc19 <unknown>\n",
            "#9 0x5bbae8421343 <unknown>\n",
            "#10 0x5bbae83f2593 <unknown>\n",
            "#11 0x5bbae83f2f5e <unknown>\n",
            "#12 0x5bbae868284b <unknown>\n",
            "#13 0x5bbae86867a5 <unknown>\n",
            "#14 0x5bbae8670571 <unknown>\n",
            "#15 0x5bbae8687332 <unknown>\n",
            "#16 0x5bbae865587f <unknown>\n",
            "#17 0x5bbae86ad728 <unknown>\n",
            "#18 0x5bbae86ad8fb <unknown>\n",
            "#19 0x5bbae86bd9b4 <unknown>\n",
            "#20 0x7d2d277ccac3 <unknown>\n",
            "\n",
            "An error occurred while processing an article: Message: \n",
            "Stacktrace:\n",
            "#0 0x5bbae86be863 <unknown>\n",
            "#1 0x5bbae83b48c6 <unknown>\n",
            "#2 0x5bbae83ff618 <unknown>\n",
            "#3 0x5bbae83ff6d1 <unknown>\n",
            "#4 0x5bbae83f3fa6 <unknown>\n",
            "#5 0x5bbae84215cd <unknown>\n",
            "#6 0x5bbae83f3e98 <unknown>\n",
            "#7 0x5bbae842176e <unknown>\n",
            "#8 0x5bbae843fc19 <unknown>\n",
            "#9 0x5bbae8421343 <unknown>\n",
            "#10 0x5bbae83f2593 <unknown>\n",
            "#11 0x5bbae83f2f5e <unknown>\n",
            "#12 0x5bbae868284b <unknown>\n",
            "#13 0x5bbae86867a5 <unknown>\n",
            "#14 0x5bbae8670571 <unknown>\n",
            "#15 0x5bbae8687332 <unknown>\n",
            "#16 0x5bbae865587f <unknown>\n",
            "#17 0x5bbae86ad728 <unknown>\n",
            "#18 0x5bbae86ad8fb <unknown>\n",
            "#19 0x5bbae86bd9b4 <unknown>\n",
            "#20 0x7d2d277ccac3 <unknown>\n",
            "\n",
            "An error occurred while processing an article: Message: \n",
            "Stacktrace:\n",
            "#0 0x5bbae86be863 <unknown>\n",
            "#1 0x5bbae83b48c6 <unknown>\n",
            "#2 0x5bbae83ff618 <unknown>\n",
            "#3 0x5bbae83ff6d1 <unknown>\n",
            "#4 0x5bbae83f3fa6 <unknown>\n",
            "#5 0x5bbae84215cd <unknown>\n",
            "#6 0x5bbae83f3e98 <unknown>\n",
            "#7 0x5bbae842176e <unknown>\n",
            "#8 0x5bbae843fc19 <unknown>\n",
            "#9 0x5bbae8421343 <unknown>\n",
            "#10 0x5bbae83f2593 <unknown>\n",
            "#11 0x5bbae83f2f5e <unknown>\n",
            "#12 0x5bbae868284b <unknown>\n",
            "#13 0x5bbae86867a5 <unknown>\n",
            "#14 0x5bbae8670571 <unknown>\n",
            "#15 0x5bbae8687332 <unknown>\n",
            "#16 0x5bbae865587f <unknown>\n",
            "#17 0x5bbae86ad728 <unknown>\n",
            "#18 0x5bbae86ad8fb <unknown>\n",
            "#19 0x5bbae86bd9b4 <unknown>\n",
            "#20 0x7d2d277ccac3 <unknown>\n",
            "\n",
            "An error occurred while extracting article info: Message: \n",
            "Stacktrace:\n",
            "#0 0x5bbae86be863 <unknown>\n",
            "#1 0x5bbae83b48c6 <unknown>\n",
            "#2 0x5bbae83ff618 <unknown>\n",
            "#3 0x5bbae83ff6d1 <unknown>\n",
            "#4 0x5bbae8442744 <unknown>\n",
            "#5 0x5bbae84215cd <unknown>\n",
            "#6 0x5bbae843fc19 <unknown>\n",
            "#7 0x5bbae8421343 <unknown>\n",
            "#8 0x5bbae83f2593 <unknown>\n",
            "#9 0x5bbae83f2f5e <unknown>\n",
            "#10 0x5bbae868284b <unknown>\n",
            "#11 0x5bbae86867a5 <unknown>\n",
            "#12 0x5bbae8670571 <unknown>\n",
            "#13 0x5bbae8687332 <unknown>\n",
            "#14 0x5bbae865587f <unknown>\n",
            "#15 0x5bbae86ad728 <unknown>\n",
            "#16 0x5bbae86ad8fb <unknown>\n",
            "#17 0x5bbae86bd9b4 <unknown>\n",
            "#18 0x7d2d277ccac3 <unknown>\n",
            "\n",
            "An error occurred while extracting article info: Message: \n",
            "Stacktrace:\n",
            "#0 0x5bbae86be863 <unknown>\n",
            "#1 0x5bbae83b48c6 <unknown>\n",
            "#2 0x5bbae83ff618 <unknown>\n",
            "#3 0x5bbae83ff6d1 <unknown>\n",
            "#4 0x5bbae8442744 <unknown>\n",
            "#5 0x5bbae84215cd <unknown>\n",
            "#6 0x5bbae843fc19 <unknown>\n",
            "#7 0x5bbae8421343 <unknown>\n",
            "#8 0x5bbae83f2593 <unknown>\n",
            "#9 0x5bbae83f2f5e <unknown>\n",
            "#10 0x5bbae868284b <unknown>\n",
            "#11 0x5bbae86867a5 <unknown>\n",
            "#12 0x5bbae8670571 <unknown>\n",
            "#13 0x5bbae8687332 <unknown>\n",
            "#14 0x5bbae865587f <unknown>\n",
            "#15 0x5bbae86ad728 <unknown>\n",
            "#16 0x5bbae86ad8fb <unknown>\n",
            "#17 0x5bbae86bd9b4 <unknown>\n",
            "#18 0x7d2d277ccac3 <unknown>\n",
            "\n",
            "An error occurred while extracting article info: Message: \n",
            "Stacktrace:\n",
            "#0 0x5bbae86be863 <unknown>\n",
            "#1 0x5bbae83b48c6 <unknown>\n",
            "#2 0x5bbae83ff618 <unknown>\n",
            "#3 0x5bbae83ff6d1 <unknown>\n",
            "#4 0x5bbae8442744 <unknown>\n",
            "#5 0x5bbae84215cd <unknown>\n",
            "#6 0x5bbae843fc19 <unknown>\n",
            "#7 0x5bbae8421343 <unknown>\n",
            "#8 0x5bbae83f2593 <unknown>\n",
            "#9 0x5bbae83f2f5e <unknown>\n",
            "#10 0x5bbae868284b <unknown>\n",
            "#11 0x5bbae86867a5 <unknown>\n",
            "#12 0x5bbae8670571 <unknown>\n",
            "#13 0x5bbae8687332 <unknown>\n",
            "#14 0x5bbae865587f <unknown>\n",
            "#15 0x5bbae86ad728 <unknown>\n",
            "#16 0x5bbae86ad8fb <unknown>\n",
            "#17 0x5bbae86bd9b4 <unknown>\n",
            "#18 0x7d2d277ccac3 <unknown>\n",
            "\n",
            "An error occurred while extracting article info: Message: \n",
            "Stacktrace:\n",
            "#0 0x5bbae86be863 <unknown>\n",
            "#1 0x5bbae83b48c6 <unknown>\n",
            "#2 0x5bbae83ff618 <unknown>\n",
            "#3 0x5bbae83ff6d1 <unknown>\n",
            "#4 0x5bbae8442744 <unknown>\n",
            "#5 0x5bbae84215cd <unknown>\n",
            "#6 0x5bbae843fc19 <unknown>\n",
            "#7 0x5bbae8421343 <unknown>\n",
            "#8 0x5bbae83f2593 <unknown>\n",
            "#9 0x5bbae83f2f5e <unknown>\n",
            "#10 0x5bbae868284b <unknown>\n",
            "#11 0x5bbae86867a5 <unknown>\n",
            "#12 0x5bbae8670571 <unknown>\n",
            "#13 0x5bbae8687332 <unknown>\n",
            "#14 0x5bbae865587f <unknown>\n",
            "#15 0x5bbae86ad728 <unknown>\n",
            "#16 0x5bbae86ad8fb <unknown>\n",
            "#17 0x5bbae86bd9b4 <unknown>\n",
            "#18 0x7d2d277ccac3 <unknown>\n",
            "\n",
            "An error occurred while extracting article info: Message: \n",
            "Stacktrace:\n",
            "#0 0x5bbae86be863 <unknown>\n",
            "#1 0x5bbae83b48c6 <unknown>\n",
            "#2 0x5bbae83ff618 <unknown>\n",
            "#3 0x5bbae83ff6d1 <unknown>\n",
            "#4 0x5bbae8442744 <unknown>\n",
            "#5 0x5bbae84215cd <unknown>\n",
            "#6 0x5bbae843fc19 <unknown>\n",
            "#7 0x5bbae8421343 <unknown>\n",
            "#8 0x5bbae83f2593 <unknown>\n",
            "#9 0x5bbae83f2f5e <unknown>\n",
            "#10 0x5bbae868284b <unknown>\n",
            "#11 0x5bbae86867a5 <unknown>\n",
            "#12 0x5bbae8670571 <unknown>\n",
            "#13 0x5bbae8687332 <unknown>\n",
            "#14 0x5bbae865587f <unknown>\n",
            "#15 0x5bbae86ad728 <unknown>\n",
            "#16 0x5bbae86ad8fb <unknown>\n",
            "#17 0x5bbae86bd9b4 <unknown>\n",
            "#18 0x7d2d277ccac3 <unknown>\n",
            "\n",
            "An error occurred while extracting article info: Message: \n",
            "Stacktrace:\n",
            "#0 0x5bbae86be863 <unknown>\n",
            "#1 0x5bbae83b48c6 <unknown>\n",
            "#2 0x5bbae83ff618 <unknown>\n",
            "#3 0x5bbae83ff6d1 <unknown>\n",
            "#4 0x5bbae8442744 <unknown>\n",
            "#5 0x5bbae84215cd <unknown>\n",
            "#6 0x5bbae843fc19 <unknown>\n",
            "#7 0x5bbae8421343 <unknown>\n",
            "#8 0x5bbae83f2593 <unknown>\n",
            "#9 0x5bbae83f2f5e <unknown>\n",
            "#10 0x5bbae868284b <unknown>\n",
            "#11 0x5bbae86867a5 <unknown>\n",
            "#12 0x5bbae8670571 <unknown>\n",
            "#13 0x5bbae8687332 <unknown>\n",
            "#14 0x5bbae865587f <unknown>\n",
            "#15 0x5bbae86ad728 <unknown>\n",
            "#16 0x5bbae86ad8fb <unknown>\n",
            "#17 0x5bbae86bd9b4 <unknown>\n",
            "#18 0x7d2d277ccac3 <unknown>\n",
            "\n",
            "An error occurred while extracting article info: Message: \n",
            "Stacktrace:\n",
            "#0 0x5bbae86be863 <unknown>\n",
            "#1 0x5bbae83b48c6 <unknown>\n",
            "#2 0x5bbae83ff618 <unknown>\n",
            "#3 0x5bbae83ff6d1 <unknown>\n",
            "#4 0x5bbae8442744 <unknown>\n",
            "#5 0x5bbae84215cd <unknown>\n",
            "#6 0x5bbae843fc19 <unknown>\n",
            "#7 0x5bbae8421343 <unknown>\n",
            "#8 0x5bbae83f2593 <unknown>\n",
            "#9 0x5bbae83f2f5e <unknown>\n",
            "#10 0x5bbae868284b <unknown>\n",
            "#11 0x5bbae86867a5 <unknown>\n",
            "#12 0x5bbae8670571 <unknown>\n",
            "#13 0x5bbae8687332 <unknown>\n",
            "#14 0x5bbae865587f <unknown>\n",
            "#15 0x5bbae86ad728 <unknown>\n",
            "#16 0x5bbae86ad8fb <unknown>\n",
            "#17 0x5bbae86bd9b4 <unknown>\n",
            "#18 0x7d2d277ccac3 <unknown>\n",
            "\n",
            "An error occurred while extracting article info: Message: \n",
            "Stacktrace:\n",
            "#0 0x5bbae86be863 <unknown>\n",
            "#1 0x5bbae83b48c6 <unknown>\n",
            "#2 0x5bbae83ff618 <unknown>\n",
            "#3 0x5bbae83ff6d1 <unknown>\n",
            "#4 0x5bbae8442744 <unknown>\n",
            "#5 0x5bbae84215cd <unknown>\n",
            "#6 0x5bbae843fc19 <unknown>\n",
            "#7 0x5bbae8421343 <unknown>\n",
            "#8 0x5bbae83f2593 <unknown>\n",
            "#9 0x5bbae83f2f5e <unknown>\n",
            "#10 0x5bbae868284b <unknown>\n",
            "#11 0x5bbae86867a5 <unknown>\n",
            "#12 0x5bbae8670571 <unknown>\n",
            "#13 0x5bbae8687332 <unknown>\n",
            "#14 0x5bbae865587f <unknown>\n",
            "#15 0x5bbae86ad728 <unknown>\n",
            "#16 0x5bbae86ad8fb <unknown>\n",
            "#17 0x5bbae86bd9b4 <unknown>\n",
            "#18 0x7d2d277ccac3 <unknown>\n",
            "\n",
            "An error occurred while extracting article info: Message: \n",
            "Stacktrace:\n",
            "#0 0x5bbae86be863 <unknown>\n",
            "#1 0x5bbae83b48c6 <unknown>\n",
            "#2 0x5bbae83ff618 <unknown>\n",
            "#3 0x5bbae83ff6d1 <unknown>\n",
            "#4 0x5bbae8442744 <unknown>\n",
            "#5 0x5bbae84215cd <unknown>\n",
            "#6 0x5bbae843fc19 <unknown>\n",
            "#7 0x5bbae8421343 <unknown>\n",
            "#8 0x5bbae83f2593 <unknown>\n",
            "#9 0x5bbae83f2f5e <unknown>\n",
            "#10 0x5bbae868284b <unknown>\n",
            "#11 0x5bbae86867a5 <unknown>\n",
            "#12 0x5bbae8670571 <unknown>\n",
            "#13 0x5bbae8687332 <unknown>\n",
            "#14 0x5bbae865587f <unknown>\n",
            "#15 0x5bbae86ad728 <unknown>\n",
            "#16 0x5bbae86ad8fb <unknown>\n",
            "#17 0x5bbae86bd9b4 <unknown>\n",
            "#18 0x7d2d277ccac3 <unknown>\n",
            "\n",
            "An error occurred while extracting article info: Message: \n",
            "Stacktrace:\n",
            "#0 0x5bbae86be863 <unknown>\n",
            "#1 0x5bbae83b48c6 <unknown>\n",
            "#2 0x5bbae83ff618 <unknown>\n",
            "#3 0x5bbae83ff6d1 <unknown>\n",
            "#4 0x5bbae8442744 <unknown>\n",
            "#5 0x5bbae84215cd <unknown>\n",
            "#6 0x5bbae843fc19 <unknown>\n",
            "#7 0x5bbae8421343 <unknown>\n",
            "#8 0x5bbae83f2593 <unknown>\n",
            "#9 0x5bbae83f2f5e <unknown>\n",
            "#10 0x5bbae868284b <unknown>\n",
            "#11 0x5bbae86867a5 <unknown>\n",
            "#12 0x5bbae8670571 <unknown>\n",
            "#13 0x5bbae8687332 <unknown>\n",
            "#14 0x5bbae865587f <unknown>\n",
            "#15 0x5bbae86ad728 <unknown>\n",
            "#16 0x5bbae86ad8fb <unknown>\n",
            "#17 0x5bbae86bd9b4 <unknown>\n",
            "#18 0x7d2d277ccac3 <unknown>\n",
            "\n",
            "An error occurred while extracting article info: Message: \n",
            "Stacktrace:\n",
            "#0 0x5bbae86be863 <unknown>\n",
            "#1 0x5bbae83b48c6 <unknown>\n",
            "#2 0x5bbae83ff618 <unknown>\n",
            "#3 0x5bbae83ff6d1 <unknown>\n",
            "#4 0x5bbae8442744 <unknown>\n",
            "#5 0x5bbae84215cd <unknown>\n",
            "#6 0x5bbae843fc19 <unknown>\n",
            "#7 0x5bbae8421343 <unknown>\n",
            "#8 0x5bbae83f2593 <unknown>\n",
            "#9 0x5bbae83f2f5e <unknown>\n",
            "#10 0x5bbae868284b <unknown>\n",
            "#11 0x5bbae86867a5 <unknown>\n",
            "#12 0x5bbae8670571 <unknown>\n",
            "#13 0x5bbae8687332 <unknown>\n",
            "#14 0x5bbae865587f <unknown>\n",
            "#15 0x5bbae86ad728 <unknown>\n",
            "#16 0x5bbae86ad8fb <unknown>\n",
            "#17 0x5bbae86bd9b4 <unknown>\n",
            "#18 0x7d2d277ccac3 <unknown>\n",
            "\n",
            "An error occurred while extracting article info: Message: \n",
            "Stacktrace:\n",
            "#0 0x5bbae86be863 <unknown>\n",
            "#1 0x5bbae83b48c6 <unknown>\n",
            "#2 0x5bbae83ff618 <unknown>\n",
            "#3 0x5bbae83ff6d1 <unknown>\n",
            "#4 0x5bbae8442744 <unknown>\n",
            "#5 0x5bbae84215cd <unknown>\n",
            "#6 0x5bbae843fc19 <unknown>\n",
            "#7 0x5bbae8421343 <unknown>\n",
            "#8 0x5bbae83f2593 <unknown>\n",
            "#9 0x5bbae83f2f5e <unknown>\n",
            "#10 0x5bbae868284b <unknown>\n",
            "#11 0x5bbae86867a5 <unknown>\n",
            "#12 0x5bbae8670571 <unknown>\n",
            "#13 0x5bbae8687332 <unknown>\n",
            "#14 0x5bbae865587f <unknown>\n",
            "#15 0x5bbae86ad728 <unknown>\n",
            "#16 0x5bbae86ad8fb <unknown>\n",
            "#17 0x5bbae86bd9b4 <unknown>\n",
            "#18 0x7d2d277ccac3 <unknown>\n",
            "\n",
            "An error occurred while processing an article: Message: \n",
            "Stacktrace:\n",
            "#0 0x5bbae86be863 <unknown>\n",
            "#1 0x5bbae83b48c6 <unknown>\n",
            "#2 0x5bbae83ff618 <unknown>\n",
            "#3 0x5bbae83ff6d1 <unknown>\n",
            "#4 0x5bbae83f3fa6 <unknown>\n",
            "#5 0x5bbae84215cd <unknown>\n",
            "#6 0x5bbae83f3e98 <unknown>\n",
            "#7 0x5bbae842176e <unknown>\n",
            "#8 0x5bbae843fc19 <unknown>\n",
            "#9 0x5bbae8421343 <unknown>\n",
            "#10 0x5bbae83f2593 <unknown>\n",
            "#11 0x5bbae83f2f5e <unknown>\n",
            "#12 0x5bbae868284b <unknown>\n",
            "#13 0x5bbae86867a5 <unknown>\n",
            "#14 0x5bbae8670571 <unknown>\n",
            "#15 0x5bbae8687332 <unknown>\n",
            "#16 0x5bbae865587f <unknown>\n",
            "#17 0x5bbae86ad728 <unknown>\n",
            "#18 0x5bbae86ad8fb <unknown>\n",
            "#19 0x5bbae86bd9b4 <unknown>\n",
            "#20 0x7d2d277ccac3 <unknown>\n",
            "\n",
            "An error occurred while processing an article: Message: \n",
            "Stacktrace:\n",
            "#0 0x5bbae86be863 <unknown>\n",
            "#1 0x5bbae83b48c6 <unknown>\n",
            "#2 0x5bbae83ff618 <unknown>\n",
            "#3 0x5bbae83ff6d1 <unknown>\n",
            "#4 0x5bbae83f3fa6 <unknown>\n",
            "#5 0x5bbae84215cd <unknown>\n",
            "#6 0x5bbae83f3e98 <unknown>\n",
            "#7 0x5bbae842176e <unknown>\n",
            "#8 0x5bbae843fc19 <unknown>\n",
            "#9 0x5bbae8421343 <unknown>\n",
            "#10 0x5bbae83f2593 <unknown>\n",
            "#11 0x5bbae83f2f5e <unknown>\n",
            "#12 0x5bbae868284b <unknown>\n",
            "#13 0x5bbae86867a5 <unknown>\n",
            "#14 0x5bbae8670571 <unknown>\n",
            "#15 0x5bbae8687332 <unknown>\n",
            "#16 0x5bbae865587f <unknown>\n",
            "#17 0x5bbae86ad728 <unknown>\n",
            "#18 0x5bbae86ad8fb <unknown>\n",
            "#19 0x5bbae86bd9b4 <unknown>\n",
            "#20 0x7d2d277ccac3 <unknown>\n",
            "\n",
            "An error occurred while processing an article: Message: \n",
            "Stacktrace:\n",
            "#0 0x5bbae86be863 <unknown>\n",
            "#1 0x5bbae83b48c6 <unknown>\n",
            "#2 0x5bbae83ff618 <unknown>\n",
            "#3 0x5bbae83ff6d1 <unknown>\n",
            "#4 0x5bbae83f3fa6 <unknown>\n",
            "#5 0x5bbae84215cd <unknown>\n",
            "#6 0x5bbae83f3e98 <unknown>\n",
            "#7 0x5bbae842176e <unknown>\n",
            "#8 0x5bbae843fc19 <unknown>\n",
            "#9 0x5bbae8421343 <unknown>\n",
            "#10 0x5bbae83f2593 <unknown>\n",
            "#11 0x5bbae83f2f5e <unknown>\n",
            "#12 0x5bbae868284b <unknown>\n",
            "#13 0x5bbae86867a5 <unknown>\n",
            "#14 0x5bbae8670571 <unknown>\n",
            "#15 0x5bbae8687332 <unknown>\n",
            "#16 0x5bbae865587f <unknown>\n",
            "#17 0x5bbae86ad728 <unknown>\n",
            "#18 0x5bbae86ad8fb <unknown>\n",
            "#19 0x5bbae86bd9b4 <unknown>\n",
            "#20 0x7d2d277ccac3 <unknown>\n",
            "\n",
            "An error occurred while processing an article: Message: \n",
            "Stacktrace:\n",
            "#0 0x5bbae86be863 <unknown>\n",
            "#1 0x5bbae83b48c6 <unknown>\n",
            "#2 0x5bbae83ff618 <unknown>\n",
            "#3 0x5bbae83ff6d1 <unknown>\n",
            "#4 0x5bbae83f3fa6 <unknown>\n",
            "#5 0x5bbae84215cd <unknown>\n",
            "#6 0x5bbae83f3e98 <unknown>\n",
            "#7 0x5bbae842176e <unknown>\n",
            "#8 0x5bbae843fc19 <unknown>\n",
            "#9 0x5bbae8421343 <unknown>\n",
            "#10 0x5bbae83f2593 <unknown>\n",
            "#11 0x5bbae83f2f5e <unknown>\n",
            "#12 0x5bbae868284b <unknown>\n",
            "#13 0x5bbae86867a5 <unknown>\n",
            "#14 0x5bbae8670571 <unknown>\n",
            "#15 0x5bbae8687332 <unknown>\n",
            "#16 0x5bbae865587f <unknown>\n",
            "#17 0x5bbae86ad728 <unknown>\n",
            "#18 0x5bbae86ad8fb <unknown>\n",
            "#19 0x5bbae86bd9b4 <unknown>\n",
            "#20 0x7d2d277ccac3 <unknown>\n",
            "\n",
            "An error occurred while processing an article: Message: \n",
            "Stacktrace:\n",
            "#0 0x5bbae86be863 <unknown>\n",
            "#1 0x5bbae83b48c6 <unknown>\n",
            "#2 0x5bbae83ff618 <unknown>\n",
            "#3 0x5bbae83ff6d1 <unknown>\n",
            "#4 0x5bbae83f3fa6 <unknown>\n",
            "#5 0x5bbae84215cd <unknown>\n",
            "#6 0x5bbae83f3e98 <unknown>\n",
            "#7 0x5bbae842176e <unknown>\n",
            "#8 0x5bbae843fc19 <unknown>\n",
            "#9 0x5bbae8421343 <unknown>\n",
            "#10 0x5bbae83f2593 <unknown>\n",
            "#11 0x5bbae83f2f5e <unknown>\n",
            "#12 0x5bbae868284b <unknown>\n",
            "#13 0x5bbae86867a5 <unknown>\n",
            "#14 0x5bbae8670571 <unknown>\n",
            "#15 0x5bbae8687332 <unknown>\n",
            "#16 0x5bbae865587f <unknown>\n",
            "#17 0x5bbae86ad728 <unknown>\n",
            "#18 0x5bbae86ad8fb <unknown>\n",
            "#19 0x5bbae86bd9b4 <unknown>\n",
            "#20 0x7d2d277ccac3 <unknown>\n",
            "\n",
            "An error occurred while extracting article info: Message: \n",
            "Stacktrace:\n",
            "#0 0x5bbae86be863 <unknown>\n",
            "#1 0x5bbae83b48c6 <unknown>\n",
            "#2 0x5bbae83ff618 <unknown>\n",
            "#3 0x5bbae83ff6d1 <unknown>\n",
            "#4 0x5bbae8442744 <unknown>\n",
            "#5 0x5bbae84215cd <unknown>\n",
            "#6 0x5bbae843fc19 <unknown>\n",
            "#7 0x5bbae8421343 <unknown>\n",
            "#8 0x5bbae83f2593 <unknown>\n",
            "#9 0x5bbae83f2f5e <unknown>\n",
            "#10 0x5bbae868284b <unknown>\n",
            "#11 0x5bbae86867a5 <unknown>\n",
            "#12 0x5bbae8670571 <unknown>\n",
            "#13 0x5bbae8687332 <unknown>\n",
            "#14 0x5bbae865587f <unknown>\n",
            "#15 0x5bbae86ad728 <unknown>\n",
            "#16 0x5bbae86ad8fb <unknown>\n",
            "#17 0x5bbae86bd9b4 <unknown>\n",
            "#18 0x7d2d277ccac3 <unknown>\n",
            "\n",
            "An error occurred while extracting article info: Message: \n",
            "Stacktrace:\n",
            "#0 0x5bbae86be863 <unknown>\n",
            "#1 0x5bbae83b48c6 <unknown>\n",
            "#2 0x5bbae83ff618 <unknown>\n",
            "#3 0x5bbae83ff6d1 <unknown>\n",
            "#4 0x5bbae8442744 <unknown>\n",
            "#5 0x5bbae84215cd <unknown>\n",
            "#6 0x5bbae843fc19 <unknown>\n",
            "#7 0x5bbae8421343 <unknown>\n",
            "#8 0x5bbae83f2593 <unknown>\n",
            "#9 0x5bbae83f2f5e <unknown>\n",
            "#10 0x5bbae868284b <unknown>\n",
            "#11 0x5bbae86867a5 <unknown>\n",
            "#12 0x5bbae8670571 <unknown>\n",
            "#13 0x5bbae8687332 <unknown>\n",
            "#14 0x5bbae865587f <unknown>\n",
            "#15 0x5bbae86ad728 <unknown>\n",
            "#16 0x5bbae86ad8fb <unknown>\n",
            "#17 0x5bbae86bd9b4 <unknown>\n",
            "#18 0x7d2d277ccac3 <unknown>\n",
            "\n",
            "An error occurred while extracting article info: Message: \n",
            "Stacktrace:\n",
            "#0 0x5bbae86be863 <unknown>\n",
            "#1 0x5bbae83b48c6 <unknown>\n",
            "#2 0x5bbae83ff618 <unknown>\n",
            "#3 0x5bbae83ff6d1 <unknown>\n",
            "#4 0x5bbae8442744 <unknown>\n",
            "#5 0x5bbae84215cd <unknown>\n",
            "#6 0x5bbae843fc19 <unknown>\n",
            "#7 0x5bbae8421343 <unknown>\n",
            "#8 0x5bbae83f2593 <unknown>\n",
            "#9 0x5bbae83f2f5e <unknown>\n",
            "#10 0x5bbae868284b <unknown>\n",
            "#11 0x5bbae86867a5 <unknown>\n",
            "#12 0x5bbae8670571 <unknown>\n",
            "#13 0x5bbae8687332 <unknown>\n",
            "#14 0x5bbae865587f <unknown>\n",
            "#15 0x5bbae86ad728 <unknown>\n",
            "#16 0x5bbae86ad8fb <unknown>\n",
            "#17 0x5bbae86bd9b4 <unknown>\n",
            "#18 0x7d2d277ccac3 <unknown>\n",
            "\n",
            "An error occurred while extracting article info: Message: \n",
            "Stacktrace:\n",
            "#0 0x5bbae86be863 <unknown>\n",
            "#1 0x5bbae83b48c6 <unknown>\n",
            "#2 0x5bbae83ff618 <unknown>\n",
            "#3 0x5bbae83ff6d1 <unknown>\n",
            "#4 0x5bbae8442744 <unknown>\n",
            "#5 0x5bbae84215cd <unknown>\n",
            "#6 0x5bbae843fc19 <unknown>\n",
            "#7 0x5bbae8421343 <unknown>\n",
            "#8 0x5bbae83f2593 <unknown>\n",
            "#9 0x5bbae83f2f5e <unknown>\n",
            "#10 0x5bbae868284b <unknown>\n",
            "#11 0x5bbae86867a5 <unknown>\n",
            "#12 0x5bbae8670571 <unknown>\n",
            "#13 0x5bbae8687332 <unknown>\n",
            "#14 0x5bbae865587f <unknown>\n",
            "#15 0x5bbae86ad728 <unknown>\n",
            "#16 0x5bbae86ad8fb <unknown>\n",
            "#17 0x5bbae86bd9b4 <unknown>\n",
            "#18 0x7d2d277ccac3 <unknown>\n",
            "\n",
            "An error occurred while extracting article info: Message: \n",
            "Stacktrace:\n",
            "#0 0x5bbae86be863 <unknown>\n",
            "#1 0x5bbae83b48c6 <unknown>\n",
            "#2 0x5bbae83ff618 <unknown>\n",
            "#3 0x5bbae83ff6d1 <unknown>\n",
            "#4 0x5bbae8442744 <unknown>\n",
            "#5 0x5bbae84215cd <unknown>\n",
            "#6 0x5bbae843fc19 <unknown>\n",
            "#7 0x5bbae8421343 <unknown>\n",
            "#8 0x5bbae83f2593 <unknown>\n",
            "#9 0x5bbae83f2f5e <unknown>\n",
            "#10 0x5bbae868284b <unknown>\n",
            "#11 0x5bbae86867a5 <unknown>\n",
            "#12 0x5bbae8670571 <unknown>\n",
            "#13 0x5bbae8687332 <unknown>\n",
            "#14 0x5bbae865587f <unknown>\n",
            "#15 0x5bbae86ad728 <unknown>\n",
            "#16 0x5bbae86ad8fb <unknown>\n",
            "#17 0x5bbae86bd9b4 <unknown>\n",
            "#18 0x7d2d277ccac3 <unknown>\n",
            "\n",
            "An error occurred while extracting article info: Message: \n",
            "Stacktrace:\n",
            "#0 0x5bbae86be863 <unknown>\n",
            "#1 0x5bbae83b48c6 <unknown>\n",
            "#2 0x5bbae83ff618 <unknown>\n",
            "#3 0x5bbae83ff6d1 <unknown>\n",
            "#4 0x5bbae8442744 <unknown>\n",
            "#5 0x5bbae84215cd <unknown>\n",
            "#6 0x5bbae843fc19 <unknown>\n",
            "#7 0x5bbae8421343 <unknown>\n",
            "#8 0x5bbae83f2593 <unknown>\n",
            "#9 0x5bbae83f2f5e <unknown>\n",
            "#10 0x5bbae868284b <unknown>\n",
            "#11 0x5bbae86867a5 <unknown>\n",
            "#12 0x5bbae8670571 <unknown>\n",
            "#13 0x5bbae8687332 <unknown>\n",
            "#14 0x5bbae865587f <unknown>\n",
            "#15 0x5bbae86ad728 <unknown>\n",
            "#16 0x5bbae86ad8fb <unknown>\n",
            "#17 0x5bbae86bd9b4 <unknown>\n",
            "#18 0x7d2d277ccac3 <unknown>\n",
            "\n",
            "An error occurred while extracting article info: Message: \n",
            "Stacktrace:\n",
            "#0 0x5bbae86be863 <unknown>\n",
            "#1 0x5bbae83b48c6 <unknown>\n",
            "#2 0x5bbae83ff618 <unknown>\n",
            "#3 0x5bbae83ff6d1 <unknown>\n",
            "#4 0x5bbae8442744 <unknown>\n",
            "#5 0x5bbae84215cd <unknown>\n",
            "#6 0x5bbae843fc19 <unknown>\n",
            "#7 0x5bbae8421343 <unknown>\n",
            "#8 0x5bbae83f2593 <unknown>\n",
            "#9 0x5bbae83f2f5e <unknown>\n",
            "#10 0x5bbae868284b <unknown>\n",
            "#11 0x5bbae86867a5 <unknown>\n",
            "#12 0x5bbae8670571 <unknown>\n",
            "#13 0x5bbae8687332 <unknown>\n",
            "#14 0x5bbae865587f <unknown>\n",
            "#15 0x5bbae86ad728 <unknown>\n",
            "#16 0x5bbae86ad8fb <unknown>\n",
            "#17 0x5bbae86bd9b4 <unknown>\n",
            "#18 0x7d2d277ccac3 <unknown>\n",
            "\n",
            "An error occurred while extracting article info: Message: \n",
            "Stacktrace:\n",
            "#0 0x5bbae86be863 <unknown>\n",
            "#1 0x5bbae83b48c6 <unknown>\n",
            "#2 0x5bbae83ff618 <unknown>\n",
            "#3 0x5bbae83ff6d1 <unknown>\n",
            "#4 0x5bbae8442744 <unknown>\n",
            "#5 0x5bbae84215cd <unknown>\n",
            "#6 0x5bbae843fc19 <unknown>\n",
            "#7 0x5bbae8421343 <unknown>\n",
            "#8 0x5bbae83f2593 <unknown>\n",
            "#9 0x5bbae83f2f5e <unknown>\n",
            "#10 0x5bbae868284b <unknown>\n",
            "#11 0x5bbae86867a5 <unknown>\n",
            "#12 0x5bbae8670571 <unknown>\n",
            "#13 0x5bbae8687332 <unknown>\n",
            "#14 0x5bbae865587f <unknown>\n",
            "#15 0x5bbae86ad728 <unknown>\n",
            "#16 0x5bbae86ad8fb <unknown>\n",
            "#17 0x5bbae86bd9b4 <unknown>\n",
            "#18 0x7d2d277ccac3 <unknown>\n",
            "\n",
            "An error occurred while extracting article info: Message: \n",
            "Stacktrace:\n",
            "#0 0x5bbae86be863 <unknown>\n",
            "#1 0x5bbae83b48c6 <unknown>\n",
            "#2 0x5bbae83ff618 <unknown>\n",
            "#3 0x5bbae83ff6d1 <unknown>\n",
            "#4 0x5bbae8442744 <unknown>\n",
            "#5 0x5bbae84215cd <unknown>\n",
            "#6 0x5bbae843fc19 <unknown>\n",
            "#7 0x5bbae8421343 <unknown>\n",
            "#8 0x5bbae83f2593 <unknown>\n",
            "#9 0x5bbae83f2f5e <unknown>\n",
            "#10 0x5bbae868284b <unknown>\n",
            "#11 0x5bbae86867a5 <unknown>\n",
            "#12 0x5bbae8670571 <unknown>\n",
            "#13 0x5bbae8687332 <unknown>\n",
            "#14 0x5bbae865587f <unknown>\n",
            "#15 0x5bbae86ad728 <unknown>\n",
            "#16 0x5bbae86ad8fb <unknown>\n",
            "#17 0x5bbae86bd9b4 <unknown>\n",
            "#18 0x7d2d277ccac3 <unknown>\n",
            "\n"
          ]
        }
      ]
    },
    {
      "cell_type": "code",
      "source": [
        "import pandas as pd\n",
        "import matplotlib.pyplot as plt\n",
        "\n",
        "# Read the CSV file\n",
        "df = pd.read_csv(\"/content/FATABAYYANO_articles_RAW_data.csv\")\n",
        "\n",
        "# Display the head of the cleaned data\n",
        "print(\"Head of the cleaned data:\")\n",
        "print(df.head())\n",
        "\n",
        "# Display the shape of the cleaned data\n",
        "print(\"\\nShape of the cleaned data:\", df.shape)\n",
        "# Remove duplicates\n",
        "df.drop_duplicates(inplace=True)\n",
        "\n",
        "# Remove rows with empty Title and blank or NA Content\n",
        "df = df.dropna(subset=['Title'])\n",
        "df = df[df['Content'].notna()]\n",
        "\n",
        "# Fill empty Content with Title\n",
        "df['Content'].fillna(df['Title'], inplace=True)\n",
        "\n",
        "# Generate a new CSV file\n",
        "df.to_csv(\"/content/FATABAYYANO_articles_cleaned_data.csv\", index=False)\n",
        "\n",
        "# Visualization\n",
        "plt.figure(figsize=(10, 5))\n",
        "\n",
        "# Pie chart for Label\n",
        "plt.subplot(1, 2, 1)\n",
        "df['Label'].value_counts().plot(kind='pie', autopct='%1.1f%%')\n",
        "plt.title('Label Distribution')\n",
        "\n",
        "# Pie chart for Category\n",
        "plt.subplot(1, 2, 2)\n",
        "df['Category'].value_counts().plot(kind='pie', autopct='%1.1f%%')\n",
        "plt.title('Category Distribution')\n",
        "\n",
        "plt.tight_layout()\n",
        "plt.show()\n"
      ],
      "metadata": {
        "colab": {
          "base_uri": "https://localhost:8080/",
          "height": 1000
        },
        "id": "dpxHMTuWhY60",
        "outputId": "538aed1e-7ef2-496a-fcd8-686cbf198641"
      },
      "execution_count": 2,
      "outputs": [
        {
          "output_type": "stream",
          "name": "stdout",
          "text": [
            "Head of the cleaned data:\n",
            "                                               Title Label Category  \\\n",
            "0  لا، لم تحظر اليابان لقاحات كوفيد 19، ولا صحة ل...  زائف     زائف   \n",
            "1  هذه الصورة تعود لاستعراض عسكري في كوريا الشمال...  زائف     مضلل   \n",
            "2  هذه الصورة لا تظهر تنبؤ مسلسل سيمبسون بحادثة ا...  زائف     زائف   \n",
            "3  قبطان السفينة التي تسببت بانهيار جسر “فرانسيس ...  زائف     مضلل   \n",
            "4  هذا المقطع متداول منذ عام 2014 على الأقل، ولا ...  زائف     مضلل   \n",
            "\n",
            "                                             Content  \\\n",
            "0  تناقل ناشطون على مواقع التواصل خبرًا يدّعي حظر...   \n",
            "1  نشرت إحدى صفحات فيسبوك الادعاء بتاريخ 6 أفريل ...   \n",
            "2  نشر أحد مستخدمي فيسبوك الصورة في 30 مارس 2024 ...   \n",
            "3  نشرت إحدى حسابات فيسبوك الادعاء بتاريخ 27 مارس...   \n",
            "4  نشرت إحدى حسابات فيسبوك الادعاء بتاريخ 06 أبري...   \n",
            "\n",
            "                        Date  \\\n",
            "0  2024-04-12T01:59:53+03:00   \n",
            "1  2024-04-12T01:44:52+03:00   \n",
            "2  2024-04-12T01:38:05+03:00   \n",
            "3  2024-04-10T04:43:20+03:00   \n",
            "4  2024-04-10T03:27:11+03:00   \n",
            "\n",
            "                                                 URL  \n",
            "0             https://fatabyyano.net/371617829383-2/  \n",
            "1  https://fatabyyano.net/%D9%87%D8%B0%D9%87-%D8%...  \n",
            "2  https://fatabyyano.net/%D9%87%D8%B0%D9%87-%D8%...  \n",
            "3  https://fatabyyano.net/%D8%B1%D8%A8%D8%A7%D9%8...  \n",
            "4  https://fatabyyano.net/%D9%87%D8%B0%D8%A7-%D8%...  \n",
            "\n",
            "Shape of the cleaned data: (1183, 6)\n"
          ]
        },
        {
          "output_type": "display_data",
          "data": {
            "text/plain": [
              "<Figure size 1000x500 with 2 Axes>"
            ],
            "image/png": "[encoded data removed]"
          },
          "metadata": {}
        }
      ]
    },
    {
      "cell_type": "code",
      "source": [
        "from transformers import pipeline\n",
        "from tqdm import tqdm\n",
        "\n",
        "# Load the CSV file into a DataFrame with specified column names\n",
        "df = pd.read_csv('/content/FATABAYYANO_articles_cleaned_data.csv', names=['Title', 'Label', 'Category', 'Content', 'Date','URL'])\n",
        "df.head()\n",
        "print(\"Shape of the DataFrame :\", df.shape)\n",
        "# Remove rows with empty article_content\n",
        "df = df[df['Content'].notna() & (df['Content'] != '')]\n",
        "#df = df.dropna(subset=['article_content'])\n",
        "print(\"Shape of the DataFrame after dropping NANS:\", df.shape)\n",
        "# Initialize the topic classification pipeline\n",
        "topic_pipe = pipeline(\"text-classification\", model=\"Ammar-alhaj-ali/arabic-MARBERT-news-article-classification\")\n",
        "\n",
        "# Function to classify the text into one of the predefined topics\n",
        "def classify_topic(text):\n",
        "    # Split the text into smaller chunks\n",
        "    max_chunk_length = 512  # Maximum sequence length supported by the model\n",
        "    chunks = [text[:max_chunk_length]]\n",
        "\n",
        "    # Calculate the estimated time\n",
        "    num_chunks = len(chunks)\n",
        "    estimated_time_per_chunk = 2  # Estimated time per chunk in seconds\n",
        "    total_estimated_time = num_chunks * estimated_time_per_chunk\n",
        "\n",
        "    # Show message indicating topic prediction is in progress\n",
        "    print(\"Predicting topics... (Estimated time: {:.2f} seconds)\".format(total_estimated_time))\n",
        "\n",
        "    # Initialize a progress bar\n",
        "    with tqdm(total=num_chunks, desc=\"Prediction Progress\") as pbar:\n",
        "        # Classify the first chunk\n",
        "        prediction = topic_pipe(chunks[0])\n",
        "\n",
        "        # Update the progress bar\n",
        "        pbar.update(1)\n",
        "\n",
        "    # Get the predicted topic\n",
        "    predicted_topic = prediction[0]['label']\n",
        "    return predicted_topic\n",
        "\n",
        "# Add a new column \"TOPIC\" to the DataFrame and populate it with topics predicted from the article content\n",
        "df['TOPIC'] = df['Content'].apply(classify_topic)\n",
        "\n",
        "# Save the DataFrame with the new column back to a CSV file with the same column names\n",
        "df.to_csv('/content/FATABAYYANO_articles_cleaned_data_with_topics.csv', index=False, header=['Title', 'Label', 'Category', 'Content', 'Date','URL' ,'TOPIC'])\n",
        "\n",
        ""
      ],
      "metadata": {
        "colab": {
          "base_uri": "https://localhost:8080/"
        },
        "id": "d7apcSD2kDgx",
        "outputId": "66cde910-f065-4d76-bfa9-793ed765628f"
      },
      "execution_count": 6,
      "outputs": [
        {
          "output_type": "stream",
          "name": "stdout",
          "text": [
            "Shape of the DataFrame : (441, 6)\n",
            "Shape of the DataFrame after dropping NANS: (441, 6)\n",
            "Predicting topics... (Estimated time: 2.00 seconds)\n"
          ]
        },
        {
          "output_type": "stream",
          "name": "stderr",
          "text": [
            "Prediction Progress: 100%|██████████| 1/1 [00:00<00:00,  5.16it/s]\n"
          ]
        },
        {
          "output_type": "stream",
          "name": "stdout",
          "text": [
            "Predicting topics... (Estimated time: 2.00 seconds)\n"
          ]
        },
        {
          "output_type": "stream",
          "name": "stderr",
          "text": [
            "Prediction Progress: 100%|██████████| 1/1 [00:00<00:00,  3.45it/s]\n"
          ]
        },
        {
          "output_type": "stream",
          "name": "stdout",
          "text": [
            "Predicting topics... (Estimated time: 2.00 seconds)\n"
          ]
        },
        {
          "output_type": "stream",
          "name": "stderr",
          "text": [
            "Prediction Progress: 100%|██████████| 1/1 [00:00<00:00,  2.82it/s]\n"
          ]
        },
        {
          "output_type": "stream",
          "name": "stdout",
          "text": [
            "Predicting topics... (Estimated time: 2.00 seconds)\n"
          ]
        },
        {
          "output_type": "stream",
          "name": "stderr",
          "text": [
            "Prediction Progress: 100%|██████████| 1/1 [00:00<00:00,  1.98it/s]\n"
          ]
        },
        {
          "output_type": "stream",
          "name": "stdout",
          "text": [
            "Predicting topics... (Estimated time: 2.00 seconds)\n"
          ]
        },
        {
          "output_type": "stream",
          "name": "stderr",
          "text": [
            "Prediction Progress: 100%|██████████| 1/1 [00:00<00:00,  5.29it/s]\n"
          ]
        },
        {
          "output_type": "stream",
          "name": "stdout",
          "text": [
            "Predicting topics... (Estimated time: 2.00 seconds)\n"
          ]
        },
        {
          "output_type": "stream",
          "name": "stderr",
          "text": [
            "Prediction Progress: 100%|██████████| 1/1 [00:00<00:00,  5.03it/s]\n"
          ]
        },
        {
          "output_type": "stream",
          "name": "stdout",
          "text": [
            "Predicting topics... (Estimated time: 2.00 seconds)\n"
          ]
        },
        {
          "output_type": "stream",
          "name": "stderr",
          "text": [
            "Prediction Progress: 100%|██████████| 1/1 [00:00<00:00,  2.61it/s]\n"
          ]
        },
        {
          "output_type": "stream",
          "name": "stdout",
          "text": [
            "Predicting topics... (Estimated time: 2.00 seconds)\n"
          ]
        },
        {
          "output_type": "stream",
          "name": "stderr",
          "text": [
            "Prediction Progress: 100%|██████████| 1/1 [00:00<00:00,  4.97it/s]\n"
          ]
        },
        {
          "output_type": "stream",
          "name": "stdout",
          "text": [
            "Predicting topics... (Estimated time: 2.00 seconds)\n"
          ]
        },
        {
          "output_type": "stream",
          "name": "stderr",
          "text": [
            "Prediction Progress: 100%|██████████| 1/1 [00:00<00:00,  3.46it/s]\n"
          ]
        },
        {
          "output_type": "stream",
          "name": "stdout",
          "text": [
            "Predicting topics... (Estimated time: 2.00 seconds)\n"
          ]
        },
        {
          "output_type": "stream",
          "name": "stderr",
          "text": [
            "Prediction Progress: 100%|██████████| 1/1 [00:00<00:00,  5.31it/s]\n"
          ]
        },
        {
          "output_type": "stream",
          "name": "stdout",
          "text": [
            "Predicting topics... (Estimated time: 2.00 seconds)\n"
          ]
        },
        {
          "output_type": "stream",
          "name": "stderr",
          "text": [
            "Prediction Progress: 100%|██████████| 1/1 [00:00<00:00,  2.59it/s]\n"
          ]
        },
        {
          "output_type": "stream",
          "name": "stdout",
          "text": [
            "Predicting topics... (Estimated time: 2.00 seconds)\n"
          ]
        },
        {
          "output_type": "stream",
          "name": "stderr",
          "text": [
            "Prediction Progress: 100%|██████████| 1/1 [00:00<00:00,  1.95it/s]\n"
          ]
        },
        {
          "output_type": "stream",
          "name": "stdout",
          "text": [
            "Predicting topics... (Estimated time: 2.00 seconds)\n"
          ]
        },
        {
          "output_type": "stream",
          "name": "stderr",
          "text": [
            "Prediction Progress: 100%|██████████| 1/1 [00:00<00:00,  1.20it/s]\n"
          ]
        },
        {
          "output_type": "stream",
          "name": "stdout",
          "text": [
            "Predicting topics... (Estimated time: 2.00 seconds)\n"
          ]
        },
        {
          "output_type": "stream",
          "name": "stderr",
          "text": [
            "Prediction Progress: 100%|██████████| 1/1 [00:00<00:00,  1.59it/s]\n"
          ]
        },
        {
          "output_type": "stream",
          "name": "stdout",
          "text": [
            "Predicting topics... (Estimated time: 2.00 seconds)\n"
          ]
        },
        {
          "output_type": "stream",
          "name": "stderr",
          "text": [
            "Prediction Progress: 100%|██████████| 1/1 [00:00<00:00,  1.57it/s]\n"
          ]
        },
        {
          "output_type": "stream",
          "name": "stdout",
          "text": [
            "Predicting topics... (Estimated time: 2.00 seconds)\n"
          ]
        },
        {
          "output_type": "stream",
          "name": "stderr",
          "text": [
            "Prediction Progress: 100%|██████████| 1/1 [00:00<00:00,  1.88it/s]\n"
          ]
        },
        {
          "output_type": "stream",
          "name": "stdout",
          "text": [
            "Predicting topics... (Estimated time: 2.00 seconds)\n"
          ]
        },
        {
          "output_type": "stream",
          "name": "stderr",
          "text": [
            "Prediction Progress: 100%|██████████| 1/1 [00:00<00:00,  4.79it/s]\n"
          ]
        },
        {
          "output_type": "stream",
          "name": "stdout",
          "text": [
            "Predicting topics... (Estimated time: 2.00 seconds)\n"
          ]
        },
        {
          "output_type": "stream",
          "name": "stderr",
          "text": [
            "Prediction Progress: 100%|██████████| 1/1 [00:00<00:00,  4.31it/s]\n"
          ]
        },
        {
          "output_type": "stream",
          "name": "stdout",
          "text": [
            "Predicting topics... (Estimated time: 2.00 seconds)\n"
          ]
        },
        {
          "output_type": "stream",
          "name": "stderr",
          "text": [
            "Prediction Progress: 100%|██████████| 1/1 [00:00<00:00,  2.24it/s]\n"
          ]
        },
        {
          "output_type": "stream",
          "name": "stdout",
          "text": [
            "Predicting topics... (Estimated time: 2.00 seconds)\n"
          ]
        },
        {
          "output_type": "stream",
          "name": "stderr",
          "text": [
            "Prediction Progress: 100%|██████████| 1/1 [00:00<00:00,  4.53it/s]\n"
          ]
        },
        {
          "output_type": "stream",
          "name": "stdout",
          "text": [
            "Predicting topics... (Estimated time: 2.00 seconds)\n"
          ]
        },
        {
          "output_type": "stream",
          "name": "stderr",
          "text": [
            "Prediction Progress: 100%|██████████| 1/1 [00:00<00:00,  4.74it/s]\n"
          ]
        },
        {
          "output_type": "stream",
          "name": "stdout",
          "text": [
            "Predicting topics... (Estimated time: 2.00 seconds)\n"
          ]
        },
        {
          "output_type": "stream",
          "name": "stderr",
          "text": [
            "Prediction Progress: 100%|██████████| 1/1 [00:00<00:00,  4.31it/s]\n"
          ]
        },
        {
          "output_type": "stream",
          "name": "stdout",
          "text": [
            "Predicting topics... (Estimated time: 2.00 seconds)\n"
          ]
        },
        {
          "output_type": "stream",
          "name": "stderr",
          "text": [
            "Prediction Progress: 100%|██████████| 1/1 [00:00<00:00,  3.57it/s]\n"
          ]
        },
        {
          "output_type": "stream",
          "name": "stdout",
          "text": [
            "Predicting topics... (Estimated time: 2.00 seconds)\n"
          ]
        },
        {
          "output_type": "stream",
          "name": "stderr",
          "text": [
            "Prediction Progress: 100%|██████████| 1/1 [00:00<00:00,  4.16it/s]\n"
          ]
        },
        {
          "output_type": "stream",
          "name": "stdout",
          "text": [
            "Predicting topics... (Estimated time: 2.00 seconds)\n"
          ]
        },
        {
          "output_type": "stream",
          "name": "stderr",
          "text": [
            "Prediction Progress: 100%|██████████| 1/1 [00:00<00:00,  3.86it/s]\n"
          ]
        },
        {
          "output_type": "stream",
          "name": "stdout",
          "text": [
            "Predicting topics... (Estimated time: 2.00 seconds)\n"
          ]
        },
        {
          "output_type": "stream",
          "name": "stderr",
          "text": [
            "Prediction Progress: 100%|██████████| 1/1 [00:00<00:00,  2.82it/s]\n"
          ]
        },
        {
          "output_type": "stream",
          "name": "stdout",
          "text": [
            "Predicting topics... (Estimated time: 2.00 seconds)\n"
          ]
        },
        {
          "output_type": "stream",
          "name": "stderr",
          "text": [
            "Prediction Progress: 100%|██████████| 1/1 [00:00<00:00,  4.88it/s]\n"
          ]
        },
        {
          "output_type": "stream",
          "name": "stdout",
          "text": [
            "Predicting topics... (Estimated time: 2.00 seconds)\n"
          ]
        },
        {
          "output_type": "stream",
          "name": "stderr",
          "text": [
            "Prediction Progress: 100%|██████████| 1/1 [00:00<00:00,  3.68it/s]\n"
          ]
        },
        {
          "output_type": "stream",
          "name": "stdout",
          "text": [
            "Predicting topics... (Estimated time: 2.00 seconds)\n"
          ]
        },
        {
          "output_type": "stream",
          "name": "stderr",
          "text": [
            "Prediction Progress: 100%|██████████| 1/1 [00:00<00:00,  2.56it/s]\n"
          ]
        },
        {
          "output_type": "stream",
          "name": "stdout",
          "text": [
            "Predicting topics... (Estimated time: 2.00 seconds)\n"
          ]
        },
        {
          "output_type": "stream",
          "name": "stderr",
          "text": [
            "Prediction Progress: 100%|██████████| 1/1 [00:00<00:00,  4.80it/s]\n"
          ]
        },
        {
          "output_type": "stream",
          "name": "stdout",
          "text": [
            "Predicting topics... (Estimated time: 2.00 seconds)\n"
          ]
        },
        {
          "output_type": "stream",
          "name": "stderr",
          "text": [
            "Prediction Progress: 100%|██████████| 1/1 [00:00<00:00,  2.20it/s]\n"
          ]
        },
        {
          "output_type": "stream",
          "name": "stdout",
          "text": [
            "Predicting topics... (Estimated time: 2.00 seconds)\n"
          ]
        },
        {
          "output_type": "stream",
          "name": "stderr",
          "text": [
            "Prediction Progress: 100%|██████████| 1/1 [00:00<00:00,  3.23it/s]\n"
          ]
        },
        {
          "output_type": "stream",
          "name": "stdout",
          "text": [
            "Predicting topics... (Estimated time: 2.00 seconds)\n"
          ]
        },
        {
          "output_type": "stream",
          "name": "stderr",
          "text": [
            "Prediction Progress: 100%|██████████| 1/1 [00:00<00:00,  4.72it/s]\n"
          ]
        },
        {
          "output_type": "stream",
          "name": "stdout",
          "text": [
            "Predicting topics... (Estimated time: 2.00 seconds)\n"
          ]
        },
        {
          "output_type": "stream",
          "name": "stderr",
          "text": [
            "Prediction Progress: 100%|██████████| 1/1 [00:00<00:00,  2.54it/s]\n"
          ]
        },
        {
          "output_type": "stream",
          "name": "stdout",
          "text": [
            "Predicting topics... (Estimated time: 2.00 seconds)\n"
          ]
        },
        {
          "output_type": "stream",
          "name": "stderr",
          "text": [
            "Prediction Progress: 100%|██████████| 1/1 [00:00<00:00,  2.35it/s]\n"
          ]
        },
        {
          "output_type": "stream",
          "name": "stdout",
          "text": [
            "Predicting topics... (Estimated time: 2.00 seconds)\n"
          ]
        },
        {
          "output_type": "stream",
          "name": "stderr",
          "text": [
            "Prediction Progress: 100%|██████████| 1/1 [00:00<00:00,  3.23it/s]\n"
          ]
        },
        {
          "output_type": "stream",
          "name": "stdout",
          "text": [
            "Predicting topics... (Estimated time: 2.00 seconds)\n"
          ]
        },
        {
          "output_type": "stream",
          "name": "stderr",
          "text": [
            "Prediction Progress: 100%|██████████| 1/1 [00:00<00:00,  5.20it/s]\n"
          ]
        },
        {
          "output_type": "stream",
          "name": "stdout",
          "text": [
            "Predicting topics... (Estimated time: 2.00 seconds)\n"
          ]
        },
        {
          "output_type": "stream",
          "name": "stderr",
          "text": [
            "Prediction Progress: 100%|██████████| 1/1 [00:00<00:00,  5.15it/s]\n"
          ]
        },
        {
          "output_type": "stream",
          "name": "stdout",
          "text": [
            "Predicting topics... (Estimated time: 2.00 seconds)\n"
          ]
        },
        {
          "output_type": "stream",
          "name": "stderr",
          "text": [
            "Prediction Progress: 100%|██████████| 1/1 [00:00<00:00,  5.02it/s]\n"
          ]
        },
        {
          "output_type": "stream",
          "name": "stdout",
          "text": [
            "Predicting topics... (Estimated time: 2.00 seconds)\n"
          ]
        },
        {
          "output_type": "stream",
          "name": "stderr",
          "text": [
            "Prediction Progress: 100%|██████████| 1/1 [00:00<00:00,  6.14it/s]\n"
          ]
        },
        {
          "output_type": "stream",
          "name": "stdout",
          "text": [
            "Predicting topics... (Estimated time: 2.00 seconds)\n"
          ]
        },
        {
          "output_type": "stream",
          "name": "stderr",
          "text": [
            "Prediction Progress: 100%|██████████| 1/1 [00:00<00:00,  3.19it/s]\n"
          ]
        },
        {
          "output_type": "stream",
          "name": "stdout",
          "text": [
            "Predicting topics... (Estimated time: 2.00 seconds)\n"
          ]
        },
        {
          "output_type": "stream",
          "name": "stderr",
          "text": [
            "Prediction Progress: 100%|██████████| 1/1 [00:00<00:00,  2.02it/s]\n"
          ]
        },
        {
          "output_type": "stream",
          "name": "stdout",
          "text": [
            "Predicting topics... (Estimated time: 2.00 seconds)\n"
          ]
        },
        {
          "output_type": "stream",
          "name": "stderr",
          "text": [
            "Prediction Progress: 100%|██████████| 1/1 [00:00<00:00,  4.67it/s]\n"
          ]
        },
        {
          "output_type": "stream",
          "name": "stdout",
          "text": [
            "Predicting topics... (Estimated time: 2.00 seconds)\n"
          ]
        },
        {
          "output_type": "stream",
          "name": "stderr",
          "text": [
            "Prediction Progress: 100%|██████████| 1/1 [00:00<00:00,  6.21it/s]\n"
          ]
        },
        {
          "output_type": "stream",
          "name": "stdout",
          "text": [
            "Predicting topics... (Estimated time: 2.00 seconds)\n"
          ]
        },
        {
          "output_type": "stream",
          "name": "stderr",
          "text": [
            "Prediction Progress: 100%|██████████| 1/1 [00:00<00:00,  4.95it/s]\n"
          ]
        },
        {
          "output_type": "stream",
          "name": "stdout",
          "text": [
            "Predicting topics... (Estimated time: 2.00 seconds)\n"
          ]
        },
        {
          "output_type": "stream",
          "name": "stderr",
          "text": [
            "Prediction Progress: 100%|██████████| 1/1 [00:00<00:00,  3.49it/s]\n"
          ]
        },
        {
          "output_type": "stream",
          "name": "stdout",
          "text": [
            "Predicting topics... (Estimated time: 2.00 seconds)\n"
          ]
        },
        {
          "output_type": "stream",
          "name": "stderr",
          "text": [
            "Prediction Progress: 100%|██████████| 1/1 [00:00<00:00,  4.90it/s]\n"
          ]
        },
        {
          "output_type": "stream",
          "name": "stdout",
          "text": [
            "Predicting topics... (Estimated time: 2.00 seconds)\n"
          ]
        },
        {
          "output_type": "stream",
          "name": "stderr",
          "text": [
            "Prediction Progress: 100%|██████████| 1/1 [00:00<00:00,  2.94it/s]\n"
          ]
        },
        {
          "output_type": "stream",
          "name": "stdout",
          "text": [
            "Predicting topics... (Estimated time: 2.00 seconds)\n"
          ]
        },
        {
          "output_type": "stream",
          "name": "stderr",
          "text": [
            "Prediction Progress: 100%|██████████| 1/1 [00:00<00:00,  3.26it/s]\n"
          ]
        },
        {
          "output_type": "stream",
          "name": "stdout",
          "text": [
            "Predicting topics... (Estimated time: 2.00 seconds)\n"
          ]
        },
        {
          "output_type": "stream",
          "name": "stderr",
          "text": [
            "Prediction Progress: 100%|██████████| 1/1 [00:00<00:00,  2.85it/s]\n"
          ]
        },
        {
          "output_type": "stream",
          "name": "stdout",
          "text": [
            "Predicting topics... (Estimated time: 2.00 seconds)\n"
          ]
        },
        {
          "output_type": "stream",
          "name": "stderr",
          "text": [
            "Prediction Progress: 100%|██████████| 1/1 [00:00<00:00,  3.63it/s]\n"
          ]
        },
        {
          "output_type": "stream",
          "name": "stdout",
          "text": [
            "Predicting topics... (Estimated time: 2.00 seconds)\n"
          ]
        },
        {
          "output_type": "stream",
          "name": "stderr",
          "text": [
            "Prediction Progress: 100%|██████████| 1/1 [00:00<00:00,  3.60it/s]\n"
          ]
        },
        {
          "output_type": "stream",
          "name": "stdout",
          "text": [
            "Predicting topics... (Estimated time: 2.00 seconds)\n"
          ]
        },
        {
          "output_type": "stream",
          "name": "stderr",
          "text": [
            "Prediction Progress: 100%|██████████| 1/1 [00:00<00:00,  2.14it/s]\n"
          ]
        },
        {
          "output_type": "stream",
          "name": "stdout",
          "text": [
            "Predicting topics... (Estimated time: 2.00 seconds)\n"
          ]
        },
        {
          "output_type": "stream",
          "name": "stderr",
          "text": [
            "Prediction Progress: 100%|██████████| 1/1 [00:00<00:00,  1.78it/s]\n"
          ]
        },
        {
          "output_type": "stream",
          "name": "stdout",
          "text": [
            "Predicting topics... (Estimated time: 2.00 seconds)\n"
          ]
        },
        {
          "output_type": "stream",
          "name": "stderr",
          "text": [
            "Prediction Progress: 100%|██████████| 1/1 [00:00<00:00,  5.05it/s]\n"
          ]
        },
        {
          "output_type": "stream",
          "name": "stdout",
          "text": [
            "Predicting topics... (Estimated time: 2.00 seconds)\n"
          ]
        },
        {
          "output_type": "stream",
          "name": "stderr",
          "text": [
            "Prediction Progress: 100%|██████████| 1/1 [00:00<00:00,  4.91it/s]\n"
          ]
        },
        {
          "output_type": "stream",
          "name": "stdout",
          "text": [
            "Predicting topics... (Estimated time: 2.00 seconds)\n"
          ]
        },
        {
          "output_type": "stream",
          "name": "stderr",
          "text": [
            "Prediction Progress: 100%|██████████| 1/1 [00:00<00:00,  4.80it/s]\n"
          ]
        },
        {
          "output_type": "stream",
          "name": "stdout",
          "text": [
            "Predicting topics... (Estimated time: 2.00 seconds)\n"
          ]
        },
        {
          "output_type": "stream",
          "name": "stderr",
          "text": [
            "Prediction Progress: 100%|██████████| 1/1 [00:00<00:00,  2.65it/s]\n"
          ]
        },
        {
          "output_type": "stream",
          "name": "stdout",
          "text": [
            "Predicting topics... (Estimated time: 2.00 seconds)\n"
          ]
        },
        {
          "output_type": "stream",
          "name": "stderr",
          "text": [
            "Prediction Progress: 100%|██████████| 1/1 [00:00<00:00,  4.83it/s]\n"
          ]
        },
        {
          "output_type": "stream",
          "name": "stdout",
          "text": [
            "Predicting topics... (Estimated time: 2.00 seconds)\n"
          ]
        },
        {
          "output_type": "stream",
          "name": "stderr",
          "text": [
            "Prediction Progress: 100%|██████████| 1/1 [00:00<00:00,  2.11it/s]\n"
          ]
        },
        {
          "output_type": "stream",
          "name": "stdout",
          "text": [
            "Predicting topics... (Estimated time: 2.00 seconds)\n"
          ]
        },
        {
          "output_type": "stream",
          "name": "stderr",
          "text": [
            "Prediction Progress: 100%|██████████| 1/1 [00:00<00:00,  7.24it/s]\n"
          ]
        },
        {
          "output_type": "stream",
          "name": "stdout",
          "text": [
            "Predicting topics... (Estimated time: 2.00 seconds)\n"
          ]
        },
        {
          "output_type": "stream",
          "name": "stderr",
          "text": [
            "Prediction Progress: 100%|██████████| 1/1 [00:00<00:00,  7.63it/s]\n"
          ]
        },
        {
          "output_type": "stream",
          "name": "stdout",
          "text": [
            "Predicting topics... (Estimated time: 2.00 seconds)\n"
          ]
        },
        {
          "output_type": "stream",
          "name": "stderr",
          "text": [
            "Prediction Progress: 100%|██████████| 1/1 [00:00<00:00,  3.44it/s]\n"
          ]
        },
        {
          "output_type": "stream",
          "name": "stdout",
          "text": [
            "Predicting topics... (Estimated time: 2.00 seconds)\n"
          ]
        },
        {
          "output_type": "stream",
          "name": "stderr",
          "text": [
            "Prediction Progress: 100%|██████████| 1/1 [00:00<00:00,  8.11it/s]\n"
          ]
        },
        {
          "output_type": "stream",
          "name": "stdout",
          "text": [
            "Predicting topics... (Estimated time: 2.00 seconds)\n"
          ]
        },
        {
          "output_type": "stream",
          "name": "stderr",
          "text": [
            "Prediction Progress: 100%|██████████| 1/1 [00:00<00:00,  3.13it/s]\n"
          ]
        },
        {
          "output_type": "stream",
          "name": "stdout",
          "text": [
            "Predicting topics... (Estimated time: 2.00 seconds)\n"
          ]
        },
        {
          "output_type": "stream",
          "name": "stderr",
          "text": [
            "Prediction Progress: 100%|██████████| 1/1 [00:00<00:00,  3.10it/s]\n"
          ]
        },
        {
          "output_type": "stream",
          "name": "stdout",
          "text": [
            "Predicting topics... (Estimated time: 2.00 seconds)\n"
          ]
        },
        {
          "output_type": "stream",
          "name": "stderr",
          "text": [
            "Prediction Progress: 100%|██████████| 1/1 [00:00<00:00,  3.11it/s]\n"
          ]
        },
        {
          "output_type": "stream",
          "name": "stdout",
          "text": [
            "Predicting topics... (Estimated time: 2.00 seconds)\n"
          ]
        },
        {
          "output_type": "stream",
          "name": "stderr",
          "text": [
            "Prediction Progress: 100%|██████████| 1/1 [00:00<00:00,  3.77it/s]\n"
          ]
        },
        {
          "output_type": "stream",
          "name": "stdout",
          "text": [
            "Predicting topics... (Estimated time: 2.00 seconds)\n"
          ]
        },
        {
          "output_type": "stream",
          "name": "stderr",
          "text": [
            "Prediction Progress: 100%|██████████| 1/1 [00:00<00:00,  3.01it/s]\n"
          ]
        },
        {
          "output_type": "stream",
          "name": "stdout",
          "text": [
            "Predicting topics... (Estimated time: 2.00 seconds)\n"
          ]
        },
        {
          "output_type": "stream",
          "name": "stderr",
          "text": [
            "Prediction Progress: 100%|██████████| 1/1 [00:00<00:00,  7.58it/s]\n"
          ]
        },
        {
          "output_type": "stream",
          "name": "stdout",
          "text": [
            "Predicting topics... (Estimated time: 2.00 seconds)\n"
          ]
        },
        {
          "output_type": "stream",
          "name": "stderr",
          "text": [
            "Prediction Progress: 100%|██████████| 1/1 [00:00<00:00,  4.05it/s]\n"
          ]
        },
        {
          "output_type": "stream",
          "name": "stdout",
          "text": [
            "Predicting topics... (Estimated time: 2.00 seconds)\n"
          ]
        },
        {
          "output_type": "stream",
          "name": "stderr",
          "text": [
            "Prediction Progress: 100%|██████████| 1/1 [00:00<00:00,  2.27it/s]\n"
          ]
        },
        {
          "output_type": "stream",
          "name": "stdout",
          "text": [
            "Predicting topics... (Estimated time: 2.00 seconds)\n"
          ]
        },
        {
          "output_type": "stream",
          "name": "stderr",
          "text": [
            "Prediction Progress: 100%|██████████| 1/1 [00:00<00:00,  3.39it/s]\n"
          ]
        },
        {
          "output_type": "stream",
          "name": "stdout",
          "text": [
            "Predicting topics... (Estimated time: 2.00 seconds)\n"
          ]
        },
        {
          "output_type": "stream",
          "name": "stderr",
          "text": [
            "Prediction Progress: 100%|██████████| 1/1 [00:00<00:00,  3.81it/s]\n"
          ]
        },
        {
          "output_type": "stream",
          "name": "stdout",
          "text": [
            "Predicting topics... (Estimated time: 2.00 seconds)\n"
          ]
        },
        {
          "output_type": "stream",
          "name": "stderr",
          "text": [
            "Prediction Progress: 100%|██████████| 1/1 [00:00<00:00,  7.75it/s]\n"
          ]
        },
        {
          "output_type": "stream",
          "name": "stdout",
          "text": [
            "Predicting topics... (Estimated time: 2.00 seconds)\n"
          ]
        },
        {
          "output_type": "stream",
          "name": "stderr",
          "text": [
            "Prediction Progress: 100%|██████████| 1/1 [00:00<00:00,  3.64it/s]\n"
          ]
        },
        {
          "output_type": "stream",
          "name": "stdout",
          "text": [
            "Predicting topics... (Estimated time: 2.00 seconds)\n"
          ]
        },
        {
          "output_type": "stream",
          "name": "stderr",
          "text": [
            "Prediction Progress: 100%|██████████| 1/1 [00:00<00:00,  3.67it/s]\n"
          ]
        },
        {
          "output_type": "stream",
          "name": "stdout",
          "text": [
            "Predicting topics... (Estimated time: 2.00 seconds)\n"
          ]
        },
        {
          "output_type": "stream",
          "name": "stderr",
          "text": [
            "Prediction Progress: 100%|██████████| 1/1 [00:00<00:00,  7.55it/s]\n"
          ]
        },
        {
          "output_type": "stream",
          "name": "stdout",
          "text": [
            "Predicting topics... (Estimated time: 2.00 seconds)\n"
          ]
        },
        {
          "output_type": "stream",
          "name": "stderr",
          "text": [
            "Prediction Progress: 100%|██████████| 1/1 [00:00<00:00,  5.17it/s]\n"
          ]
        },
        {
          "output_type": "stream",
          "name": "stdout",
          "text": [
            "Predicting topics... (Estimated time: 2.00 seconds)\n"
          ]
        },
        {
          "output_type": "stream",
          "name": "stderr",
          "text": [
            "Prediction Progress: 100%|██████████| 1/1 [00:00<00:00,  3.86it/s]\n"
          ]
        },
        {
          "output_type": "stream",
          "name": "stdout",
          "text": [
            "Predicting topics... (Estimated time: 2.00 seconds)\n"
          ]
        },
        {
          "output_type": "stream",
          "name": "stderr",
          "text": [
            "Prediction Progress: 100%|██████████| 1/1 [00:00<00:00,  7.59it/s]\n"
          ]
        },
        {
          "output_type": "stream",
          "name": "stdout",
          "text": [
            "Predicting topics... (Estimated time: 2.00 seconds)\n"
          ]
        },
        {
          "output_type": "stream",
          "name": "stderr",
          "text": [
            "Prediction Progress: 100%|██████████| 1/1 [00:00<00:00,  2.84it/s]\n"
          ]
        },
        {
          "output_type": "stream",
          "name": "stdout",
          "text": [
            "Predicting topics... (Estimated time: 2.00 seconds)\n"
          ]
        },
        {
          "output_type": "stream",
          "name": "stderr",
          "text": [
            "Prediction Progress: 100%|██████████| 1/1 [00:00<00:00,  8.51it/s]\n"
          ]
        },
        {
          "output_type": "stream",
          "name": "stdout",
          "text": [
            "Predicting topics... (Estimated time: 2.00 seconds)\n"
          ]
        },
        {
          "output_type": "stream",
          "name": "stderr",
          "text": [
            "Prediction Progress: 100%|██████████| 1/1 [00:00<00:00,  3.51it/s]\n"
          ]
        },
        {
          "output_type": "stream",
          "name": "stdout",
          "text": [
            "Predicting topics... (Estimated time: 2.00 seconds)\n"
          ]
        },
        {
          "output_type": "stream",
          "name": "stderr",
          "text": [
            "Prediction Progress: 100%|██████████| 1/1 [00:00<00:00,  3.35it/s]\n"
          ]
        },
        {
          "output_type": "stream",
          "name": "stdout",
          "text": [
            "Predicting topics... (Estimated time: 2.00 seconds)\n"
          ]
        },
        {
          "output_type": "stream",
          "name": "stderr",
          "text": [
            "Prediction Progress: 100%|██████████| 1/1 [00:00<00:00,  7.28it/s]\n"
          ]
        },
        {
          "output_type": "stream",
          "name": "stdout",
          "text": [
            "Predicting topics... (Estimated time: 2.00 seconds)\n"
          ]
        },
        {
          "output_type": "stream",
          "name": "stderr",
          "text": [
            "Prediction Progress: 100%|██████████| 1/1 [00:00<00:00,  7.04it/s]\n"
          ]
        },
        {
          "output_type": "stream",
          "name": "stdout",
          "text": [
            "Predicting topics... (Estimated time: 2.00 seconds)\n"
          ]
        },
        {
          "output_type": "stream",
          "name": "stderr",
          "text": [
            "Prediction Progress: 100%|██████████| 1/1 [00:00<00:00,  2.79it/s]\n"
          ]
        },
        {
          "output_type": "stream",
          "name": "stdout",
          "text": [
            "Predicting topics... (Estimated time: 2.00 seconds)\n"
          ]
        },
        {
          "output_type": "stream",
          "name": "stderr",
          "text": [
            "Prediction Progress: 100%|██████████| 1/1 [00:00<00:00,  2.37it/s]\n"
          ]
        },
        {
          "output_type": "stream",
          "name": "stdout",
          "text": [
            "Predicting topics... (Estimated time: 2.00 seconds)\n"
          ]
        },
        {
          "output_type": "stream",
          "name": "stderr",
          "text": [
            "Prediction Progress: 100%|██████████| 1/1 [00:00<00:00,  7.62it/s]\n"
          ]
        },
        {
          "output_type": "stream",
          "name": "stdout",
          "text": [
            "Predicting topics... (Estimated time: 2.00 seconds)\n"
          ]
        },
        {
          "output_type": "stream",
          "name": "stderr",
          "text": [
            "Prediction Progress: 100%|██████████| 1/1 [00:00<00:00,  3.61it/s]\n"
          ]
        },
        {
          "output_type": "stream",
          "name": "stdout",
          "text": [
            "Predicting topics... (Estimated time: 2.00 seconds)\n"
          ]
        },
        {
          "output_type": "stream",
          "name": "stderr",
          "text": [
            "Prediction Progress: 100%|██████████| 1/1 [00:00<00:00,  8.26it/s]\n"
          ]
        },
        {
          "output_type": "stream",
          "name": "stdout",
          "text": [
            "Predicting topics... (Estimated time: 2.00 seconds)\n"
          ]
        },
        {
          "output_type": "stream",
          "name": "stderr",
          "text": [
            "Prediction Progress: 100%|██████████| 1/1 [00:00<00:00,  7.17it/s]\n"
          ]
        },
        {
          "output_type": "stream",
          "name": "stdout",
          "text": [
            "Predicting topics... (Estimated time: 2.00 seconds)\n"
          ]
        },
        {
          "output_type": "stream",
          "name": "stderr",
          "text": [
            "Prediction Progress: 100%|██████████| 1/1 [00:00<00:00,  7.40it/s]\n"
          ]
        },
        {
          "output_type": "stream",
          "name": "stdout",
          "text": [
            "Predicting topics... (Estimated time: 2.00 seconds)\n"
          ]
        },
        {
          "output_type": "stream",
          "name": "stderr",
          "text": [
            "Prediction Progress: 100%|██████████| 1/1 [00:00<00:00,  3.75it/s]\n"
          ]
        },
        {
          "output_type": "stream",
          "name": "stdout",
          "text": [
            "Predicting topics... (Estimated time: 2.00 seconds)\n"
          ]
        },
        {
          "output_type": "stream",
          "name": "stderr",
          "text": [
            "Prediction Progress: 100%|██████████| 1/1 [00:00<00:00,  6.32it/s]\n"
          ]
        },
        {
          "output_type": "stream",
          "name": "stdout",
          "text": [
            "Predicting topics... (Estimated time: 2.00 seconds)\n"
          ]
        },
        {
          "output_type": "stream",
          "name": "stderr",
          "text": [
            "Prediction Progress: 100%|██████████| 1/1 [00:00<00:00,  2.97it/s]\n"
          ]
        },
        {
          "output_type": "stream",
          "name": "stdout",
          "text": [
            "Predicting topics... (Estimated time: 2.00 seconds)\n"
          ]
        },
        {
          "output_type": "stream",
          "name": "stderr",
          "text": [
            "Prediction Progress: 100%|██████████| 1/1 [00:00<00:00,  3.49it/s]\n"
          ]
        },
        {
          "output_type": "stream",
          "name": "stdout",
          "text": [
            "Predicting topics... (Estimated time: 2.00 seconds)\n"
          ]
        },
        {
          "output_type": "stream",
          "name": "stderr",
          "text": [
            "Prediction Progress: 100%|██████████| 1/1 [00:00<00:00,  7.48it/s]\n"
          ]
        },
        {
          "output_type": "stream",
          "name": "stdout",
          "text": [
            "Predicting topics... (Estimated time: 2.00 seconds)\n"
          ]
        },
        {
          "output_type": "stream",
          "name": "stderr",
          "text": [
            "Prediction Progress: 100%|██████████| 1/1 [00:00<00:00,  5.16it/s]\n"
          ]
        },
        {
          "output_type": "stream",
          "name": "stdout",
          "text": [
            "Predicting topics... (Estimated time: 2.00 seconds)\n"
          ]
        },
        {
          "output_type": "stream",
          "name": "stderr",
          "text": [
            "Prediction Progress: 100%|██████████| 1/1 [00:00<00:00,  4.95it/s]\n"
          ]
        },
        {
          "output_type": "stream",
          "name": "stdout",
          "text": [
            "Predicting topics... (Estimated time: 2.00 seconds)\n"
          ]
        },
        {
          "output_type": "stream",
          "name": "stderr",
          "text": [
            "Prediction Progress: 100%|██████████| 1/1 [00:00<00:00,  5.45it/s]\n"
          ]
        },
        {
          "output_type": "stream",
          "name": "stdout",
          "text": [
            "Predicting topics... (Estimated time: 2.00 seconds)\n"
          ]
        },
        {
          "output_type": "stream",
          "name": "stderr",
          "text": [
            "Prediction Progress: 100%|██████████| 1/1 [00:00<00:00,  6.72it/s]\n"
          ]
        },
        {
          "output_type": "stream",
          "name": "stdout",
          "text": [
            "Predicting topics... (Estimated time: 2.00 seconds)\n"
          ]
        },
        {
          "output_type": "stream",
          "name": "stderr",
          "text": [
            "Prediction Progress: 100%|██████████| 1/1 [00:00<00:00,  7.43it/s]\n"
          ]
        },
        {
          "output_type": "stream",
          "name": "stdout",
          "text": [
            "Predicting topics... (Estimated time: 2.00 seconds)\n"
          ]
        },
        {
          "output_type": "stream",
          "name": "stderr",
          "text": [
            "Prediction Progress: 100%|██████████| 1/1 [00:00<00:00,  4.18it/s]\n"
          ]
        },
        {
          "output_type": "stream",
          "name": "stdout",
          "text": [
            "Predicting topics... (Estimated time: 2.00 seconds)\n"
          ]
        },
        {
          "output_type": "stream",
          "name": "stderr",
          "text": [
            "Prediction Progress: 100%|██████████| 1/1 [00:00<00:00,  5.28it/s]\n"
          ]
        },
        {
          "output_type": "stream",
          "name": "stdout",
          "text": [
            "Predicting topics... (Estimated time: 2.00 seconds)\n"
          ]
        },
        {
          "output_type": "stream",
          "name": "stderr",
          "text": [
            "Prediction Progress: 100%|██████████| 1/1 [00:00<00:00,  5.35it/s]\n"
          ]
        },
        {
          "output_type": "stream",
          "name": "stdout",
          "text": [
            "Predicting topics... (Estimated time: 2.00 seconds)\n"
          ]
        },
        {
          "output_type": "stream",
          "name": "stderr",
          "text": [
            "Prediction Progress: 100%|██████████| 1/1 [00:00<00:00,  5.31it/s]\n"
          ]
        },
        {
          "output_type": "stream",
          "name": "stdout",
          "text": [
            "Predicting topics... (Estimated time: 2.00 seconds)\n"
          ]
        },
        {
          "output_type": "stream",
          "name": "stderr",
          "text": [
            "Prediction Progress: 100%|██████████| 1/1 [00:00<00:00,  5.68it/s]\n"
          ]
        },
        {
          "output_type": "stream",
          "name": "stdout",
          "text": [
            "Predicting topics... (Estimated time: 2.00 seconds)\n"
          ]
        },
        {
          "output_type": "stream",
          "name": "stderr",
          "text": [
            "Prediction Progress: 100%|██████████| 1/1 [00:00<00:00,  3.76it/s]\n"
          ]
        },
        {
          "output_type": "stream",
          "name": "stdout",
          "text": [
            "Predicting topics... (Estimated time: 2.00 seconds)\n"
          ]
        },
        {
          "output_type": "stream",
          "name": "stderr",
          "text": [
            "Prediction Progress: 100%|██████████| 1/1 [00:00<00:00,  5.05it/s]\n"
          ]
        },
        {
          "output_type": "stream",
          "name": "stdout",
          "text": [
            "Predicting topics... (Estimated time: 2.00 seconds)\n"
          ]
        },
        {
          "output_type": "stream",
          "name": "stderr",
          "text": [
            "Prediction Progress: 100%|██████████| 1/1 [00:00<00:00,  2.58it/s]\n"
          ]
        },
        {
          "output_type": "stream",
          "name": "stdout",
          "text": [
            "Predicting topics... (Estimated time: 2.00 seconds)\n"
          ]
        },
        {
          "output_type": "stream",
          "name": "stderr",
          "text": [
            "Prediction Progress: 100%|██████████| 1/1 [00:00<00:00,  4.54it/s]\n"
          ]
        },
        {
          "output_type": "stream",
          "name": "stdout",
          "text": [
            "Predicting topics... (Estimated time: 2.00 seconds)\n"
          ]
        },
        {
          "output_type": "stream",
          "name": "stderr",
          "text": [
            "Prediction Progress: 100%|██████████| 1/1 [00:00<00:00,  3.58it/s]\n"
          ]
        },
        {
          "output_type": "stream",
          "name": "stdout",
          "text": [
            "Predicting topics... (Estimated time: 2.00 seconds)\n"
          ]
        },
        {
          "output_type": "stream",
          "name": "stderr",
          "text": [
            "Prediction Progress: 100%|██████████| 1/1 [00:00<00:00,  7.95it/s]\n"
          ]
        },
        {
          "output_type": "stream",
          "name": "stdout",
          "text": [
            "Predicting topics... (Estimated time: 2.00 seconds)\n"
          ]
        },
        {
          "output_type": "stream",
          "name": "stderr",
          "text": [
            "Prediction Progress: 100%|██████████| 1/1 [00:00<00:00,  7.19it/s]\n"
          ]
        },
        {
          "output_type": "stream",
          "name": "stdout",
          "text": [
            "Predicting topics... (Estimated time: 2.00 seconds)\n"
          ]
        },
        {
          "output_type": "stream",
          "name": "stderr",
          "text": [
            "Prediction Progress: 100%|██████████| 1/1 [00:00<00:00,  6.89it/s]\n"
          ]
        },
        {
          "output_type": "stream",
          "name": "stdout",
          "text": [
            "Predicting topics... (Estimated time: 2.00 seconds)\n"
          ]
        },
        {
          "output_type": "stream",
          "name": "stderr",
          "text": [
            "Prediction Progress: 100%|██████████| 1/1 [00:00<00:00,  7.05it/s]\n"
          ]
        },
        {
          "output_type": "stream",
          "name": "stdout",
          "text": [
            "Predicting topics... (Estimated time: 2.00 seconds)\n"
          ]
        },
        {
          "output_type": "stream",
          "name": "stderr",
          "text": [
            "Prediction Progress: 100%|██████████| 1/1 [00:00<00:00,  7.15it/s]\n"
          ]
        },
        {
          "output_type": "stream",
          "name": "stdout",
          "text": [
            "Predicting topics... (Estimated time: 2.00 seconds)\n"
          ]
        },
        {
          "output_type": "stream",
          "name": "stderr",
          "text": [
            "Prediction Progress: 100%|██████████| 1/1 [00:00<00:00,  8.02it/s]\n"
          ]
        },
        {
          "output_type": "stream",
          "name": "stdout",
          "text": [
            "Predicting topics... (Estimated time: 2.00 seconds)\n"
          ]
        },
        {
          "output_type": "stream",
          "name": "stderr",
          "text": [
            "Prediction Progress: 100%|██████████| 1/1 [00:00<00:00,  7.21it/s]\n"
          ]
        },
        {
          "output_type": "stream",
          "name": "stdout",
          "text": [
            "Predicting topics... (Estimated time: 2.00 seconds)\n"
          ]
        },
        {
          "output_type": "stream",
          "name": "stderr",
          "text": [
            "Prediction Progress: 100%|██████████| 1/1 [00:00<00:00,  7.80it/s]\n"
          ]
        },
        {
          "output_type": "stream",
          "name": "stdout",
          "text": [
            "Predicting topics... (Estimated time: 2.00 seconds)\n"
          ]
        },
        {
          "output_type": "stream",
          "name": "stderr",
          "text": [
            "Prediction Progress: 100%|██████████| 1/1 [00:00<00:00,  4.50it/s]\n"
          ]
        },
        {
          "output_type": "stream",
          "name": "stdout",
          "text": [
            "Predicting topics... (Estimated time: 2.00 seconds)\n"
          ]
        },
        {
          "output_type": "stream",
          "name": "stderr",
          "text": [
            "Prediction Progress: 100%|██████████| 1/1 [00:00<00:00,  7.60it/s]\n"
          ]
        },
        {
          "output_type": "stream",
          "name": "stdout",
          "text": [
            "Predicting topics... (Estimated time: 2.00 seconds)\n"
          ]
        },
        {
          "output_type": "stream",
          "name": "stderr",
          "text": [
            "Prediction Progress: 100%|██████████| 1/1 [00:00<00:00,  4.89it/s]\n"
          ]
        },
        {
          "output_type": "stream",
          "name": "stdout",
          "text": [
            "Predicting topics... (Estimated time: 2.00 seconds)\n"
          ]
        },
        {
          "output_type": "stream",
          "name": "stderr",
          "text": [
            "Prediction Progress: 100%|██████████| 1/1 [00:00<00:00,  5.38it/s]\n"
          ]
        },
        {
          "output_type": "stream",
          "name": "stdout",
          "text": [
            "Predicting topics... (Estimated time: 2.00 seconds)\n"
          ]
        },
        {
          "output_type": "stream",
          "name": "stderr",
          "text": [
            "Prediction Progress: 100%|██████████| 1/1 [00:00<00:00,  6.25it/s]\n"
          ]
        },
        {
          "output_type": "stream",
          "name": "stdout",
          "text": [
            "Predicting topics... (Estimated time: 2.00 seconds)\n"
          ]
        },
        {
          "output_type": "stream",
          "name": "stderr",
          "text": [
            "Prediction Progress: 100%|██████████| 1/1 [00:00<00:00,  6.11it/s]\n"
          ]
        },
        {
          "output_type": "stream",
          "name": "stdout",
          "text": [
            "Predicting topics... (Estimated time: 2.00 seconds)\n"
          ]
        },
        {
          "output_type": "stream",
          "name": "stderr",
          "text": [
            "Prediction Progress: 100%|██████████| 1/1 [00:00<00:00,  5.48it/s]\n"
          ]
        },
        {
          "output_type": "stream",
          "name": "stdout",
          "text": [
            "Predicting topics... (Estimated time: 2.00 seconds)\n"
          ]
        },
        {
          "output_type": "stream",
          "name": "stderr",
          "text": [
            "Prediction Progress: 100%|██████████| 1/1 [00:00<00:00,  5.57it/s]\n"
          ]
        },
        {
          "output_type": "stream",
          "name": "stdout",
          "text": [
            "Predicting topics... (Estimated time: 2.00 seconds)\n"
          ]
        },
        {
          "output_type": "stream",
          "name": "stderr",
          "text": [
            "Prediction Progress: 100%|██████████| 1/1 [00:00<00:00,  7.33it/s]\n"
          ]
        },
        {
          "output_type": "stream",
          "name": "stdout",
          "text": [
            "Predicting topics... (Estimated time: 2.00 seconds)\n"
          ]
        },
        {
          "output_type": "stream",
          "name": "stderr",
          "text": [
            "Prediction Progress: 100%|██████████| 1/1 [00:00<00:00,  4.76it/s]\n"
          ]
        },
        {
          "output_type": "stream",
          "name": "stdout",
          "text": [
            "Predicting topics... (Estimated time: 2.00 seconds)\n"
          ]
        },
        {
          "output_type": "stream",
          "name": "stderr",
          "text": [
            "Prediction Progress: 100%|██████████| 1/1 [00:00<00:00,  5.63it/s]\n"
          ]
        },
        {
          "output_type": "stream",
          "name": "stdout",
          "text": [
            "Predicting topics... (Estimated time: 2.00 seconds)\n"
          ]
        },
        {
          "output_type": "stream",
          "name": "stderr",
          "text": [
            "Prediction Progress: 100%|██████████| 1/1 [00:00<00:00,  5.55it/s]\n"
          ]
        },
        {
          "output_type": "stream",
          "name": "stdout",
          "text": [
            "Predicting topics... (Estimated time: 2.00 seconds)\n"
          ]
        },
        {
          "output_type": "stream",
          "name": "stderr",
          "text": [
            "Prediction Progress: 100%|██████████| 1/1 [00:00<00:00,  6.14it/s]\n"
          ]
        },
        {
          "output_type": "stream",
          "name": "stdout",
          "text": [
            "Predicting topics... (Estimated time: 2.00 seconds)\n"
          ]
        },
        {
          "output_type": "stream",
          "name": "stderr",
          "text": [
            "Prediction Progress: 100%|██████████| 1/1 [00:00<00:00,  5.02it/s]\n"
          ]
        },
        {
          "output_type": "stream",
          "name": "stdout",
          "text": [
            "Predicting topics... (Estimated time: 2.00 seconds)\n"
          ]
        },
        {
          "output_type": "stream",
          "name": "stderr",
          "text": [
            "Prediction Progress: 100%|██████████| 1/1 [00:00<00:00,  5.42it/s]\n"
          ]
        },
        {
          "output_type": "stream",
          "name": "stdout",
          "text": [
            "Predicting topics... (Estimated time: 2.00 seconds)\n"
          ]
        },
        {
          "output_type": "stream",
          "name": "stderr",
          "text": [
            "Prediction Progress: 100%|██████████| 1/1 [00:00<00:00,  5.22it/s]\n"
          ]
        },
        {
          "output_type": "stream",
          "name": "stdout",
          "text": [
            "Predicting topics... (Estimated time: 2.00 seconds)\n"
          ]
        },
        {
          "output_type": "stream",
          "name": "stderr",
          "text": [
            "Prediction Progress: 100%|██████████| 1/1 [00:00<00:00,  5.33it/s]\n"
          ]
        },
        {
          "output_type": "stream",
          "name": "stdout",
          "text": [
            "Predicting topics... (Estimated time: 2.00 seconds)\n"
          ]
        },
        {
          "output_type": "stream",
          "name": "stderr",
          "text": [
            "Prediction Progress: 100%|██████████| 1/1 [00:00<00:00,  5.46it/s]\n"
          ]
        },
        {
          "output_type": "stream",
          "name": "stdout",
          "text": [
            "Predicting topics... (Estimated time: 2.00 seconds)\n"
          ]
        },
        {
          "output_type": "stream",
          "name": "stderr",
          "text": [
            "Prediction Progress: 100%|██████████| 1/1 [00:00<00:00,  5.99it/s]\n"
          ]
        },
        {
          "output_type": "stream",
          "name": "stdout",
          "text": [
            "Predicting topics... (Estimated time: 2.00 seconds)\n"
          ]
        },
        {
          "output_type": "stream",
          "name": "stderr",
          "text": [
            "Prediction Progress: 100%|██████████| 1/1 [00:00<00:00,  3.30it/s]\n"
          ]
        },
        {
          "output_type": "stream",
          "name": "stdout",
          "text": [
            "Predicting topics... (Estimated time: 2.00 seconds)\n"
          ]
        },
        {
          "output_type": "stream",
          "name": "stderr",
          "text": [
            "Prediction Progress: 100%|██████████| 1/1 [00:00<00:00,  5.15it/s]\n"
          ]
        },
        {
          "output_type": "stream",
          "name": "stdout",
          "text": [
            "Predicting topics... (Estimated time: 2.00 seconds)\n"
          ]
        },
        {
          "output_type": "stream",
          "name": "stderr",
          "text": [
            "Prediction Progress: 100%|██████████| 1/1 [00:00<00:00,  5.53it/s]\n"
          ]
        },
        {
          "output_type": "stream",
          "name": "stdout",
          "text": [
            "Predicting topics... (Estimated time: 2.00 seconds)\n"
          ]
        },
        {
          "output_type": "stream",
          "name": "stderr",
          "text": [
            "Prediction Progress: 100%|██████████| 1/1 [00:00<00:00,  5.45it/s]\n"
          ]
        },
        {
          "output_type": "stream",
          "name": "stdout",
          "text": [
            "Predicting topics... (Estimated time: 2.00 seconds)\n"
          ]
        },
        {
          "output_type": "stream",
          "name": "stderr",
          "text": [
            "Prediction Progress: 100%|██████████| 1/1 [00:00<00:00,  3.87it/s]\n"
          ]
        },
        {
          "output_type": "stream",
          "name": "stdout",
          "text": [
            "Predicting topics... (Estimated time: 2.00 seconds)\n"
          ]
        },
        {
          "output_type": "stream",
          "name": "stderr",
          "text": [
            "Prediction Progress: 100%|██████████| 1/1 [00:00<00:00,  3.83it/s]\n"
          ]
        },
        {
          "output_type": "stream",
          "name": "stdout",
          "text": [
            "Predicting topics... (Estimated time: 2.00 seconds)\n"
          ]
        },
        {
          "output_type": "stream",
          "name": "stderr",
          "text": [
            "Prediction Progress: 100%|██████████| 1/1 [00:00<00:00,  4.89it/s]\n"
          ]
        },
        {
          "output_type": "stream",
          "name": "stdout",
          "text": [
            "Predicting topics... (Estimated time: 2.00 seconds)\n"
          ]
        },
        {
          "output_type": "stream",
          "name": "stderr",
          "text": [
            "Prediction Progress: 100%|██████████| 1/1 [00:00<00:00,  3.95it/s]\n"
          ]
        },
        {
          "output_type": "stream",
          "name": "stdout",
          "text": [
            "Predicting topics... (Estimated time: 2.00 seconds)\n"
          ]
        },
        {
          "output_type": "stream",
          "name": "stderr",
          "text": [
            "Prediction Progress: 100%|██████████| 1/1 [00:00<00:00,  5.46it/s]\n"
          ]
        },
        {
          "output_type": "stream",
          "name": "stdout",
          "text": [
            "Predicting topics... (Estimated time: 2.00 seconds)\n"
          ]
        },
        {
          "output_type": "stream",
          "name": "stderr",
          "text": [
            "Prediction Progress: 100%|██████████| 1/1 [00:00<00:00,  6.18it/s]\n"
          ]
        },
        {
          "output_type": "stream",
          "name": "stdout",
          "text": [
            "Predicting topics... (Estimated time: 2.00 seconds)\n"
          ]
        },
        {
          "output_type": "stream",
          "name": "stderr",
          "text": [
            "Prediction Progress: 100%|██████████| 1/1 [00:00<00:00,  2.86it/s]\n"
          ]
        },
        {
          "output_type": "stream",
          "name": "stdout",
          "text": [
            "Predicting topics... (Estimated time: 2.00 seconds)\n"
          ]
        },
        {
          "output_type": "stream",
          "name": "stderr",
          "text": [
            "Prediction Progress: 100%|██████████| 1/1 [00:00<00:00,  3.59it/s]\n"
          ]
        },
        {
          "output_type": "stream",
          "name": "stdout",
          "text": [
            "Predicting topics... (Estimated time: 2.00 seconds)\n"
          ]
        },
        {
          "output_type": "stream",
          "name": "stderr",
          "text": [
            "Prediction Progress: 100%|██████████| 1/1 [00:00<00:00,  3.18it/s]\n"
          ]
        },
        {
          "output_type": "stream",
          "name": "stdout",
          "text": [
            "Predicting topics... (Estimated time: 2.00 seconds)\n"
          ]
        },
        {
          "output_type": "stream",
          "name": "stderr",
          "text": [
            "Prediction Progress: 100%|██████████| 1/1 [00:00<00:00,  5.91it/s]\n"
          ]
        },
        {
          "output_type": "stream",
          "name": "stdout",
          "text": [
            "Predicting topics... (Estimated time: 2.00 seconds)\n"
          ]
        },
        {
          "output_type": "stream",
          "name": "stderr",
          "text": [
            "Prediction Progress: 100%|██████████| 1/1 [00:00<00:00,  3.80it/s]\n"
          ]
        },
        {
          "output_type": "stream",
          "name": "stdout",
          "text": [
            "Predicting topics... (Estimated time: 2.00 seconds)\n"
          ]
        },
        {
          "output_type": "stream",
          "name": "stderr",
          "text": [
            "Prediction Progress: 100%|██████████| 1/1 [00:00<00:00,  4.01it/s]\n"
          ]
        },
        {
          "output_type": "stream",
          "name": "stdout",
          "text": [
            "Predicting topics... (Estimated time: 2.00 seconds)\n"
          ]
        },
        {
          "output_type": "stream",
          "name": "stderr",
          "text": [
            "Prediction Progress: 100%|██████████| 1/1 [00:00<00:00,  5.40it/s]\n"
          ]
        },
        {
          "output_type": "stream",
          "name": "stdout",
          "text": [
            "Predicting topics... (Estimated time: 2.00 seconds)\n"
          ]
        },
        {
          "output_type": "stream",
          "name": "stderr",
          "text": [
            "Prediction Progress: 100%|██████████| 1/1 [00:00<00:00,  4.28it/s]\n"
          ]
        },
        {
          "output_type": "stream",
          "name": "stdout",
          "text": [
            "Predicting topics... (Estimated time: 2.00 seconds)\n"
          ]
        },
        {
          "output_type": "stream",
          "name": "stderr",
          "text": [
            "Prediction Progress: 100%|██████████| 1/1 [00:00<00:00,  3.83it/s]\n"
          ]
        },
        {
          "output_type": "stream",
          "name": "stdout",
          "text": [
            "Predicting topics... (Estimated time: 2.00 seconds)\n"
          ]
        },
        {
          "output_type": "stream",
          "name": "stderr",
          "text": [
            "Prediction Progress: 100%|██████████| 1/1 [00:00<00:00,  6.63it/s]\n"
          ]
        },
        {
          "output_type": "stream",
          "name": "stdout",
          "text": [
            "Predicting topics... (Estimated time: 2.00 seconds)\n"
          ]
        },
        {
          "output_type": "stream",
          "name": "stderr",
          "text": [
            "Prediction Progress: 100%|██████████| 1/1 [00:00<00:00,  5.30it/s]\n"
          ]
        },
        {
          "output_type": "stream",
          "name": "stdout",
          "text": [
            "Predicting topics... (Estimated time: 2.00 seconds)\n"
          ]
        },
        {
          "output_type": "stream",
          "name": "stderr",
          "text": [
            "Prediction Progress: 100%|██████████| 1/1 [00:00<00:00,  2.78it/s]\n"
          ]
        },
        {
          "output_type": "stream",
          "name": "stdout",
          "text": [
            "Predicting topics... (Estimated time: 2.00 seconds)\n"
          ]
        },
        {
          "output_type": "stream",
          "name": "stderr",
          "text": [
            "Prediction Progress: 100%|██████████| 1/1 [00:00<00:00,  4.02it/s]\n"
          ]
        },
        {
          "output_type": "stream",
          "name": "stdout",
          "text": [
            "Predicting topics... (Estimated time: 2.00 seconds)\n"
          ]
        },
        {
          "output_type": "stream",
          "name": "stderr",
          "text": [
            "Prediction Progress: 100%|██████████| 1/1 [00:00<00:00,  4.13it/s]\n"
          ]
        },
        {
          "output_type": "stream",
          "name": "stdout",
          "text": [
            "Predicting topics... (Estimated time: 2.00 seconds)\n"
          ]
        },
        {
          "output_type": "stream",
          "name": "stderr",
          "text": [
            "Prediction Progress: 100%|██████████| 1/1 [00:00<00:00,  3.00it/s]\n"
          ]
        },
        {
          "output_type": "stream",
          "name": "stdout",
          "text": [
            "Predicting topics... (Estimated time: 2.00 seconds)\n"
          ]
        },
        {
          "output_type": "stream",
          "name": "stderr",
          "text": [
            "Prediction Progress: 100%|██████████| 1/1 [00:00<00:00,  2.69it/s]\n"
          ]
        },
        {
          "output_type": "stream",
          "name": "stdout",
          "text": [
            "Predicting topics... (Estimated time: 2.00 seconds)\n"
          ]
        },
        {
          "output_type": "stream",
          "name": "stderr",
          "text": [
            "Prediction Progress: 100%|██████████| 1/1 [00:00<00:00,  4.18it/s]\n"
          ]
        },
        {
          "output_type": "stream",
          "name": "stdout",
          "text": [
            "Predicting topics... (Estimated time: 2.00 seconds)\n"
          ]
        },
        {
          "output_type": "stream",
          "name": "stderr",
          "text": [
            "Prediction Progress: 100%|██████████| 1/1 [00:00<00:00,  3.65it/s]\n"
          ]
        },
        {
          "output_type": "stream",
          "name": "stdout",
          "text": [
            "Predicting topics... (Estimated time: 2.00 seconds)\n"
          ]
        },
        {
          "output_type": "stream",
          "name": "stderr",
          "text": [
            "Prediction Progress: 100%|██████████| 1/1 [00:00<00:00,  2.64it/s]\n"
          ]
        },
        {
          "output_type": "stream",
          "name": "stdout",
          "text": [
            "Predicting topics... (Estimated time: 2.00 seconds)\n"
          ]
        },
        {
          "output_type": "stream",
          "name": "stderr",
          "text": [
            "Prediction Progress: 100%|██████████| 1/1 [00:00<00:00,  2.59it/s]\n"
          ]
        },
        {
          "output_type": "stream",
          "name": "stdout",
          "text": [
            "Predicting topics... (Estimated time: 2.00 seconds)\n"
          ]
        },
        {
          "output_type": "stream",
          "name": "stderr",
          "text": [
            "Prediction Progress: 100%|██████████| 1/1 [00:00<00:00,  3.25it/s]\n"
          ]
        },
        {
          "output_type": "stream",
          "name": "stdout",
          "text": [
            "Predicting topics... (Estimated time: 2.00 seconds)\n"
          ]
        },
        {
          "output_type": "stream",
          "name": "stderr",
          "text": [
            "Prediction Progress: 100%|██████████| 1/1 [00:00<00:00,  3.40it/s]\n"
          ]
        },
        {
          "output_type": "stream",
          "name": "stdout",
          "text": [
            "Predicting topics... (Estimated time: 2.00 seconds)\n"
          ]
        },
        {
          "output_type": "stream",
          "name": "stderr",
          "text": [
            "Prediction Progress: 100%|██████████| 1/1 [00:00<00:00,  5.94it/s]\n"
          ]
        },
        {
          "output_type": "stream",
          "name": "stdout",
          "text": [
            "Predicting topics... (Estimated time: 2.00 seconds)\n"
          ]
        },
        {
          "output_type": "stream",
          "name": "stderr",
          "text": [
            "Prediction Progress: 100%|██████████| 1/1 [00:00<00:00,  5.86it/s]\n"
          ]
        },
        {
          "output_type": "stream",
          "name": "stdout",
          "text": [
            "Predicting topics... (Estimated time: 2.00 seconds)\n"
          ]
        },
        {
          "output_type": "stream",
          "name": "stderr",
          "text": [
            "Prediction Progress: 100%|██████████| 1/1 [00:00<00:00,  5.24it/s]\n"
          ]
        },
        {
          "output_type": "stream",
          "name": "stdout",
          "text": [
            "Predicting topics... (Estimated time: 2.00 seconds)\n"
          ]
        },
        {
          "output_type": "stream",
          "name": "stderr",
          "text": [
            "Prediction Progress: 100%|██████████| 1/1 [00:00<00:00,  4.48it/s]\n"
          ]
        },
        {
          "output_type": "stream",
          "name": "stdout",
          "text": [
            "Predicting topics... (Estimated time: 2.00 seconds)\n"
          ]
        },
        {
          "output_type": "stream",
          "name": "stderr",
          "text": [
            "Prediction Progress: 100%|██████████| 1/1 [00:00<00:00,  6.20it/s]\n"
          ]
        },
        {
          "output_type": "stream",
          "name": "stdout",
          "text": [
            "Predicting topics... (Estimated time: 2.00 seconds)\n"
          ]
        },
        {
          "output_type": "stream",
          "name": "stderr",
          "text": [
            "Prediction Progress: 100%|██████████| 1/1 [00:00<00:00,  5.50it/s]\n"
          ]
        },
        {
          "output_type": "stream",
          "name": "stdout",
          "text": [
            "Predicting topics... (Estimated time: 2.00 seconds)\n"
          ]
        },
        {
          "output_type": "stream",
          "name": "stderr",
          "text": [
            "Prediction Progress: 100%|██████████| 1/1 [00:00<00:00,  6.43it/s]\n"
          ]
        },
        {
          "output_type": "stream",
          "name": "stdout",
          "text": [
            "Predicting topics... (Estimated time: 2.00 seconds)\n"
          ]
        },
        {
          "output_type": "stream",
          "name": "stderr",
          "text": [
            "Prediction Progress: 100%|██████████| 1/1 [00:00<00:00,  3.77it/s]\n"
          ]
        },
        {
          "output_type": "stream",
          "name": "stdout",
          "text": [
            "Predicting topics... (Estimated time: 2.00 seconds)\n"
          ]
        },
        {
          "output_type": "stream",
          "name": "stderr",
          "text": [
            "Prediction Progress: 100%|██████████| 1/1 [00:00<00:00,  5.49it/s]\n"
          ]
        },
        {
          "output_type": "stream",
          "name": "stdout",
          "text": [
            "Predicting topics... (Estimated time: 2.00 seconds)\n"
          ]
        },
        {
          "output_type": "stream",
          "name": "stderr",
          "text": [
            "Prediction Progress: 100%|██████████| 1/1 [00:00<00:00,  5.55it/s]\n"
          ]
        },
        {
          "output_type": "stream",
          "name": "stdout",
          "text": [
            "Predicting topics... (Estimated time: 2.00 seconds)\n"
          ]
        },
        {
          "output_type": "stream",
          "name": "stderr",
          "text": [
            "Prediction Progress: 100%|██████████| 1/1 [00:00<00:00,  5.64it/s]\n"
          ]
        },
        {
          "output_type": "stream",
          "name": "stdout",
          "text": [
            "Predicting topics... (Estimated time: 2.00 seconds)\n"
          ]
        },
        {
          "output_type": "stream",
          "name": "stderr",
          "text": [
            "Prediction Progress: 100%|██████████| 1/1 [00:00<00:00,  5.89it/s]\n"
          ]
        },
        {
          "output_type": "stream",
          "name": "stdout",
          "text": [
            "Predicting topics... (Estimated time: 2.00 seconds)\n"
          ]
        },
        {
          "output_type": "stream",
          "name": "stderr",
          "text": [
            "Prediction Progress: 100%|██████████| 1/1 [00:00<00:00,  5.47it/s]\n"
          ]
        },
        {
          "output_type": "stream",
          "name": "stdout",
          "text": [
            "Predicting topics... (Estimated time: 2.00 seconds)\n"
          ]
        },
        {
          "output_type": "stream",
          "name": "stderr",
          "text": [
            "Prediction Progress: 100%|██████████| 1/1 [00:00<00:00,  4.91it/s]\n"
          ]
        },
        {
          "output_type": "stream",
          "name": "stdout",
          "text": [
            "Predicting topics... (Estimated time: 2.00 seconds)\n"
          ]
        },
        {
          "output_type": "stream",
          "name": "stderr",
          "text": [
            "Prediction Progress: 100%|██████████| 1/1 [00:00<00:00,  5.21it/s]\n"
          ]
        },
        {
          "output_type": "stream",
          "name": "stdout",
          "text": [
            "Predicting topics... (Estimated time: 2.00 seconds)\n"
          ]
        },
        {
          "output_type": "stream",
          "name": "stderr",
          "text": [
            "Prediction Progress: 100%|██████████| 1/1 [00:00<00:00,  5.81it/s]\n"
          ]
        },
        {
          "output_type": "stream",
          "name": "stdout",
          "text": [
            "Predicting topics... (Estimated time: 2.00 seconds)\n"
          ]
        },
        {
          "output_type": "stream",
          "name": "stderr",
          "text": [
            "Prediction Progress: 100%|██████████| 1/1 [00:00<00:00,  5.48it/s]\n"
          ]
        },
        {
          "output_type": "stream",
          "name": "stdout",
          "text": [
            "Predicting topics... (Estimated time: 2.00 seconds)\n"
          ]
        },
        {
          "output_type": "stream",
          "name": "stderr",
          "text": [
            "Prediction Progress: 100%|██████████| 1/1 [00:00<00:00,  5.81it/s]\n"
          ]
        },
        {
          "output_type": "stream",
          "name": "stdout",
          "text": [
            "Predicting topics... (Estimated time: 2.00 seconds)\n"
          ]
        },
        {
          "output_type": "stream",
          "name": "stderr",
          "text": [
            "Prediction Progress: 100%|██████████| 1/1 [00:00<00:00,  5.83it/s]\n"
          ]
        },
        {
          "output_type": "stream",
          "name": "stdout",
          "text": [
            "Predicting topics... (Estimated time: 2.00 seconds)\n"
          ]
        },
        {
          "output_type": "stream",
          "name": "stderr",
          "text": [
            "Prediction Progress: 100%|██████████| 1/1 [00:00<00:00,  6.09it/s]\n"
          ]
        },
        {
          "output_type": "stream",
          "name": "stdout",
          "text": [
            "Predicting topics... (Estimated time: 2.00 seconds)\n"
          ]
        },
        {
          "output_type": "stream",
          "name": "stderr",
          "text": [
            "Prediction Progress: 100%|██████████| 1/1 [00:00<00:00,  5.10it/s]\n"
          ]
        },
        {
          "output_type": "stream",
          "name": "stdout",
          "text": [
            "Predicting topics... (Estimated time: 2.00 seconds)\n"
          ]
        },
        {
          "output_type": "stream",
          "name": "stderr",
          "text": [
            "Prediction Progress: 100%|██████████| 1/1 [00:00<00:00,  5.40it/s]\n"
          ]
        },
        {
          "output_type": "stream",
          "name": "stdout",
          "text": [
            "Predicting topics... (Estimated time: 2.00 seconds)\n"
          ]
        },
        {
          "output_type": "stream",
          "name": "stderr",
          "text": [
            "Prediction Progress: 100%|██████████| 1/1 [00:00<00:00,  4.53it/s]\n"
          ]
        },
        {
          "output_type": "stream",
          "name": "stdout",
          "text": [
            "Predicting topics... (Estimated time: 2.00 seconds)\n"
          ]
        },
        {
          "output_type": "stream",
          "name": "stderr",
          "text": [
            "Prediction Progress: 100%|██████████| 1/1 [00:00<00:00,  2.97it/s]\n"
          ]
        },
        {
          "output_type": "stream",
          "name": "stdout",
          "text": [
            "Predicting topics... (Estimated time: 2.00 seconds)\n"
          ]
        },
        {
          "output_type": "stream",
          "name": "stderr",
          "text": [
            "Prediction Progress: 100%|██████████| 1/1 [00:00<00:00,  5.53it/s]\n"
          ]
        },
        {
          "output_type": "stream",
          "name": "stdout",
          "text": [
            "Predicting topics... (Estimated time: 2.00 seconds)\n"
          ]
        },
        {
          "output_type": "stream",
          "name": "stderr",
          "text": [
            "Prediction Progress: 100%|██████████| 1/1 [00:00<00:00,  5.16it/s]\n"
          ]
        },
        {
          "output_type": "stream",
          "name": "stdout",
          "text": [
            "Predicting topics... (Estimated time: 2.00 seconds)\n"
          ]
        },
        {
          "output_type": "stream",
          "name": "stderr",
          "text": [
            "Prediction Progress: 100%|██████████| 1/1 [00:00<00:00,  5.90it/s]\n"
          ]
        },
        {
          "output_type": "stream",
          "name": "stdout",
          "text": [
            "Predicting topics... (Estimated time: 2.00 seconds)\n"
          ]
        },
        {
          "output_type": "stream",
          "name": "stderr",
          "text": [
            "Prediction Progress: 100%|██████████| 1/1 [00:00<00:00,  6.04it/s]\n"
          ]
        },
        {
          "output_type": "stream",
          "name": "stdout",
          "text": [
            "Predicting topics... (Estimated time: 2.00 seconds)\n"
          ]
        },
        {
          "output_type": "stream",
          "name": "stderr",
          "text": [
            "Prediction Progress: 100%|██████████| 1/1 [00:00<00:00,  5.89it/s]\n"
          ]
        },
        {
          "output_type": "stream",
          "name": "stdout",
          "text": [
            "Predicting topics... (Estimated time: 2.00 seconds)\n"
          ]
        },
        {
          "output_type": "stream",
          "name": "stderr",
          "text": [
            "Prediction Progress: 100%|██████████| 1/1 [00:00<00:00,  5.68it/s]\n"
          ]
        },
        {
          "output_type": "stream",
          "name": "stdout",
          "text": [
            "Predicting topics... (Estimated time: 2.00 seconds)\n"
          ]
        },
        {
          "output_type": "stream",
          "name": "stderr",
          "text": [
            "Prediction Progress: 100%|██████████| 1/1 [00:00<00:00,  6.44it/s]\n"
          ]
        },
        {
          "output_type": "stream",
          "name": "stdout",
          "text": [
            "Predicting topics... (Estimated time: 2.00 seconds)\n"
          ]
        },
        {
          "output_type": "stream",
          "name": "stderr",
          "text": [
            "Prediction Progress: 100%|██████████| 1/1 [00:00<00:00,  6.73it/s]\n"
          ]
        },
        {
          "output_type": "stream",
          "name": "stdout",
          "text": [
            "Predicting topics... (Estimated time: 2.00 seconds)\n"
          ]
        },
        {
          "output_type": "stream",
          "name": "stderr",
          "text": [
            "Prediction Progress: 100%|██████████| 1/1 [00:00<00:00,  6.26it/s]\n"
          ]
        },
        {
          "output_type": "stream",
          "name": "stdout",
          "text": [
            "Predicting topics... (Estimated time: 2.00 seconds)\n"
          ]
        },
        {
          "output_type": "stream",
          "name": "stderr",
          "text": [
            "Prediction Progress: 100%|██████████| 1/1 [00:00<00:00,  5.78it/s]\n"
          ]
        },
        {
          "output_type": "stream",
          "name": "stdout",
          "text": [
            "Predicting topics... (Estimated time: 2.00 seconds)\n"
          ]
        },
        {
          "output_type": "stream",
          "name": "stderr",
          "text": [
            "Prediction Progress: 100%|██████████| 1/1 [00:00<00:00,  6.33it/s]\n"
          ]
        },
        {
          "output_type": "stream",
          "name": "stdout",
          "text": [
            "Predicting topics... (Estimated time: 2.00 seconds)\n"
          ]
        },
        {
          "output_type": "stream",
          "name": "stderr",
          "text": [
            "Prediction Progress: 100%|██████████| 1/1 [00:00<00:00,  5.25it/s]\n"
          ]
        },
        {
          "output_type": "stream",
          "name": "stdout",
          "text": [
            "Predicting topics... (Estimated time: 2.00 seconds)\n"
          ]
        },
        {
          "output_type": "stream",
          "name": "stderr",
          "text": [
            "Prediction Progress: 100%|██████████| 1/1 [00:00<00:00,  4.62it/s]\n"
          ]
        },
        {
          "output_type": "stream",
          "name": "stdout",
          "text": [
            "Predicting topics... (Estimated time: 2.00 seconds)\n"
          ]
        },
        {
          "output_type": "stream",
          "name": "stderr",
          "text": [
            "Prediction Progress: 100%|██████████| 1/1 [00:00<00:00,  6.01it/s]\n"
          ]
        },
        {
          "output_type": "stream",
          "name": "stdout",
          "text": [
            "Predicting topics... (Estimated time: 2.00 seconds)\n"
          ]
        },
        {
          "output_type": "stream",
          "name": "stderr",
          "text": [
            "Prediction Progress: 100%|██████████| 1/1 [00:00<00:00,  5.26it/s]\n"
          ]
        },
        {
          "output_type": "stream",
          "name": "stdout",
          "text": [
            "Predicting topics... (Estimated time: 2.00 seconds)\n"
          ]
        },
        {
          "output_type": "stream",
          "name": "stderr",
          "text": [
            "Prediction Progress: 100%|██████████| 1/1 [00:00<00:00,  5.84it/s]\n"
          ]
        },
        {
          "output_type": "stream",
          "name": "stdout",
          "text": [
            "Predicting topics... (Estimated time: 2.00 seconds)\n"
          ]
        },
        {
          "output_type": "stream",
          "name": "stderr",
          "text": [
            "Prediction Progress: 100%|██████████| 1/1 [00:00<00:00,  6.99it/s]\n"
          ]
        },
        {
          "output_type": "stream",
          "name": "stdout",
          "text": [
            "Predicting topics... (Estimated time: 2.00 seconds)\n"
          ]
        },
        {
          "output_type": "stream",
          "name": "stderr",
          "text": [
            "Prediction Progress: 100%|██████████| 1/1 [00:00<00:00,  5.55it/s]\n"
          ]
        },
        {
          "output_type": "stream",
          "name": "stdout",
          "text": [
            "Predicting topics... (Estimated time: 2.00 seconds)\n"
          ]
        },
        {
          "output_type": "stream",
          "name": "stderr",
          "text": [
            "Prediction Progress: 100%|██████████| 1/1 [00:00<00:00,  6.39it/s]\n"
          ]
        },
        {
          "output_type": "stream",
          "name": "stdout",
          "text": [
            "Predicting topics... (Estimated time: 2.00 seconds)\n"
          ]
        },
        {
          "output_type": "stream",
          "name": "stderr",
          "text": [
            "Prediction Progress: 100%|██████████| 1/1 [00:00<00:00,  6.06it/s]\n"
          ]
        },
        {
          "output_type": "stream",
          "name": "stdout",
          "text": [
            "Predicting topics... (Estimated time: 2.00 seconds)\n"
          ]
        },
        {
          "output_type": "stream",
          "name": "stderr",
          "text": [
            "Prediction Progress: 100%|██████████| 1/1 [00:00<00:00,  5.91it/s]\n"
          ]
        },
        {
          "output_type": "stream",
          "name": "stdout",
          "text": [
            "Predicting topics... (Estimated time: 2.00 seconds)\n"
          ]
        },
        {
          "output_type": "stream",
          "name": "stderr",
          "text": [
            "Prediction Progress: 100%|██████████| 1/1 [00:00<00:00,  6.10it/s]\n"
          ]
        },
        {
          "output_type": "stream",
          "name": "stdout",
          "text": [
            "Predicting topics... (Estimated time: 2.00 seconds)\n"
          ]
        },
        {
          "output_type": "stream",
          "name": "stderr",
          "text": [
            "Prediction Progress: 100%|██████████| 1/1 [00:00<00:00,  5.29it/s]\n"
          ]
        },
        {
          "output_type": "stream",
          "name": "stdout",
          "text": [
            "Predicting topics... (Estimated time: 2.00 seconds)\n"
          ]
        },
        {
          "output_type": "stream",
          "name": "stderr",
          "text": [
            "Prediction Progress: 100%|██████████| 1/1 [00:00<00:00,  5.26it/s]\n"
          ]
        },
        {
          "output_type": "stream",
          "name": "stdout",
          "text": [
            "Predicting topics... (Estimated time: 2.00 seconds)\n"
          ]
        },
        {
          "output_type": "stream",
          "name": "stderr",
          "text": [
            "Prediction Progress: 100%|██████████| 1/1 [00:00<00:00,  4.40it/s]\n"
          ]
        },
        {
          "output_type": "stream",
          "name": "stdout",
          "text": [
            "Predicting topics... (Estimated time: 2.00 seconds)\n"
          ]
        },
        {
          "output_type": "stream",
          "name": "stderr",
          "text": [
            "Prediction Progress: 100%|██████████| 1/1 [00:00<00:00,  5.23it/s]\n"
          ]
        },
        {
          "output_type": "stream",
          "name": "stdout",
          "text": [
            "Predicting topics... (Estimated time: 2.00 seconds)\n"
          ]
        },
        {
          "output_type": "stream",
          "name": "stderr",
          "text": [
            "Prediction Progress: 100%|██████████| 1/1 [00:00<00:00,  3.88it/s]\n"
          ]
        },
        {
          "output_type": "stream",
          "name": "stdout",
          "text": [
            "Predicting topics... (Estimated time: 2.00 seconds)\n"
          ]
        },
        {
          "output_type": "stream",
          "name": "stderr",
          "text": [
            "Prediction Progress: 100%|██████████| 1/1 [00:00<00:00,  3.65it/s]\n"
          ]
        },
        {
          "output_type": "stream",
          "name": "stdout",
          "text": [
            "Predicting topics... (Estimated time: 2.00 seconds)\n"
          ]
        },
        {
          "output_type": "stream",
          "name": "stderr",
          "text": [
            "Prediction Progress: 100%|██████████| 1/1 [00:00<00:00,  3.68it/s]\n"
          ]
        },
        {
          "output_type": "stream",
          "name": "stdout",
          "text": [
            "Predicting topics... (Estimated time: 2.00 seconds)\n"
          ]
        },
        {
          "output_type": "stream",
          "name": "stderr",
          "text": [
            "Prediction Progress: 100%|██████████| 1/1 [00:00<00:00,  3.58it/s]\n"
          ]
        },
        {
          "output_type": "stream",
          "name": "stdout",
          "text": [
            "Predicting topics... (Estimated time: 2.00 seconds)\n"
          ]
        },
        {
          "output_type": "stream",
          "name": "stderr",
          "text": [
            "Prediction Progress: 100%|██████████| 1/1 [00:00<00:00,  4.23it/s]\n"
          ]
        },
        {
          "output_type": "stream",
          "name": "stdout",
          "text": [
            "Predicting topics... (Estimated time: 2.00 seconds)\n"
          ]
        },
        {
          "output_type": "stream",
          "name": "stderr",
          "text": [
            "Prediction Progress: 100%|██████████| 1/1 [00:00<00:00,  3.85it/s]\n"
          ]
        },
        {
          "output_type": "stream",
          "name": "stdout",
          "text": [
            "Predicting topics... (Estimated time: 2.00 seconds)\n"
          ]
        },
        {
          "output_type": "stream",
          "name": "stderr",
          "text": [
            "Prediction Progress: 100%|██████████| 1/1 [00:00<00:00,  4.25it/s]\n"
          ]
        },
        {
          "output_type": "stream",
          "name": "stdout",
          "text": [
            "Predicting topics... (Estimated time: 2.00 seconds)\n"
          ]
        },
        {
          "output_type": "stream",
          "name": "stderr",
          "text": [
            "Prediction Progress: 100%|██████████| 1/1 [00:00<00:00,  3.58it/s]\n"
          ]
        },
        {
          "output_type": "stream",
          "name": "stdout",
          "text": [
            "Predicting topics... (Estimated time: 2.00 seconds)\n"
          ]
        },
        {
          "output_type": "stream",
          "name": "stderr",
          "text": [
            "Prediction Progress: 100%|██████████| 1/1 [00:00<00:00,  3.29it/s]\n"
          ]
        },
        {
          "output_type": "stream",
          "name": "stdout",
          "text": [
            "Predicting topics... (Estimated time: 2.00 seconds)\n"
          ]
        },
        {
          "output_type": "stream",
          "name": "stderr",
          "text": [
            "Prediction Progress: 100%|██████████| 1/1 [00:00<00:00,  2.88it/s]\n"
          ]
        },
        {
          "output_type": "stream",
          "name": "stdout",
          "text": [
            "Predicting topics... (Estimated time: 2.00 seconds)\n"
          ]
        },
        {
          "output_type": "stream",
          "name": "stderr",
          "text": [
            "Prediction Progress: 100%|██████████| 1/1 [00:00<00:00,  4.06it/s]\n"
          ]
        },
        {
          "output_type": "stream",
          "name": "stdout",
          "text": [
            "Predicting topics... (Estimated time: 2.00 seconds)\n"
          ]
        },
        {
          "output_type": "stream",
          "name": "stderr",
          "text": [
            "Prediction Progress: 100%|██████████| 1/1 [00:00<00:00,  6.49it/s]\n"
          ]
        },
        {
          "output_type": "stream",
          "name": "stdout",
          "text": [
            "Predicting topics... (Estimated time: 2.00 seconds)\n"
          ]
        },
        {
          "output_type": "stream",
          "name": "stderr",
          "text": [
            "Prediction Progress: 100%|██████████| 1/1 [00:00<00:00,  6.02it/s]\n"
          ]
        },
        {
          "output_type": "stream",
          "name": "stdout",
          "text": [
            "Predicting topics... (Estimated time: 2.00 seconds)\n"
          ]
        },
        {
          "output_type": "stream",
          "name": "stderr",
          "text": [
            "Prediction Progress: 100%|██████████| 1/1 [00:00<00:00,  3.54it/s]\n"
          ]
        },
        {
          "output_type": "stream",
          "name": "stdout",
          "text": [
            "Predicting topics... (Estimated time: 2.00 seconds)\n"
          ]
        },
        {
          "output_type": "stream",
          "name": "stderr",
          "text": [
            "Prediction Progress: 100%|██████████| 1/1 [00:00<00:00,  5.96it/s]\n"
          ]
        },
        {
          "output_type": "stream",
          "name": "stdout",
          "text": [
            "Predicting topics... (Estimated time: 2.00 seconds)\n"
          ]
        },
        {
          "output_type": "stream",
          "name": "stderr",
          "text": [
            "Prediction Progress: 100%|██████████| 1/1 [00:00<00:00,  5.53it/s]\n"
          ]
        },
        {
          "output_type": "stream",
          "name": "stdout",
          "text": [
            "Predicting topics... (Estimated time: 2.00 seconds)\n"
          ]
        },
        {
          "output_type": "stream",
          "name": "stderr",
          "text": [
            "Prediction Progress: 100%|██████████| 1/1 [00:00<00:00,  5.62it/s]\n"
          ]
        },
        {
          "output_type": "stream",
          "name": "stdout",
          "text": [
            "Predicting topics... (Estimated time: 2.00 seconds)\n"
          ]
        },
        {
          "output_type": "stream",
          "name": "stderr",
          "text": [
            "Prediction Progress: 100%|██████████| 1/1 [00:00<00:00,  5.59it/s]\n"
          ]
        },
        {
          "output_type": "stream",
          "name": "stdout",
          "text": [
            "Predicting topics... (Estimated time: 2.00 seconds)\n"
          ]
        },
        {
          "output_type": "stream",
          "name": "stderr",
          "text": [
            "Prediction Progress: 100%|██████████| 1/1 [00:00<00:00,  6.55it/s]\n"
          ]
        },
        {
          "output_type": "stream",
          "name": "stdout",
          "text": [
            "Predicting topics... (Estimated time: 2.00 seconds)\n"
          ]
        },
        {
          "output_type": "stream",
          "name": "stderr",
          "text": [
            "Prediction Progress: 100%|██████████| 1/1 [00:00<00:00,  5.33it/s]\n"
          ]
        },
        {
          "output_type": "stream",
          "name": "stdout",
          "text": [
            "Predicting topics... (Estimated time: 2.00 seconds)\n"
          ]
        },
        {
          "output_type": "stream",
          "name": "stderr",
          "text": [
            "Prediction Progress: 100%|██████████| 1/1 [00:00<00:00,  5.51it/s]\n"
          ]
        },
        {
          "output_type": "stream",
          "name": "stdout",
          "text": [
            "Predicting topics... (Estimated time: 2.00 seconds)\n"
          ]
        },
        {
          "output_type": "stream",
          "name": "stderr",
          "text": [
            "Prediction Progress: 100%|██████████| 1/1 [00:00<00:00,  3.08it/s]\n"
          ]
        },
        {
          "output_type": "stream",
          "name": "stdout",
          "text": [
            "Predicting topics... (Estimated time: 2.00 seconds)\n"
          ]
        },
        {
          "output_type": "stream",
          "name": "stderr",
          "text": [
            "Prediction Progress: 100%|██████████| 1/1 [00:00<00:00,  4.66it/s]\n"
          ]
        },
        {
          "output_type": "stream",
          "name": "stdout",
          "text": [
            "Predicting topics... (Estimated time: 2.00 seconds)\n"
          ]
        },
        {
          "output_type": "stream",
          "name": "stderr",
          "text": [
            "Prediction Progress: 100%|██████████| 1/1 [00:00<00:00,  2.11it/s]\n"
          ]
        },
        {
          "output_type": "stream",
          "name": "stdout",
          "text": [
            "Predicting topics... (Estimated time: 2.00 seconds)\n"
          ]
        },
        {
          "output_type": "stream",
          "name": "stderr",
          "text": [
            "Prediction Progress: 100%|██████████| 1/1 [00:00<00:00,  4.82it/s]\n"
          ]
        },
        {
          "output_type": "stream",
          "name": "stdout",
          "text": [
            "Predicting topics... (Estimated time: 2.00 seconds)\n"
          ]
        },
        {
          "output_type": "stream",
          "name": "stderr",
          "text": [
            "Prediction Progress: 100%|██████████| 1/1 [00:00<00:00,  5.36it/s]\n"
          ]
        },
        {
          "output_type": "stream",
          "name": "stdout",
          "text": [
            "Predicting topics... (Estimated time: 2.00 seconds)\n"
          ]
        },
        {
          "output_type": "stream",
          "name": "stderr",
          "text": [
            "Prediction Progress: 100%|██████████| 1/1 [00:00<00:00,  5.75it/s]\n"
          ]
        },
        {
          "output_type": "stream",
          "name": "stdout",
          "text": [
            "Predicting topics... (Estimated time: 2.00 seconds)\n"
          ]
        },
        {
          "output_type": "stream",
          "name": "stderr",
          "text": [
            "Prediction Progress: 100%|██████████| 1/1 [00:00<00:00,  5.50it/s]\n"
          ]
        },
        {
          "output_type": "stream",
          "name": "stdout",
          "text": [
            "Predicting topics... (Estimated time: 2.00 seconds)\n"
          ]
        },
        {
          "output_type": "stream",
          "name": "stderr",
          "text": [
            "Prediction Progress: 100%|██████████| 1/1 [00:00<00:00,  6.08it/s]\n"
          ]
        },
        {
          "output_type": "stream",
          "name": "stdout",
          "text": [
            "Predicting topics... (Estimated time: 2.00 seconds)\n"
          ]
        },
        {
          "output_type": "stream",
          "name": "stderr",
          "text": [
            "Prediction Progress: 100%|██████████| 1/1 [00:00<00:00,  6.67it/s]\n"
          ]
        },
        {
          "output_type": "stream",
          "name": "stdout",
          "text": [
            "Predicting topics... (Estimated time: 2.00 seconds)\n"
          ]
        },
        {
          "output_type": "stream",
          "name": "stderr",
          "text": [
            "Prediction Progress: 100%|██████████| 1/1 [00:00<00:00,  6.10it/s]\n"
          ]
        },
        {
          "output_type": "stream",
          "name": "stdout",
          "text": [
            "Predicting topics... (Estimated time: 2.00 seconds)\n"
          ]
        },
        {
          "output_type": "stream",
          "name": "stderr",
          "text": [
            "Prediction Progress: 100%|██████████| 1/1 [00:00<00:00,  5.78it/s]\n"
          ]
        },
        {
          "output_type": "stream",
          "name": "stdout",
          "text": [
            "Predicting topics... (Estimated time: 2.00 seconds)\n"
          ]
        },
        {
          "output_type": "stream",
          "name": "stderr",
          "text": [
            "Prediction Progress: 100%|██████████| 1/1 [00:00<00:00,  4.04it/s]\n"
          ]
        },
        {
          "output_type": "stream",
          "name": "stdout",
          "text": [
            "Predicting topics... (Estimated time: 2.00 seconds)\n"
          ]
        },
        {
          "output_type": "stream",
          "name": "stderr",
          "text": [
            "Prediction Progress: 100%|██████████| 1/1 [00:00<00:00,  6.55it/s]\n"
          ]
        },
        {
          "output_type": "stream",
          "name": "stdout",
          "text": [
            "Predicting topics... (Estimated time: 2.00 seconds)\n"
          ]
        },
        {
          "output_type": "stream",
          "name": "stderr",
          "text": [
            "Prediction Progress: 100%|██████████| 1/1 [00:00<00:00,  5.15it/s]\n"
          ]
        },
        {
          "output_type": "stream",
          "name": "stdout",
          "text": [
            "Predicting topics... (Estimated time: 2.00 seconds)\n"
          ]
        },
        {
          "output_type": "stream",
          "name": "stderr",
          "text": [
            "Prediction Progress: 100%|██████████| 1/1 [00:00<00:00,  4.76it/s]\n"
          ]
        },
        {
          "output_type": "stream",
          "name": "stdout",
          "text": [
            "Predicting topics... (Estimated time: 2.00 seconds)\n"
          ]
        },
        {
          "output_type": "stream",
          "name": "stderr",
          "text": [
            "Prediction Progress: 100%|██████████| 1/1 [00:00<00:00,  5.68it/s]\n"
          ]
        },
        {
          "output_type": "stream",
          "name": "stdout",
          "text": [
            "Predicting topics... (Estimated time: 2.00 seconds)\n"
          ]
        },
        {
          "output_type": "stream",
          "name": "stderr",
          "text": [
            "Prediction Progress: 100%|██████████| 1/1 [00:00<00:00,  6.54it/s]\n"
          ]
        },
        {
          "output_type": "stream",
          "name": "stdout",
          "text": [
            "Predicting topics... (Estimated time: 2.00 seconds)\n"
          ]
        },
        {
          "output_type": "stream",
          "name": "stderr",
          "text": [
            "Prediction Progress: 100%|██████████| 1/1 [00:00<00:00,  5.16it/s]\n"
          ]
        },
        {
          "output_type": "stream",
          "name": "stdout",
          "text": [
            "Predicting topics... (Estimated time: 2.00 seconds)\n"
          ]
        },
        {
          "output_type": "stream",
          "name": "stderr",
          "text": [
            "Prediction Progress: 100%|██████████| 1/1 [00:00<00:00,  5.07it/s]\n"
          ]
        },
        {
          "output_type": "stream",
          "name": "stdout",
          "text": [
            "Predicting topics... (Estimated time: 2.00 seconds)\n"
          ]
        },
        {
          "output_type": "stream",
          "name": "stderr",
          "text": [
            "Prediction Progress: 100%|██████████| 1/1 [00:00<00:00,  5.67it/s]\n"
          ]
        },
        {
          "output_type": "stream",
          "name": "stdout",
          "text": [
            "Predicting topics... (Estimated time: 2.00 seconds)\n"
          ]
        },
        {
          "output_type": "stream",
          "name": "stderr",
          "text": [
            "Prediction Progress: 100%|██████████| 1/1 [00:00<00:00,  5.21it/s]\n"
          ]
        },
        {
          "output_type": "stream",
          "name": "stdout",
          "text": [
            "Predicting topics... (Estimated time: 2.00 seconds)\n"
          ]
        },
        {
          "output_type": "stream",
          "name": "stderr",
          "text": [
            "Prediction Progress: 100%|██████████| 1/1 [00:00<00:00,  3.00it/s]\n"
          ]
        },
        {
          "output_type": "stream",
          "name": "stdout",
          "text": [
            "Predicting topics... (Estimated time: 2.00 seconds)\n"
          ]
        },
        {
          "output_type": "stream",
          "name": "stderr",
          "text": [
            "Prediction Progress: 100%|██████████| 1/1 [00:00<00:00,  6.49it/s]\n"
          ]
        },
        {
          "output_type": "stream",
          "name": "stdout",
          "text": [
            "Predicting topics... (Estimated time: 2.00 seconds)\n"
          ]
        },
        {
          "output_type": "stream",
          "name": "stderr",
          "text": [
            "Prediction Progress: 100%|██████████| 1/1 [00:00<00:00,  2.87it/s]\n"
          ]
        },
        {
          "output_type": "stream",
          "name": "stdout",
          "text": [
            "Predicting topics... (Estimated time: 2.00 seconds)\n"
          ]
        },
        {
          "output_type": "stream",
          "name": "stderr",
          "text": [
            "Prediction Progress: 100%|██████████| 1/1 [00:00<00:00,  5.93it/s]\n"
          ]
        },
        {
          "output_type": "stream",
          "name": "stdout",
          "text": [
            "Predicting topics... (Estimated time: 2.00 seconds)\n"
          ]
        },
        {
          "output_type": "stream",
          "name": "stderr",
          "text": [
            "Prediction Progress: 100%|██████████| 1/1 [00:00<00:00,  2.76it/s]\n"
          ]
        },
        {
          "output_type": "stream",
          "name": "stdout",
          "text": [
            "Predicting topics... (Estimated time: 2.00 seconds)\n"
          ]
        },
        {
          "output_type": "stream",
          "name": "stderr",
          "text": [
            "Prediction Progress: 100%|██████████| 1/1 [00:00<00:00,  5.13it/s]\n"
          ]
        },
        {
          "output_type": "stream",
          "name": "stdout",
          "text": [
            "Predicting topics... (Estimated time: 2.00 seconds)\n"
          ]
        },
        {
          "output_type": "stream",
          "name": "stderr",
          "text": [
            "Prediction Progress: 100%|██████████| 1/1 [00:00<00:00,  2.76it/s]\n"
          ]
        },
        {
          "output_type": "stream",
          "name": "stdout",
          "text": [
            "Predicting topics... (Estimated time: 2.00 seconds)\n"
          ]
        },
        {
          "output_type": "stream",
          "name": "stderr",
          "text": [
            "Prediction Progress: 100%|██████████| 1/1 [00:00<00:00,  3.20it/s]\n"
          ]
        },
        {
          "output_type": "stream",
          "name": "stdout",
          "text": [
            "Predicting topics... (Estimated time: 2.00 seconds)\n"
          ]
        },
        {
          "output_type": "stream",
          "name": "stderr",
          "text": [
            "Prediction Progress: 100%|██████████| 1/1 [00:00<00:00,  2.54it/s]\n"
          ]
        },
        {
          "output_type": "stream",
          "name": "stdout",
          "text": [
            "Predicting topics... (Estimated time: 2.00 seconds)\n"
          ]
        },
        {
          "output_type": "stream",
          "name": "stderr",
          "text": [
            "Prediction Progress: 100%|██████████| 1/1 [00:00<00:00,  5.19it/s]\n"
          ]
        },
        {
          "output_type": "stream",
          "name": "stdout",
          "text": [
            "Predicting topics... (Estimated time: 2.00 seconds)\n"
          ]
        },
        {
          "output_type": "stream",
          "name": "stderr",
          "text": [
            "Prediction Progress: 100%|██████████| 1/1 [00:00<00:00,  2.74it/s]\n"
          ]
        },
        {
          "output_type": "stream",
          "name": "stdout",
          "text": [
            "Predicting topics... (Estimated time: 2.00 seconds)\n"
          ]
        },
        {
          "output_type": "stream",
          "name": "stderr",
          "text": [
            "Prediction Progress: 100%|██████████| 1/1 [00:00<00:00,  2.15it/s]\n"
          ]
        },
        {
          "output_type": "stream",
          "name": "stdout",
          "text": [
            "Predicting topics... (Estimated time: 2.00 seconds)\n"
          ]
        },
        {
          "output_type": "stream",
          "name": "stderr",
          "text": [
            "Prediction Progress: 100%|██████████| 1/1 [00:00<00:00,  1.62it/s]\n"
          ]
        },
        {
          "output_type": "stream",
          "name": "stdout",
          "text": [
            "Predicting topics... (Estimated time: 2.00 seconds)\n"
          ]
        },
        {
          "output_type": "stream",
          "name": "stderr",
          "text": [
            "Prediction Progress: 100%|██████████| 1/1 [00:00<00:00,  1.97it/s]\n"
          ]
        },
        {
          "output_type": "stream",
          "name": "stdout",
          "text": [
            "Predicting topics... (Estimated time: 2.00 seconds)\n"
          ]
        },
        {
          "output_type": "stream",
          "name": "stderr",
          "text": [
            "Prediction Progress: 100%|██████████| 1/1 [00:00<00:00,  2.48it/s]\n"
          ]
        },
        {
          "output_type": "stream",
          "name": "stdout",
          "text": [
            "Predicting topics... (Estimated time: 2.00 seconds)\n"
          ]
        },
        {
          "output_type": "stream",
          "name": "stderr",
          "text": [
            "Prediction Progress: 100%|██████████| 1/1 [00:00<00:00,  1.99it/s]\n"
          ]
        },
        {
          "output_type": "stream",
          "name": "stdout",
          "text": [
            "Predicting topics... (Estimated time: 2.00 seconds)\n"
          ]
        },
        {
          "output_type": "stream",
          "name": "stderr",
          "text": [
            "Prediction Progress: 100%|██████████| 1/1 [00:00<00:00,  3.41it/s]\n"
          ]
        },
        {
          "output_type": "stream",
          "name": "stdout",
          "text": [
            "Predicting topics... (Estimated time: 2.00 seconds)\n"
          ]
        },
        {
          "output_type": "stream",
          "name": "stderr",
          "text": [
            "Prediction Progress: 100%|██████████| 1/1 [00:00<00:00,  2.57it/s]\n"
          ]
        },
        {
          "output_type": "stream",
          "name": "stdout",
          "text": [
            "Predicting topics... (Estimated time: 2.00 seconds)\n"
          ]
        },
        {
          "output_type": "stream",
          "name": "stderr",
          "text": [
            "Prediction Progress: 100%|██████████| 1/1 [00:00<00:00,  2.85it/s]\n"
          ]
        },
        {
          "output_type": "stream",
          "name": "stdout",
          "text": [
            "Predicting topics... (Estimated time: 2.00 seconds)\n"
          ]
        },
        {
          "output_type": "stream",
          "name": "stderr",
          "text": [
            "Prediction Progress: 100%|██████████| 1/1 [00:00<00:00,  5.39it/s]\n"
          ]
        },
        {
          "output_type": "stream",
          "name": "stdout",
          "text": [
            "Predicting topics... (Estimated time: 2.00 seconds)\n"
          ]
        },
        {
          "output_type": "stream",
          "name": "stderr",
          "text": [
            "Prediction Progress: 100%|██████████| 1/1 [00:00<00:00,  5.96it/s]\n"
          ]
        },
        {
          "output_type": "stream",
          "name": "stdout",
          "text": [
            "Predicting topics... (Estimated time: 2.00 seconds)\n"
          ]
        },
        {
          "output_type": "stream",
          "name": "stderr",
          "text": [
            "Prediction Progress: 100%|██████████| 1/1 [00:00<00:00,  2.66it/s]\n"
          ]
        },
        {
          "output_type": "stream",
          "name": "stdout",
          "text": [
            "Predicting topics... (Estimated time: 2.00 seconds)\n"
          ]
        },
        {
          "output_type": "stream",
          "name": "stderr",
          "text": [
            "Prediction Progress: 100%|██████████| 1/1 [00:00<00:00,  4.30it/s]\n"
          ]
        },
        {
          "output_type": "stream",
          "name": "stdout",
          "text": [
            "Predicting topics... (Estimated time: 2.00 seconds)\n"
          ]
        },
        {
          "output_type": "stream",
          "name": "stderr",
          "text": [
            "Prediction Progress: 100%|██████████| 1/1 [00:00<00:00,  5.18it/s]\n"
          ]
        },
        {
          "output_type": "stream",
          "name": "stdout",
          "text": [
            "Predicting topics... (Estimated time: 2.00 seconds)\n"
          ]
        },
        {
          "output_type": "stream",
          "name": "stderr",
          "text": [
            "Prediction Progress: 100%|██████████| 1/1 [00:00<00:00,  5.13it/s]\n"
          ]
        },
        {
          "output_type": "stream",
          "name": "stdout",
          "text": [
            "Predicting topics... (Estimated time: 2.00 seconds)\n"
          ]
        },
        {
          "output_type": "stream",
          "name": "stderr",
          "text": [
            "Prediction Progress: 100%|██████████| 1/1 [00:00<00:00,  3.55it/s]\n"
          ]
        },
        {
          "output_type": "stream",
          "name": "stdout",
          "text": [
            "Predicting topics... (Estimated time: 2.00 seconds)\n"
          ]
        },
        {
          "output_type": "stream",
          "name": "stderr",
          "text": [
            "Prediction Progress: 100%|██████████| 1/1 [00:00<00:00,  2.58it/s]\n"
          ]
        },
        {
          "output_type": "stream",
          "name": "stdout",
          "text": [
            "Predicting topics... (Estimated time: 2.00 seconds)\n"
          ]
        },
        {
          "output_type": "stream",
          "name": "stderr",
          "text": [
            "Prediction Progress: 100%|██████████| 1/1 [00:00<00:00,  2.85it/s]\n"
          ]
        },
        {
          "output_type": "stream",
          "name": "stdout",
          "text": [
            "Predicting topics... (Estimated time: 2.00 seconds)\n"
          ]
        },
        {
          "output_type": "stream",
          "name": "stderr",
          "text": [
            "Prediction Progress: 100%|██████████| 1/1 [00:00<00:00,  5.72it/s]\n"
          ]
        },
        {
          "output_type": "stream",
          "name": "stdout",
          "text": [
            "Predicting topics... (Estimated time: 2.00 seconds)\n"
          ]
        },
        {
          "output_type": "stream",
          "name": "stderr",
          "text": [
            "Prediction Progress: 100%|██████████| 1/1 [00:00<00:00,  5.04it/s]\n"
          ]
        },
        {
          "output_type": "stream",
          "name": "stdout",
          "text": [
            "Predicting topics... (Estimated time: 2.00 seconds)\n"
          ]
        },
        {
          "output_type": "stream",
          "name": "stderr",
          "text": [
            "Prediction Progress: 100%|██████████| 1/1 [00:00<00:00,  2.70it/s]\n"
          ]
        },
        {
          "output_type": "stream",
          "name": "stdout",
          "text": [
            "Predicting topics... (Estimated time: 2.00 seconds)\n"
          ]
        },
        {
          "output_type": "stream",
          "name": "stderr",
          "text": [
            "Prediction Progress: 100%|██████████| 1/1 [00:00<00:00,  5.22it/s]\n"
          ]
        },
        {
          "output_type": "stream",
          "name": "stdout",
          "text": [
            "Predicting topics... (Estimated time: 2.00 seconds)\n"
          ]
        },
        {
          "output_type": "stream",
          "name": "stderr",
          "text": [
            "Prediction Progress: 100%|██████████| 1/1 [00:00<00:00,  4.58it/s]\n"
          ]
        },
        {
          "output_type": "stream",
          "name": "stdout",
          "text": [
            "Predicting topics... (Estimated time: 2.00 seconds)\n"
          ]
        },
        {
          "output_type": "stream",
          "name": "stderr",
          "text": [
            "Prediction Progress: 100%|██████████| 1/1 [00:00<00:00,  2.90it/s]\n"
          ]
        },
        {
          "output_type": "stream",
          "name": "stdout",
          "text": [
            "Predicting topics... (Estimated time: 2.00 seconds)\n"
          ]
        },
        {
          "output_type": "stream",
          "name": "stderr",
          "text": [
            "Prediction Progress: 100%|██████████| 1/1 [00:00<00:00,  3.47it/s]\n"
          ]
        },
        {
          "output_type": "stream",
          "name": "stdout",
          "text": [
            "Predicting topics... (Estimated time: 2.00 seconds)\n"
          ]
        },
        {
          "output_type": "stream",
          "name": "stderr",
          "text": [
            "Prediction Progress: 100%|██████████| 1/1 [00:00<00:00,  5.54it/s]\n"
          ]
        },
        {
          "output_type": "stream",
          "name": "stdout",
          "text": [
            "Predicting topics... (Estimated time: 2.00 seconds)\n"
          ]
        },
        {
          "output_type": "stream",
          "name": "stderr",
          "text": [
            "Prediction Progress: 100%|██████████| 1/1 [00:00<00:00,  5.97it/s]\n"
          ]
        },
        {
          "output_type": "stream",
          "name": "stdout",
          "text": [
            "Predicting topics... (Estimated time: 2.00 seconds)\n"
          ]
        },
        {
          "output_type": "stream",
          "name": "stderr",
          "text": [
            "Prediction Progress: 100%|██████████| 1/1 [00:00<00:00,  5.09it/s]\n"
          ]
        },
        {
          "output_type": "stream",
          "name": "stdout",
          "text": [
            "Predicting topics... (Estimated time: 2.00 seconds)\n"
          ]
        },
        {
          "output_type": "stream",
          "name": "stderr",
          "text": [
            "Prediction Progress: 100%|██████████| 1/1 [00:00<00:00,  4.79it/s]\n"
          ]
        },
        {
          "output_type": "stream",
          "name": "stdout",
          "text": [
            "Predicting topics... (Estimated time: 2.00 seconds)\n"
          ]
        },
        {
          "output_type": "stream",
          "name": "stderr",
          "text": [
            "Prediction Progress: 100%|██████████| 1/1 [00:00<00:00,  2.64it/s]\n"
          ]
        },
        {
          "output_type": "stream",
          "name": "stdout",
          "text": [
            "Predicting topics... (Estimated time: 2.00 seconds)\n"
          ]
        },
        {
          "output_type": "stream",
          "name": "stderr",
          "text": [
            "Prediction Progress: 100%|██████████| 1/1 [00:00<00:00,  5.64it/s]\n"
          ]
        },
        {
          "output_type": "stream",
          "name": "stdout",
          "text": [
            "Predicting topics... (Estimated time: 2.00 seconds)\n"
          ]
        },
        {
          "output_type": "stream",
          "name": "stderr",
          "text": [
            "Prediction Progress: 100%|██████████| 1/1 [00:00<00:00,  2.55it/s]\n"
          ]
        },
        {
          "output_type": "stream",
          "name": "stdout",
          "text": [
            "Predicting topics... (Estimated time: 2.00 seconds)\n"
          ]
        },
        {
          "output_type": "stream",
          "name": "stderr",
          "text": [
            "Prediction Progress: 100%|██████████| 1/1 [00:00<00:00,  2.51it/s]\n"
          ]
        },
        {
          "output_type": "stream",
          "name": "stdout",
          "text": [
            "Predicting topics... (Estimated time: 2.00 seconds)\n"
          ]
        },
        {
          "output_type": "stream",
          "name": "stderr",
          "text": [
            "Prediction Progress: 100%|██████████| 1/1 [00:00<00:00,  5.86it/s]\n"
          ]
        },
        {
          "output_type": "stream",
          "name": "stdout",
          "text": [
            "Predicting topics... (Estimated time: 2.00 seconds)\n"
          ]
        },
        {
          "output_type": "stream",
          "name": "stderr",
          "text": [
            "Prediction Progress: 100%|██████████| 1/1 [00:00<00:00,  6.24it/s]\n"
          ]
        },
        {
          "output_type": "stream",
          "name": "stdout",
          "text": [
            "Predicting topics... (Estimated time: 2.00 seconds)\n"
          ]
        },
        {
          "output_type": "stream",
          "name": "stderr",
          "text": [
            "Prediction Progress: 100%|██████████| 1/1 [00:00<00:00,  2.39it/s]\n"
          ]
        },
        {
          "output_type": "stream",
          "name": "stdout",
          "text": [
            "Predicting topics... (Estimated time: 2.00 seconds)\n"
          ]
        },
        {
          "output_type": "stream",
          "name": "stderr",
          "text": [
            "Prediction Progress: 100%|██████████| 1/1 [00:00<00:00,  2.77it/s]\n"
          ]
        },
        {
          "output_type": "stream",
          "name": "stdout",
          "text": [
            "Predicting topics... (Estimated time: 2.00 seconds)\n"
          ]
        },
        {
          "output_type": "stream",
          "name": "stderr",
          "text": [
            "Prediction Progress: 100%|██████████| 1/1 [00:00<00:00,  4.37it/s]\n"
          ]
        },
        {
          "output_type": "stream",
          "name": "stdout",
          "text": [
            "Predicting topics... (Estimated time: 2.00 seconds)\n"
          ]
        },
        {
          "output_type": "stream",
          "name": "stderr",
          "text": [
            "Prediction Progress: 100%|██████████| 1/1 [00:00<00:00,  2.82it/s]\n"
          ]
        },
        {
          "output_type": "stream",
          "name": "stdout",
          "text": [
            "Predicting topics... (Estimated time: 2.00 seconds)\n"
          ]
        },
        {
          "output_type": "stream",
          "name": "stderr",
          "text": [
            "Prediction Progress: 100%|██████████| 1/1 [00:00<00:00,  3.48it/s]\n"
          ]
        },
        {
          "output_type": "stream",
          "name": "stdout",
          "text": [
            "Predicting topics... (Estimated time: 2.00 seconds)\n"
          ]
        },
        {
          "output_type": "stream",
          "name": "stderr",
          "text": [
            "Prediction Progress: 100%|██████████| 1/1 [00:00<00:00,  6.28it/s]\n"
          ]
        },
        {
          "output_type": "stream",
          "name": "stdout",
          "text": [
            "Predicting topics... (Estimated time: 2.00 seconds)\n"
          ]
        },
        {
          "output_type": "stream",
          "name": "stderr",
          "text": [
            "Prediction Progress: 100%|██████████| 1/1 [00:00<00:00,  4.74it/s]\n"
          ]
        },
        {
          "output_type": "stream",
          "name": "stdout",
          "text": [
            "Predicting topics... (Estimated time: 2.00 seconds)\n"
          ]
        },
        {
          "output_type": "stream",
          "name": "stderr",
          "text": [
            "Prediction Progress: 100%|██████████| 1/1 [00:00<00:00,  5.42it/s]\n"
          ]
        },
        {
          "output_type": "stream",
          "name": "stdout",
          "text": [
            "Predicting topics... (Estimated time: 2.00 seconds)\n"
          ]
        },
        {
          "output_type": "stream",
          "name": "stderr",
          "text": [
            "Prediction Progress: 100%|██████████| 1/1 [00:00<00:00,  3.35it/s]\n"
          ]
        },
        {
          "output_type": "stream",
          "name": "stdout",
          "text": [
            "Predicting topics... (Estimated time: 2.00 seconds)\n"
          ]
        },
        {
          "output_type": "stream",
          "name": "stderr",
          "text": [
            "Prediction Progress: 100%|██████████| 1/1 [00:00<00:00,  2.98it/s]\n"
          ]
        },
        {
          "output_type": "stream",
          "name": "stdout",
          "text": [
            "Predicting topics... (Estimated time: 2.00 seconds)\n"
          ]
        },
        {
          "output_type": "stream",
          "name": "stderr",
          "text": [
            "Prediction Progress: 100%|██████████| 1/1 [00:00<00:00,  4.39it/s]\n"
          ]
        },
        {
          "output_type": "stream",
          "name": "stdout",
          "text": [
            "Predicting topics... (Estimated time: 2.00 seconds)\n"
          ]
        },
        {
          "output_type": "stream",
          "name": "stderr",
          "text": [
            "Prediction Progress: 100%|██████████| 1/1 [00:00<00:00,  2.44it/s]\n"
          ]
        },
        {
          "output_type": "stream",
          "name": "stdout",
          "text": [
            "Predicting topics... (Estimated time: 2.00 seconds)\n"
          ]
        },
        {
          "output_type": "stream",
          "name": "stderr",
          "text": [
            "Prediction Progress: 100%|██████████| 1/1 [00:00<00:00,  4.27it/s]\n"
          ]
        },
        {
          "output_type": "stream",
          "name": "stdout",
          "text": [
            "Predicting topics... (Estimated time: 2.00 seconds)\n"
          ]
        },
        {
          "output_type": "stream",
          "name": "stderr",
          "text": [
            "Prediction Progress: 100%|██████████| 1/1 [00:00<00:00,  1.75it/s]\n"
          ]
        },
        {
          "output_type": "stream",
          "name": "stdout",
          "text": [
            "Predicting topics... (Estimated time: 2.00 seconds)\n"
          ]
        },
        {
          "output_type": "stream",
          "name": "stderr",
          "text": [
            "Prediction Progress: 100%|██████████| 1/1 [00:00<00:00,  3.51it/s]\n"
          ]
        },
        {
          "output_type": "stream",
          "name": "stdout",
          "text": [
            "Predicting topics... (Estimated time: 2.00 seconds)\n"
          ]
        },
        {
          "output_type": "stream",
          "name": "stderr",
          "text": [
            "Prediction Progress: 100%|██████████| 1/1 [00:00<00:00,  3.83it/s]\n"
          ]
        },
        {
          "output_type": "stream",
          "name": "stdout",
          "text": [
            "Predicting topics... (Estimated time: 2.00 seconds)\n"
          ]
        },
        {
          "output_type": "stream",
          "name": "stderr",
          "text": [
            "Prediction Progress: 100%|██████████| 1/1 [00:00<00:00,  2.36it/s]\n"
          ]
        },
        {
          "output_type": "stream",
          "name": "stdout",
          "text": [
            "Predicting topics... (Estimated time: 2.00 seconds)\n"
          ]
        },
        {
          "output_type": "stream",
          "name": "stderr",
          "text": [
            "Prediction Progress: 100%|██████████| 1/1 [00:00<00:00,  4.48it/s]\n"
          ]
        },
        {
          "output_type": "stream",
          "name": "stdout",
          "text": [
            "Predicting topics... (Estimated time: 2.00 seconds)\n"
          ]
        },
        {
          "output_type": "stream",
          "name": "stderr",
          "text": [
            "Prediction Progress: 100%|██████████| 1/1 [00:00<00:00,  2.81it/s]\n"
          ]
        },
        {
          "output_type": "stream",
          "name": "stdout",
          "text": [
            "Predicting topics... (Estimated time: 2.00 seconds)\n"
          ]
        },
        {
          "output_type": "stream",
          "name": "stderr",
          "text": [
            "Prediction Progress: 100%|██████████| 1/1 [00:00<00:00,  3.02it/s]\n"
          ]
        },
        {
          "output_type": "stream",
          "name": "stdout",
          "text": [
            "Predicting topics... (Estimated time: 2.00 seconds)\n"
          ]
        },
        {
          "output_type": "stream",
          "name": "stderr",
          "text": [
            "Prediction Progress: 100%|██████████| 1/1 [00:00<00:00,  5.63it/s]\n"
          ]
        },
        {
          "output_type": "stream",
          "name": "stdout",
          "text": [
            "Predicting topics... (Estimated time: 2.00 seconds)\n"
          ]
        },
        {
          "output_type": "stream",
          "name": "stderr",
          "text": [
            "Prediction Progress: 100%|██████████| 1/1 [00:00<00:00,  3.24it/s]\n"
          ]
        },
        {
          "output_type": "stream",
          "name": "stdout",
          "text": [
            "Predicting topics... (Estimated time: 2.00 seconds)\n"
          ]
        },
        {
          "output_type": "stream",
          "name": "stderr",
          "text": [
            "Prediction Progress: 100%|██████████| 1/1 [00:00<00:00,  5.02it/s]\n"
          ]
        },
        {
          "output_type": "stream",
          "name": "stdout",
          "text": [
            "Predicting topics... (Estimated time: 2.00 seconds)\n"
          ]
        },
        {
          "output_type": "stream",
          "name": "stderr",
          "text": [
            "Prediction Progress: 100%|██████████| 1/1 [00:00<00:00,  5.38it/s]\n"
          ]
        },
        {
          "output_type": "stream",
          "name": "stdout",
          "text": [
            "Predicting topics... (Estimated time: 2.00 seconds)\n"
          ]
        },
        {
          "output_type": "stream",
          "name": "stderr",
          "text": [
            "Prediction Progress: 100%|██████████| 1/1 [00:00<00:00,  5.78it/s]\n"
          ]
        },
        {
          "output_type": "stream",
          "name": "stdout",
          "text": [
            "Predicting topics... (Estimated time: 2.00 seconds)\n"
          ]
        },
        {
          "output_type": "stream",
          "name": "stderr",
          "text": [
            "Prediction Progress: 100%|██████████| 1/1 [00:00<00:00,  5.74it/s]\n"
          ]
        },
        {
          "output_type": "stream",
          "name": "stdout",
          "text": [
            "Predicting topics... (Estimated time: 2.00 seconds)\n"
          ]
        },
        {
          "output_type": "stream",
          "name": "stderr",
          "text": [
            "Prediction Progress: 100%|██████████| 1/1 [00:00<00:00,  4.20it/s]\n"
          ]
        },
        {
          "output_type": "stream",
          "name": "stdout",
          "text": [
            "Predicting topics... (Estimated time: 2.00 seconds)\n"
          ]
        },
        {
          "output_type": "stream",
          "name": "stderr",
          "text": [
            "Prediction Progress: 100%|██████████| 1/1 [00:00<00:00,  3.72it/s]\n"
          ]
        },
        {
          "output_type": "stream",
          "name": "stdout",
          "text": [
            "Predicting topics... (Estimated time: 2.00 seconds)\n"
          ]
        },
        {
          "output_type": "stream",
          "name": "stderr",
          "text": [
            "Prediction Progress: 100%|██████████| 1/1 [00:00<00:00,  5.50it/s]\n"
          ]
        },
        {
          "output_type": "stream",
          "name": "stdout",
          "text": [
            "Predicting topics... (Estimated time: 2.00 seconds)\n"
          ]
        },
        {
          "output_type": "stream",
          "name": "stderr",
          "text": [
            "Prediction Progress: 100%|██████████| 1/1 [00:00<00:00,  5.46it/s]\n"
          ]
        },
        {
          "output_type": "stream",
          "name": "stdout",
          "text": [
            "Predicting topics... (Estimated time: 2.00 seconds)\n"
          ]
        },
        {
          "output_type": "stream",
          "name": "stderr",
          "text": [
            "Prediction Progress: 100%|██████████| 1/1 [00:00<00:00,  4.81it/s]\n"
          ]
        },
        {
          "output_type": "stream",
          "name": "stdout",
          "text": [
            "Predicting topics... (Estimated time: 2.00 seconds)\n"
          ]
        },
        {
          "output_type": "stream",
          "name": "stderr",
          "text": [
            "Prediction Progress: 100%|██████████| 1/1 [00:00<00:00,  3.48it/s]\n"
          ]
        },
        {
          "output_type": "stream",
          "name": "stdout",
          "text": [
            "Predicting topics... (Estimated time: 2.00 seconds)\n"
          ]
        },
        {
          "output_type": "stream",
          "name": "stderr",
          "text": [
            "Prediction Progress: 100%|██████████| 1/1 [00:00<00:00,  5.55it/s]\n"
          ]
        },
        {
          "output_type": "stream",
          "name": "stdout",
          "text": [
            "Predicting topics... (Estimated time: 2.00 seconds)\n"
          ]
        },
        {
          "output_type": "stream",
          "name": "stderr",
          "text": [
            "Prediction Progress: 100%|██████████| 1/1 [00:00<00:00,  4.71it/s]\n"
          ]
        },
        {
          "output_type": "stream",
          "name": "stdout",
          "text": [
            "Predicting topics... (Estimated time: 2.00 seconds)\n"
          ]
        },
        {
          "output_type": "stream",
          "name": "stderr",
          "text": [
            "Prediction Progress: 100%|██████████| 1/1 [00:00<00:00,  6.53it/s]\n"
          ]
        },
        {
          "output_type": "stream",
          "name": "stdout",
          "text": [
            "Predicting topics... (Estimated time: 2.00 seconds)\n"
          ]
        },
        {
          "output_type": "stream",
          "name": "stderr",
          "text": [
            "Prediction Progress: 100%|██████████| 1/1 [00:00<00:00,  5.83it/s]\n"
          ]
        },
        {
          "output_type": "stream",
          "name": "stdout",
          "text": [
            "Predicting topics... (Estimated time: 2.00 seconds)\n"
          ]
        },
        {
          "output_type": "stream",
          "name": "stderr",
          "text": [
            "Prediction Progress: 100%|██████████| 1/1 [00:00<00:00,  5.37it/s]\n"
          ]
        },
        {
          "output_type": "stream",
          "name": "stdout",
          "text": [
            "Predicting topics... (Estimated time: 2.00 seconds)\n"
          ]
        },
        {
          "output_type": "stream",
          "name": "stderr",
          "text": [
            "Prediction Progress: 100%|██████████| 1/1 [00:00<00:00,  4.39it/s]\n"
          ]
        },
        {
          "output_type": "stream",
          "name": "stdout",
          "text": [
            "Predicting topics... (Estimated time: 2.00 seconds)\n"
          ]
        },
        {
          "output_type": "stream",
          "name": "stderr",
          "text": [
            "Prediction Progress: 100%|██████████| 1/1 [00:00<00:00,  4.56it/s]\n"
          ]
        },
        {
          "output_type": "stream",
          "name": "stdout",
          "text": [
            "Predicting topics... (Estimated time: 2.00 seconds)\n"
          ]
        },
        {
          "output_type": "stream",
          "name": "stderr",
          "text": [
            "Prediction Progress: 100%|██████████| 1/1 [00:00<00:00,  4.66it/s]\n"
          ]
        },
        {
          "output_type": "stream",
          "name": "stdout",
          "text": [
            "Predicting topics... (Estimated time: 2.00 seconds)\n"
          ]
        },
        {
          "output_type": "stream",
          "name": "stderr",
          "text": [
            "Prediction Progress: 100%|██████████| 1/1 [00:00<00:00,  4.98it/s]\n"
          ]
        },
        {
          "output_type": "stream",
          "name": "stdout",
          "text": [
            "Predicting topics... (Estimated time: 2.00 seconds)\n"
          ]
        },
        {
          "output_type": "stream",
          "name": "stderr",
          "text": [
            "Prediction Progress: 100%|██████████| 1/1 [00:00<00:00,  4.51it/s]\n"
          ]
        },
        {
          "output_type": "stream",
          "name": "stdout",
          "text": [
            "Predicting topics... (Estimated time: 2.00 seconds)\n"
          ]
        },
        {
          "output_type": "stream",
          "name": "stderr",
          "text": [
            "Prediction Progress: 100%|██████████| 1/1 [00:00<00:00,  5.23it/s]\n"
          ]
        },
        {
          "output_type": "stream",
          "name": "stdout",
          "text": [
            "Predicting topics... (Estimated time: 2.00 seconds)\n"
          ]
        },
        {
          "output_type": "stream",
          "name": "stderr",
          "text": [
            "Prediction Progress: 100%|██████████| 1/1 [00:00<00:00,  5.19it/s]\n"
          ]
        },
        {
          "output_type": "stream",
          "name": "stdout",
          "text": [
            "Predicting topics... (Estimated time: 2.00 seconds)\n"
          ]
        },
        {
          "output_type": "stream",
          "name": "stderr",
          "text": [
            "Prediction Progress: 100%|██████████| 1/1 [00:00<00:00,  4.87it/s]\n"
          ]
        },
        {
          "output_type": "stream",
          "name": "stdout",
          "text": [
            "Predicting topics... (Estimated time: 2.00 seconds)\n"
          ]
        },
        {
          "output_type": "stream",
          "name": "stderr",
          "text": [
            "Prediction Progress: 100%|██████████| 1/1 [00:00<00:00,  5.28it/s]\n"
          ]
        },
        {
          "output_type": "stream",
          "name": "stdout",
          "text": [
            "Predicting topics... (Estimated time: 2.00 seconds)\n"
          ]
        },
        {
          "output_type": "stream",
          "name": "stderr",
          "text": [
            "Prediction Progress: 100%|██████████| 1/1 [00:00<00:00,  5.79it/s]\n"
          ]
        },
        {
          "output_type": "stream",
          "name": "stdout",
          "text": [
            "Predicting topics... (Estimated time: 2.00 seconds)\n"
          ]
        },
        {
          "output_type": "stream",
          "name": "stderr",
          "text": [
            "Prediction Progress: 100%|██████████| 1/1 [00:00<00:00,  4.98it/s]\n"
          ]
        },
        {
          "output_type": "stream",
          "name": "stdout",
          "text": [
            "Predicting topics... (Estimated time: 2.00 seconds)\n"
          ]
        },
        {
          "output_type": "stream",
          "name": "stderr",
          "text": [
            "Prediction Progress: 100%|██████████| 1/1 [00:00<00:00,  6.49it/s]\n"
          ]
        },
        {
          "output_type": "stream",
          "name": "stdout",
          "text": [
            "Predicting topics... (Estimated time: 2.00 seconds)\n"
          ]
        },
        {
          "output_type": "stream",
          "name": "stderr",
          "text": [
            "Prediction Progress: 100%|██████████| 1/1 [00:00<00:00,  6.09it/s]\n"
          ]
        },
        {
          "output_type": "stream",
          "name": "stdout",
          "text": [
            "Predicting topics... (Estimated time: 2.00 seconds)\n"
          ]
        },
        {
          "output_type": "stream",
          "name": "stderr",
          "text": [
            "Prediction Progress: 100%|██████████| 1/1 [00:00<00:00,  5.60it/s]\n"
          ]
        },
        {
          "output_type": "stream",
          "name": "stdout",
          "text": [
            "Predicting topics... (Estimated time: 2.00 seconds)\n"
          ]
        },
        {
          "output_type": "stream",
          "name": "stderr",
          "text": [
            "Prediction Progress: 100%|██████████| 1/1 [00:00<00:00,  5.61it/s]\n"
          ]
        },
        {
          "output_type": "stream",
          "name": "stdout",
          "text": [
            "Predicting topics... (Estimated time: 2.00 seconds)\n"
          ]
        },
        {
          "output_type": "stream",
          "name": "stderr",
          "text": [
            "Prediction Progress: 100%|██████████| 1/1 [00:00<00:00,  5.35it/s]\n"
          ]
        },
        {
          "output_type": "stream",
          "name": "stdout",
          "text": [
            "Predicting topics... (Estimated time: 2.00 seconds)\n"
          ]
        },
        {
          "output_type": "stream",
          "name": "stderr",
          "text": [
            "Prediction Progress: 100%|██████████| 1/1 [00:00<00:00,  5.39it/s]\n"
          ]
        },
        {
          "output_type": "stream",
          "name": "stdout",
          "text": [
            "Predicting topics... (Estimated time: 2.00 seconds)\n"
          ]
        },
        {
          "output_type": "stream",
          "name": "stderr",
          "text": [
            "Prediction Progress: 100%|██████████| 1/1 [00:00<00:00,  6.73it/s]\n"
          ]
        },
        {
          "output_type": "stream",
          "name": "stdout",
          "text": [
            "Predicting topics... (Estimated time: 2.00 seconds)\n"
          ]
        },
        {
          "output_type": "stream",
          "name": "stderr",
          "text": [
            "Prediction Progress: 100%|██████████| 1/1 [00:00<00:00,  4.26it/s]\n"
          ]
        },
        {
          "output_type": "stream",
          "name": "stdout",
          "text": [
            "Predicting topics... (Estimated time: 2.00 seconds)\n"
          ]
        },
        {
          "output_type": "stream",
          "name": "stderr",
          "text": [
            "Prediction Progress: 100%|██████████| 1/1 [00:00<00:00,  6.20it/s]\n"
          ]
        },
        {
          "output_type": "stream",
          "name": "stdout",
          "text": [
            "Predicting topics... (Estimated time: 2.00 seconds)\n"
          ]
        },
        {
          "output_type": "stream",
          "name": "stderr",
          "text": [
            "Prediction Progress: 100%|██████████| 1/1 [00:00<00:00,  2.60it/s]\n"
          ]
        },
        {
          "output_type": "stream",
          "name": "stdout",
          "text": [
            "Predicting topics... (Estimated time: 2.00 seconds)\n"
          ]
        },
        {
          "output_type": "stream",
          "name": "stderr",
          "text": [
            "Prediction Progress: 100%|██████████| 1/1 [00:00<00:00,  6.59it/s]\n"
          ]
        },
        {
          "output_type": "stream",
          "name": "stdout",
          "text": [
            "Predicting topics... (Estimated time: 2.00 seconds)\n"
          ]
        },
        {
          "output_type": "stream",
          "name": "stderr",
          "text": [
            "Prediction Progress: 100%|██████████| 1/1 [00:00<00:00,  5.00it/s]\n"
          ]
        },
        {
          "output_type": "stream",
          "name": "stdout",
          "text": [
            "Predicting topics... (Estimated time: 2.00 seconds)\n"
          ]
        },
        {
          "output_type": "stream",
          "name": "stderr",
          "text": [
            "Prediction Progress: 100%|██████████| 1/1 [00:00<00:00,  3.28it/s]\n"
          ]
        },
        {
          "output_type": "stream",
          "name": "stdout",
          "text": [
            "Predicting topics... (Estimated time: 2.00 seconds)\n"
          ]
        },
        {
          "output_type": "stream",
          "name": "stderr",
          "text": [
            "Prediction Progress: 100%|██████████| 1/1 [00:00<00:00,  6.11it/s]\n"
          ]
        },
        {
          "output_type": "stream",
          "name": "stdout",
          "text": [
            "Predicting topics... (Estimated time: 2.00 seconds)\n"
          ]
        },
        {
          "output_type": "stream",
          "name": "stderr",
          "text": [
            "Prediction Progress: 100%|██████████| 1/1 [00:00<00:00,  5.26it/s]\n"
          ]
        },
        {
          "output_type": "stream",
          "name": "stdout",
          "text": [
            "Predicting topics... (Estimated time: 2.00 seconds)\n"
          ]
        },
        {
          "output_type": "stream",
          "name": "stderr",
          "text": [
            "Prediction Progress: 100%|██████████| 1/1 [00:00<00:00,  4.60it/s]\n"
          ]
        },
        {
          "output_type": "stream",
          "name": "stdout",
          "text": [
            "Predicting topics... (Estimated time: 2.00 seconds)\n"
          ]
        },
        {
          "output_type": "stream",
          "name": "stderr",
          "text": [
            "Prediction Progress: 100%|██████████| 1/1 [00:00<00:00,  2.47it/s]\n"
          ]
        },
        {
          "output_type": "stream",
          "name": "stdout",
          "text": [
            "Predicting topics... (Estimated time: 2.00 seconds)\n"
          ]
        },
        {
          "output_type": "stream",
          "name": "stderr",
          "text": [
            "Prediction Progress: 100%|██████████| 1/1 [00:00<00:00,  1.58it/s]\n"
          ]
        },
        {
          "output_type": "stream",
          "name": "stdout",
          "text": [
            "Predicting topics... (Estimated time: 2.00 seconds)\n"
          ]
        },
        {
          "output_type": "stream",
          "name": "stderr",
          "text": [
            "Prediction Progress: 100%|██████████| 1/1 [00:00<00:00,  4.87it/s]\n"
          ]
        },
        {
          "output_type": "stream",
          "name": "stdout",
          "text": [
            "Predicting topics... (Estimated time: 2.00 seconds)\n"
          ]
        },
        {
          "output_type": "stream",
          "name": "stderr",
          "text": [
            "Prediction Progress: 100%|██████████| 1/1 [00:00<00:00,  3.63it/s]\n"
          ]
        },
        {
          "output_type": "stream",
          "name": "stdout",
          "text": [
            "Predicting topics... (Estimated time: 2.00 seconds)\n"
          ]
        },
        {
          "output_type": "stream",
          "name": "stderr",
          "text": [
            "Prediction Progress: 100%|██████████| 1/1 [00:00<00:00,  4.15it/s]\n"
          ]
        },
        {
          "output_type": "stream",
          "name": "stdout",
          "text": [
            "Predicting topics... (Estimated time: 2.00 seconds)\n"
          ]
        },
        {
          "output_type": "stream",
          "name": "stderr",
          "text": [
            "Prediction Progress: 100%|██████████| 1/1 [00:00<00:00,  3.42it/s]\n"
          ]
        },
        {
          "output_type": "stream",
          "name": "stdout",
          "text": [
            "Predicting topics... (Estimated time: 2.00 seconds)\n"
          ]
        },
        {
          "output_type": "stream",
          "name": "stderr",
          "text": [
            "Prediction Progress: 100%|██████████| 1/1 [00:00<00:00,  3.61it/s]\n"
          ]
        },
        {
          "output_type": "stream",
          "name": "stdout",
          "text": [
            "Predicting topics... (Estimated time: 2.00 seconds)\n"
          ]
        },
        {
          "output_type": "stream",
          "name": "stderr",
          "text": [
            "Prediction Progress: 100%|██████████| 1/1 [00:00<00:00,  2.82it/s]\n"
          ]
        },
        {
          "output_type": "stream",
          "name": "stdout",
          "text": [
            "Predicting topics... (Estimated time: 2.00 seconds)\n"
          ]
        },
        {
          "output_type": "stream",
          "name": "stderr",
          "text": [
            "Prediction Progress: 100%|██████████| 1/1 [00:00<00:00,  3.77it/s]\n"
          ]
        },
        {
          "output_type": "stream",
          "name": "stdout",
          "text": [
            "Predicting topics... (Estimated time: 2.00 seconds)\n"
          ]
        },
        {
          "output_type": "stream",
          "name": "stderr",
          "text": [
            "Prediction Progress: 100%|██████████| 1/1 [00:00<00:00,  4.83it/s]\n"
          ]
        },
        {
          "output_type": "stream",
          "name": "stdout",
          "text": [
            "Predicting topics... (Estimated time: 2.00 seconds)\n"
          ]
        },
        {
          "output_type": "stream",
          "name": "stderr",
          "text": [
            "Prediction Progress: 100%|██████████| 1/1 [00:00<00:00,  2.48it/s]\n"
          ]
        },
        {
          "output_type": "stream",
          "name": "stdout",
          "text": [
            "Predicting topics... (Estimated time: 2.00 seconds)\n"
          ]
        },
        {
          "output_type": "stream",
          "name": "stderr",
          "text": [
            "Prediction Progress: 100%|██████████| 1/1 [00:00<00:00,  4.83it/s]\n"
          ]
        },
        {
          "output_type": "stream",
          "name": "stdout",
          "text": [
            "Predicting topics... (Estimated time: 2.00 seconds)\n"
          ]
        },
        {
          "output_type": "stream",
          "name": "stderr",
          "text": [
            "Prediction Progress: 100%|██████████| 1/1 [00:00<00:00,  7.07it/s]\n"
          ]
        },
        {
          "output_type": "stream",
          "name": "stdout",
          "text": [
            "Predicting topics... (Estimated time: 2.00 seconds)\n"
          ]
        },
        {
          "output_type": "stream",
          "name": "stderr",
          "text": [
            "Prediction Progress: 100%|██████████| 1/1 [00:00<00:00,  3.34it/s]\n"
          ]
        },
        {
          "output_type": "stream",
          "name": "stdout",
          "text": [
            "Predicting topics... (Estimated time: 2.00 seconds)\n"
          ]
        },
        {
          "output_type": "stream",
          "name": "stderr",
          "text": [
            "Prediction Progress: 100%|██████████| 1/1 [00:00<00:00,  5.23it/s]\n"
          ]
        },
        {
          "output_type": "stream",
          "name": "stdout",
          "text": [
            "Predicting topics... (Estimated time: 2.00 seconds)\n"
          ]
        },
        {
          "output_type": "stream",
          "name": "stderr",
          "text": [
            "Prediction Progress: 100%|██████████| 1/1 [00:00<00:00,  2.92it/s]\n"
          ]
        },
        {
          "output_type": "stream",
          "name": "stdout",
          "text": [
            "Predicting topics... (Estimated time: 2.00 seconds)\n"
          ]
        },
        {
          "output_type": "stream",
          "name": "stderr",
          "text": [
            "Prediction Progress: 100%|██████████| 1/1 [00:00<00:00,  5.72it/s]\n"
          ]
        },
        {
          "output_type": "stream",
          "name": "stdout",
          "text": [
            "Predicting topics... (Estimated time: 2.00 seconds)\n"
          ]
        },
        {
          "output_type": "stream",
          "name": "stderr",
          "text": [
            "Prediction Progress: 100%|██████████| 1/1 [00:00<00:00,  3.39it/s]\n"
          ]
        },
        {
          "output_type": "stream",
          "name": "stdout",
          "text": [
            "Predicting topics... (Estimated time: 2.00 seconds)\n"
          ]
        },
        {
          "output_type": "stream",
          "name": "stderr",
          "text": [
            "Prediction Progress: 100%|██████████| 1/1 [00:00<00:00,  4.95it/s]\n"
          ]
        },
        {
          "output_type": "stream",
          "name": "stdout",
          "text": [
            "Predicting topics... (Estimated time: 2.00 seconds)\n"
          ]
        },
        {
          "output_type": "stream",
          "name": "stderr",
          "text": [
            "Prediction Progress: 100%|██████████| 1/1 [00:00<00:00,  5.21it/s]\n"
          ]
        },
        {
          "output_type": "stream",
          "name": "stdout",
          "text": [
            "Predicting topics... (Estimated time: 2.00 seconds)\n"
          ]
        },
        {
          "output_type": "stream",
          "name": "stderr",
          "text": [
            "Prediction Progress: 100%|██████████| 1/1 [00:00<00:00,  3.14it/s]\n"
          ]
        },
        {
          "output_type": "stream",
          "name": "stdout",
          "text": [
            "Predicting topics... (Estimated time: 2.00 seconds)\n"
          ]
        },
        {
          "output_type": "stream",
          "name": "stderr",
          "text": [
            "Prediction Progress: 100%|██████████| 1/1 [00:00<00:00,  3.08it/s]\n"
          ]
        },
        {
          "output_type": "stream",
          "name": "stdout",
          "text": [
            "Predicting topics... (Estimated time: 2.00 seconds)\n"
          ]
        },
        {
          "output_type": "stream",
          "name": "stderr",
          "text": [
            "Prediction Progress: 100%|██████████| 1/1 [00:00<00:00,  2.79it/s]\n"
          ]
        },
        {
          "output_type": "stream",
          "name": "stdout",
          "text": [
            "Predicting topics... (Estimated time: 2.00 seconds)\n"
          ]
        },
        {
          "output_type": "stream",
          "name": "stderr",
          "text": [
            "Prediction Progress: 100%|██████████| 1/1 [00:00<00:00,  5.36it/s]\n"
          ]
        },
        {
          "output_type": "stream",
          "name": "stdout",
          "text": [
            "Predicting topics... (Estimated time: 2.00 seconds)\n"
          ]
        },
        {
          "output_type": "stream",
          "name": "stderr",
          "text": [
            "Prediction Progress: 100%|██████████| 1/1 [00:00<00:00,  4.05it/s]\n"
          ]
        },
        {
          "output_type": "stream",
          "name": "stdout",
          "text": [
            "Predicting topics... (Estimated time: 2.00 seconds)\n"
          ]
        },
        {
          "output_type": "stream",
          "name": "stderr",
          "text": [
            "Prediction Progress: 100%|██████████| 1/1 [00:00<00:00,  5.83it/s]\n"
          ]
        },
        {
          "output_type": "stream",
          "name": "stdout",
          "text": [
            "Predicting topics... (Estimated time: 2.00 seconds)\n"
          ]
        },
        {
          "output_type": "stream",
          "name": "stderr",
          "text": [
            "Prediction Progress: 100%|██████████| 1/1 [00:00<00:00,  4.93it/s]\n"
          ]
        },
        {
          "output_type": "stream",
          "name": "stdout",
          "text": [
            "Predicting topics... (Estimated time: 2.00 seconds)\n"
          ]
        },
        {
          "output_type": "stream",
          "name": "stderr",
          "text": [
            "Prediction Progress: 100%|██████████| 1/1 [00:00<00:00,  5.01it/s]\n"
          ]
        },
        {
          "output_type": "stream",
          "name": "stdout",
          "text": [
            "Predicting topics... (Estimated time: 2.00 seconds)\n"
          ]
        },
        {
          "output_type": "stream",
          "name": "stderr",
          "text": [
            "Prediction Progress: 100%|██████████| 1/1 [00:00<00:00,  4.97it/s]\n"
          ]
        },
        {
          "output_type": "stream",
          "name": "stdout",
          "text": [
            "Predicting topics... (Estimated time: 2.00 seconds)\n"
          ]
        },
        {
          "output_type": "stream",
          "name": "stderr",
          "text": [
            "Prediction Progress: 100%|██████████| 1/1 [00:00<00:00,  3.68it/s]\n"
          ]
        },
        {
          "output_type": "stream",
          "name": "stdout",
          "text": [
            "Predicting topics... (Estimated time: 2.00 seconds)\n"
          ]
        },
        {
          "output_type": "stream",
          "name": "stderr",
          "text": [
            "Prediction Progress: 100%|██████████| 1/1 [00:00<00:00,  5.93it/s]\n"
          ]
        },
        {
          "output_type": "stream",
          "name": "stdout",
          "text": [
            "Predicting topics... (Estimated time: 2.00 seconds)\n"
          ]
        },
        {
          "output_type": "stream",
          "name": "stderr",
          "text": [
            "Prediction Progress: 100%|██████████| 1/1 [00:00<00:00,  2.79it/s]\n"
          ]
        },
        {
          "output_type": "stream",
          "name": "stdout",
          "text": [
            "Predicting topics... (Estimated time: 2.00 seconds)\n"
          ]
        },
        {
          "output_type": "stream",
          "name": "stderr",
          "text": [
            "Prediction Progress: 100%|██████████| 1/1 [00:00<00:00,  4.49it/s]\n"
          ]
        },
        {
          "output_type": "stream",
          "name": "stdout",
          "text": [
            "Predicting topics... (Estimated time: 2.00 seconds)\n"
          ]
        },
        {
          "output_type": "stream",
          "name": "stderr",
          "text": [
            "Prediction Progress: 100%|██████████| 1/1 [00:00<00:00,  3.28it/s]\n"
          ]
        },
        {
          "output_type": "stream",
          "name": "stdout",
          "text": [
            "Predicting topics... (Estimated time: 2.00 seconds)\n"
          ]
        },
        {
          "output_type": "stream",
          "name": "stderr",
          "text": [
            "Prediction Progress: 100%|██████████| 1/1 [00:00<00:00,  4.74it/s]\n"
          ]
        },
        {
          "output_type": "stream",
          "name": "stdout",
          "text": [
            "Predicting topics... (Estimated time: 2.00 seconds)\n"
          ]
        },
        {
          "output_type": "stream",
          "name": "stderr",
          "text": [
            "Prediction Progress: 100%|██████████| 1/1 [00:00<00:00,  4.33it/s]\n"
          ]
        },
        {
          "output_type": "stream",
          "name": "stdout",
          "text": [
            "Predicting topics... (Estimated time: 2.00 seconds)\n"
          ]
        },
        {
          "output_type": "stream",
          "name": "stderr",
          "text": [
            "Prediction Progress: 100%|██████████| 1/1 [00:00<00:00,  3.37it/s]\n"
          ]
        },
        {
          "output_type": "stream",
          "name": "stdout",
          "text": [
            "Predicting topics... (Estimated time: 2.00 seconds)\n"
          ]
        },
        {
          "output_type": "stream",
          "name": "stderr",
          "text": [
            "Prediction Progress: 100%|██████████| 1/1 [00:00<00:00,  4.42it/s]\n"
          ]
        },
        {
          "output_type": "stream",
          "name": "stdout",
          "text": [
            "Predicting topics... (Estimated time: 2.00 seconds)\n"
          ]
        },
        {
          "output_type": "stream",
          "name": "stderr",
          "text": [
            "Prediction Progress: 100%|██████████| 1/1 [00:00<00:00,  5.10it/s]\n"
          ]
        },
        {
          "output_type": "stream",
          "name": "stdout",
          "text": [
            "Predicting topics... (Estimated time: 2.00 seconds)\n"
          ]
        },
        {
          "output_type": "stream",
          "name": "stderr",
          "text": [
            "Prediction Progress: 100%|██████████| 1/1 [00:00<00:00,  5.59it/s]\n"
          ]
        },
        {
          "output_type": "stream",
          "name": "stdout",
          "text": [
            "Predicting topics... (Estimated time: 2.00 seconds)\n"
          ]
        },
        {
          "output_type": "stream",
          "name": "stderr",
          "text": [
            "Prediction Progress: 100%|██████████| 1/1 [00:00<00:00,  3.50it/s]\n"
          ]
        },
        {
          "output_type": "stream",
          "name": "stdout",
          "text": [
            "Predicting topics... (Estimated time: 2.00 seconds)\n"
          ]
        },
        {
          "output_type": "stream",
          "name": "stderr",
          "text": [
            "Prediction Progress: 100%|██████████| 1/1 [00:00<00:00,  5.63it/s]\n"
          ]
        },
        {
          "output_type": "stream",
          "name": "stdout",
          "text": [
            "Predicting topics... (Estimated time: 2.00 seconds)\n"
          ]
        },
        {
          "output_type": "stream",
          "name": "stderr",
          "text": [
            "Prediction Progress: 100%|██████████| 1/1 [00:00<00:00,  4.75it/s]\n"
          ]
        },
        {
          "output_type": "stream",
          "name": "stdout",
          "text": [
            "Predicting topics... (Estimated time: 2.00 seconds)\n"
          ]
        },
        {
          "output_type": "stream",
          "name": "stderr",
          "text": [
            "Prediction Progress: 100%|██████████| 1/1 [00:00<00:00,  5.53it/s]\n"
          ]
        },
        {
          "output_type": "stream",
          "name": "stdout",
          "text": [
            "Predicting topics... (Estimated time: 2.00 seconds)\n"
          ]
        },
        {
          "output_type": "stream",
          "name": "stderr",
          "text": [
            "Prediction Progress: 100%|██████████| 1/1 [00:00<00:00,  5.13it/s]\n"
          ]
        },
        {
          "output_type": "stream",
          "name": "stdout",
          "text": [
            "Predicting topics... (Estimated time: 2.00 seconds)\n"
          ]
        },
        {
          "output_type": "stream",
          "name": "stderr",
          "text": [
            "Prediction Progress: 100%|██████████| 1/1 [00:00<00:00,  4.36it/s]\n"
          ]
        },
        {
          "output_type": "stream",
          "name": "stdout",
          "text": [
            "Predicting topics... (Estimated time: 2.00 seconds)\n"
          ]
        },
        {
          "output_type": "stream",
          "name": "stderr",
          "text": [
            "Prediction Progress: 100%|██████████| 1/1 [00:00<00:00,  5.43it/s]\n"
          ]
        },
        {
          "output_type": "stream",
          "name": "stdout",
          "text": [
            "Predicting topics... (Estimated time: 2.00 seconds)\n"
          ]
        },
        {
          "output_type": "stream",
          "name": "stderr",
          "text": [
            "Prediction Progress: 100%|██████████| 1/1 [00:00<00:00,  3.47it/s]\n"
          ]
        },
        {
          "output_type": "stream",
          "name": "stdout",
          "text": [
            "Predicting topics... (Estimated time: 2.00 seconds)\n"
          ]
        },
        {
          "output_type": "stream",
          "name": "stderr",
          "text": [
            "Prediction Progress: 100%|██████████| 1/1 [00:00<00:00,  3.30it/s]\n"
          ]
        },
        {
          "output_type": "stream",
          "name": "stdout",
          "text": [
            "Predicting topics... (Estimated time: 2.00 seconds)\n"
          ]
        },
        {
          "output_type": "stream",
          "name": "stderr",
          "text": [
            "Prediction Progress: 100%|██████████| 1/1 [00:00<00:00,  2.22it/s]\n"
          ]
        },
        {
          "output_type": "stream",
          "name": "stdout",
          "text": [
            "Predicting topics... (Estimated time: 2.00 seconds)\n"
          ]
        },
        {
          "output_type": "stream",
          "name": "stderr",
          "text": [
            "Prediction Progress: 100%|██████████| 1/1 [00:00<00:00,  3.99it/s]\n"
          ]
        },
        {
          "output_type": "stream",
          "name": "stdout",
          "text": [
            "Predicting topics... (Estimated time: 2.00 seconds)\n"
          ]
        },
        {
          "output_type": "stream",
          "name": "stderr",
          "text": [
            "Prediction Progress: 100%|██████████| 1/1 [00:00<00:00,  4.89it/s]\n"
          ]
        },
        {
          "output_type": "stream",
          "name": "stdout",
          "text": [
            "Predicting topics... (Estimated time: 2.00 seconds)\n"
          ]
        },
        {
          "output_type": "stream",
          "name": "stderr",
          "text": [
            "Prediction Progress: 100%|██████████| 1/1 [00:00<00:00,  3.47it/s]\n"
          ]
        },
        {
          "output_type": "stream",
          "name": "stdout",
          "text": [
            "Predicting topics... (Estimated time: 2.00 seconds)\n"
          ]
        },
        {
          "output_type": "stream",
          "name": "stderr",
          "text": [
            "Prediction Progress: 100%|██████████| 1/1 [00:00<00:00,  3.62it/s]\n"
          ]
        },
        {
          "output_type": "stream",
          "name": "stdout",
          "text": [
            "Predicting topics... (Estimated time: 2.00 seconds)\n"
          ]
        },
        {
          "output_type": "stream",
          "name": "stderr",
          "text": [
            "Prediction Progress: 100%|██████████| 1/1 [00:00<00:00,  3.88it/s]\n"
          ]
        },
        {
          "output_type": "stream",
          "name": "stdout",
          "text": [
            "Predicting topics... (Estimated time: 2.00 seconds)\n"
          ]
        },
        {
          "output_type": "stream",
          "name": "stderr",
          "text": [
            "Prediction Progress: 100%|██████████| 1/1 [00:00<00:00,  4.39it/s]\n"
          ]
        },
        {
          "output_type": "stream",
          "name": "stdout",
          "text": [
            "Predicting topics... (Estimated time: 2.00 seconds)\n"
          ]
        },
        {
          "output_type": "stream",
          "name": "stderr",
          "text": [
            "Prediction Progress: 100%|██████████| 1/1 [00:00<00:00,  3.76it/s]\n"
          ]
        },
        {
          "output_type": "stream",
          "name": "stdout",
          "text": [
            "Predicting topics... (Estimated time: 2.00 seconds)\n"
          ]
        },
        {
          "output_type": "stream",
          "name": "stderr",
          "text": [
            "Prediction Progress: 100%|██████████| 1/1 [00:00<00:00,  3.69it/s]\n"
          ]
        },
        {
          "output_type": "stream",
          "name": "stdout",
          "text": [
            "Predicting topics... (Estimated time: 2.00 seconds)\n"
          ]
        },
        {
          "output_type": "stream",
          "name": "stderr",
          "text": [
            "Prediction Progress: 100%|██████████| 1/1 [00:00<00:00,  1.69it/s]\n"
          ]
        },
        {
          "output_type": "stream",
          "name": "stdout",
          "text": [
            "Predicting topics... (Estimated time: 2.00 seconds)\n"
          ]
        },
        {
          "output_type": "stream",
          "name": "stderr",
          "text": [
            "Prediction Progress: 100%|██████████| 1/1 [00:00<00:00,  4.50it/s]\n"
          ]
        },
        {
          "output_type": "stream",
          "name": "stdout",
          "text": [
            "Predicting topics... (Estimated time: 2.00 seconds)\n"
          ]
        },
        {
          "output_type": "stream",
          "name": "stderr",
          "text": [
            "Prediction Progress: 100%|██████████| 1/1 [00:00<00:00,  6.15it/s]\n"
          ]
        },
        {
          "output_type": "stream",
          "name": "stdout",
          "text": [
            "Predicting topics... (Estimated time: 2.00 seconds)\n"
          ]
        },
        {
          "output_type": "stream",
          "name": "stderr",
          "text": [
            "Prediction Progress: 100%|██████████| 1/1 [00:00<00:00,  7.52it/s]\n"
          ]
        },
        {
          "output_type": "stream",
          "name": "stdout",
          "text": [
            "Predicting topics... (Estimated time: 2.00 seconds)\n"
          ]
        },
        {
          "output_type": "stream",
          "name": "stderr",
          "text": [
            "Prediction Progress: 100%|██████████| 1/1 [00:00<00:00,  5.71it/s]\n"
          ]
        },
        {
          "output_type": "stream",
          "name": "stdout",
          "text": [
            "Predicting topics... (Estimated time: 2.00 seconds)\n"
          ]
        },
        {
          "output_type": "stream",
          "name": "stderr",
          "text": [
            "Prediction Progress: 100%|██████████| 1/1 [00:00<00:00,  4.76it/s]\n"
          ]
        },
        {
          "output_type": "stream",
          "name": "stdout",
          "text": [
            "Predicting topics... (Estimated time: 2.00 seconds)\n"
          ]
        },
        {
          "output_type": "stream",
          "name": "stderr",
          "text": [
            "Prediction Progress: 100%|██████████| 1/1 [00:00<00:00,  5.22it/s]\n"
          ]
        },
        {
          "output_type": "stream",
          "name": "stdout",
          "text": [
            "Predicting topics... (Estimated time: 2.00 seconds)\n"
          ]
        },
        {
          "output_type": "stream",
          "name": "stderr",
          "text": [
            "Prediction Progress: 100%|██████████| 1/1 [00:00<00:00,  6.31it/s]\n"
          ]
        },
        {
          "output_type": "stream",
          "name": "stdout",
          "text": [
            "Predicting topics... (Estimated time: 2.00 seconds)\n"
          ]
        },
        {
          "output_type": "stream",
          "name": "stderr",
          "text": [
            "Prediction Progress: 100%|██████████| 1/1 [00:00<00:00,  2.22it/s]\n"
          ]
        }
      ]
    },
    {
      "cell_type": "code",
      "source": [
        "# Step 1: Read the CSV file into a pandas DataFrame\n",
        "df = pd.read_csv('/content/FATABAYYANO_articles_cleaned_data_with_topics.csv')\n",
        "\n",
        "# Step 2: Calculate statistics for the 'TOPIC' column\n",
        "topic_stats = df['TOPIC'].value_counts()\n",
        "\n",
        "# Step 3: Plot the distribution of values for 'TOPIC' and 'Category'\n",
        "plt.figure(figsize=(10, 5))\n",
        "plt.subplot(1, 2, 1)\n",
        "df['TOPIC'].value_counts().plot(kind='bar', title='Distribution of Topics')\n",
        "plt.subplot(1, 2, 2)\n",
        "df['Category'].value_counts().plot(kind='bar', title='Distribution of Categories')\n",
        "plt.tight_layout()\n",
        "plt.show()\n",
        "\n",
        "# Step 4: Filter the DataFrame where 'Label' is equal to 'زائف'\n",
        "false_label_df = df[df['Label'] == 'زائف']\n",
        "\n",
        "# Step 5: Analyze the attributes related to the filtered topics\n",
        "false_label_topic_stats = false_label_df['TOPIC'].value_counts()\n",
        "\n",
        "# Display statistics\n",
        "print(\"Statistics of 'TOPIC' column:\")\n",
        "print(topic_stats)\n",
        "print(\"\\nStatistics of 'TOPIC' column where Label is 'زائف':\")\n",
        "print(false_label_topic_stats)"
      ],
      "metadata": {
        "colab": {
          "base_uri": "https://localhost:8080/",
          "height": 891
        },
        "id": "gwUaB4uC8Y41",
        "outputId": "364ab71e-6a64-4ef0-84c0-68fe66f3a2a3"
      },
      "execution_count": 7,
      "outputs": [
        {
          "output_type": "display_data",
          "data": {
            "text/plain": [
              "<Figure size 1000x500 with 2 Axes>"
            ],
            "image/png": "[encoded data removed]"
          },
          "metadata": {}
        },
        {
          "output_type": "stream",
          "name": "stdout",
          "text": [
            "Statistics of 'TOPIC' column:\n",
            "TOPIC\n",
            "Politics    239\n",
            "Sports       85\n",
            "Finance      52\n",
            "Tech         42\n",
            "Culture      14\n",
            "Medical       8\n",
            "Religion      1\n",
            "Name: count, dtype: int64\n",
            "\n",
            "Statistics of 'TOPIC' column where Label is 'زائف':\n",
            "TOPIC\n",
            "Politics    239\n",
            "Sports       84\n",
            "Finance      52\n",
            "Tech         42\n",
            "Culture      14\n",
            "Medical       8\n",
            "Religion      1\n",
            "Name: count, dtype: int64\n"
          ]
        }
      ]
    }
  ]
}